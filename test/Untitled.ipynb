{
 "cells": [
  {
   "cell_type": "code",
   "execution_count": 1,
   "metadata": {},
   "outputs": [],
   "source": [
    "import libsbml\n",
    "import pickle\n",
    "import csv\n",
    "from hashlib import md5\n",
    "import sys\n",
    "import os\n",
    "\n",
    "sys.path.append(os.path.join(os.path.dirname('__file__'), '..'))\n",
    "import genCache\n",
    "import rpSBML"
   ]
  },
  {
   "cell_type": "code",
   "execution_count": 5,
   "metadata": {},
   "outputs": [],
   "source": [
    "cache = genCache.Cache('/home/mdulac/workspace/rpFBA/input_cache/')"
   ]
  },
  {
   "cell_type": "code",
   "execution_count": 6,
   "metadata": {},
   "outputs": [
    {
     "name": "stderr",
     "output_type": "stream",
     "text": [
      "WARNING:root:Cannot find: {'CID': 'C00287', 'error': 'We cannot estimate the formation energy of this compound because it has no defined structure', 'num_electrons': 0}\n",
      "WARNING:root:Cannot find: {'CID': 'C01224', 'error': 'We cannot estimate the formation energy of this compound because it has no defined structure', 'num_electrons': 0}\n",
      "WARNING:root:Cannot find: {'CID': 'C01992', 'error': 'We cannot estimate the formation energy of this compound because it has no defined structure', 'num_electrons': 0}\n",
      "WARNING:root:Cannot find: {'CID': 'C02014', 'error': 'We cannot estimate the formation energy of this compound because it has no defined structure', 'num_electrons': 0}\n",
      "WARNING:root:Cannot find: {'CID': 'C02688', 'error': 'We cannot estimate the formation energy of this compound because it has no defined structure', 'num_electrons': 0}\n",
      "WARNING:root:Cannot find: {'CID': 'C02733', 'error': 'We cannot estimate the formation energy of this compound because it has no defined structure', 'num_electrons': 0}\n",
      "WARNING:root:Cannot find: {'CID': 'C02840', 'error': 'We cannot estimate the formation energy of this compound because it has no defined structure', 'num_electrons': 0}\n",
      "WARNING:root:Cannot find: {'CID': 'C02848', 'error': 'We cannot estimate the formation energy of this compound because it has no defined structure', 'num_electrons': 0}\n",
      "WARNING:root:Cannot find: {'CID': 'C03530', 'error': 'We cannot estimate the formation energy of this compound because it has no defined structure', 'num_electrons': 0}\n",
      "WARNING:root:Cannot find: {'CID': 'C03578', 'error': 'We cannot estimate the formation energy of this compound because it has no defined structure', 'num_electrons': 0}\n",
      "WARNING:root:Cannot find: {'CID': 'C03607', 'error': 'We cannot estimate the formation energy of this compound because it has no defined structure', 'num_electrons': 0}\n",
      "WARNING:root:Cannot find: {'CID': 'C03786', 'error': 'We cannot estimate the formation energy of this compound because it has no defined structure', 'num_electrons': 0}\n",
      "WARNING:root:Cannot find: {'CID': 'C03940', 'error': 'We cannot estimate the formation energy of this compound because it has no defined structure', 'num_electrons': 0}\n",
      "WARNING:root:Cannot find: {'CID': 'C04283', 'error': 'We cannot estimate the formation energy of this compound because it has no defined structure', 'num_electrons': 0}\n",
      "WARNING:root:Cannot find: {'CID': 'C04364', 'error': 'We cannot estimate the formation energy of this compound because it has no defined structure', 'num_electrons': 0}\n",
      "WARNING:root:Cannot find: {'CID': 'C05056', 'error': 'We cannot estimate the formation energy of this compound because it has no defined structure', 'num_electrons': 0}\n",
      "WARNING:root:Cannot find: {'CID': 'C05153', 'InChI': 'InChI=1S/C18H16O7/c1-6-14(22)12(8(3)20)16-13(15(6)23)18(4)10(25-16)5-9(21)11(7(2)19)17(18)24/h5,11,22-23H,1-4H3', 'error': 'We cannot estimate the formation energy of this compound because its structure is too small or too complex to decompose to groups', 'formula': 'C18H16O7', 'mass': 344.0896028519999, 'num_electrons': 180}\n",
      "WARNING:root:Cannot find: {'CID': 'C05365', 'error': 'We cannot estimate the formation energy of this compound because it has no defined structure', 'num_electrons': 0}\n",
      "WARNING:root:Cannot find: {'CID': 'C05426', 'error': 'We cannot estimate the formation energy of this compound because it has no defined structure', 'num_electrons': 0}\n",
      "WARNING:root:Cannot find: {'CID': 'C06150', 'error': 'We cannot estimate the formation energy of this compound because it has no defined structure', 'num_electrons': 0}\n",
      "WARNING:root:Cannot find: {'CID': 'C11444', 'error': 'We cannot estimate the formation energy of this compound because it has no defined structure', 'num_electrons': 0}\n",
      "WARNING:root:Cannot find: {'CID': 'C11463', 'error': 'We cannot estimate the formation energy of this compound because it has no defined structure', 'num_electrons': 0}\n",
      "WARNING:root:Cannot find: {'CID': 'C11464', 'error': 'We cannot estimate the formation energy of this compound because it has no defined structure', 'num_electrons': 0}\n",
      "WARNING:root:Cannot find: {'CID': 'C11614', 'error': 'We cannot estimate the formation energy of this compound because it has no defined structure', 'num_electrons': 0}\n",
      "WARNING:root:Cannot find: {'CID': 'C12482', 'error': 'We cannot estimate the formation energy of this compound because it has no defined structure', 'num_electrons': 0}\n",
      "WARNING:root:Cannot find: {'CID': 'C15487', 'error': 'We cannot estimate the formation energy of this compound because it has no defined structure', 'num_electrons': 0}\n",
      "WARNING:root:Cannot find: {'CID': 'C15815', 'error': 'We cannot estimate the formation energy of this compound because it has no defined structure', 'num_electrons': 0}\n",
      "WARNING:root:Cannot find: {'CID': 'C18990', 'error': 'We cannot estimate the formation energy of this compound because it has no defined structure', 'num_electrons': 0}\n",
      "WARNING:root:Cannot find: {'CID': 'C80023', 'InChI': 'InChI=1S/C7H5BrO2/c8-6-3-1-2-5(4-6)7(9)10/h1-4H,(H,9,10)', 'compound_index': 647, 'formula': 'C7H5BrO2', 'group_vector': [[7, 1.0], [122, 1.0], [148, 4.0], [149, 2.0], [162, 1.0]], 'mass': 199.9472914, 'num_electrons': 98, 'pmap': {'source': 'Component Contribution (2013)', 'species': [{'dG0_f': -202.97, 'nH': 4, 'nMg': 0, 'phase': 'aqueous', 'z': -1}, {'dG0_f': -225.39, 'nH': 5, 'nMg': 0, 'phase': 'aqueous', 'z': 0}]}}\n",
      "WARNING:root:Cannot find: {'CID': 'C80054', 'InChI': 'InChI=1S/C5H11Cl/c1-2-3-4-5-6/h2-5H2,1H3', 'compound_index': 665, 'formula': 'C5H11Cl', 'group_vector': [[3, 1.0], [160, 4.0], [161, 1.0], [162, 1.0]], 'mass': 106.05492803199999, 'num_electrons': 58, 'pmap': {'source': 'Component Contribution (2013)', 'species': [{'dG0_f': -29.59, 'nH': 11, 'nMg': 0, 'phase': 'aqueous', 'z': 0}]}}\n",
      "WARNING:root:Cannot find: {'CID': 'C80059', 'compound_index': 669, 'group_vector': [[238, 1.0]], 'num_electrons': 0, 'pmap': {'source': 'Component Contribution (2013)', 'species': [{'dG0_f': 44.29, 'nH': 0, 'nMg': 0, 'phase': 'aqueous', 'z': 0}]}}\n",
      "WARNING:root:Cannot find: {'CID': 'C80060', 'compound_index': 670, 'group_vector': [[239, 1.0]], 'num_electrons': 0, 'pmap': {'source': 'Component Contribution (2013)', 'species': [{'dG0_f': -44.29, 'nH': 0, 'nMg': 0, 'phase': 'aqueous', 'z': 0}]}}\n",
      "WARNING:root:Cannot find: {'CID': 'C80062', 'InChI': 'InChI=1S/C5H10O5/c6-1-3(8)5(10)4(9)2-7/h3-4,6-9H,1-2H2', 'formula': 'C5H10O5', 'group_vector': [[124, 1], [128, 2], [130, 2], [162, 1]], 'mass': 150.05282342, 'num_electrons': 80, 'pmap': {'source': 'Component Contribution (2013)', 'species': [{'dG0_f': -616.86, 'nH': 8, 'nMg': 0, 'phase': 'aqueous', 'z': -2}, {'dG0_f': -691.77, 'nH': 9, 'nMg': 0, 'phase': 'aqueous', 'z': -1}, {'dG0_f': -756.17, 'nH': 10, 'nMg': 0, 'phase': 'aqueous', 'z': 0}]}}\n",
      "WARNING:root:Cannot find: {'CID': 'C80063', 'InChI': 'InChI=1S/C5H12O11P2/c6-3(1-15-17(9,10)11)5(8)4(7)2-16-18(12,13)14/h3-4,6-7H,1-2H2,(H2,9,10,11)(H2,12,13,14)', 'formula': 'C5H12O11P2', 'group_vector': [[41, 2], [124, 1], [130, 2], [160, 2], [162, 1]], 'mass': 309.985484464, 'num_electrons': 160, 'pmap': {'source': 'Component Contribution (2013)', 'species': [{'dG0_f': -2294.7, 'nH': 6, 'nMg': 0, 'phase': 'aqueous', 'z': -6}, {'dG0_f': -2368.75, 'nH': 7, 'nMg': 0, 'phase': 'aqueous', 'z': -5}, {'dG0_f': -2438.63, 'nH': 8, 'nMg': 0, 'phase': 'aqueous', 'z': -4}, {'dG0_f': -2476.91, 'nH': 9, 'nMg': 0, 'phase': 'aqueous', 'z': -3}, {'dG0_f': -2511.77, 'nH': 10, 'nMg': 0, 'phase': 'aqueous', 'z': -2}, {'dG0_f': -2521.35, 'nH': 11, 'nMg': 0, 'phase': 'aqueous', 'z': -1}, {'dG0_f': -2527.51, 'nH': 12, 'nMg': 0, 'phase': 'aqueous', 'z': 0}]}}\n",
      "WARNING:root:Cannot find: {'CID': 'C80064', 'InChI': 'InChI=1S/C6H10O7/c7-1-3(9)4(10)6(13,2-8)5(11)12/h3,7-9,13H,1-2H2,(H,11,12)', 'formula': 'C6H10O7', 'group_vector': [[122, 1], [124, 1], [128, 2], [130, 1], [132, 1], [162, 1]], 'mass': 194.04265266000002, 'num_electrons': 102, 'pmap': {'source': 'Component Contribution (2013)', 'species': [{'dG0_f': -955.24, 'nH': 7, 'nMg': 0, 'phase': 'aqueous', 'z': -3}, {'dG0_f': -1024.78, 'nH': 8, 'nMg': 0, 'phase': 'aqueous', 'z': -2}, {'dG0_f': -1087.54, 'nH': 9, 'nMg': 0, 'phase': 'aqueous', 'z': -1}, {'dG0_f': -1105.11, 'nH': 10, 'nMg': 0, 'phase': 'aqueous', 'z': 0}]}}\n"
     ]
    },
    {
     "name": "stderr",
     "output_type": "stream",
     "text": [
      "WARNING:root:Cannot find: {'CID': 'C80065', 'InChI': 'InChI=1S/C6H12O13P2/c7-3(1-18-20(12,13)14)4(8)6(11,5(9)10)2-19-21(15,16)17/h3,7,11H,1-2H2,(H,9,10)(H2,12,13,14)(H2,15,16,17)', 'formula': 'C6H12O13P2', 'group_vector': [[41, 2], [122, 1], [124, 1], [130, 1], [132, 1], [160, 2], [162, 1]], 'mass': 353.975313704, 'num_electrons': 182, 'pmap': {'source': 'Component Contribution (2013)', 'species': [{'dG0_f': -2632.79, 'nH': 5, 'nMg': 0, 'phase': 'aqueous', 'z': -7}, {'dG0_f': -2705.13, 'nH': 6, 'nMg': 0, 'phase': 'aqueous', 'z': -6}, {'dG0_f': -2769.99, 'nH': 7, 'nMg': 0, 'phase': 'aqueous', 'z': -5}, {'dG0_f': -2808.39, 'nH': 8, 'nMg': 0, 'phase': 'aqueous', 'z': -4}, {'dG0_f': -2843.3, 'nH': 9, 'nMg': 0, 'phase': 'aqueous', 'z': -3}, {'dG0_f': -2861.73, 'nH': 10, 'nMg': 0, 'phase': 'aqueous', 'z': -2}, {'dG0_f': -2870.97, 'nH': 11, 'nMg': 0, 'phase': 'aqueous', 'z': -1}, {'dG0_f': -2876.79, 'nH': 12, 'nMg': 0, 'phase': 'aqueous', 'z': 0}]}}\n",
      "WARNING:root:Cannot find: {'CID': 'C80068', 'InChI': 'InChI=1S/C8H16O9/c9-1-2(10)3(11)4(12)5(13)6(14)7(15)8(16)17/h2-7,9-15H,1H2,(H,16,17)', 'formula': 'C8H16O9', 'group_vector': [[122, 1], [128, 1], [130, 6], [162, 1]], 'mass': 256.079432092, 'num_electrons': 136, 'pmap': {'source': 'Component Contribution (2013)', 'species': [{'dG0_f': -1206.3, 'nH': 12, 'nMg': 0, 'phase': 'aqueous', 'z': -4}, {'dG0_f': -1283.55, 'nH': 13, 'nMg': 0, 'phase': 'aqueous', 'z': -3}, {'dG0_f': -1357.48, 'nH': 14, 'nMg': 0, 'phase': 'aqueous', 'z': -2}, {'dG0_f': -1428.05, 'nH': 15, 'nMg': 0, 'phase': 'aqueous', 'z': -1}, {'dG0_f': -1447.34, 'nH': 16, 'nMg': 0, 'phase': 'aqueous', 'z': 0}]}}\n",
      "WARNING:root:Cannot find: {'CID': 'C80069', 'InChI': 'InChI=1S/C9H19NO2S2/c10-7-14-6-5-8(13)3-1-2-4-9(11)12/h8,13H,1-7,10H2,(H,11,12)', 'compound_index': 672, 'formula': 'C9H19NO2S2', 'group_vector': [[28, 1.0], [30, 1.0], [100, 1.0], [122, 1.0], [158, 1.0], [160, 7.0], [162, 1.0]], 'mass': 237.085720853, 'num_electrons': 128, 'pmap': {'source': 'Component Contribution (2013)', 'species': [{'dG0_f': -172.83, 'nH': 17, 'nMg': 0, 'phase': 'aqueous', 'z': -2}, {'dG0_f': -230.28, 'nH': 18, 'nMg': 0, 'phase': 'aqueous', 'z': -1}, {'dG0_f': -277.74, 'nH': 19, 'nMg': 0, 'phase': 'aqueous', 'z': 0}, {'dG0_f': -302.56, 'nH': 20, 'nMg': 0, 'phase': 'aqueous', 'z': 1}]}}\n"
     ]
    }
   ],
   "source": [
    "cache.all()"
   ]
  },
  {
   "cell_type": "code",
   "execution_count": 88,
   "metadata": {},
   "outputs": [],
   "source": [
    "#create a new instance of cache to use the depreceatedMNXM_mnxm\n",
    "deprecatedMNXM_mnxm = pickle.load(open('cache/deprecatedMNXM_mnxm.pickle', 'rb'))"
   ]
  },
  {
   "cell_type": "code",
   "execution_count": 89,
   "metadata": {},
   "outputs": [],
   "source": [
    "def checklibSBML(value, message):\n",
    "    if value is None:\n",
    "        print('LibSBML returned a null value trying to ' + message + '.')\n",
    "        #raise SystemExit('LibSBML returned a null value trying to ' + message + '.')\n",
    "        return None\n",
    "    elif type(value) is int:\n",
    "        if value==libsbml.LIBSBML_OPERATION_SUCCESS:\n",
    "            return\n",
    "        else:\n",
    "            err_msg = 'Error encountered trying to ' + message + '.' \\\n",
    "                    + 'LibSBML returned error code ' + str(value) + ': \"' \\\n",
    "                    + libsbml.OperationReturnValue_toString(value).strip() + '\"' \n",
    "            print(err_msg)\n",
    "            raise SystemExit(err_msg)\n",
    "    else:\n",
    "        print(message)\n",
    "        return None"
   ]
  },
  {
   "cell_type": "code",
   "execution_count": 90,
   "metadata": {},
   "outputs": [],
   "source": [
    "#open full model\n",
    "yeast_document_ori = libsbml.readSBML('/home/mdulac/Downloads/bigg_iMM904.COBRA-sbml3.xml')\n",
    "rp_document = libsbml.readSBML('/home/mdulac/Documents/rpFBA/sbml_models/ibisba_test_format.sbml')"
   ]
  },
  {
   "cell_type": "code",
   "execution_count": 91,
   "metadata": {},
   "outputs": [],
   "source": [
    "##### manually merge two SBML #####\n",
    "rp_model = rp_document.getModel()\n",
    "yeast_model_ori = yeast_document_ori.getModel()"
   ]
  },
  {
   "cell_type": "code",
   "execution_count": 2,
   "metadata": {},
   "outputs": [],
   "source": [
    "path_id = 1\n",
    "steps = [{'right': {'CMPD_0000000003': 1, 'MNXM13': 1, 'MNXM15': 1, 'MNXM8': 1}, 'left': {'MNXM10': 1, 'MNXM188': 1, 'MNXM4': 1, 'MNXM1': 3}}, {'right': {'TARGET_0000000001': 1, 'MNXM1': 2}, 'left': {'CMPD_0000000003': 1, 'MNXM4': 1, }}]\n",
    "reaction_smiles = ['[H]Oc1c([H])c([H])c([H])c([H])c1O[H]>>O=O.[H]N=C(O[H])C1=C([H])N(C2([H])OC([H])(C([H])([H])OP(=O)(O[H])OP(=O)(O[H])OC([H])([H])C3([H])OC([H])(n4c([H])nc5c(N([H])[H])nc([H])nc54)C([H])(O[H])C3([H])O[H])C([H])(O[H])C2([H])O[H])C([H])=C([H])C1([H])[H].[H]OC(=O)c1c([H])c([H])c([H])c([H])c1N([H])[H]', '[H]OC(=O)C([H])=C([H])C([H])=C([H])C(=O)O[H]>>O=O.[H]Oc1c([H])c([H])c([H])c([H])c1O[H]', ]\n",
    "rp_smiles = {'MNXM10': '[H]N=C(O[H])C1=C([H])N(C2([H])OC([H])(C([H])([H])OP(=O)(O[H])OP(=O)(O[H])OC([H])([H])C3([H])OC([H])(n4c([H])nc5c(N([H])[H])nc([H])nc54)C([H])(O[H])C3([H])O[H])C([H])(O[H])C2([H])O[H])C([H])=C([H])C1([H])[H]',\n",
    "'MNXM188': '[H]OC(=O)c1c([H])c([H])c([H])c([H])c1N([H])[H]',\n",
    "'MNXM4': 'O=O',\n",
    "'MNXM1': '[H+]',\n",
    "'CMPD_0000000003': '[H]Oc1c([H])c([H])c([H])c([H])c1O[H]',\n",
    "'MNXM13': 'O=C=O',\n",
    "'MNXM15': '[H]N([H])[H]',\n",
    "'MNXM8': 'NC(=O)c1ccc[n+](c1)[C@@H]1O[C@H](COP([O-])(=O)OP([O-])(=O)OC[C@H]2O[C@H]([C@H](O)[C@@H]2O)n2cnc3c(N)ncnc23)[C@@H](O)[C@H]1O',\n",
    "'TARGET_0000000001': '[H]OC(=O)C([H])=C([H])C([H])=C([H])C(=O)O[H]'}\n",
    "rp_inchi = {'MNXM10': 'InChI=1S/C21H29N7O14P2/c22-17-12-19(25-7-24-17)28(8-26-12)21-16(32)14(30)11(41-21)6-39-44(36,37)42-43(34,35)38-5-10-13(29)15(31)20(40-10)27-3-1-2-9(4-27)18(23)33/h1,3-4,7-8,10-11,13-16,20-21,29-32H,2,5-6H2,(H2,23,33)(H,34,35)(H,36,37)(H2,22,24,25)/p-2/t10-,11-,13-,14-,15-,16-,20-,21-/m1/s1',\n",
    "'MNXM188': 'InChI=1S/C7H7NO2/c8-6-4-2-1-3-5(6)7(9)10/h1-4H,8H2,(H,9,10)/p-1',\n",
    "'MNXM4': 'InChI=1S/O2/c1-2',\n",
    "'MNXM1': 'InChI=1S',\n",
    "'CMPD_0000000003': None,\n",
    "'MNXM13': 'InChI=1S/CO2/c2-1-3',\n",
    "'MNXM15': 'InChI=1S/H3N/h1H3/p+1',\n",
    "'MNXM8': 'InChI=1S/C21H27N7O14P2/c22-17-12-19(25-7-24-17)28(8-26-12)21-16(32)14(30)11(41-21)6-39-44(36,37)42-43(34,35)38-5-10-13(29)15(31)20(40-10)27-3-1-2-9(4-27)18(23)33/h1-4,7-8,10-11,13-16,20-21,29-32H,5-6H2,(H5-,22,23,24,25,33,34,35,36,37)/p-1/t10-,11-,13-,14-,15-,16-,20-,21-/m1/s1',\n",
    "'TARGET_0000000001': 'InChI=1S/C6H6O4/c7-5(8)3-1-2-4-6(9)10/h1-4H,(H,7,8)(H,9,10)'}"
   ]
  },
  {
   "cell_type": "code",
   "execution_count": 135,
   "metadata": {},
   "outputs": [],
   "source": [
    "def compareModels(modelOne, modelTwo):\n",
    "    for one_species in modelOne.getListOfSpecies():\n",
    "        if modelTwo.getSpecies(one_species.getId()) is None:\n",
    "            return False\n",
    "    for one_reaction in modelOne.getListOfReactions():\n",
    "        if modelTwo.getReaction(one_reaction.getId()) is None:\n",
    "            return False\n",
    "    for one_compartment in modelOne.getListOfCompartments():\n",
    "        if modelTwo.getCompartment(one_compartment.getId()) is None:\n",
    "            return False\n",
    "    for one_parameter in modelOne.getListOfParameters():\n",
    "        if modelTwo.getParameter(one_parameter.getId()) is None:\n",
    "            return False\n",
    "    for one_unitDef in modelOne.getListOfUnitDefinitions():\n",
    "        if modelTwo.getUnitDefinition(one_unitDef.getId()) is None:\n",
    "            return False\n",
    "    return True"
   ]
  },
  {
   "cell_type": "code",
   "execution_count": 5,
   "metadata": {},
   "outputs": [
    {
     "name": "stderr",
     "output_type": "stream",
     "text": [
      "WARNING:root:rpSBML object was initiated as empty. Please call createModel() to initalise the model\n"
     ]
    },
    {
     "data": {
      "text/plain": [
       "1"
      ]
     },
     "execution_count": 5,
     "metadata": {},
     "output_type": "execute_result"
    }
   ],
   "source": [
    "#createModel\n",
    "rpsbml = rpSBML.rpSBML()\n",
    "rpsbml.createModel('RetroPath_heterologous_pathway', 'rp_model')\n",
    "libsbml.writeSBML(rpsbml.document, 'models/test_createModel.sbml')"
   ]
  },
  {
   "cell_type": "code",
   "execution_count": 6,
   "metadata": {},
   "outputs": [
    {
     "name": "stderr",
     "output_type": "stream",
     "text": [
      "WARNING:root:rpSBML object was initiated as empty. Please call createModel() to initalise the model\n"
     ]
    },
    {
     "data": {
      "text/plain": [
       "1"
      ]
     },
     "execution_count": 6,
     "metadata": {},
     "output_type": "execute_result"
    }
   ],
   "source": [
    "#createUnitDefinition\n",
    "rpsbml = rpSBML.rpSBML()\n",
    "rpsbml.createModel('RetroPath_heterologous_pathway', 'rp_model')\n",
    "unitDef = rpsbml.createUnitDefinition('mmol_per_gDW_per_hr')\n",
    "libsbml.writeSBML(rpsbml.document, 'models/test_createUnitDefinition.sbml')"
   ]
  },
  {
   "cell_type": "code",
   "execution_count": 7,
   "metadata": {},
   "outputs": [
    {
     "name": "stderr",
     "output_type": "stream",
     "text": [
      "WARNING:root:rpSBML object was initiated as empty. Please call createModel() to initalise the model\n"
     ]
    },
    {
     "data": {
      "text/plain": [
       "1"
      ]
     },
     "execution_count": 7,
     "metadata": {},
     "output_type": "execute_result"
    }
   ],
   "source": [
    "#createUnit\n",
    "rpsbml = rpSBML.rpSBML()\n",
    "rpsbml.createModel('RetroPath_heterologous_pathway', 'rp_model')\n",
    "unitDef = rpsbml.createUnitDefinition('mmol_per_gDW_per_hr')\n",
    "rpsbml.createUnit(unitDef, libsbml.UNIT_KIND_MOLE, 1, -3, 1)\n",
    "rpsbml.createUnit(unitDef, libsbml.UNIT_KIND_GRAM, 1, 0, 1)\n",
    "rpsbml.createUnit(unitDef, libsbml.UNIT_KIND_SECOND, 1, 0, 3600)\n",
    "libsbml.writeSBML(rpsbml.document, 'models/test_createUnit.sbml')"
   ]
  },
  {
   "cell_type": "code",
   "execution_count": 8,
   "metadata": {},
   "outputs": [
    {
     "name": "stderr",
     "output_type": "stream",
     "text": [
      "WARNING:root:rpSBML object was initiated as empty. Please call createModel() to initalise the model\n"
     ]
    },
    {
     "data": {
      "text/plain": [
       "1"
      ]
     },
     "execution_count": 8,
     "metadata": {},
     "output_type": "execute_result"
    }
   ],
   "source": [
    "#createParameter\n",
    "rpsbml = rpSBML.rpSBML()\n",
    "rpsbml.createModel('RetroPath_heterologous_pathway', 'rp_model')\n",
    "upInfParam = rpsbml.createParameter('B_INF', float('inf'), 'kj_per_mol')\n",
    "libsbml.writeSBML(rpsbml.document, 'models/test_createParameter.sbml')"
   ]
  },
  {
   "cell_type": "code",
   "execution_count": 9,
   "metadata": {},
   "outputs": [
    {
     "name": "stderr",
     "output_type": "stream",
     "text": [
      "WARNING:root:rpSBML object was initiated as empty. Please call createModel() to initalise the model\n"
     ]
    },
    {
     "data": {
      "text/plain": [
       "1"
      ]
     },
     "execution_count": 9,
     "metadata": {},
     "output_type": "execute_result"
    }
   ],
   "source": [
    "#createCompartent\n",
    "rpsbml = rpSBML.rpSBML()\n",
    "rpsbml.createModel('RetroPath_heterologous_pathway', 'rp_model')\n",
    "rpsbml.createCompartment(1, 'cytoplasm')\n",
    "libsbml.writeSBML(rpsbml.document, 'models/test_createCompartent.sbml')"
   ]
  },
  {
   "cell_type": "code",
   "execution_count": 10,
   "metadata": {},
   "outputs": [
    {
     "name": "stderr",
     "output_type": "stream",
     "text": [
      "WARNING:root:rpSBML object was initiated as empty. Please call createModel() to initalise the model\n"
     ]
    },
    {
     "data": {
      "text/plain": [
       "1"
      ]
     },
     "execution_count": 10,
     "metadata": {},
     "output_type": "execute_result"
    }
   ],
   "source": [
    "#genericModel\n",
    "rpsbml = rpSBML.rpSBML()\n",
    "rpsbml.genericModel('RetroPath_heterologous_pathway', 'rp_model')\n",
    "libsbml.writeSBML(rpsbml.document, 'models/test_genericModel.sbml')"
   ]
  },
  {
   "cell_type": "code",
   "execution_count": 14,
   "metadata": {},
   "outputs": [
    {
     "name": "stderr",
     "output_type": "stream",
     "text": [
      "WARNING:root:rpSBML object was initiated as empty. Please call createModel() to initalise the model\n"
     ]
    }
   ],
   "source": [
    "#createSpecies\n",
    "rpsbml = rpSBML.rpSBML(None, None, None, None, '../cache')\n",
    "rpsbml.genericModel('RetroPath_heterologous_pathway', 'rp_model')\n",
    "for meta in set([i for step in steps for lr in ['left', 'right'] for i in step[lr]]):\n",
    "    try:\n",
    "        inchi = rp_inchi[meta]\n",
    "    except KeyError:\n",
    "        inchi = None\n",
    "    try:\n",
    "        smiles = rp_smiles[meta]\n",
    "    except KeyError:\n",
    "        smiles = None\n",
    "    rpsbml.createSpecies(meta, None, inchi, smiles, 'cytoplasm', 0, '', None, None)\n",
    "#libsbml.writeSBML(rpsbml.document, 'test_models/test_createSpecies.sbml')"
   ]
  },
  {
   "cell_type": "code",
   "execution_count": 13,
   "metadata": {},
   "outputs": [],
   "source": [
    "inModel = libsbml.readSBML('test_models/test_createSpecies.sbml')"
   ]
  },
  {
   "cell_type": "code",
   "execution_count": 15,
   "metadata": {},
   "outputs": [
    {
     "data": {
      "text/plain": [
       "False"
      ]
     },
     "execution_count": 15,
     "metadata": {},
     "output_type": "execute_result"
    }
   ],
   "source": [
    "inModel.getModel().toXMLNode().equals(rpsbml.model.toXMLNode())"
   ]
  },
  {
   "cell_type": "code",
   "execution_count": 117,
   "metadata": {},
   "outputs": [],
   "source": [
    "a = inModel.getModel()\n",
    "b = rpsbml.model"
   ]
  },
  {
   "cell_type": "code",
   "execution_count": 141,
   "metadata": {},
   "outputs": [
    {
     "data": {
      "text/plain": [
       "<Species TARGET_0000000001__64__cytoplasm \"TARGET_0000000001\">"
      ]
     },
     "execution_count": 141,
     "metadata": {},
     "output_type": "execute_result"
    }
   ],
   "source": [
    "a.species[0].getA"
   ]
  },
  {
   "cell_type": "code",
   "execution_count": 140,
   "metadata": {},
   "outputs": [
    {
     "ename": "TypeError",
     "evalue": "setStrict() missing 1 required positional argument: 'strict'",
     "output_type": "error",
     "traceback": [
      "\u001b[0;31m---------------------------------------------------------------------------\u001b[0m",
      "\u001b[0;31mTypeError\u001b[0m                                 Traceback (most recent call last)",
      "\u001b[0;32m<ipython-input-140-73e9c6a7ea17>\u001b[0m in \u001b[0;36m<module>\u001b[0;34m\u001b[0m\n\u001b[0;32m----> 1\u001b[0;31m \u001b[0mf\u001b[0m\u001b[0;34m.\u001b[0m\u001b[0msetStrict\u001b[0m\u001b[0;34m(\u001b[0m\u001b[0;34m)\u001b[0m\u001b[0;34m\u001b[0m\u001b[0;34m\u001b[0m\u001b[0m\n\u001b[0m",
      "\u001b[0;31mTypeError\u001b[0m: setStrict() missing 1 required positional argument: 'strict'"
     ]
    }
   ],
   "source": [
    "f.setStrict()"
   ]
  },
  {
   "cell_type": "code",
   "execution_count": 132,
   "metadata": {},
   "outputs": [],
   "source": [
    "g = f[0]"
   ]
  },
  {
   "cell_type": "code",
   "execution_count": 133,
   "metadata": {},
   "outputs": [
    {
     "ename": "NotImplementedError",
     "evalue": "Wrong number or type of arguments for overloaded function 'UnitDefinition_getUnit'.\n  Possible C/C++ prototypes are:\n    UnitDefinition::getUnit(unsigned int)\n    UnitDefinition::getUnit(unsigned int) const\n",
     "output_type": "error",
     "traceback": [
      "\u001b[0;31m---------------------------------------------------------------------------\u001b[0m",
      "\u001b[0;31mNotImplementedError\u001b[0m                       Traceback (most recent call last)",
      "\u001b[0;32m<ipython-input-133-3ba22382dea3>\u001b[0m in \u001b[0;36m<module>\u001b[0;34m\u001b[0m\n\u001b[0;32m----> 1\u001b[0;31m \u001b[0mg\u001b[0m\u001b[0;34m.\u001b[0m\u001b[0mgetUnit\u001b[0m\u001b[0;34m(\u001b[0m\u001b[0;34m)\u001b[0m\u001b[0;34m\u001b[0m\u001b[0;34m\u001b[0m\u001b[0m\n\u001b[0m",
      "\u001b[0;32m~/anaconda3/envs/py36/lib/python3.6/site-packages/libsbml/__init__.py\u001b[0m in \u001b[0;36mgetUnit\u001b[0;34m(self, *args)\u001b[0m\n\u001b[1;32m  19179\u001b[0m \u001b[0;34m\u001b[0m\u001b[0m\n\u001b[1;32m  19180\u001b[0m         \"\"\"\n\u001b[0;32m> 19181\u001b[0;31m         \u001b[0;32mreturn\u001b[0m \u001b[0m_libsbml\u001b[0m\u001b[0;34m.\u001b[0m\u001b[0mUnitDefinition_getUnit\u001b[0m\u001b[0;34m(\u001b[0m\u001b[0mself\u001b[0m\u001b[0;34m,\u001b[0m \u001b[0;34m*\u001b[0m\u001b[0margs\u001b[0m\u001b[0;34m)\u001b[0m\u001b[0;34m\u001b[0m\u001b[0;34m\u001b[0m\u001b[0m\n\u001b[0m\u001b[1;32m  19182\u001b[0m \u001b[0;34m\u001b[0m\u001b[0m\n\u001b[1;32m  19183\u001b[0m \u001b[0;34m\u001b[0m\u001b[0m\n",
      "\u001b[0;31mNotImplementedError\u001b[0m: Wrong number or type of arguments for overloaded function 'UnitDefinition_getUnit'.\n  Possible C/C++ prototypes are:\n    UnitDefinition::getUnit(unsigned int)\n    UnitDefinition::getUnit(unsigned int) const\n"
     ]
    }
   ],
   "source": [
    "g.getUnit()"
   ]
  },
  {
   "cell_type": "code",
   "execution_count": 85,
   "metadata": {},
   "outputs": [
    {
     "data": {
      "text/plain": [
       "False"
      ]
     },
     "execution_count": 85,
     "metadata": {},
     "output_type": "execute_result"
    }
   ],
   "source": [
    "a.equals(b)"
   ]
  },
  {
   "cell_type": "code",
   "execution_count": 36,
   "metadata": {},
   "outputs": [
    {
     "data": {
      "text/plain": [
       "True"
      ]
     },
     "execution_count": 36,
     "metadata": {},
     "output_type": "execute_result"
    }
   ],
   "source": [
    "a.equals(a)"
   ]
  },
  {
   "cell_type": "code",
   "execution_count": 49,
   "metadata": {},
   "outputs": [],
   "source": [
    "m = rpsbml.model"
   ]
  },
  {
   "cell_type": "code",
   "execution_count": 53,
   "metadata": {},
   "outputs": [],
   "source": [
    "c = m.getSpecies(0)"
   ]
  },
  {
   "cell_type": "code",
   "execution_count": 54,
   "metadata": {},
   "outputs": [
    {
     "data": {
      "text/plain": [
       "<libsbml.XMLNode proxy of <Swig Object of type 'XMLNode_t *' at 0x7f89f23e68d0> >"
      ]
     },
     "execution_count": 54,
     "metadata": {},
     "output_type": "execute_result"
    }
   ],
   "source": [
    "c.toXMLNode()"
   ]
  },
  {
   "cell_type": "code",
   "execution_count": 55,
   "metadata": {},
   "outputs": [
    {
     "data": {
      "text/plain": [
       "False"
      ]
     },
     "execution_count": 55,
     "metadata": {},
     "output_type": "execute_result"
    }
   ],
   "source": [
    "rpsbml.model.getSpecies(0).toXMLNode().equals(inModel.getModel().getSpecies(0).toXMLNode())"
   ]
  },
  {
   "cell_type": "code",
   "execution_count": 78,
   "metadata": {},
   "outputs": [],
   "source": [
    "d = rpsbml.model.getSpecies('MNXM13__64__cytoplasm')"
   ]
  },
  {
   "cell_type": "code",
   "execution_count": 79,
   "metadata": {},
   "outputs": [],
   "source": [
    "d1 = inModel.getModel().getSpecies('MNXM13__64__cytoplasm')"
   ]
  },
  {
   "cell_type": "code",
   "execution_count": 105,
   "metadata": {},
   "outputs": [],
   "source": [
    "f = rpsbml.model.getListOfSpecies()"
   ]
  },
  {
   "cell_type": "code",
   "execution_count": 106,
   "metadata": {},
   "outputs": [],
   "source": [
    "g = f[0]"
   ]
  },
  {
   "cell_type": "code",
   "execution_count": 108,
   "metadata": {},
   "outputs": [
    {
     "data": {
      "text/plain": [
       "'MNXM13__64__cytoplasm'"
      ]
     },
     "execution_count": 108,
     "metadata": {},
     "output_type": "execute_result"
    }
   ],
   "source": [
    "a.getListOfReactions"
   ]
  },
  {
   "cell_type": "code",
   "execution_count": 115,
   "metadata": {},
   "outputs": [],
   "source": [
    "a.getUnitDefinition"
   ]
  },
  {
   "cell_type": "code",
   "execution_count": 81,
   "metadata": {},
   "outputs": [],
   "source": [
    "v1 = d1.toXMLNode()"
   ]
  },
  {
   "cell_type": "code",
   "execution_count": 86,
   "metadata": {},
   "outputs": [
    {
     "data": {
      "text/plain": [
       "True"
      ]
     },
     "execution_count": 86,
     "metadata": {},
     "output_type": "execute_result"
    }
   ],
   "source": [
    "v.equals(v1)"
   ]
  },
  {
   "cell_type": "code",
   "execution_count": 75,
   "metadata": {},
   "outputs": [
    {
     "name": "stdout",
     "output_type": "stream",
     "text": [
      "<species metaid=\"_9e590de202b6a3a9b1c3566cafda86d0\" id=\"MNXM13__64__cytoplasm\" name=\"MNXM13\" compartment=\"cytoplasm\" initialConcentration=\"1\" hasOnlySubstanceUnits=\"false\" boundaryCondition=\"false\" constant=\"false\" fbc:charge=\"0\">\n",
      "  <annotation>\n",
      "    <rdf:RDF xmlns:rdf=\"http://www.w3.org/1999/02/22-rdf-syntax-ns#\" xmlns:bqbiol=\"http://biomodels.net/biology-qualifiers/\" xmlns:bqmodel=\"http://biomodels.net/model-qualifiers/\">\n",
      "      <rdf:Description rdf:about=\"#_9e590de202b6a3a9b1c3566cafda86d0\">\n",
      "        <bqbiol:is>\n",
      "          <rdf:Bag>\n",
      "            <rdf:li rdf:resource=\"http://identifiers.org/bigg.metabolite/co2\"/>\n",
      "            <rdf:li rdf:resource=\"http://identifiers.org/bigg.metabolite/M_co2\"/>\n",
      "            <rdf:li rdf:resource=\"http://identifiers.org/metanetx.chemical/MNXM13\"/>\n",
      "            <rdf:li rdf:resource=\"http://identifiers.org/metanetx.chemical/MNXM89563\"/>\n",
      "            <rdf:li rdf:resource=\"http://identifiers.org/chebi/CHEBI:16526\"/>\n",
      "            <rdf:li rdf:resource=\"http://identifiers.org/chebi/CHEBI:13282\"/>\n",
      "            <rdf:li rdf:resource=\"http://identifiers.org/chebi/CHEBI:13283\"/>\n",
      "            <rdf:li rdf:resource=\"http://identifiers.org/chebi/CHEBI:13284\"/>\n",
      "            <rdf:li rdf:resource=\"http://identifiers.org/chebi/CHEBI:13285\"/>\n",
      "            <rdf:li rdf:resource=\"http://identifiers.org/chebi/CHEBI:23011\"/>\n",
      "            <rdf:li rdf:resource=\"http://identifiers.org/chebi/CHEBI:3283\"/>\n",
      "            <rdf:li rdf:resource=\"http://identifiers.org/chebi/CHEBI:48829\"/>\n",
      "            <rdf:li rdf:resource=\"http://identifiers.org/hmdb/HMDB01967\"/>\n",
      "            <rdf:li rdf:resource=\"http://identifiers.org/kegg.compound/C00011\"/>\n",
      "            <rdf:li rdf:resource=\"http://identifiers.org/kegg.compound/D00004\"/>\n",
      "            <rdf:li rdf:resource=\"http://identifiers.org/seed.compound/cpd00011\"/>\n",
      "          </rdf:Bag>\n",
      "        </bqbiol:is>\n",
      "      </rdf:Description>\n",
      "      <rdf:Ibisba rdf:about=\"#_9e590de202b6a3a9b1c3566cafda86d0\">\n",
      "        <ibisba:ibisba xmlns:ibisba=\"http://ibisba.eu/qualifiers\">\n",
      "          <ibisba:smiles>O=C=O</ibisba:smiles>\n",
      "          <ibisba:inchi>InChI=1S/CO2/c2-1-3</ibisba:inchi>\n",
      "          <ibisba:inchikey>CURLTUGMZLYLDI-UHFFFAOYSA-N</ibisba:inchikey>\n",
      "          <ibisba:ddG units=\"kj_per_mol\"/>\n",
      "          <ibisba:ddG_uncert units=\"kj_per_mol\"/>\n",
      "        </ibisba:ibisba>\n",
      "      </rdf:Ibisba>\n",
      "    </rdf:RDF>\n",
      "  </annotation>\n",
      "</species>\n"
     ]
    }
   ],
   "source": [
    "print(v.toXMLString())"
   ]
  },
  {
   "cell_type": "code",
   "execution_count": 69,
   "metadata": {},
   "outputs": [
    {
     "name": "stdout",
     "output_type": "stream",
     "text": [
      "<species metaid=\"_76aec9c4390657d33b71dbc0bef4908b\" id=\"TARGET_0000000001__64__cytoplasm\" name=\"TARGET_0000000001\" compartment=\"cytoplasm\" initialConcentration=\"1\" hasOnlySubstanceUnits=\"false\" boundaryCondition=\"false\" constant=\"false\" fbc:charge=\"0\">\n",
      "  <annotation>\n",
      "    <rdf:RDF xmlns:rdf=\"http://www.w3.org/1999/02/22-rdf-syntax-ns#\" xmlns:bqbiol=\"http://biomodels.net/biology-qualifiers/\" xmlns:bqmodel=\"http://biomodels.net/model-qualifiers/\">\n",
      "      <rdf:Description rdf:about=\"#_76aec9c4390657d33b71dbc0bef4908b\">\n",
      "        <bqbiol:is>\n",
      "          <rdf:Bag/>\n",
      "        </bqbiol:is>\n",
      "      </rdf:Description>\n",
      "      <rdf:Ibisba rdf:about=\"#_76aec9c4390657d33b71dbc0bef4908b\">\n",
      "        <ibisba:ibisba xmlns:ibisba=\"http://ibisba.eu/qualifiers\">\n",
      "          <ibisba:smiles>[H]OC(=O)C([H])=C([H])C([H])=C([H])C(=O)O[H]</ibisba:smiles>\n",
      "          <ibisba:inchi>InChI=1S/C6H6O4/c7-5(8)3-1-2-4-6(9)10/h1-4H,(H,7,8)(H,9,10)</ibisba:inchi>\n",
      "          <ibisba:inchikey>TXXHDPDFNKHHGW-UHFFFAOYSA-N</ibisba:inchikey>\n",
      "          <ibisba:ddG units=\"kj_per_mol\"/>\n",
      "          <ibisba:ddG_uncert units=\"kj_per_mol\"/>\n",
      "        </ibisba:ibisba>\n",
      "      </rdf:Ibisba>\n",
      "    </rdf:RDF>\n",
      "  </annotation>\n",
      "</species>\n"
     ]
    }
   ],
   "source": [
    "print(v1.toXMLString())"
   ]
  },
  {
   "cell_type": "code",
   "execution_count": 28,
   "metadata": {},
   "outputs": [
    {
     "name": "stdout",
     "output_type": "stream",
     "text": [
      "<sbml xmlns=\"http://www.sbml.org/sbml/level3/version1/core\" xmlns:groups=\"http://www.sbml.org/sbml/level3/version1/groups/version1\" xmlns:fbc=\"http://www.sbml.org/sbml/level3/version1/fbc/version2\" level=\"3\" version=\"1\" groups:required=\"false\" fbc:required=\"false\">\n",
      "  <model metaid=\"_81bcdb4f4f90440a19855f20c14ac474\" id=\"rp_model\" name=\"RetroPath_heterologous_pathway\" substanceUnits=\"mole\" timeUnits=\"second\" extentUnits=\"mole\">\n",
      "    <listOfUnitDefinitions>\n",
      "      <unitDefinition metaid=\"aebbce66773195cbd5d82838dda4f0ea\" id=\"mmol_per_gDW_per_hr\">\n",
      "        <listOfUnits>\n",
      "          <unit kind=\"mole\" exponent=\"1\" scale=\"-3\" multiplier=\"1\"/>\n",
      "          <unit kind=\"gram\" exponent=\"1\" scale=\"0\" multiplier=\"1\"/>\n",
      "          <unit kind=\"second\" exponent=\"1\" scale=\"0\" multiplier=\"3600\"/>\n",
      "        </listOfUnits>\n",
      "      </unitDefinition>\n",
      "      <unitDefinition metaid=\"_0346858f65275ff01aa2ac815127e134\" id=\"kj_per_mol\">\n",
      "        <listOfUnits>\n",
      "          <unit kind=\"joule\" exponent=\"1\" scale=\"3\" multiplier=\"1\"/>\n",
      "          <unit kind=\"mole\" exponent=\"1\" scale=\"1\" multiplier=\"1\"/>\n",
      "        </listOfUnits>\n",
      "      </unitDefinition>\n",
      "    </listOfUnitDefinitions>\n",
      "    <listOfCompartments>\n",
      "      <compartment metaid=\"bd93fc3ad12aa61c97ebe613673522d1\" sboTerm=\"SBO:0000290\" id=\"MNXC3\" name=\"cytoplasm\" size=\"1\" constant=\"true\">\n",
      "        <annotation>\n",
      "          <rdf:RDF xmlns:rdf=\"http://www.w3.org/1999/02/22-rdf-syntax-ns#\" xmlns:dcterms=\"http://purl.org/dc/terms/\" xmlns:vCard=\"http://www.w3.org/2001/vcard-rdf/3.0#\" xmlns:vCard4=\"http://www.w3.org/2006/vcard/ns#\" xmlns:bqbiol=\"http://biomodels.net/biology-qualifiers/\" xmlns:bqmodel=\"http://biomodels.net/model-qualifiers/\">\n",
      "            <rdf:Description rdf:about=\"#bd93fc3ad12aa61c97ebe613673522d1\">\n",
      "              <bqbiol:is>\n",
      "                <rdf:Bag>\n",
      "                  <rdf:li rdf:resource=\"http://identifiers.org/bigg.compartment/c\"/>\n",
      "                  <rdf:li rdf:resource=\"http://identifiers.org/bigg.compartment/C_c\"/>\n",
      "                  <rdf:li rdf:resource=\"http://identifiers.org/metanetx.compartment/MNXC3\"/>\n",
      "                </rdf:Bag>\n",
      "              </bqbiol:is>\n",
      "            </rdf:Description>\n",
      "          </rdf:RDF>\n",
      "        </annotation>\n",
      "      </compartment>\n",
      "    </listOfCompartments>\n",
      "    <listOfSpecies>\n",
      "      <species metaid=\"b64ad79fa334c16e5dc682747457ab9c\" id=\"MNXM188__64__cytoplasm\" name=\"MNXM188\" compartment=\"cytoplasm\" initialConcentration=\"1\" hasOnlySubstanceUnits=\"false\" boundaryCondition=\"false\" constant=\"false\" fbc:charge=\"0\">\n",
      "        <annotation>\n",
      "          <rdf:RDF xmlns:rdf=\"http://www.w3.org/1999/02/22-rdf-syntax-ns#\" xmlns:bqbiol=\"http://biomodels.net/biology-qualifiers/\" xmlns:bqmodel=\"http://biomodels.net/model-qualifiers/\">\n",
      "            <rdf:Description rdf:about=\"#b64ad79fa334c16e5dc682747457ab9c\">\n",
      "              <bqbiol:is>\n",
      "                <rdf:Bag>\n",
      "                  <rdf:li rdf:resource=\"http://identifiers.org/bigg.metabolite/anth\"/>\n",
      "                  <rdf:li rdf:resource=\"http://identifiers.org/bigg.metabolite/M_anth\"/>\n",
      "                  <rdf:li rdf:resource=\"http://identifiers.org/metanetx.chemical/MNXM188\"/>\n",
      "                  <rdf:li rdf:resource=\"http://identifiers.org/chebi/CHEBI:16567\"/>\n",
      "                  <rdf:li rdf:resource=\"http://identifiers.org/chebi/CHEBI:13841\"/>\n",
      "                  <rdf:li rdf:resource=\"http://identifiers.org/chebi/CHEBI:22575\"/>\n",
      "                  <rdf:li rdf:resource=\"http://identifiers.org/chebi/CHEBI:30754\"/>\n",
      "                  <rdf:li rdf:resource=\"http://identifiers.org/chebi/CHEBI:22577\"/>\n",
      "                  <rdf:li rdf:resource=\"http://identifiers.org/chebi/CHEBI:22578\"/>\n",
      "                  <rdf:li rdf:resource=\"http://identifiers.org/chebi/CHEBI:2757\"/>\n",
      "                  <rdf:li rdf:resource=\"http://identifiers.org/chebi/CHEBI:40980\"/>\n",
      "                  <rdf:li rdf:resource=\"http://identifiers.org/hmdb/HMDB01123\"/>\n",
      "                  <rdf:li rdf:resource=\"http://identifiers.org/kegg.compound/C00108\"/>\n",
      "                  <rdf:li rdf:resource=\"http://identifiers.org/seed.compound/cpd00093\"/>\n",
      "                </rdf:Bag>\n",
      "              </bqbiol:is>\n",
      "            </rdf:Description>\n",
      "            <rdf:Ibisba rdf:about=\"#b64ad79fa334c16e5dc682747457ab9c\">\n",
      "              <ibisba:ibisba xmlns:ibisba=\"http://ibisba.eu/qualifiers\">\n",
      "                <ibisba:smiles>[H]OC(=O)c1c([H])c([H])c([H])c([H])c1N([H])[H]</ibisba:smiles>\n",
      "                <ibisba:inchi>InChI=1S/C7H7NO2/c8-6-4-2-1-3-5(6)7(9)10/h1-4H,8H2,(H,9,10)/p-1</ibisba:inchi>\n",
      "                <ibisba:inchikey>RWZYAGGXGHYGMB-UHFFFAOYSA-M</ibisba:inchikey>\n",
      "                <ibisba:ddG units=\"kj_per_mol\"/>\n",
      "                <ibisba:ddG_uncert units=\"kj_per_mol\"/>\n",
      "              </ibisba:ibisba>\n",
      "            </rdf:Ibisba>\n",
      "          </rdf:RDF>\n",
      "        </annotation>\n",
      "      </species>\n",
      "      <species metaid=\"_4354ed2227b0469132f44f938fb566fc\" id=\"MNXM8__64__cytoplasm\" name=\"MNXM8\" compartment=\"cytoplasm\" initialConcentration=\"1\" hasOnlySubstanceUnits=\"false\" boundaryCondition=\"false\" constant=\"false\" fbc:charge=\"0\">\n",
      "        <annotation>\n",
      "          <rdf:RDF xmlns:rdf=\"http://www.w3.org/1999/02/22-rdf-syntax-ns#\" xmlns:bqbiol=\"http://biomodels.net/biology-qualifiers/\" xmlns:bqmodel=\"http://biomodels.net/model-qualifiers/\">\n",
      "            <rdf:Description rdf:about=\"#_4354ed2227b0469132f44f938fb566fc\">\n",
      "              <bqbiol:is>\n",
      "                <rdf:Bag>\n",
      "                  <rdf:li rdf:resource=\"http://identifiers.org/bigg.metabolite/nad\"/>\n",
      "                  <rdf:li rdf:resource=\"http://identifiers.org/bigg.metabolite/M_nad\"/>\n",
      "                  <rdf:li rdf:resource=\"http://identifiers.org/metanetx.chemical/MNXM8\"/>\n",
      "                  <rdf:li rdf:resource=\"http://identifiers.org/metanetx.chemical/MNXM588016\"/>\n",
      "                  <rdf:li rdf:resource=\"http://identifiers.org/metanetx.chemical/MNXM96411\"/>\n",
      "                  <rdf:li rdf:resource=\"http://identifiers.org/chebi/CHEBI:15846\"/>\n",
      "                  <rdf:li rdf:resource=\"http://identifiers.org/chebi/CHEBI:13394\"/>\n",
      "                  <rdf:li rdf:resource=\"http://identifiers.org/chebi/CHEBI:21901\"/>\n",
      "                  <rdf:li rdf:resource=\"http://identifiers.org/chebi/CHEBI:29867\"/>\n",
      "                  <rdf:li rdf:resource=\"http://identifiers.org/chebi/CHEBI:7422\"/>\n",
      "                  <rdf:li rdf:resource=\"http://identifiers.org/chebi/CHEBI:44215\"/>\n",
      "                  <rdf:li rdf:resource=\"http://identifiers.org/chebi/CHEBI:13393\"/>\n",
      "                  <rdf:li rdf:resource=\"http://identifiers.org/chebi/CHEBI:44214\"/>\n",
      "                  <rdf:li rdf:resource=\"http://identifiers.org/chebi/CHEBI:44281\"/>\n",
      "                  <rdf:li rdf:resource=\"http://identifiers.org/chebi/CHEBI:57540\"/>\n",
      "                  <rdf:li rdf:resource=\"http://identifiers.org/hmdb/HMDB00902\"/>\n",
      "                  <rdf:li rdf:resource=\"http://identifiers.org/kegg.compound/C00003\"/>\n",
      "                  <rdf:li rdf:resource=\"http://identifiers.org/kegg.compound/D00002\"/>\n",
      "                  <rdf:li rdf:resource=\"http://identifiers.org/seed.compound/cpd00003\"/>\n",
      "                </rdf:Bag>\n",
      "              </bqbiol:is>\n",
      "            </rdf:Description>\n",
      "            <rdf:Ibisba rdf:about=\"#_4354ed2227b0469132f44f938fb566fc\">\n",
      "              <ibisba:ibisba xmlns:ibisba=\"http://ibisba.eu/qualifiers\">\n",
      "                <ibisba:smiles>NC(=O)c1ccc[n+](c1)[C@@H]1O[C@H](COP([O-])(=O)OP([O-])(=O)OC[C@H]2O[C@H]([C@H](O)[C@@H]2O)n2cnc3c(N)ncnc23)[C@@H](O)[C@H]1O</ibisba:smiles>\n",
      "                <ibisba:inchi>InChI=1S/C21H27N7O14P2/c22-17-12-19(25-7-24-17)28(8-26-12)21-16(32)14(30)11(41-21)6-39-44(36,37)42-43(34,35)38-5-10-13(29)15(31)20(40-10)27-3-1-2-9(4-27)18(23)33/h1-4,7-8,10-11,13-16,20-21,29-32H,5-6H2,(H5-,22,23,24,25,33,34,35,36,37)/p-1/t10-,11-,13-,14-,15-,16-,20-,21-/m1/s1</ibisba:inchi>\n",
      "                <ibisba:inchikey>BAWFJGJZGIEFAR-NNYOXOHSSA-M</ibisba:inchikey>\n",
      "                <ibisba:ddG units=\"kj_per_mol\"/>\n",
      "                <ibisba:ddG_uncert units=\"kj_per_mol\"/>\n",
      "              </ibisba:ibisba>\n",
      "            </rdf:Ibisba>\n",
      "          </rdf:RDF>\n",
      "        </annotation>\n",
      "      </species>\n",
      "      <species metaid=\"_9e590de202b6a3a9b1c3566cafda86d0\" id=\"MNXM13__64__cytoplasm\" name=\"MNXM13\" compartment=\"cytoplasm\" initialConcentration=\"1\" hasOnlySubstanceUnits=\"false\" boundaryCondition=\"false\" constant=\"false\" fbc:charge=\"0\">\n",
      "        <annotation>\n",
      "          <rdf:RDF xmlns:rdf=\"http://www.w3.org/1999/02/22-rdf-syntax-ns#\" xmlns:bqbiol=\"http://biomodels.net/biology-qualifiers/\" xmlns:bqmodel=\"http://biomodels.net/model-qualifiers/\">\n",
      "            <rdf:Description rdf:about=\"#_9e590de202b6a3a9b1c3566cafda86d0\">\n",
      "              <bqbiol:is>\n",
      "                <rdf:Bag>\n",
      "                  <rdf:li rdf:resource=\"http://identifiers.org/bigg.metabolite/co2\"/>\n",
      "                  <rdf:li rdf:resource=\"http://identifiers.org/bigg.metabolite/M_co2\"/>\n",
      "                  <rdf:li rdf:resource=\"http://identifiers.org/metanetx.chemical/MNXM13\"/>\n",
      "                  <rdf:li rdf:resource=\"http://identifiers.org/metanetx.chemical/MNXM89563\"/>\n",
      "                  <rdf:li rdf:resource=\"http://identifiers.org/chebi/CHEBI:16526\"/>\n",
      "                  <rdf:li rdf:resource=\"http://identifiers.org/chebi/CHEBI:13282\"/>\n",
      "                  <rdf:li rdf:resource=\"http://identifiers.org/chebi/CHEBI:13283\"/>\n",
      "                  <rdf:li rdf:resource=\"http://identifiers.org/chebi/CHEBI:13284\"/>\n",
      "                  <rdf:li rdf:resource=\"http://identifiers.org/chebi/CHEBI:13285\"/>\n",
      "                  <rdf:li rdf:resource=\"http://identifiers.org/chebi/CHEBI:23011\"/>\n",
      "                  <rdf:li rdf:resource=\"http://identifiers.org/chebi/CHEBI:3283\"/>\n",
      "                  <rdf:li rdf:resource=\"http://identifiers.org/chebi/CHEBI:48829\"/>\n",
      "                  <rdf:li rdf:resource=\"http://identifiers.org/hmdb/HMDB01967\"/>\n",
      "                  <rdf:li rdf:resource=\"http://identifiers.org/kegg.compound/C00011\"/>\n",
      "                  <rdf:li rdf:resource=\"http://identifiers.org/kegg.compound/D00004\"/>\n",
      "                  <rdf:li rdf:resource=\"http://identifiers.org/seed.compound/cpd00011\"/>\n",
      "                </rdf:Bag>\n",
      "              </bqbiol:is>\n",
      "            </rdf:Description>\n",
      "            <rdf:Ibisba rdf:about=\"#_9e590de202b6a3a9b1c3566cafda86d0\">\n",
      "              <ibisba:ibisba xmlns:ibisba=\"http://ibisba.eu/qualifiers\">\n",
      "                <ibisba:smiles>O=C=O</ibisba:smiles>\n",
      "                <ibisba:inchi>InChI=1S/CO2/c2-1-3</ibisba:inchi>\n",
      "                <ibisba:inchikey>CURLTUGMZLYLDI-UHFFFAOYSA-N</ibisba:inchikey>\n",
      "                <ibisba:ddG units=\"kj_per_mol\"/>\n",
      "                <ibisba:ddG_uncert units=\"kj_per_mol\"/>\n",
      "              </ibisba:ibisba>\n",
      "            </rdf:Ibisba>\n",
      "          </rdf:RDF>\n",
      "        </annotation>\n",
      "      </species>\n",
      "      <species metaid=\"_76aec9c4390657d33b71dbc0bef4908b\" id=\"TARGET_0000000001__64__cytoplasm\" name=\"TARGET_0000000001\" compartment=\"cytoplasm\" initialConcentration=\"1\" hasOnlySubstanceUnits=\"false\" boundaryCondition=\"false\" constant=\"false\" fbc:charge=\"0\">\n",
      "        <annotation>\n",
      "          <rdf:RDF xmlns:rdf=\"http://www.w3.org/1999/02/22-rdf-syntax-ns#\" xmlns:bqbiol=\"http://biomodels.net/biology-qualifiers/\" xmlns:bqmodel=\"http://biomodels.net/model-qualifiers/\">\n",
      "            <rdf:Description rdf:about=\"#_76aec9c4390657d33b71dbc0bef4908b\">\n",
      "              <bqbiol:is>\n",
      "                <rdf:Bag/>\n",
      "              </bqbiol:is>\n",
      "            </rdf:Description>\n",
      "            <rdf:Ibisba rdf:about=\"#_76aec9c4390657d33b71dbc0bef4908b\">\n",
      "              <ibisba:ibisba xmlns:ibisba=\"http://ibisba.eu/qualifiers\">\n",
      "                <ibisba:smiles>[H]OC(=O)C([H])=C([H])C([H])=C([H])C(=O)O[H]</ibisba:smiles>\n",
      "                <ibisba:inchi>InChI=1S/C6H6O4/c7-5(8)3-1-2-4-6(9)10/h1-4H,(H,7,8)(H,9,10)</ibisba:inchi>\n",
      "                <ibisba:inchikey>TXXHDPDFNKHHGW-UHFFFAOYSA-N</ibisba:inchikey>\n",
      "                <ibisba:ddG units=\"kj_per_mol\"/>\n",
      "                <ibisba:ddG_uncert units=\"kj_per_mol\"/>\n",
      "              </ibisba:ibisba>\n",
      "            </rdf:Ibisba>\n",
      "          </rdf:RDF>\n",
      "        </annotation>\n",
      "      </species>\n",
      "      <species metaid=\"_48b1dfa1573700cb13b0df76e76d96a9\" id=\"CMPD_0000000003__64__cytoplasm\" name=\"CMPD_0000000003\" compartment=\"cytoplasm\" initialConcentration=\"1\" hasOnlySubstanceUnits=\"false\" boundaryCondition=\"false\" constant=\"false\" fbc:charge=\"0\">\n",
      "        <annotation>\n",
      "          <rdf:RDF xmlns:rdf=\"http://www.w3.org/1999/02/22-rdf-syntax-ns#\" xmlns:bqbiol=\"http://biomodels.net/biology-qualifiers/\" xmlns:bqmodel=\"http://biomodels.net/model-qualifiers/\">\n",
      "            <rdf:Description rdf:about=\"#_48b1dfa1573700cb13b0df76e76d96a9\">\n",
      "              <bqbiol:is>\n",
      "                <rdf:Bag/>\n",
      "              </bqbiol:is>\n",
      "            </rdf:Description>\n",
      "            <rdf:Ibisba rdf:about=\"#_48b1dfa1573700cb13b0df76e76d96a9\">\n",
      "              <ibisba:ibisba xmlns:ibisba=\"http://ibisba.eu/qualifiers\">\n",
      "                <ibisba:smiles>[H]Oc1c([H])c([H])c([H])c([H])c1O[H]</ibisba:smiles>\n",
      "                <ibisba:inchi/>\n",
      "                <ibisba:inchikey/>\n",
      "                <ibisba:ddG units=\"kj_per_mol\"/>\n",
      "                <ibisba:ddG_uncert units=\"kj_per_mol\"/>\n",
      "              </ibisba:ibisba>\n",
      "            </rdf:Ibisba>\n",
      "          </rdf:RDF>\n",
      "        </annotation>\n",
      "      </species>\n",
      "      <species metaid=\"_8c06ad0cf5bcb6c8f92773f1afb7118f\" id=\"MNXM15__64__cytoplasm\" name=\"MNXM15\" compartment=\"cytoplasm\" initialConcentration=\"1\" hasOnlySubstanceUnits=\"false\" boundaryCondition=\"false\" constant=\"false\" fbc:charge=\"0\">\n",
      "        <annotation>\n",
      "          <rdf:RDF xmlns:rdf=\"http://www.w3.org/1999/02/22-rdf-syntax-ns#\" xmlns:bqbiol=\"http://biomodels.net/biology-qualifiers/\" xmlns:bqmodel=\"http://biomodels.net/model-qualifiers/\">\n",
      "            <rdf:Description rdf:about=\"#_8c06ad0cf5bcb6c8f92773f1afb7118f\">\n",
      "              <bqbiol:is>\n",
      "                <rdf:Bag>\n",
      "                  <rdf:li rdf:resource=\"http://identifiers.org/bigg.metabolite/nh3\"/>\n",
      "                  <rdf:li rdf:resource=\"http://identifiers.org/bigg.metabolite/M_nh3\"/>\n",
      "                  <rdf:li rdf:resource=\"http://identifiers.org/bigg.metabolite/nh4\"/>\n",
      "                  <rdf:li rdf:resource=\"http://identifiers.org/bigg.metabolite/M_nh4\"/>\n",
      "                  <rdf:li rdf:resource=\"http://identifiers.org/metanetx.chemical/MNXM15\"/>\n",
      "                  <rdf:li rdf:resource=\"http://identifiers.org/metanetx.chemical/MNXM84\"/>\n",
      "                  <rdf:li rdf:resource=\"http://identifiers.org/metanetx.chemical/MNXM89589\"/>\n",
      "                  <rdf:li rdf:resource=\"http://identifiers.org/metanetx.chemical/MNXM89593\"/>\n",
      "                  <rdf:li rdf:resource=\"http://identifiers.org/chebi/CHEBI:16134\"/>\n",
      "                  <rdf:li rdf:resource=\"http://identifiers.org/chebi/CHEBI:13405\"/>\n",
      "                  <rdf:li rdf:resource=\"http://identifiers.org/chebi/CHEBI:13406\"/>\n",
      "                  <rdf:li rdf:resource=\"http://identifiers.org/chebi/CHEBI:13407\"/>\n",
      "                  <rdf:li rdf:resource=\"http://identifiers.org/chebi/CHEBI:13771\"/>\n",
      "                  <rdf:li rdf:resource=\"http://identifiers.org/chebi/CHEBI:22533\"/>\n",
      "                  <rdf:li rdf:resource=\"http://identifiers.org/chebi/CHEBI:44269\"/>\n",
      "                  <rdf:li rdf:resource=\"http://identifiers.org/chebi/CHEBI:44284\"/>\n",
      "                  <rdf:li rdf:resource=\"http://identifiers.org/chebi/CHEBI:44404\"/>\n",
      "                  <rdf:li rdf:resource=\"http://identifiers.org/chebi/CHEBI:7434\"/>\n",
      "                  <rdf:li rdf:resource=\"http://identifiers.org/chebi/CHEBI:28938\"/>\n",
      "                  <rdf:li rdf:resource=\"http://identifiers.org/chebi/CHEBI:22534\"/>\n",
      "                  <rdf:li rdf:resource=\"http://identifiers.org/chebi/CHEBI:49783\"/>\n",
      "                  <rdf:li rdf:resource=\"http://identifiers.org/chebi/CHEBI:7435\"/>\n",
      "                  <rdf:li rdf:resource=\"http://identifiers.org/chebi/CHEBI:29337\"/>\n",
      "                  <rdf:li rdf:resource=\"http://identifiers.org/chebi/CHEBI:29340\"/>\n",
      "                  <rdf:li rdf:resource=\"http://identifiers.org/hmdb/HMDB00051\"/>\n",
      "                  <rdf:li rdf:resource=\"http://identifiers.org/hmdb/HMDB41827\"/>\n",
      "                  <rdf:li rdf:resource=\"http://identifiers.org/kegg.compound/C00014\"/>\n",
      "                  <rdf:li rdf:resource=\"http://identifiers.org/kegg.compound/D02916\"/>\n",
      "                  <rdf:li rdf:resource=\"http://identifiers.org/kegg.compound/C01342\"/>\n",
      "                  <rdf:li rdf:resource=\"http://identifiers.org/seed.compound/cpd00013\"/>\n",
      "                  <rdf:li rdf:resource=\"http://identifiers.org/seed.compound/cpd19013\"/>\n",
      "                </rdf:Bag>\n",
      "              </bqbiol:is>\n",
      "            </rdf:Description>\n",
      "            <rdf:Ibisba rdf:about=\"#_8c06ad0cf5bcb6c8f92773f1afb7118f\">\n",
      "              <ibisba:ibisba xmlns:ibisba=\"http://ibisba.eu/qualifiers\">\n",
      "                <ibisba:smiles>[H]N([H])[H]</ibisba:smiles>\n",
      "                <ibisba:inchi>InChI=1S/H3N/h1H3/p+1</ibisba:inchi>\n",
      "                <ibisba:inchikey>QGZKDVFQNNGYKY-UHFFFAOYSA-O</ibisba:inchikey>\n",
      "                <ibisba:ddG units=\"kj_per_mol\"/>\n",
      "                <ibisba:ddG_uncert units=\"kj_per_mol\"/>\n",
      "              </ibisba:ibisba>\n",
      "            </rdf:Ibisba>\n",
      "          </rdf:RDF>\n",
      "        </annotation>\n",
      "      </species>\n",
      "      <species metaid=\"_1859957d8cfd9d066fc7c206e62e0943\" id=\"MNXM10__64__cytoplasm\" name=\"MNXM10\" compartment=\"cytoplasm\" initialConcentration=\"1\" hasOnlySubstanceUnits=\"false\" boundaryCondition=\"false\" constant=\"false\" fbc:charge=\"0\">\n",
      "        <annotation>\n",
      "          <rdf:RDF xmlns:rdf=\"http://www.w3.org/1999/02/22-rdf-syntax-ns#\" xmlns:bqbiol=\"http://biomodels.net/biology-qualifiers/\" xmlns:bqmodel=\"http://biomodels.net/model-qualifiers/\">\n",
      "            <rdf:Description rdf:about=\"#_1859957d8cfd9d066fc7c206e62e0943\">\n",
      "              <bqbiol:is>\n",
      "                <rdf:Bag>\n",
      "                  <rdf:li rdf:resource=\"http://identifiers.org/bigg.metabolite/nadh\"/>\n",
      "                  <rdf:li rdf:resource=\"http://identifiers.org/bigg.metabolite/M_nadh\"/>\n",
      "                  <rdf:li rdf:resource=\"http://identifiers.org/metanetx.chemical/MNXM10\"/>\n",
      "                  <rdf:li rdf:resource=\"http://identifiers.org/metanetx.chemical/MNXM89564\"/>\n",
      "                  <rdf:li rdf:resource=\"http://identifiers.org/chebi/CHEBI:16908\"/>\n",
      "                  <rdf:li rdf:resource=\"http://identifiers.org/chebi/CHEBI:13395\"/>\n",
      "                  <rdf:li rdf:resource=\"http://identifiers.org/chebi/CHEBI:13396\"/>\n",
      "                  <rdf:li rdf:resource=\"http://identifiers.org/chebi/CHEBI:21902\"/>\n",
      "                  <rdf:li rdf:resource=\"http://identifiers.org/chebi/CHEBI:44216\"/>\n",
      "                  <rdf:li rdf:resource=\"http://identifiers.org/chebi/CHEBI:7423\"/>\n",
      "                  <rdf:li rdf:resource=\"http://identifiers.org/chebi/CHEBI:57945\"/>\n",
      "                  <rdf:li rdf:resource=\"http://identifiers.org/hmdb/HMDB01487\"/>\n",
      "                  <rdf:li rdf:resource=\"http://identifiers.org/kegg.compound/C00004\"/>\n",
      "                  <rdf:li rdf:resource=\"http://identifiers.org/seed.compound/cpd00004\"/>\n",
      "                </rdf:Bag>\n",
      "              </bqbiol:is>\n",
      "            </rdf:Description>\n",
      "            <rdf:Ibisba rdf:about=\"#_1859957d8cfd9d066fc7c206e62e0943\">\n",
      "              <ibisba:ibisba xmlns:ibisba=\"http://ibisba.eu/qualifiers\">\n",
      "                <ibisba:smiles>[H]N=C(O[H])C1=C([H])N(C2([H])OC([H])(C([H])([H])OP(=O)(O[H])OP(=O)(O[H])OC([H])([H])C3([H])OC([H])(n4c([H])nc5c(N([H])[H])nc([H])nc54)C([H])(O[H])C3([H])O[H])C([H])(O[H])C2([H])O[H])C([H])=C([H])C1([H])[H]</ibisba:smiles>\n",
      "                <ibisba:inchi>InChI=1S/C21H29N7O14P2/c22-17-12-19(25-7-24-17)28(8-26-12)21-16(32)14(30)11(41-21)6-39-44(36,37)42-43(34,35)38-5-10-13(29)15(31)20(40-10)27-3-1-2-9(4-27)18(23)33/h1,3-4,7-8,10-11,13-16,20-21,29-32H,2,5-6H2,(H2,23,33)(H,34,35)(H,36,37)(H2,22,24,25)/p-2/t10-,11-,13-,14-,15-,16-,20-,21-/m1/s1</ibisba:inchi>\n",
      "                <ibisba:inchikey>BOPGDPNILDQYTO-NNYOXOHSSA-L</ibisba:inchikey>\n",
      "                <ibisba:ddG units=\"kj_per_mol\"/>\n",
      "                <ibisba:ddG_uncert units=\"kj_per_mol\"/>\n",
      "              </ibisba:ibisba>\n",
      "            </rdf:Ibisba>\n",
      "          </rdf:RDF>\n",
      "        </annotation>\n",
      "      </species>\n",
      "      <species metaid=\"ee08cafb5274b6989e332af7c06ce4f6\" id=\"MNXM4__64__cytoplasm\" name=\"MNXM4\" compartment=\"cytoplasm\" initialConcentration=\"1\" hasOnlySubstanceUnits=\"false\" boundaryCondition=\"false\" constant=\"false\" fbc:charge=\"0\">\n",
      "        <annotation>\n",
      "          <rdf:RDF xmlns:rdf=\"http://www.w3.org/1999/02/22-rdf-syntax-ns#\" xmlns:bqbiol=\"http://biomodels.net/biology-qualifiers/\" xmlns:bqmodel=\"http://biomodels.net/model-qualifiers/\">\n",
      "            <rdf:Description rdf:about=\"#ee08cafb5274b6989e332af7c06ce4f6\">\n",
      "              <bqbiol:is>\n",
      "                <rdf:Bag>\n",
      "                  <rdf:li rdf:resource=\"http://identifiers.org/bigg.metabolite/o2\"/>\n",
      "                  <rdf:li rdf:resource=\"http://identifiers.org/bigg.metabolite/M_o2\"/>\n",
      "                  <rdf:li rdf:resource=\"http://identifiers.org/metanetx.chemical/MNXM4\"/>\n",
      "                  <rdf:li rdf:resource=\"http://identifiers.org/metanetx.chemical/MNXM114217\"/>\n",
      "                  <rdf:li rdf:resource=\"http://identifiers.org/metanetx.chemical/MNXM89559\"/>\n",
      "                  <rdf:li rdf:resource=\"http://identifiers.org/metanetx.chemical/MNXM97007\"/>\n",
      "                  <rdf:li rdf:resource=\"http://identifiers.org/chebi/CHEBI:15379\"/>\n",
      "                  <rdf:li rdf:resource=\"http://identifiers.org/chebi/CHEBI:10745\"/>\n",
      "                  <rdf:li rdf:resource=\"http://identifiers.org/chebi/CHEBI:13416\"/>\n",
      "                  <rdf:li rdf:resource=\"http://identifiers.org/chebi/CHEBI:23833\"/>\n",
      "                  <rdf:li rdf:resource=\"http://identifiers.org/chebi/CHEBI:25366\"/>\n",
      "                  <rdf:li rdf:resource=\"http://identifiers.org/chebi/CHEBI:29097\"/>\n",
      "                  <rdf:li rdf:resource=\"http://identifiers.org/chebi/CHEBI:30491\"/>\n",
      "                  <rdf:li rdf:resource=\"http://identifiers.org/chebi/CHEBI:44742\"/>\n",
      "                  <rdf:li rdf:resource=\"http://identifiers.org/chebi/CHEBI:7860\"/>\n",
      "                  <rdf:li rdf:resource=\"http://identifiers.org/chebi/CHEBI:26689\"/>\n",
      "                  <rdf:li rdf:resource=\"http://identifiers.org/chebi/CHEBI:27140\"/>\n",
      "                  <rdf:li rdf:resource=\"http://identifiers.org/chebi/CHEBI:29793\"/>\n",
      "                  <rdf:li rdf:resource=\"http://identifiers.org/hmdb/HMDB01377\"/>\n",
      "                  <rdf:li rdf:resource=\"http://identifiers.org/kegg.compound/C00007\"/>\n",
      "                  <rdf:li rdf:resource=\"http://identifiers.org/kegg.compound/D00003\"/>\n",
      "                  <rdf:li rdf:resource=\"http://identifiers.org/seed.compound/cpd00007\"/>\n",
      "                </rdf:Bag>\n",
      "              </bqbiol:is>\n",
      "            </rdf:Description>\n",
      "            <rdf:Ibisba rdf:about=\"#ee08cafb5274b6989e332af7c06ce4f6\">\n",
      "              <ibisba:ibisba xmlns:ibisba=\"http://ibisba.eu/qualifiers\">\n",
      "                <ibisba:smiles>O=O</ibisba:smiles>\n",
      "                <ibisba:inchi>InChI=1S/O2/c1-2</ibisba:inchi>\n",
      "                <ibisba:inchikey>MYMOFIZGZYHOMD-UHFFFAOYSA-N</ibisba:inchikey>\n",
      "                <ibisba:ddG units=\"kj_per_mol\"/>\n",
      "                <ibisba:ddG_uncert units=\"kj_per_mol\"/>\n",
      "              </ibisba:ibisba>\n",
      "            </rdf:Ibisba>\n",
      "          </rdf:RDF>\n",
      "        </annotation>\n",
      "      </species>\n",
      "      <species metaid=\"_8abbc7f30aac6ab1c526b763e164dbc5\" id=\"MNXM1__64__cytoplasm\" name=\"MNXM1\" compartment=\"cytoplasm\" initialConcentration=\"1\" hasOnlySubstanceUnits=\"false\" boundaryCondition=\"false\" constant=\"false\" fbc:charge=\"0\">\n",
      "        <annotation>\n",
      "          <rdf:RDF xmlns:rdf=\"http://www.w3.org/1999/02/22-rdf-syntax-ns#\" xmlns:bqbiol=\"http://biomodels.net/biology-qualifiers/\" xmlns:bqmodel=\"http://biomodels.net/model-qualifiers/\">\n",
      "            <rdf:Description rdf:about=\"#_8abbc7f30aac6ab1c526b763e164dbc5\">\n",
      "              <bqbiol:is>\n",
      "                <rdf:Bag>\n",
      "                  <rdf:li rdf:resource=\"http://identifiers.org/bigg.metabolite/h\"/>\n",
      "                  <rdf:li rdf:resource=\"http://identifiers.org/bigg.metabolite/M_h\"/>\n",
      "                  <rdf:li rdf:resource=\"http://identifiers.org/metanetx.chemical/MNXM1\"/>\n",
      "                  <rdf:li rdf:resource=\"http://identifiers.org/metanetx.chemical/MNXM145872\"/>\n",
      "                  <rdf:li rdf:resource=\"http://identifiers.org/metanetx.chemical/MNXM89553\"/>\n",
      "                  <rdf:li rdf:resource=\"http://identifiers.org/chebi/CHEBI:15378\"/>\n",
      "                  <rdf:li rdf:resource=\"http://identifiers.org/chebi/CHEBI:10744\"/>\n",
      "                  <rdf:li rdf:resource=\"http://identifiers.org/chebi/CHEBI:13357\"/>\n",
      "                  <rdf:li rdf:resource=\"http://identifiers.org/chebi/CHEBI:5584\"/>\n",
      "                  <rdf:li rdf:resource=\"http://identifiers.org/hmdb/HMDB59597\"/>\n",
      "                  <rdf:li rdf:resource=\"http://identifiers.org/kegg.compound/C00080\"/>\n",
      "                  <rdf:li rdf:resource=\"http://identifiers.org/seed.compound/cpd00067\"/>\n",
      "                </rdf:Bag>\n",
      "              </bqbiol:is>\n",
      "            </rdf:Description>\n",
      "            <rdf:Ibisba rdf:about=\"#_8abbc7f30aac6ab1c526b763e164dbc5\">\n",
      "              <ibisba:ibisba xmlns:ibisba=\"http://ibisba.eu/qualifiers\">\n",
      "                <ibisba:smiles>[H+]</ibisba:smiles>\n",
      "                <ibisba:inchi>InChI=1S</ibisba:inchi>\n",
      "                <ibisba:inchikey/>\n",
      "                <ibisba:ddG units=\"kj_per_mol\"/>\n",
      "                <ibisba:ddG_uncert units=\"kj_per_mol\"/>\n",
      "              </ibisba:ibisba>\n",
      "            </rdf:Ibisba>\n",
      "          </rdf:RDF>\n",
      "        </annotation>\n",
      "      </species>\n",
      "    </listOfSpecies>\n",
      "    <listOfParameters>\n",
      "      <parameter metaid=\"bdc8f6b389997dd8c94563245322e89c\" sboTerm=\"SBO:0000625\" id=\"B_INF\" value=\"INF\" units=\"kj_per_mol\" constant=\"true\"/>\n",
      "      <parameter metaid=\"e62cee005b9f8a5fc80cf04d67a30de3\" sboTerm=\"SBO:0000625\" id=\"B__INF\" value=\"-INF\" units=\"kj_per_mol\" constant=\"true\"/>\n",
      "    </listOfParameters>\n",
      "  </model>\n",
      "</sbml>\n"
     ]
    }
   ],
   "source": [
    "print(libsbml.XMLNode.convertXMLNodeToString(inModel.toXMLNode()))"
   ]
  },
  {
   "cell_type": "code",
   "execution_count": 29,
   "metadata": {},
   "outputs": [
    {
     "name": "stdout",
     "output_type": "stream",
     "text": [
      "<sbml xmlns=\"http://www.sbml.org/sbml/level3/version1/core\" xmlns:groups=\"http://www.sbml.org/sbml/level3/version1/groups/version1\" xmlns:fbc=\"http://www.sbml.org/sbml/level3/version1/fbc/version2\" level=\"3\" version=\"1\" groups:required=\"false\" fbc:required=\"false\">\n",
      "  <model metaid=\"_81bcdb4f4f90440a19855f20c14ac474\" id=\"rp_model\" name=\"RetroPath_heterologous_pathway\" substanceUnits=\"mole\" timeUnits=\"second\" extentUnits=\"mole\">\n",
      "    <listOfUnitDefinitions>\n",
      "      <unitDefinition metaid=\"aebbce66773195cbd5d82838dda4f0ea\" id=\"mmol_per_gDW_per_hr\">\n",
      "        <listOfUnits>\n",
      "          <unit kind=\"mole\" exponent=\"1\" scale=\"-3\" multiplier=\"1\"/>\n",
      "          <unit kind=\"gram\" exponent=\"1\" scale=\"0\" multiplier=\"1\"/>\n",
      "          <unit kind=\"second\" exponent=\"1\" scale=\"0\" multiplier=\"3600\"/>\n",
      "        </listOfUnits>\n",
      "      </unitDefinition>\n",
      "      <unitDefinition metaid=\"_0346858f65275ff01aa2ac815127e134\" id=\"kj_per_mol\">\n",
      "        <listOfUnits>\n",
      "          <unit kind=\"joule\" exponent=\"1\" scale=\"3\" multiplier=\"1\"/>\n",
      "          <unit kind=\"mole\" exponent=\"1\" scale=\"1\" multiplier=\"1\"/>\n",
      "        </listOfUnits>\n",
      "      </unitDefinition>\n",
      "    </listOfUnitDefinitions>\n",
      "    <listOfCompartments>\n",
      "      <compartment metaid=\"bd93fc3ad12aa61c97ebe613673522d1\" sboTerm=\"SBO:0000290\" id=\"MNXC3\" name=\"cytoplasm\" size=\"1\" constant=\"true\">\n",
      "        <annotation>\n",
      "          <rdf:RDF xmlns:rdf=\"http://www.w3.org/1999/02/22-rdf-syntax-ns#\" xmlns:dcterms=\"http://purl.org/dc/terms/\" xmlns:vCard=\"http://www.w3.org/2001/vcard-rdf/3.0#\" xmlns:vCard4=\"http://www.w3.org/2006/vcard/ns#\" xmlns:bqbiol=\"http://biomodels.net/biology-qualifiers/\" xmlns:bqmodel=\"http://biomodels.net/model-qualifiers/\">\n",
      "            <rdf:Description rdf:about=\"#bd93fc3ad12aa61c97ebe613673522d1\">\n",
      "              <bqbiol:is>\n",
      "                <rdf:Bag>\n",
      "                  <rdf:li rdf:resource=\"http://identifiers.org/bigg.compartment/c\"/>\n",
      "                  <rdf:li rdf:resource=\"http://identifiers.org/bigg.compartment/C_c\"/>\n",
      "                  <rdf:li rdf:resource=\"http://identifiers.org/metanetx.compartment/MNXC3\"/>\n",
      "                </rdf:Bag>\n",
      "              </bqbiol:is>\n",
      "            </rdf:Description>\n",
      "          </rdf:RDF>\n",
      "        </annotation>\n",
      "      </compartment>\n",
      "    </listOfCompartments>\n",
      "    <listOfSpecies>\n",
      "      <species metaid=\"_1859957d8cfd9d066fc7c206e62e0943\" id=\"MNXM10__64__cytoplasm\" name=\"MNXM10\" compartment=\"cytoplasm\" initialConcentration=\"1\" hasOnlySubstanceUnits=\"false\" boundaryCondition=\"false\" constant=\"false\" fbc:charge=\"0\">\n",
      "        <annotation>\n",
      "          <rdf:RDF xmlns:rdf=\"http://www.w3.org/1999/02/22-rdf-syntax-ns#\" xmlns:bqbiol=\"http://biomodels.net/biology-qualifiers/\" xmlns:bqmodel=\"http://biomodels.net/model-qualifiers/\">\n",
      "            <rdf:Description rdf:about=\"#_1859957d8cfd9d066fc7c206e62e0943\">\n",
      "              <bqbiol:is>\n",
      "                <rdf:Bag>\n",
      "                  <rdf:li rdf:resource=\"http://identifiers.org/bigg.metabolite/nadh\"/>\n",
      "                  <rdf:li rdf:resource=\"http://identifiers.org/bigg.metabolite/M_nadh\"/>\n",
      "                  <rdf:li rdf:resource=\"http://identifiers.org/metanetx.chemical/MNXM10\"/>\n",
      "                  <rdf:li rdf:resource=\"http://identifiers.org/metanetx.chemical/MNXM89564\"/>\n",
      "                  <rdf:li rdf:resource=\"http://identifiers.org/chebi/CHEBI:16908\"/>\n",
      "                  <rdf:li rdf:resource=\"http://identifiers.org/chebi/CHEBI:13395\"/>\n",
      "                  <rdf:li rdf:resource=\"http://identifiers.org/chebi/CHEBI:13396\"/>\n",
      "                  <rdf:li rdf:resource=\"http://identifiers.org/chebi/CHEBI:21902\"/>\n",
      "                  <rdf:li rdf:resource=\"http://identifiers.org/chebi/CHEBI:44216\"/>\n",
      "                  <rdf:li rdf:resource=\"http://identifiers.org/chebi/CHEBI:7423\"/>\n",
      "                  <rdf:li rdf:resource=\"http://identifiers.org/chebi/CHEBI:57945\"/>\n",
      "                  <rdf:li rdf:resource=\"http://identifiers.org/hmdb/HMDB01487\"/>\n",
      "                  <rdf:li rdf:resource=\"http://identifiers.org/kegg.compound/C00004\"/>\n",
      "                  <rdf:li rdf:resource=\"http://identifiers.org/seed.compound/cpd00004\"/>\n",
      "                </rdf:Bag>\n",
      "              </bqbiol:is>\n",
      "            </rdf:Description>\n",
      "            <rdf:Ibisba rdf:about=\"#_1859957d8cfd9d066fc7c206e62e0943\">\n",
      "              <ibisba:ibisba xmlns:ibisba=\"http://ibisba.eu/qualifiers\">\n",
      "                <ibisba:smiles>[H]N=C(O[H])C1=C([H])N(C2([H])OC([H])(C([H])([H])OP(=O)(O[H])OP(=O)(O[H])OC([H])([H])C3([H])OC([H])(n4c([H])nc5c(N([H])[H])nc([H])nc54)C([H])(O[H])C3([H])O[H])C([H])(O[H])C2([H])O[H])C([H])=C([H])C1([H])[H]</ibisba:smiles>\n",
      "                <ibisba:inchi>InChI=1S/C21H29N7O14P2/c22-17-12-19(25-7-24-17)28(8-26-12)21-16(32)14(30)11(41-21)6-39-44(36,37)42-43(34,35)38-5-10-13(29)15(31)20(40-10)27-3-1-2-9(4-27)18(23)33/h1,3-4,7-8,10-11,13-16,20-21,29-32H,2,5-6H2,(H2,23,33)(H,34,35)(H,36,37)(H2,22,24,25)/p-2/t10-,11-,13-,14-,15-,16-,20-,21-/m1/s1</ibisba:inchi>\n",
      "                <ibisba:inchikey>BOPGDPNILDQYTO-NNYOXOHSSA-L</ibisba:inchikey>\n",
      "                <ibisba:ddG units=\"kj_per_mol\"/>\n",
      "                <ibisba:ddG_uncert units=\"kj_per_mol\"/>\n",
      "              </ibisba:ibisba>\n",
      "            </rdf:Ibisba>\n",
      "          </rdf:RDF>\n",
      "        </annotation>\n",
      "      </species>\n",
      "      <species metaid=\"_48b1dfa1573700cb13b0df76e76d96a9\" id=\"CMPD_0000000003__64__cytoplasm\" name=\"CMPD_0000000003\" compartment=\"cytoplasm\" initialConcentration=\"1\" hasOnlySubstanceUnits=\"false\" boundaryCondition=\"false\" constant=\"false\" fbc:charge=\"0\">\n",
      "        <annotation>\n",
      "          <rdf:RDF xmlns:rdf=\"http://www.w3.org/1999/02/22-rdf-syntax-ns#\" xmlns:bqbiol=\"http://biomodels.net/biology-qualifiers/\" xmlns:bqmodel=\"http://biomodels.net/model-qualifiers/\">\n",
      "            <rdf:Description rdf:about=\"#_48b1dfa1573700cb13b0df76e76d96a9\">\n",
      "              <bqbiol:is>\n",
      "                <rdf:Bag/>\n",
      "              </bqbiol:is>\n",
      "            </rdf:Description>\n",
      "            <rdf:Ibisba rdf:about=\"#_48b1dfa1573700cb13b0df76e76d96a9\">\n",
      "              <ibisba:ibisba xmlns:ibisba=\"http://ibisba.eu/qualifiers\">\n",
      "                <ibisba:smiles>[H]Oc1c([H])c([H])c([H])c([H])c1O[H]</ibisba:smiles>\n",
      "                <ibisba:inchi/>\n",
      "                <ibisba:inchikey/>\n",
      "                <ibisba:ddG units=\"kj_per_mol\"/>\n",
      "                <ibisba:ddG_uncert units=\"kj_per_mol\"/>\n",
      "              </ibisba:ibisba>\n",
      "            </rdf:Ibisba>\n",
      "          </rdf:RDF>\n",
      "        </annotation>\n",
      "      </species>\n",
      "      <species metaid=\"_76aec9c4390657d33b71dbc0bef4908b\" id=\"TARGET_0000000001__64__cytoplasm\" name=\"TARGET_0000000001\" compartment=\"cytoplasm\" initialConcentration=\"1\" hasOnlySubstanceUnits=\"false\" boundaryCondition=\"false\" constant=\"false\" fbc:charge=\"0\">\n",
      "        <annotation>\n",
      "          <rdf:RDF xmlns:rdf=\"http://www.w3.org/1999/02/22-rdf-syntax-ns#\" xmlns:bqbiol=\"http://biomodels.net/biology-qualifiers/\" xmlns:bqmodel=\"http://biomodels.net/model-qualifiers/\">\n",
      "            <rdf:Description rdf:about=\"#_76aec9c4390657d33b71dbc0bef4908b\">\n",
      "              <bqbiol:is>\n",
      "                <rdf:Bag/>\n",
      "              </bqbiol:is>\n",
      "            </rdf:Description>\n",
      "            <rdf:Ibisba rdf:about=\"#_76aec9c4390657d33b71dbc0bef4908b\">\n",
      "              <ibisba:ibisba xmlns:ibisba=\"http://ibisba.eu/qualifiers\">\n",
      "                <ibisba:smiles>[H]OC(=O)C([H])=C([H])C([H])=C([H])C(=O)O[H]</ibisba:smiles>\n",
      "                <ibisba:inchi>InChI=1S/C6H6O4/c7-5(8)3-1-2-4-6(9)10/h1-4H,(H,7,8)(H,9,10)</ibisba:inchi>\n",
      "                <ibisba:inchikey>TXXHDPDFNKHHGW-UHFFFAOYSA-N</ibisba:inchikey>\n",
      "                <ibisba:ddG units=\"kj_per_mol\"/>\n",
      "                <ibisba:ddG_uncert units=\"kj_per_mol\"/>\n",
      "              </ibisba:ibisba>\n",
      "            </rdf:Ibisba>\n",
      "          </rdf:RDF>\n",
      "        </annotation>\n",
      "      </species>\n",
      "      <species metaid=\"_8c06ad0cf5bcb6c8f92773f1afb7118f\" id=\"MNXM15__64__cytoplasm\" name=\"MNXM15\" compartment=\"cytoplasm\" initialConcentration=\"1\" hasOnlySubstanceUnits=\"false\" boundaryCondition=\"false\" constant=\"false\" fbc:charge=\"0\">\n",
      "        <annotation>\n",
      "          <rdf:RDF xmlns:rdf=\"http://www.w3.org/1999/02/22-rdf-syntax-ns#\" xmlns:bqbiol=\"http://biomodels.net/biology-qualifiers/\" xmlns:bqmodel=\"http://biomodels.net/model-qualifiers/\">\n",
      "            <rdf:Description rdf:about=\"#_8c06ad0cf5bcb6c8f92773f1afb7118f\">\n",
      "              <bqbiol:is>\n",
      "                <rdf:Bag>\n",
      "                  <rdf:li rdf:resource=\"http://identifiers.org/bigg.metabolite/nh3\"/>\n",
      "                  <rdf:li rdf:resource=\"http://identifiers.org/bigg.metabolite/M_nh3\"/>\n",
      "                  <rdf:li rdf:resource=\"http://identifiers.org/bigg.metabolite/nh4\"/>\n",
      "                  <rdf:li rdf:resource=\"http://identifiers.org/bigg.metabolite/M_nh4\"/>\n",
      "                  <rdf:li rdf:resource=\"http://identifiers.org/metanetx.chemical/MNXM15\"/>\n",
      "                  <rdf:li rdf:resource=\"http://identifiers.org/metanetx.chemical/MNXM84\"/>\n",
      "                  <rdf:li rdf:resource=\"http://identifiers.org/metanetx.chemical/MNXM89589\"/>\n",
      "                  <rdf:li rdf:resource=\"http://identifiers.org/metanetx.chemical/MNXM89593\"/>\n",
      "                  <rdf:li rdf:resource=\"http://identifiers.org/chebi/CHEBI:16134\"/>\n",
      "                  <rdf:li rdf:resource=\"http://identifiers.org/chebi/CHEBI:13405\"/>\n",
      "                  <rdf:li rdf:resource=\"http://identifiers.org/chebi/CHEBI:13406\"/>\n",
      "                  <rdf:li rdf:resource=\"http://identifiers.org/chebi/CHEBI:13407\"/>\n",
      "                  <rdf:li rdf:resource=\"http://identifiers.org/chebi/CHEBI:13771\"/>\n",
      "                  <rdf:li rdf:resource=\"http://identifiers.org/chebi/CHEBI:22533\"/>\n",
      "                  <rdf:li rdf:resource=\"http://identifiers.org/chebi/CHEBI:44269\"/>\n",
      "                  <rdf:li rdf:resource=\"http://identifiers.org/chebi/CHEBI:44284\"/>\n",
      "                  <rdf:li rdf:resource=\"http://identifiers.org/chebi/CHEBI:44404\"/>\n",
      "                  <rdf:li rdf:resource=\"http://identifiers.org/chebi/CHEBI:7434\"/>\n",
      "                  <rdf:li rdf:resource=\"http://identifiers.org/chebi/CHEBI:28938\"/>\n",
      "                  <rdf:li rdf:resource=\"http://identifiers.org/chebi/CHEBI:22534\"/>\n",
      "                  <rdf:li rdf:resource=\"http://identifiers.org/chebi/CHEBI:49783\"/>\n",
      "                  <rdf:li rdf:resource=\"http://identifiers.org/chebi/CHEBI:7435\"/>\n",
      "                  <rdf:li rdf:resource=\"http://identifiers.org/chebi/CHEBI:29337\"/>\n",
      "                  <rdf:li rdf:resource=\"http://identifiers.org/chebi/CHEBI:29340\"/>\n",
      "                  <rdf:li rdf:resource=\"http://identifiers.org/hmdb/HMDB00051\"/>\n",
      "                  <rdf:li rdf:resource=\"http://identifiers.org/hmdb/HMDB41827\"/>\n",
      "                  <rdf:li rdf:resource=\"http://identifiers.org/kegg.compound/C00014\"/>\n",
      "                  <rdf:li rdf:resource=\"http://identifiers.org/kegg.compound/D02916\"/>\n",
      "                  <rdf:li rdf:resource=\"http://identifiers.org/kegg.compound/C01342\"/>\n",
      "                  <rdf:li rdf:resource=\"http://identifiers.org/seed.compound/cpd00013\"/>\n",
      "                  <rdf:li rdf:resource=\"http://identifiers.org/seed.compound/cpd19013\"/>\n",
      "                </rdf:Bag>\n",
      "              </bqbiol:is>\n",
      "            </rdf:Description>\n",
      "            <rdf:Ibisba rdf:about=\"#_8c06ad0cf5bcb6c8f92773f1afb7118f\">\n",
      "              <ibisba:ibisba xmlns:ibisba=\"http://ibisba.eu/qualifiers\">\n",
      "                <ibisba:smiles>[H]N([H])[H]</ibisba:smiles>\n",
      "                <ibisba:inchi>InChI=1S/H3N/h1H3/p+1</ibisba:inchi>\n",
      "                <ibisba:inchikey>QGZKDVFQNNGYKY-UHFFFAOYSA-O</ibisba:inchikey>\n",
      "                <ibisba:ddG units=\"kj_per_mol\"/>\n",
      "                <ibisba:ddG_uncert units=\"kj_per_mol\"/>\n",
      "              </ibisba:ibisba>\n",
      "            </rdf:Ibisba>\n",
      "          </rdf:RDF>\n",
      "        </annotation>\n",
      "      </species>\n",
      "      <species metaid=\"_9e590de202b6a3a9b1c3566cafda86d0\" id=\"MNXM13__64__cytoplasm\" name=\"MNXM13\" compartment=\"cytoplasm\" initialConcentration=\"1\" hasOnlySubstanceUnits=\"false\" boundaryCondition=\"false\" constant=\"false\" fbc:charge=\"0\">\n",
      "        <annotation>\n",
      "          <rdf:RDF xmlns:rdf=\"http://www.w3.org/1999/02/22-rdf-syntax-ns#\" xmlns:bqbiol=\"http://biomodels.net/biology-qualifiers/\" xmlns:bqmodel=\"http://biomodels.net/model-qualifiers/\">\n",
      "            <rdf:Description rdf:about=\"#_9e590de202b6a3a9b1c3566cafda86d0\">\n",
      "              <bqbiol:is>\n",
      "                <rdf:Bag>\n",
      "                  <rdf:li rdf:resource=\"http://identifiers.org/bigg.metabolite/co2\"/>\n",
      "                  <rdf:li rdf:resource=\"http://identifiers.org/bigg.metabolite/M_co2\"/>\n",
      "                  <rdf:li rdf:resource=\"http://identifiers.org/metanetx.chemical/MNXM13\"/>\n",
      "                  <rdf:li rdf:resource=\"http://identifiers.org/metanetx.chemical/MNXM89563\"/>\n",
      "                  <rdf:li rdf:resource=\"http://identifiers.org/chebi/CHEBI:16526\"/>\n",
      "                  <rdf:li rdf:resource=\"http://identifiers.org/chebi/CHEBI:13282\"/>\n",
      "                  <rdf:li rdf:resource=\"http://identifiers.org/chebi/CHEBI:13283\"/>\n",
      "                  <rdf:li rdf:resource=\"http://identifiers.org/chebi/CHEBI:13284\"/>\n",
      "                  <rdf:li rdf:resource=\"http://identifiers.org/chebi/CHEBI:13285\"/>\n",
      "                  <rdf:li rdf:resource=\"http://identifiers.org/chebi/CHEBI:23011\"/>\n",
      "                  <rdf:li rdf:resource=\"http://identifiers.org/chebi/CHEBI:3283\"/>\n",
      "                  <rdf:li rdf:resource=\"http://identifiers.org/chebi/CHEBI:48829\"/>\n",
      "                  <rdf:li rdf:resource=\"http://identifiers.org/hmdb/HMDB01967\"/>\n",
      "                  <rdf:li rdf:resource=\"http://identifiers.org/kegg.compound/C00011\"/>\n",
      "                  <rdf:li rdf:resource=\"http://identifiers.org/kegg.compound/D00004\"/>\n",
      "                  <rdf:li rdf:resource=\"http://identifiers.org/seed.compound/cpd00011\"/>\n",
      "                </rdf:Bag>\n",
      "              </bqbiol:is>\n",
      "            </rdf:Description>\n",
      "            <rdf:Ibisba rdf:about=\"#_9e590de202b6a3a9b1c3566cafda86d0\">\n",
      "              <ibisba:ibisba xmlns:ibisba=\"http://ibisba.eu/qualifiers\">\n",
      "                <ibisba:smiles>O=C=O</ibisba:smiles>\n",
      "                <ibisba:inchi>InChI=1S/CO2/c2-1-3</ibisba:inchi>\n",
      "                <ibisba:inchikey>CURLTUGMZLYLDI-UHFFFAOYSA-N</ibisba:inchikey>\n",
      "                <ibisba:ddG units=\"kj_per_mol\"/>\n",
      "                <ibisba:ddG_uncert units=\"kj_per_mol\"/>\n",
      "              </ibisba:ibisba>\n",
      "            </rdf:Ibisba>\n",
      "          </rdf:RDF>\n",
      "        </annotation>\n",
      "      </species>\n",
      "      <species metaid=\"_8abbc7f30aac6ab1c526b763e164dbc5\" id=\"MNXM1__64__cytoplasm\" name=\"MNXM1\" compartment=\"cytoplasm\" initialConcentration=\"1\" hasOnlySubstanceUnits=\"false\" boundaryCondition=\"false\" constant=\"false\" fbc:charge=\"0\">\n",
      "        <annotation>\n",
      "          <rdf:RDF xmlns:rdf=\"http://www.w3.org/1999/02/22-rdf-syntax-ns#\" xmlns:bqbiol=\"http://biomodels.net/biology-qualifiers/\" xmlns:bqmodel=\"http://biomodels.net/model-qualifiers/\">\n",
      "            <rdf:Description rdf:about=\"#_8abbc7f30aac6ab1c526b763e164dbc5\">\n",
      "              <bqbiol:is>\n",
      "                <rdf:Bag>\n",
      "                  <rdf:li rdf:resource=\"http://identifiers.org/bigg.metabolite/h\"/>\n",
      "                  <rdf:li rdf:resource=\"http://identifiers.org/bigg.metabolite/M_h\"/>\n",
      "                  <rdf:li rdf:resource=\"http://identifiers.org/metanetx.chemical/MNXM1\"/>\n",
      "                  <rdf:li rdf:resource=\"http://identifiers.org/metanetx.chemical/MNXM145872\"/>\n",
      "                  <rdf:li rdf:resource=\"http://identifiers.org/metanetx.chemical/MNXM89553\"/>\n",
      "                  <rdf:li rdf:resource=\"http://identifiers.org/chebi/CHEBI:15378\"/>\n",
      "                  <rdf:li rdf:resource=\"http://identifiers.org/chebi/CHEBI:10744\"/>\n",
      "                  <rdf:li rdf:resource=\"http://identifiers.org/chebi/CHEBI:13357\"/>\n",
      "                  <rdf:li rdf:resource=\"http://identifiers.org/chebi/CHEBI:5584\"/>\n",
      "                  <rdf:li rdf:resource=\"http://identifiers.org/hmdb/HMDB59597\"/>\n",
      "                  <rdf:li rdf:resource=\"http://identifiers.org/kegg.compound/C00080\"/>\n",
      "                  <rdf:li rdf:resource=\"http://identifiers.org/seed.compound/cpd00067\"/>\n",
      "                </rdf:Bag>\n",
      "              </bqbiol:is>\n",
      "            </rdf:Description>\n",
      "            <rdf:Ibisba rdf:about=\"#_8abbc7f30aac6ab1c526b763e164dbc5\">\n",
      "              <ibisba:ibisba xmlns:ibisba=\"http://ibisba.eu/qualifiers\">\n",
      "                <ibisba:smiles>[H+]</ibisba:smiles>\n",
      "                <ibisba:inchi>InChI=1S</ibisba:inchi>\n",
      "                <ibisba:inchikey/>\n",
      "                <ibisba:ddG units=\"kj_per_mol\"/>\n",
      "                <ibisba:ddG_uncert units=\"kj_per_mol\"/>\n",
      "              </ibisba:ibisba>\n",
      "            </rdf:Ibisba>\n",
      "          </rdf:RDF>\n",
      "        </annotation>\n",
      "      </species>\n",
      "      <species metaid=\"_4354ed2227b0469132f44f938fb566fc\" id=\"MNXM8__64__cytoplasm\" name=\"MNXM8\" compartment=\"cytoplasm\" initialConcentration=\"1\" hasOnlySubstanceUnits=\"false\" boundaryCondition=\"false\" constant=\"false\" fbc:charge=\"0\">\n",
      "        <annotation>\n",
      "          <rdf:RDF xmlns:rdf=\"http://www.w3.org/1999/02/22-rdf-syntax-ns#\" xmlns:bqbiol=\"http://biomodels.net/biology-qualifiers/\" xmlns:bqmodel=\"http://biomodels.net/model-qualifiers/\">\n",
      "            <rdf:Description rdf:about=\"#_4354ed2227b0469132f44f938fb566fc\">\n",
      "              <bqbiol:is>\n",
      "                <rdf:Bag>\n",
      "                  <rdf:li rdf:resource=\"http://identifiers.org/bigg.metabolite/nad\"/>\n",
      "                  <rdf:li rdf:resource=\"http://identifiers.org/bigg.metabolite/M_nad\"/>\n",
      "                  <rdf:li rdf:resource=\"http://identifiers.org/metanetx.chemical/MNXM8\"/>\n",
      "                  <rdf:li rdf:resource=\"http://identifiers.org/metanetx.chemical/MNXM588016\"/>\n",
      "                  <rdf:li rdf:resource=\"http://identifiers.org/metanetx.chemical/MNXM96411\"/>\n",
      "                  <rdf:li rdf:resource=\"http://identifiers.org/chebi/CHEBI:15846\"/>\n",
      "                  <rdf:li rdf:resource=\"http://identifiers.org/chebi/CHEBI:13394\"/>\n",
      "                  <rdf:li rdf:resource=\"http://identifiers.org/chebi/CHEBI:21901\"/>\n",
      "                  <rdf:li rdf:resource=\"http://identifiers.org/chebi/CHEBI:29867\"/>\n",
      "                  <rdf:li rdf:resource=\"http://identifiers.org/chebi/CHEBI:7422\"/>\n",
      "                  <rdf:li rdf:resource=\"http://identifiers.org/chebi/CHEBI:44215\"/>\n",
      "                  <rdf:li rdf:resource=\"http://identifiers.org/chebi/CHEBI:13393\"/>\n",
      "                  <rdf:li rdf:resource=\"http://identifiers.org/chebi/CHEBI:44214\"/>\n",
      "                  <rdf:li rdf:resource=\"http://identifiers.org/chebi/CHEBI:44281\"/>\n",
      "                  <rdf:li rdf:resource=\"http://identifiers.org/chebi/CHEBI:57540\"/>\n",
      "                  <rdf:li rdf:resource=\"http://identifiers.org/hmdb/HMDB00902\"/>\n",
      "                  <rdf:li rdf:resource=\"http://identifiers.org/kegg.compound/C00003\"/>\n",
      "                  <rdf:li rdf:resource=\"http://identifiers.org/kegg.compound/D00002\"/>\n",
      "                  <rdf:li rdf:resource=\"http://identifiers.org/seed.compound/cpd00003\"/>\n",
      "                </rdf:Bag>\n",
      "              </bqbiol:is>\n",
      "            </rdf:Description>\n",
      "            <rdf:Ibisba rdf:about=\"#_4354ed2227b0469132f44f938fb566fc\">\n",
      "              <ibisba:ibisba xmlns:ibisba=\"http://ibisba.eu/qualifiers\">\n",
      "                <ibisba:smiles>NC(=O)c1ccc[n+](c1)[C@@H]1O[C@H](COP([O-])(=O)OP([O-])(=O)OC[C@H]2O[C@H]([C@H](O)[C@@H]2O)n2cnc3c(N)ncnc23)[C@@H](O)[C@H]1O</ibisba:smiles>\n",
      "                <ibisba:inchi>InChI=1S/C21H27N7O14P2/c22-17-12-19(25-7-24-17)28(8-26-12)21-16(32)14(30)11(41-21)6-39-44(36,37)42-43(34,35)38-5-10-13(29)15(31)20(40-10)27-3-1-2-9(4-27)18(23)33/h1-4,7-8,10-11,13-16,20-21,29-32H,5-6H2,(H5-,22,23,24,25,33,34,35,36,37)/p-1/t10-,11-,13-,14-,15-,16-,20-,21-/m1/s1</ibisba:inchi>\n",
      "                <ibisba:inchikey>BAWFJGJZGIEFAR-NNYOXOHSSA-M</ibisba:inchikey>\n",
      "                <ibisba:ddG units=\"kj_per_mol\"/>\n",
      "                <ibisba:ddG_uncert units=\"kj_per_mol\"/>\n",
      "              </ibisba:ibisba>\n",
      "            </rdf:Ibisba>\n",
      "          </rdf:RDF>\n",
      "        </annotation>\n",
      "      </species>\n",
      "      <species metaid=\"ee08cafb5274b6989e332af7c06ce4f6\" id=\"MNXM4__64__cytoplasm\" name=\"MNXM4\" compartment=\"cytoplasm\" initialConcentration=\"1\" hasOnlySubstanceUnits=\"false\" boundaryCondition=\"false\" constant=\"false\" fbc:charge=\"0\">\n",
      "        <annotation>\n",
      "          <rdf:RDF xmlns:rdf=\"http://www.w3.org/1999/02/22-rdf-syntax-ns#\" xmlns:bqbiol=\"http://biomodels.net/biology-qualifiers/\" xmlns:bqmodel=\"http://biomodels.net/model-qualifiers/\">\n",
      "            <rdf:Description rdf:about=\"#ee08cafb5274b6989e332af7c06ce4f6\">\n",
      "              <bqbiol:is>\n",
      "                <rdf:Bag>\n",
      "                  <rdf:li rdf:resource=\"http://identifiers.org/bigg.metabolite/o2\"/>\n",
      "                  <rdf:li rdf:resource=\"http://identifiers.org/bigg.metabolite/M_o2\"/>\n",
      "                  <rdf:li rdf:resource=\"http://identifiers.org/metanetx.chemical/MNXM4\"/>\n",
      "                  <rdf:li rdf:resource=\"http://identifiers.org/metanetx.chemical/MNXM114217\"/>\n",
      "                  <rdf:li rdf:resource=\"http://identifiers.org/metanetx.chemical/MNXM89559\"/>\n",
      "                  <rdf:li rdf:resource=\"http://identifiers.org/metanetx.chemical/MNXM97007\"/>\n",
      "                  <rdf:li rdf:resource=\"http://identifiers.org/chebi/CHEBI:15379\"/>\n",
      "                  <rdf:li rdf:resource=\"http://identifiers.org/chebi/CHEBI:10745\"/>\n",
      "                  <rdf:li rdf:resource=\"http://identifiers.org/chebi/CHEBI:13416\"/>\n",
      "                  <rdf:li rdf:resource=\"http://identifiers.org/chebi/CHEBI:23833\"/>\n",
      "                  <rdf:li rdf:resource=\"http://identifiers.org/chebi/CHEBI:25366\"/>\n",
      "                  <rdf:li rdf:resource=\"http://identifiers.org/chebi/CHEBI:29097\"/>\n",
      "                  <rdf:li rdf:resource=\"http://identifiers.org/chebi/CHEBI:30491\"/>\n",
      "                  <rdf:li rdf:resource=\"http://identifiers.org/chebi/CHEBI:44742\"/>\n",
      "                  <rdf:li rdf:resource=\"http://identifiers.org/chebi/CHEBI:7860\"/>\n",
      "                  <rdf:li rdf:resource=\"http://identifiers.org/chebi/CHEBI:26689\"/>\n",
      "                  <rdf:li rdf:resource=\"http://identifiers.org/chebi/CHEBI:27140\"/>\n",
      "                  <rdf:li rdf:resource=\"http://identifiers.org/chebi/CHEBI:29793\"/>\n",
      "                  <rdf:li rdf:resource=\"http://identifiers.org/hmdb/HMDB01377\"/>\n",
      "                  <rdf:li rdf:resource=\"http://identifiers.org/kegg.compound/C00007\"/>\n",
      "                  <rdf:li rdf:resource=\"http://identifiers.org/kegg.compound/D00003\"/>\n",
      "                  <rdf:li rdf:resource=\"http://identifiers.org/seed.compound/cpd00007\"/>\n",
      "                </rdf:Bag>\n",
      "              </bqbiol:is>\n",
      "            </rdf:Description>\n",
      "            <rdf:Ibisba rdf:about=\"#ee08cafb5274b6989e332af7c06ce4f6\">\n",
      "              <ibisba:ibisba xmlns:ibisba=\"http://ibisba.eu/qualifiers\">\n",
      "                <ibisba:smiles>O=O</ibisba:smiles>\n",
      "                <ibisba:inchi>InChI=1S/O2/c1-2</ibisba:inchi>\n",
      "                <ibisba:inchikey>MYMOFIZGZYHOMD-UHFFFAOYSA-N</ibisba:inchikey>\n",
      "                <ibisba:ddG units=\"kj_per_mol\"/>\n",
      "                <ibisba:ddG_uncert units=\"kj_per_mol\"/>\n",
      "              </ibisba:ibisba>\n",
      "            </rdf:Ibisba>\n",
      "          </rdf:RDF>\n",
      "        </annotation>\n",
      "      </species>\n",
      "      <species metaid=\"b64ad79fa334c16e5dc682747457ab9c\" id=\"MNXM188__64__cytoplasm\" name=\"MNXM188\" compartment=\"cytoplasm\" initialConcentration=\"1\" hasOnlySubstanceUnits=\"false\" boundaryCondition=\"false\" constant=\"false\" fbc:charge=\"0\">\n",
      "        <annotation>\n",
      "          <rdf:RDF xmlns:rdf=\"http://www.w3.org/1999/02/22-rdf-syntax-ns#\" xmlns:bqbiol=\"http://biomodels.net/biology-qualifiers/\" xmlns:bqmodel=\"http://biomodels.net/model-qualifiers/\">\n",
      "            <rdf:Description rdf:about=\"#b64ad79fa334c16e5dc682747457ab9c\">\n",
      "              <bqbiol:is>\n",
      "                <rdf:Bag>\n",
      "                  <rdf:li rdf:resource=\"http://identifiers.org/bigg.metabolite/anth\"/>\n",
      "                  <rdf:li rdf:resource=\"http://identifiers.org/bigg.metabolite/M_anth\"/>\n",
      "                  <rdf:li rdf:resource=\"http://identifiers.org/metanetx.chemical/MNXM188\"/>\n",
      "                  <rdf:li rdf:resource=\"http://identifiers.org/chebi/CHEBI:16567\"/>\n",
      "                  <rdf:li rdf:resource=\"http://identifiers.org/chebi/CHEBI:13841\"/>\n",
      "                  <rdf:li rdf:resource=\"http://identifiers.org/chebi/CHEBI:22575\"/>\n",
      "                  <rdf:li rdf:resource=\"http://identifiers.org/chebi/CHEBI:30754\"/>\n",
      "                  <rdf:li rdf:resource=\"http://identifiers.org/chebi/CHEBI:22577\"/>\n",
      "                  <rdf:li rdf:resource=\"http://identifiers.org/chebi/CHEBI:22578\"/>\n",
      "                  <rdf:li rdf:resource=\"http://identifiers.org/chebi/CHEBI:2757\"/>\n",
      "                  <rdf:li rdf:resource=\"http://identifiers.org/chebi/CHEBI:40980\"/>\n",
      "                  <rdf:li rdf:resource=\"http://identifiers.org/hmdb/HMDB01123\"/>\n",
      "                  <rdf:li rdf:resource=\"http://identifiers.org/kegg.compound/C00108\"/>\n",
      "                  <rdf:li rdf:resource=\"http://identifiers.org/seed.compound/cpd00093\"/>\n",
      "                </rdf:Bag>\n",
      "              </bqbiol:is>\n",
      "            </rdf:Description>\n",
      "            <rdf:Ibisba rdf:about=\"#b64ad79fa334c16e5dc682747457ab9c\">\n",
      "              <ibisba:ibisba xmlns:ibisba=\"http://ibisba.eu/qualifiers\">\n",
      "                <ibisba:smiles>[H]OC(=O)c1c([H])c([H])c([H])c([H])c1N([H])[H]</ibisba:smiles>\n",
      "                <ibisba:inchi>InChI=1S/C7H7NO2/c8-6-4-2-1-3-5(6)7(9)10/h1-4H,8H2,(H,9,10)/p-1</ibisba:inchi>\n",
      "                <ibisba:inchikey>RWZYAGGXGHYGMB-UHFFFAOYSA-M</ibisba:inchikey>\n",
      "                <ibisba:ddG units=\"kj_per_mol\"/>\n",
      "                <ibisba:ddG_uncert units=\"kj_per_mol\"/>\n",
      "              </ibisba:ibisba>\n",
      "            </rdf:Ibisba>\n",
      "          </rdf:RDF>\n",
      "        </annotation>\n",
      "      </species>\n",
      "    </listOfSpecies>\n",
      "    <listOfParameters>\n",
      "      <parameter metaid=\"bdc8f6b389997dd8c94563245322e89c\" sboTerm=\"SBO:0000625\" id=\"B_INF\" value=\"INF\" units=\"kj_per_mol\" constant=\"true\"/>\n",
      "      <parameter metaid=\"e62cee005b9f8a5fc80cf04d67a30de3\" sboTerm=\"SBO:0000625\" id=\"B__INF\" value=\"-INF\" units=\"kj_per_mol\" constant=\"true\"/>\n",
      "    </listOfParameters>\n",
      "  </model>\n",
      "</sbml>\n"
     ]
    }
   ],
   "source": [
    "print(libsbml.XMLNode.convertXMLNodeToString(rpsbml.document.toXMLNode()))"
   ]
  },
  {
   "cell_type": "code",
   "execution_count": 16,
   "metadata": {},
   "outputs": [
    {
     "name": "stdout",
     "output_type": "stream",
     "text": [
      "<sbml xmlns=\"http://www.sbml.org/sbml/level3/version1/core\" xmlns:groups=\"http://www.sbml.org/sbml/level3/version1/groups/version1\" xmlns:fbc=\"http://www.sbml.org/sbml/level3/version1/fbc/version2\" level=\"3\" version=\"1\" groups:required=\"false\" fbc:required=\"false\">\n",
      "  <model metaid=\"_81bcdb4f4f90440a19855f20c14ac474\" id=\"rp_model\" name=\"RetroPath_heterologous_pathway\" substanceUnits=\"mole\" timeUnits=\"second\" extentUnits=\"mole\">\n",
      "    <listOfUnitDefinitions>\n",
      "      <unitDefinition metaid=\"aebbce66773195cbd5d82838dda4f0ea\" id=\"mmol_per_gDW_per_hr\">\n",
      "        <listOfUnits>\n",
      "          <unit kind=\"mole\" exponent=\"1\" scale=\"-3\" multiplier=\"1\"/>\n",
      "          <unit kind=\"gram\" exponent=\"1\" scale=\"0\" multiplier=\"1\"/>\n",
      "          <unit kind=\"second\" exponent=\"1\" scale=\"0\" multiplier=\"3600\"/>\n",
      "        </listOfUnits>\n",
      "      </unitDefinition>\n",
      "      <unitDefinition metaid=\"_0346858f65275ff01aa2ac815127e134\" id=\"kj_per_mol\">\n",
      "        <listOfUnits>\n",
      "          <unit kind=\"joule\" exponent=\"1\" scale=\"3\" multiplier=\"1\"/>\n",
      "          <unit kind=\"mole\" exponent=\"1\" scale=\"1\" multiplier=\"1\"/>\n",
      "        </listOfUnits>\n",
      "      </unitDefinition>\n",
      "    </listOfUnitDefinitions>\n",
      "    <listOfCompartments>\n",
      "      <compartment metaid=\"bd93fc3ad12aa61c97ebe613673522d1\" sboTerm=\"SBO:0000290\" id=\"MNXC3\" name=\"cytoplasm\" size=\"1\" constant=\"true\">\n",
      "        <annotation>\n",
      "          <rdf:RDF xmlns:rdf=\"http://www.w3.org/1999/02/22-rdf-syntax-ns#\" xmlns:dcterms=\"http://purl.org/dc/terms/\" xmlns:vCard=\"http://www.w3.org/2001/vcard-rdf/3.0#\" xmlns:vCard4=\"http://www.w3.org/2006/vcard/ns#\" xmlns:bqbiol=\"http://biomodels.net/biology-qualifiers/\" xmlns:bqmodel=\"http://biomodels.net/model-qualifiers/\">\n",
      "            <rdf:Description rdf:about=\"#bd93fc3ad12aa61c97ebe613673522d1\">\n",
      "              <bqbiol:is>\n",
      "                <rdf:Bag>\n",
      "                  <rdf:li rdf:resource=\"http://identifiers.org/bigg.compartment/c\"/>\n",
      "                  <rdf:li rdf:resource=\"http://identifiers.org/bigg.compartment/C_c\"/>\n",
      "                  <rdf:li rdf:resource=\"http://identifiers.org/metanetx.compartment/MNXC3\"/>\n",
      "                </rdf:Bag>\n",
      "              </bqbiol:is>\n",
      "            </rdf:Description>\n",
      "          </rdf:RDF>\n",
      "        </annotation>\n",
      "      </compartment>\n",
      "    </listOfCompartments>\n",
      "    <listOfSpecies>\n",
      "      <species metaid=\"b64ad79fa334c16e5dc682747457ab9c\" id=\"MNXM188__64__cytoplasm\" name=\"MNXM188\" compartment=\"cytoplasm\" initialConcentration=\"1\" hasOnlySubstanceUnits=\"false\" boundaryCondition=\"false\" constant=\"false\" fbc:charge=\"0\">\n",
      "        <annotation>\n",
      "          <rdf:RDF xmlns:rdf=\"http://www.w3.org/1999/02/22-rdf-syntax-ns#\" xmlns:bqbiol=\"http://biomodels.net/biology-qualifiers/\" xmlns:bqmodel=\"http://biomodels.net/model-qualifiers/\">\n",
      "            <rdf:Description rdf:about=\"#b64ad79fa334c16e5dc682747457ab9c\">\n",
      "              <bqbiol:is>\n",
      "                <rdf:Bag>\n",
      "                  <rdf:li rdf:resource=\"http://identifiers.org/bigg.metabolite/anth\"/>\n",
      "                  <rdf:li rdf:resource=\"http://identifiers.org/bigg.metabolite/M_anth\"/>\n",
      "                  <rdf:li rdf:resource=\"http://identifiers.org/metanetx.chemical/MNXM188\"/>\n",
      "                  <rdf:li rdf:resource=\"http://identifiers.org/chebi/CHEBI:16567\"/>\n",
      "                  <rdf:li rdf:resource=\"http://identifiers.org/chebi/CHEBI:13841\"/>\n",
      "                  <rdf:li rdf:resource=\"http://identifiers.org/chebi/CHEBI:22575\"/>\n",
      "                  <rdf:li rdf:resource=\"http://identifiers.org/chebi/CHEBI:30754\"/>\n",
      "                  <rdf:li rdf:resource=\"http://identifiers.org/chebi/CHEBI:22577\"/>\n",
      "                  <rdf:li rdf:resource=\"http://identifiers.org/chebi/CHEBI:22578\"/>\n",
      "                  <rdf:li rdf:resource=\"http://identifiers.org/chebi/CHEBI:2757\"/>\n",
      "                  <rdf:li rdf:resource=\"http://identifiers.org/chebi/CHEBI:40980\"/>\n",
      "                  <rdf:li rdf:resource=\"http://identifiers.org/hmdb/HMDB01123\"/>\n",
      "                  <rdf:li rdf:resource=\"http://identifiers.org/kegg.compound/C00108\"/>\n",
      "                  <rdf:li rdf:resource=\"http://identifiers.org/seed.compound/cpd00093\"/>\n",
      "                </rdf:Bag>\n",
      "              </bqbiol:is>\n",
      "            </rdf:Description>\n",
      "            <rdf:Ibisba rdf:about=\"#b64ad79fa334c16e5dc682747457ab9c\">\n",
      "              <ibisba:ibisba xmlns:ibisba=\"http://ibisba.eu/qualifiers\">\n",
      "                <ibisba:smiles>[H]OC(=O)c1c([H])c([H])c([H])c([H])c1N([H])[H]</ibisba:smiles>\n",
      "                <ibisba:inchi>InChI=1S/C7H7NO2/c8-6-4-2-1-3-5(6)7(9)10/h1-4H,8H2,(H,9,10)/p-1</ibisba:inchi>\n",
      "                <ibisba:inchikey>RWZYAGGXGHYGMB-UHFFFAOYSA-M</ibisba:inchikey>\n",
      "                <ibisba:ddG units=\"kj_per_mol\"/>\n",
      "                <ibisba:ddG_uncert units=\"kj_per_mol\"/>\n",
      "              </ibisba:ibisba>\n",
      "            </rdf:Ibisba>\n",
      "          </rdf:RDF>\n",
      "        </annotation>\n",
      "      </species>\n",
      "      <species metaid=\"_4354ed2227b0469132f44f938fb566fc\" id=\"MNXM8__64__cytoplasm\" name=\"MNXM8\" compartment=\"cytoplasm\" initialConcentration=\"1\" hasOnlySubstanceUnits=\"false\" boundaryCondition=\"false\" constant=\"false\" fbc:charge=\"0\">\n",
      "        <annotation>\n",
      "          <rdf:RDF xmlns:rdf=\"http://www.w3.org/1999/02/22-rdf-syntax-ns#\" xmlns:bqbiol=\"http://biomodels.net/biology-qualifiers/\" xmlns:bqmodel=\"http://biomodels.net/model-qualifiers/\">\n",
      "            <rdf:Description rdf:about=\"#_4354ed2227b0469132f44f938fb566fc\">\n",
      "              <bqbiol:is>\n",
      "                <rdf:Bag>\n",
      "                  <rdf:li rdf:resource=\"http://identifiers.org/bigg.metabolite/nad\"/>\n",
      "                  <rdf:li rdf:resource=\"http://identifiers.org/bigg.metabolite/M_nad\"/>\n",
      "                  <rdf:li rdf:resource=\"http://identifiers.org/metanetx.chemical/MNXM8\"/>\n",
      "                  <rdf:li rdf:resource=\"http://identifiers.org/metanetx.chemical/MNXM588016\"/>\n",
      "                  <rdf:li rdf:resource=\"http://identifiers.org/metanetx.chemical/MNXM96411\"/>\n",
      "                  <rdf:li rdf:resource=\"http://identifiers.org/chebi/CHEBI:15846\"/>\n",
      "                  <rdf:li rdf:resource=\"http://identifiers.org/chebi/CHEBI:13394\"/>\n",
      "                  <rdf:li rdf:resource=\"http://identifiers.org/chebi/CHEBI:21901\"/>\n",
      "                  <rdf:li rdf:resource=\"http://identifiers.org/chebi/CHEBI:29867\"/>\n",
      "                  <rdf:li rdf:resource=\"http://identifiers.org/chebi/CHEBI:7422\"/>\n",
      "                  <rdf:li rdf:resource=\"http://identifiers.org/chebi/CHEBI:44215\"/>\n",
      "                  <rdf:li rdf:resource=\"http://identifiers.org/chebi/CHEBI:13393\"/>\n",
      "                  <rdf:li rdf:resource=\"http://identifiers.org/chebi/CHEBI:44214\"/>\n",
      "                  <rdf:li rdf:resource=\"http://identifiers.org/chebi/CHEBI:44281\"/>\n",
      "                  <rdf:li rdf:resource=\"http://identifiers.org/chebi/CHEBI:57540\"/>\n",
      "                  <rdf:li rdf:resource=\"http://identifiers.org/hmdb/HMDB00902\"/>\n",
      "                  <rdf:li rdf:resource=\"http://identifiers.org/kegg.compound/C00003\"/>\n",
      "                  <rdf:li rdf:resource=\"http://identifiers.org/kegg.compound/D00002\"/>\n",
      "                  <rdf:li rdf:resource=\"http://identifiers.org/seed.compound/cpd00003\"/>\n",
      "                </rdf:Bag>\n",
      "              </bqbiol:is>\n",
      "            </rdf:Description>\n",
      "            <rdf:Ibisba rdf:about=\"#_4354ed2227b0469132f44f938fb566fc\">\n",
      "              <ibisba:ibisba xmlns:ibisba=\"http://ibisba.eu/qualifiers\">\n",
      "                <ibisba:smiles>NC(=O)c1ccc[n+](c1)[C@@H]1O[C@H](COP([O-])(=O)OP([O-])(=O)OC[C@H]2O[C@H]([C@H](O)[C@@H]2O)n2cnc3c(N)ncnc23)[C@@H](O)[C@H]1O</ibisba:smiles>\n",
      "                <ibisba:inchi>InChI=1S/C21H27N7O14P2/c22-17-12-19(25-7-24-17)28(8-26-12)21-16(32)14(30)11(41-21)6-39-44(36,37)42-43(34,35)38-5-10-13(29)15(31)20(40-10)27-3-1-2-9(4-27)18(23)33/h1-4,7-8,10-11,13-16,20-21,29-32H,5-6H2,(H5-,22,23,24,25,33,34,35,36,37)/p-1/t10-,11-,13-,14-,15-,16-,20-,21-/m1/s1</ibisba:inchi>\n",
      "                <ibisba:inchikey>BAWFJGJZGIEFAR-NNYOXOHSSA-M</ibisba:inchikey>\n",
      "                <ibisba:ddG units=\"kj_per_mol\"/>\n",
      "                <ibisba:ddG_uncert units=\"kj_per_mol\"/>\n",
      "              </ibisba:ibisba>\n",
      "            </rdf:Ibisba>\n",
      "          </rdf:RDF>\n",
      "        </annotation>\n",
      "      </species>\n",
      "      <species metaid=\"_9e590de202b6a3a9b1c3566cafda86d0\" id=\"MNXM13__64__cytoplasm\" name=\"MNXM13\" compartment=\"cytoplasm\" initialConcentration=\"1\" hasOnlySubstanceUnits=\"false\" boundaryCondition=\"false\" constant=\"false\" fbc:charge=\"0\">\n",
      "        <annotation>\n",
      "          <rdf:RDF xmlns:rdf=\"http://www.w3.org/1999/02/22-rdf-syntax-ns#\" xmlns:bqbiol=\"http://biomodels.net/biology-qualifiers/\" xmlns:bqmodel=\"http://biomodels.net/model-qualifiers/\">\n",
      "            <rdf:Description rdf:about=\"#_9e590de202b6a3a9b1c3566cafda86d0\">\n",
      "              <bqbiol:is>\n",
      "                <rdf:Bag>\n",
      "                  <rdf:li rdf:resource=\"http://identifiers.org/bigg.metabolite/co2\"/>\n",
      "                  <rdf:li rdf:resource=\"http://identifiers.org/bigg.metabolite/M_co2\"/>\n",
      "                  <rdf:li rdf:resource=\"http://identifiers.org/metanetx.chemical/MNXM13\"/>\n",
      "                  <rdf:li rdf:resource=\"http://identifiers.org/metanetx.chemical/MNXM89563\"/>\n",
      "                  <rdf:li rdf:resource=\"http://identifiers.org/chebi/CHEBI:16526\"/>\n",
      "                  <rdf:li rdf:resource=\"http://identifiers.org/chebi/CHEBI:13282\"/>\n",
      "                  <rdf:li rdf:resource=\"http://identifiers.org/chebi/CHEBI:13283\"/>\n",
      "                  <rdf:li rdf:resource=\"http://identifiers.org/chebi/CHEBI:13284\"/>\n",
      "                  <rdf:li rdf:resource=\"http://identifiers.org/chebi/CHEBI:13285\"/>\n",
      "                  <rdf:li rdf:resource=\"http://identifiers.org/chebi/CHEBI:23011\"/>\n",
      "                  <rdf:li rdf:resource=\"http://identifiers.org/chebi/CHEBI:3283\"/>\n",
      "                  <rdf:li rdf:resource=\"http://identifiers.org/chebi/CHEBI:48829\"/>\n",
      "                  <rdf:li rdf:resource=\"http://identifiers.org/hmdb/HMDB01967\"/>\n",
      "                  <rdf:li rdf:resource=\"http://identifiers.org/kegg.compound/C00011\"/>\n",
      "                  <rdf:li rdf:resource=\"http://identifiers.org/kegg.compound/D00004\"/>\n",
      "                  <rdf:li rdf:resource=\"http://identifiers.org/seed.compound/cpd00011\"/>\n",
      "                </rdf:Bag>\n",
      "              </bqbiol:is>\n",
      "            </rdf:Description>\n",
      "            <rdf:Ibisba rdf:about=\"#_9e590de202b6a3a9b1c3566cafda86d0\">\n",
      "              <ibisba:ibisba xmlns:ibisba=\"http://ibisba.eu/qualifiers\">\n",
      "                <ibisba:smiles>O=C=O</ibisba:smiles>\n",
      "                <ibisba:inchi>InChI=1S/CO2/c2-1-3</ibisba:inchi>\n",
      "                <ibisba:inchikey>CURLTUGMZLYLDI-UHFFFAOYSA-N</ibisba:inchikey>\n",
      "                <ibisba:ddG units=\"kj_per_mol\"/>\n",
      "                <ibisba:ddG_uncert units=\"kj_per_mol\"/>\n",
      "              </ibisba:ibisba>\n",
      "            </rdf:Ibisba>\n",
      "          </rdf:RDF>\n",
      "        </annotation>\n",
      "      </species>\n",
      "      <species metaid=\"_76aec9c4390657d33b71dbc0bef4908b\" id=\"TARGET_0000000001__64__cytoplasm\" name=\"TARGET_0000000001\" compartment=\"cytoplasm\" initialConcentration=\"1\" hasOnlySubstanceUnits=\"false\" boundaryCondition=\"false\" constant=\"false\" fbc:charge=\"0\">\n",
      "        <annotation>\n",
      "          <rdf:RDF xmlns:rdf=\"http://www.w3.org/1999/02/22-rdf-syntax-ns#\" xmlns:bqbiol=\"http://biomodels.net/biology-qualifiers/\" xmlns:bqmodel=\"http://biomodels.net/model-qualifiers/\">\n",
      "            <rdf:Description rdf:about=\"#_76aec9c4390657d33b71dbc0bef4908b\">\n",
      "              <bqbiol:is>\n",
      "                <rdf:Bag/>\n",
      "              </bqbiol:is>\n",
      "            </rdf:Description>\n",
      "            <rdf:Ibisba rdf:about=\"#_76aec9c4390657d33b71dbc0bef4908b\">\n",
      "              <ibisba:ibisba xmlns:ibisba=\"http://ibisba.eu/qualifiers\">\n",
      "                <ibisba:smiles>[H]OC(=O)C([H])=C([H])C([H])=C([H])C(=O)O[H]</ibisba:smiles>\n",
      "                <ibisba:inchi>InChI=1S/C6H6O4/c7-5(8)3-1-2-4-6(9)10/h1-4H,(H,7,8)(H,9,10)</ibisba:inchi>\n",
      "                <ibisba:inchikey>TXXHDPDFNKHHGW-UHFFFAOYSA-N</ibisba:inchikey>\n",
      "                <ibisba:ddG units=\"kj_per_mol\"/>\n",
      "                <ibisba:ddG_uncert units=\"kj_per_mol\"/>\n",
      "              </ibisba:ibisba>\n",
      "            </rdf:Ibisba>\n",
      "          </rdf:RDF>\n",
      "        </annotation>\n",
      "      </species>\n",
      "      <species metaid=\"_48b1dfa1573700cb13b0df76e76d96a9\" id=\"CMPD_0000000003__64__cytoplasm\" name=\"CMPD_0000000003\" compartment=\"cytoplasm\" initialConcentration=\"1\" hasOnlySubstanceUnits=\"false\" boundaryCondition=\"false\" constant=\"false\" fbc:charge=\"0\">\n",
      "        <annotation>\n",
      "          <rdf:RDF xmlns:rdf=\"http://www.w3.org/1999/02/22-rdf-syntax-ns#\" xmlns:bqbiol=\"http://biomodels.net/biology-qualifiers/\" xmlns:bqmodel=\"http://biomodels.net/model-qualifiers/\">\n",
      "            <rdf:Description rdf:about=\"#_48b1dfa1573700cb13b0df76e76d96a9\">\n",
      "              <bqbiol:is>\n",
      "                <rdf:Bag/>\n",
      "              </bqbiol:is>\n",
      "            </rdf:Description>\n",
      "            <rdf:Ibisba rdf:about=\"#_48b1dfa1573700cb13b0df76e76d96a9\">\n",
      "              <ibisba:ibisba xmlns:ibisba=\"http://ibisba.eu/qualifiers\">\n",
      "                <ibisba:smiles>[H]Oc1c([H])c([H])c([H])c([H])c1O[H]</ibisba:smiles>\n",
      "                <ibisba:inchi/>\n",
      "                <ibisba:inchikey/>\n",
      "                <ibisba:ddG units=\"kj_per_mol\"/>\n",
      "                <ibisba:ddG_uncert units=\"kj_per_mol\"/>\n",
      "              </ibisba:ibisba>\n",
      "            </rdf:Ibisba>\n",
      "          </rdf:RDF>\n",
      "        </annotation>\n",
      "      </species>\n",
      "      <species metaid=\"_8c06ad0cf5bcb6c8f92773f1afb7118f\" id=\"MNXM15__64__cytoplasm\" name=\"MNXM15\" compartment=\"cytoplasm\" initialConcentration=\"1\" hasOnlySubstanceUnits=\"false\" boundaryCondition=\"false\" constant=\"false\" fbc:charge=\"0\">\n",
      "        <annotation>\n",
      "          <rdf:RDF xmlns:rdf=\"http://www.w3.org/1999/02/22-rdf-syntax-ns#\" xmlns:bqbiol=\"http://biomodels.net/biology-qualifiers/\" xmlns:bqmodel=\"http://biomodels.net/model-qualifiers/\">\n",
      "            <rdf:Description rdf:about=\"#_8c06ad0cf5bcb6c8f92773f1afb7118f\">\n",
      "              <bqbiol:is>\n",
      "                <rdf:Bag>\n",
      "                  <rdf:li rdf:resource=\"http://identifiers.org/bigg.metabolite/nh3\"/>\n",
      "                  <rdf:li rdf:resource=\"http://identifiers.org/bigg.metabolite/M_nh3\"/>\n",
      "                  <rdf:li rdf:resource=\"http://identifiers.org/bigg.metabolite/nh4\"/>\n",
      "                  <rdf:li rdf:resource=\"http://identifiers.org/bigg.metabolite/M_nh4\"/>\n",
      "                  <rdf:li rdf:resource=\"http://identifiers.org/metanetx.chemical/MNXM15\"/>\n",
      "                  <rdf:li rdf:resource=\"http://identifiers.org/metanetx.chemical/MNXM84\"/>\n",
      "                  <rdf:li rdf:resource=\"http://identifiers.org/metanetx.chemical/MNXM89589\"/>\n",
      "                  <rdf:li rdf:resource=\"http://identifiers.org/metanetx.chemical/MNXM89593\"/>\n",
      "                  <rdf:li rdf:resource=\"http://identifiers.org/chebi/CHEBI:16134\"/>\n",
      "                  <rdf:li rdf:resource=\"http://identifiers.org/chebi/CHEBI:13405\"/>\n",
      "                  <rdf:li rdf:resource=\"http://identifiers.org/chebi/CHEBI:13406\"/>\n",
      "                  <rdf:li rdf:resource=\"http://identifiers.org/chebi/CHEBI:13407\"/>\n",
      "                  <rdf:li rdf:resource=\"http://identifiers.org/chebi/CHEBI:13771\"/>\n",
      "                  <rdf:li rdf:resource=\"http://identifiers.org/chebi/CHEBI:22533\"/>\n",
      "                  <rdf:li rdf:resource=\"http://identifiers.org/chebi/CHEBI:44269\"/>\n",
      "                  <rdf:li rdf:resource=\"http://identifiers.org/chebi/CHEBI:44284\"/>\n",
      "                  <rdf:li rdf:resource=\"http://identifiers.org/chebi/CHEBI:44404\"/>\n",
      "                  <rdf:li rdf:resource=\"http://identifiers.org/chebi/CHEBI:7434\"/>\n",
      "                  <rdf:li rdf:resource=\"http://identifiers.org/chebi/CHEBI:28938\"/>\n",
      "                  <rdf:li rdf:resource=\"http://identifiers.org/chebi/CHEBI:22534\"/>\n",
      "                  <rdf:li rdf:resource=\"http://identifiers.org/chebi/CHEBI:49783\"/>\n",
      "                  <rdf:li rdf:resource=\"http://identifiers.org/chebi/CHEBI:7435\"/>\n",
      "                  <rdf:li rdf:resource=\"http://identifiers.org/chebi/CHEBI:29337\"/>\n",
      "                  <rdf:li rdf:resource=\"http://identifiers.org/chebi/CHEBI:29340\"/>\n",
      "                  <rdf:li rdf:resource=\"http://identifiers.org/hmdb/HMDB00051\"/>\n",
      "                  <rdf:li rdf:resource=\"http://identifiers.org/hmdb/HMDB41827\"/>\n",
      "                  <rdf:li rdf:resource=\"http://identifiers.org/kegg.compound/C00014\"/>\n",
      "                  <rdf:li rdf:resource=\"http://identifiers.org/kegg.compound/D02916\"/>\n",
      "                  <rdf:li rdf:resource=\"http://identifiers.org/kegg.compound/C01342\"/>\n",
      "                  <rdf:li rdf:resource=\"http://identifiers.org/seed.compound/cpd00013\"/>\n",
      "                  <rdf:li rdf:resource=\"http://identifiers.org/seed.compound/cpd19013\"/>\n",
      "                </rdf:Bag>\n",
      "              </bqbiol:is>\n",
      "            </rdf:Description>\n",
      "            <rdf:Ibisba rdf:about=\"#_8c06ad0cf5bcb6c8f92773f1afb7118f\">\n",
      "              <ibisba:ibisba xmlns:ibisba=\"http://ibisba.eu/qualifiers\">\n",
      "                <ibisba:smiles>[H]N([H])[H]</ibisba:smiles>\n",
      "                <ibisba:inchi>InChI=1S/H3N/h1H3/p+1</ibisba:inchi>\n",
      "                <ibisba:inchikey>QGZKDVFQNNGYKY-UHFFFAOYSA-O</ibisba:inchikey>\n",
      "                <ibisba:ddG units=\"kj_per_mol\"/>\n",
      "                <ibisba:ddG_uncert units=\"kj_per_mol\"/>\n",
      "              </ibisba:ibisba>\n",
      "            </rdf:Ibisba>\n",
      "          </rdf:RDF>\n",
      "        </annotation>\n",
      "      </species>\n",
      "      <species metaid=\"_1859957d8cfd9d066fc7c206e62e0943\" id=\"MNXM10__64__cytoplasm\" name=\"MNXM10\" compartment=\"cytoplasm\" initialConcentration=\"1\" hasOnlySubstanceUnits=\"false\" boundaryCondition=\"false\" constant=\"false\" fbc:charge=\"0\">\n",
      "        <annotation>\n",
      "          <rdf:RDF xmlns:rdf=\"http://www.w3.org/1999/02/22-rdf-syntax-ns#\" xmlns:bqbiol=\"http://biomodels.net/biology-qualifiers/\" xmlns:bqmodel=\"http://biomodels.net/model-qualifiers/\">\n",
      "            <rdf:Description rdf:about=\"#_1859957d8cfd9d066fc7c206e62e0943\">\n",
      "              <bqbiol:is>\n",
      "                <rdf:Bag>\n",
      "                  <rdf:li rdf:resource=\"http://identifiers.org/bigg.metabolite/nadh\"/>\n",
      "                  <rdf:li rdf:resource=\"http://identifiers.org/bigg.metabolite/M_nadh\"/>\n",
      "                  <rdf:li rdf:resource=\"http://identifiers.org/metanetx.chemical/MNXM10\"/>\n",
      "                  <rdf:li rdf:resource=\"http://identifiers.org/metanetx.chemical/MNXM89564\"/>\n",
      "                  <rdf:li rdf:resource=\"http://identifiers.org/chebi/CHEBI:16908\"/>\n",
      "                  <rdf:li rdf:resource=\"http://identifiers.org/chebi/CHEBI:13395\"/>\n",
      "                  <rdf:li rdf:resource=\"http://identifiers.org/chebi/CHEBI:13396\"/>\n",
      "                  <rdf:li rdf:resource=\"http://identifiers.org/chebi/CHEBI:21902\"/>\n",
      "                  <rdf:li rdf:resource=\"http://identifiers.org/chebi/CHEBI:44216\"/>\n",
      "                  <rdf:li rdf:resource=\"http://identifiers.org/chebi/CHEBI:7423\"/>\n",
      "                  <rdf:li rdf:resource=\"http://identifiers.org/chebi/CHEBI:57945\"/>\n",
      "                  <rdf:li rdf:resource=\"http://identifiers.org/hmdb/HMDB01487\"/>\n",
      "                  <rdf:li rdf:resource=\"http://identifiers.org/kegg.compound/C00004\"/>\n",
      "                  <rdf:li rdf:resource=\"http://identifiers.org/seed.compound/cpd00004\"/>\n",
      "                </rdf:Bag>\n",
      "              </bqbiol:is>\n",
      "            </rdf:Description>\n",
      "            <rdf:Ibisba rdf:about=\"#_1859957d8cfd9d066fc7c206e62e0943\">\n",
      "              <ibisba:ibisba xmlns:ibisba=\"http://ibisba.eu/qualifiers\">\n",
      "                <ibisba:smiles>[H]N=C(O[H])C1=C([H])N(C2([H])OC([H])(C([H])([H])OP(=O)(O[H])OP(=O)(O[H])OC([H])([H])C3([H])OC([H])(n4c([H])nc5c(N([H])[H])nc([H])nc54)C([H])(O[H])C3([H])O[H])C([H])(O[H])C2([H])O[H])C([H])=C([H])C1([H])[H]</ibisba:smiles>\n",
      "                <ibisba:inchi>InChI=1S/C21H29N7O14P2/c22-17-12-19(25-7-24-17)28(8-26-12)21-16(32)14(30)11(41-21)6-39-44(36,37)42-43(34,35)38-5-10-13(29)15(31)20(40-10)27-3-1-2-9(4-27)18(23)33/h1,3-4,7-8,10-11,13-16,20-21,29-32H,2,5-6H2,(H2,23,33)(H,34,35)(H,36,37)(H2,22,24,25)/p-2/t10-,11-,13-,14-,15-,16-,20-,21-/m1/s1</ibisba:inchi>\n",
      "                <ibisba:inchikey>BOPGDPNILDQYTO-NNYOXOHSSA-L</ibisba:inchikey>\n",
      "                <ibisba:ddG units=\"kj_per_mol\"/>\n",
      "                <ibisba:ddG_uncert units=\"kj_per_mol\"/>\n",
      "              </ibisba:ibisba>\n",
      "            </rdf:Ibisba>\n",
      "          </rdf:RDF>\n",
      "        </annotation>\n",
      "      </species>\n",
      "      <species metaid=\"ee08cafb5274b6989e332af7c06ce4f6\" id=\"MNXM4__64__cytoplasm\" name=\"MNXM4\" compartment=\"cytoplasm\" initialConcentration=\"1\" hasOnlySubstanceUnits=\"false\" boundaryCondition=\"false\" constant=\"false\" fbc:charge=\"0\">\n",
      "        <annotation>\n",
      "          <rdf:RDF xmlns:rdf=\"http://www.w3.org/1999/02/22-rdf-syntax-ns#\" xmlns:bqbiol=\"http://biomodels.net/biology-qualifiers/\" xmlns:bqmodel=\"http://biomodels.net/model-qualifiers/\">\n",
      "            <rdf:Description rdf:about=\"#ee08cafb5274b6989e332af7c06ce4f6\">\n",
      "              <bqbiol:is>\n",
      "                <rdf:Bag>\n",
      "                  <rdf:li rdf:resource=\"http://identifiers.org/bigg.metabolite/o2\"/>\n",
      "                  <rdf:li rdf:resource=\"http://identifiers.org/bigg.metabolite/M_o2\"/>\n",
      "                  <rdf:li rdf:resource=\"http://identifiers.org/metanetx.chemical/MNXM4\"/>\n",
      "                  <rdf:li rdf:resource=\"http://identifiers.org/metanetx.chemical/MNXM114217\"/>\n",
      "                  <rdf:li rdf:resource=\"http://identifiers.org/metanetx.chemical/MNXM89559\"/>\n",
      "                  <rdf:li rdf:resource=\"http://identifiers.org/metanetx.chemical/MNXM97007\"/>\n",
      "                  <rdf:li rdf:resource=\"http://identifiers.org/chebi/CHEBI:15379\"/>\n",
      "                  <rdf:li rdf:resource=\"http://identifiers.org/chebi/CHEBI:10745\"/>\n",
      "                  <rdf:li rdf:resource=\"http://identifiers.org/chebi/CHEBI:13416\"/>\n",
      "                  <rdf:li rdf:resource=\"http://identifiers.org/chebi/CHEBI:23833\"/>\n",
      "                  <rdf:li rdf:resource=\"http://identifiers.org/chebi/CHEBI:25366\"/>\n",
      "                  <rdf:li rdf:resource=\"http://identifiers.org/chebi/CHEBI:29097\"/>\n",
      "                  <rdf:li rdf:resource=\"http://identifiers.org/chebi/CHEBI:30491\"/>\n",
      "                  <rdf:li rdf:resource=\"http://identifiers.org/chebi/CHEBI:44742\"/>\n",
      "                  <rdf:li rdf:resource=\"http://identifiers.org/chebi/CHEBI:7860\"/>\n",
      "                  <rdf:li rdf:resource=\"http://identifiers.org/chebi/CHEBI:26689\"/>\n",
      "                  <rdf:li rdf:resource=\"http://identifiers.org/chebi/CHEBI:27140\"/>\n",
      "                  <rdf:li rdf:resource=\"http://identifiers.org/chebi/CHEBI:29793\"/>\n",
      "                  <rdf:li rdf:resource=\"http://identifiers.org/hmdb/HMDB01377\"/>\n",
      "                  <rdf:li rdf:resource=\"http://identifiers.org/kegg.compound/C00007\"/>\n",
      "                  <rdf:li rdf:resource=\"http://identifiers.org/kegg.compound/D00003\"/>\n",
      "                  <rdf:li rdf:resource=\"http://identifiers.org/seed.compound/cpd00007\"/>\n",
      "                </rdf:Bag>\n",
      "              </bqbiol:is>\n",
      "            </rdf:Description>\n",
      "            <rdf:Ibisba rdf:about=\"#ee08cafb5274b6989e332af7c06ce4f6\">\n",
      "              <ibisba:ibisba xmlns:ibisba=\"http://ibisba.eu/qualifiers\">\n",
      "                <ibisba:smiles>O=O</ibisba:smiles>\n",
      "                <ibisba:inchi>InChI=1S/O2/c1-2</ibisba:inchi>\n",
      "                <ibisba:inchikey>MYMOFIZGZYHOMD-UHFFFAOYSA-N</ibisba:inchikey>\n",
      "                <ibisba:ddG units=\"kj_per_mol\"/>\n",
      "                <ibisba:ddG_uncert units=\"kj_per_mol\"/>\n",
      "              </ibisba:ibisba>\n",
      "            </rdf:Ibisba>\n",
      "          </rdf:RDF>\n",
      "        </annotation>\n",
      "      </species>\n",
      "      <species metaid=\"_8abbc7f30aac6ab1c526b763e164dbc5\" id=\"MNXM1__64__cytoplasm\" name=\"MNXM1\" compartment=\"cytoplasm\" initialConcentration=\"1\" hasOnlySubstanceUnits=\"false\" boundaryCondition=\"false\" constant=\"false\" fbc:charge=\"0\">\n",
      "        <annotation>\n",
      "          <rdf:RDF xmlns:rdf=\"http://www.w3.org/1999/02/22-rdf-syntax-ns#\" xmlns:bqbiol=\"http://biomodels.net/biology-qualifiers/\" xmlns:bqmodel=\"http://biomodels.net/model-qualifiers/\">\n",
      "            <rdf:Description rdf:about=\"#_8abbc7f30aac6ab1c526b763e164dbc5\">\n",
      "              <bqbiol:is>\n",
      "                <rdf:Bag>\n",
      "                  <rdf:li rdf:resource=\"http://identifiers.org/bigg.metabolite/h\"/>\n",
      "                  <rdf:li rdf:resource=\"http://identifiers.org/bigg.metabolite/M_h\"/>\n",
      "                  <rdf:li rdf:resource=\"http://identifiers.org/metanetx.chemical/MNXM1\"/>\n",
      "                  <rdf:li rdf:resource=\"http://identifiers.org/metanetx.chemical/MNXM145872\"/>\n",
      "                  <rdf:li rdf:resource=\"http://identifiers.org/metanetx.chemical/MNXM89553\"/>\n",
      "                  <rdf:li rdf:resource=\"http://identifiers.org/chebi/CHEBI:15378\"/>\n",
      "                  <rdf:li rdf:resource=\"http://identifiers.org/chebi/CHEBI:10744\"/>\n",
      "                  <rdf:li rdf:resource=\"http://identifiers.org/chebi/CHEBI:13357\"/>\n",
      "                  <rdf:li rdf:resource=\"http://identifiers.org/chebi/CHEBI:5584\"/>\n",
      "                  <rdf:li rdf:resource=\"http://identifiers.org/hmdb/HMDB59597\"/>\n",
      "                  <rdf:li rdf:resource=\"http://identifiers.org/kegg.compound/C00080\"/>\n",
      "                  <rdf:li rdf:resource=\"http://identifiers.org/seed.compound/cpd00067\"/>\n",
      "                </rdf:Bag>\n",
      "              </bqbiol:is>\n",
      "            </rdf:Description>\n",
      "            <rdf:Ibisba rdf:about=\"#_8abbc7f30aac6ab1c526b763e164dbc5\">\n",
      "              <ibisba:ibisba xmlns:ibisba=\"http://ibisba.eu/qualifiers\">\n",
      "                <ibisba:smiles>[H+]</ibisba:smiles>\n",
      "                <ibisba:inchi>InChI=1S</ibisba:inchi>\n",
      "                <ibisba:inchikey/>\n",
      "                <ibisba:ddG units=\"kj_per_mol\"/>\n",
      "                <ibisba:ddG_uncert units=\"kj_per_mol\"/>\n",
      "              </ibisba:ibisba>\n",
      "            </rdf:Ibisba>\n",
      "          </rdf:RDF>\n",
      "        </annotation>\n",
      "      </species>\n",
      "    </listOfSpecies>\n",
      "    <listOfParameters>\n",
      "      <parameter metaid=\"bdc8f6b389997dd8c94563245322e89c\" sboTerm=\"SBO:0000625\" id=\"B_INF\" value=\"INF\" units=\"kj_per_mol\" constant=\"true\"/>\n",
      "      <parameter metaid=\"e62cee005b9f8a5fc80cf04d67a30de3\" sboTerm=\"SBO:0000625\" id=\"B__INF\" value=\"-INF\" units=\"kj_per_mol\" constant=\"true\"/>\n",
      "    </listOfParameters>\n",
      "  </model>\n",
      "</sbml>\n"
     ]
    }
   ],
   "source": [
    "print(inModel.toSBML())"
   ]
  },
  {
   "cell_type": "code",
   "execution_count": 17,
   "metadata": {},
   "outputs": [
    {
     "name": "stdout",
     "output_type": "stream",
     "text": [
      "<sbml xmlns=\"http://www.sbml.org/sbml/level3/version1/core\" xmlns:groups=\"http://www.sbml.org/sbml/level3/version1/groups/version1\" xmlns:fbc=\"http://www.sbml.org/sbml/level3/version1/fbc/version2\" level=\"3\" version=\"1\" groups:required=\"false\" fbc:required=\"false\">\n",
      "  <model metaid=\"_81bcdb4f4f90440a19855f20c14ac474\" id=\"rp_model\" name=\"RetroPath_heterologous_pathway\" substanceUnits=\"mole\" timeUnits=\"second\" extentUnits=\"mole\">\n",
      "    <listOfUnitDefinitions>\n",
      "      <unitDefinition metaid=\"aebbce66773195cbd5d82838dda4f0ea\" id=\"mmol_per_gDW_per_hr\">\n",
      "        <listOfUnits>\n",
      "          <unit kind=\"mole\" exponent=\"1\" scale=\"-3\" multiplier=\"1\"/>\n",
      "          <unit kind=\"gram\" exponent=\"1\" scale=\"0\" multiplier=\"1\"/>\n",
      "          <unit kind=\"second\" exponent=\"1\" scale=\"0\" multiplier=\"3600\"/>\n",
      "        </listOfUnits>\n",
      "      </unitDefinition>\n",
      "      <unitDefinition metaid=\"_0346858f65275ff01aa2ac815127e134\" id=\"kj_per_mol\">\n",
      "        <listOfUnits>\n",
      "          <unit kind=\"joule\" exponent=\"1\" scale=\"3\" multiplier=\"1\"/>\n",
      "          <unit kind=\"mole\" exponent=\"1\" scale=\"1\" multiplier=\"1\"/>\n",
      "        </listOfUnits>\n",
      "      </unitDefinition>\n",
      "    </listOfUnitDefinitions>\n",
      "    <listOfCompartments>\n",
      "      <compartment metaid=\"bd93fc3ad12aa61c97ebe613673522d1\" sboTerm=\"SBO:0000290\" id=\"MNXC3\" name=\"cytoplasm\" size=\"1\" constant=\"true\">\n",
      "        <annotation>\n",
      "          <rdf:RDF xmlns:rdf=\"http://www.w3.org/1999/02/22-rdf-syntax-ns#\" xmlns:dcterms=\"http://purl.org/dc/terms/\" xmlns:vCard=\"http://www.w3.org/2001/vcard-rdf/3.0#\" xmlns:vCard4=\"http://www.w3.org/2006/vcard/ns#\" xmlns:bqbiol=\"http://biomodels.net/biology-qualifiers/\" xmlns:bqmodel=\"http://biomodels.net/model-qualifiers/\">\n",
      "            <rdf:Description rdf:about=\"#bd93fc3ad12aa61c97ebe613673522d1\">\n",
      "              <bqbiol:is>\n",
      "                <rdf:Bag>\n",
      "                  <rdf:li rdf:resource=\"http://identifiers.org/bigg.compartment/c\"/>\n",
      "                  <rdf:li rdf:resource=\"http://identifiers.org/bigg.compartment/C_c\"/>\n",
      "                  <rdf:li rdf:resource=\"http://identifiers.org/metanetx.compartment/MNXC3\"/>\n",
      "                </rdf:Bag>\n",
      "              </bqbiol:is>\n",
      "            </rdf:Description>\n",
      "          </rdf:RDF>\n",
      "        </annotation>\n",
      "      </compartment>\n",
      "    </listOfCompartments>\n",
      "    <listOfSpecies>\n",
      "      <species metaid=\"_1859957d8cfd9d066fc7c206e62e0943\" id=\"MNXM10__64__cytoplasm\" name=\"MNXM10\" compartment=\"cytoplasm\" initialConcentration=\"1\" hasOnlySubstanceUnits=\"false\" boundaryCondition=\"false\" constant=\"false\" fbc:charge=\"0\">\n",
      "        <annotation>\n",
      "          <rdf:RDF xmlns:rdf=\"http://www.w3.org/1999/02/22-rdf-syntax-ns#\" xmlns:bqbiol=\"http://biomodels.net/biology-qualifiers/\" xmlns:bqmodel=\"http://biomodels.net/model-qualifiers/\">\n",
      "            <rdf:Description rdf:about=\"#_1859957d8cfd9d066fc7c206e62e0943\">\n",
      "              <bqbiol:is>\n",
      "                <rdf:Bag>\n",
      "                  <rdf:li rdf:resource=\"http://identifiers.org/bigg.metabolite/nadh\"/>\n",
      "                  <rdf:li rdf:resource=\"http://identifiers.org/bigg.metabolite/M_nadh\"/>\n",
      "                  <rdf:li rdf:resource=\"http://identifiers.org/metanetx.chemical/MNXM10\"/>\n",
      "                  <rdf:li rdf:resource=\"http://identifiers.org/metanetx.chemical/MNXM89564\"/>\n",
      "                  <rdf:li rdf:resource=\"http://identifiers.org/chebi/CHEBI:16908\"/>\n",
      "                  <rdf:li rdf:resource=\"http://identifiers.org/chebi/CHEBI:13395\"/>\n",
      "                  <rdf:li rdf:resource=\"http://identifiers.org/chebi/CHEBI:13396\"/>\n",
      "                  <rdf:li rdf:resource=\"http://identifiers.org/chebi/CHEBI:21902\"/>\n",
      "                  <rdf:li rdf:resource=\"http://identifiers.org/chebi/CHEBI:44216\"/>\n",
      "                  <rdf:li rdf:resource=\"http://identifiers.org/chebi/CHEBI:7423\"/>\n",
      "                  <rdf:li rdf:resource=\"http://identifiers.org/chebi/CHEBI:57945\"/>\n",
      "                  <rdf:li rdf:resource=\"http://identifiers.org/hmdb/HMDB01487\"/>\n",
      "                  <rdf:li rdf:resource=\"http://identifiers.org/kegg.compound/C00004\"/>\n",
      "                  <rdf:li rdf:resource=\"http://identifiers.org/seed.compound/cpd00004\"/>\n",
      "                </rdf:Bag>\n",
      "              </bqbiol:is>\n",
      "            </rdf:Description>\n",
      "            <rdf:Ibisba rdf:about=\"#_1859957d8cfd9d066fc7c206e62e0943\">\n",
      "              <ibisba:ibisba xmlns:ibisba=\"http://ibisba.eu/qualifiers\">\n",
      "                <ibisba:smiles>[H]N=C(O[H])C1=C([H])N(C2([H])OC([H])(C([H])([H])OP(=O)(O[H])OP(=O)(O[H])OC([H])([H])C3([H])OC([H])(n4c([H])nc5c(N([H])[H])nc([H])nc54)C([H])(O[H])C3([H])O[H])C([H])(O[H])C2([H])O[H])C([H])=C([H])C1([H])[H]</ibisba:smiles>\n",
      "                <ibisba:inchi>InChI=1S/C21H29N7O14P2/c22-17-12-19(25-7-24-17)28(8-26-12)21-16(32)14(30)11(41-21)6-39-44(36,37)42-43(34,35)38-5-10-13(29)15(31)20(40-10)27-3-1-2-9(4-27)18(23)33/h1,3-4,7-8,10-11,13-16,20-21,29-32H,2,5-6H2,(H2,23,33)(H,34,35)(H,36,37)(H2,22,24,25)/p-2/t10-,11-,13-,14-,15-,16-,20-,21-/m1/s1</ibisba:inchi>\n",
      "                <ibisba:inchikey>BOPGDPNILDQYTO-NNYOXOHSSA-L</ibisba:inchikey>\n",
      "                <ibisba:ddG units=\"kj_per_mol\"/>\n",
      "                <ibisba:ddG_uncert units=\"kj_per_mol\"/>\n",
      "              </ibisba:ibisba>\n",
      "            </rdf:Ibisba>\n",
      "          </rdf:RDF>\n",
      "        </annotation>\n",
      "      </species>\n",
      "      <species metaid=\"_48b1dfa1573700cb13b0df76e76d96a9\" id=\"CMPD_0000000003__64__cytoplasm\" name=\"CMPD_0000000003\" compartment=\"cytoplasm\" initialConcentration=\"1\" hasOnlySubstanceUnits=\"false\" boundaryCondition=\"false\" constant=\"false\" fbc:charge=\"0\">\n",
      "        <annotation>\n",
      "          <rdf:RDF xmlns:rdf=\"http://www.w3.org/1999/02/22-rdf-syntax-ns#\" xmlns:bqbiol=\"http://biomodels.net/biology-qualifiers/\" xmlns:bqmodel=\"http://biomodels.net/model-qualifiers/\">\n",
      "            <rdf:Description rdf:about=\"#_48b1dfa1573700cb13b0df76e76d96a9\">\n",
      "              <bqbiol:is>\n",
      "                <rdf:Bag/>\n",
      "              </bqbiol:is>\n",
      "            </rdf:Description>\n",
      "            <rdf:Ibisba rdf:about=\"#_48b1dfa1573700cb13b0df76e76d96a9\">\n",
      "              <ibisba:ibisba xmlns:ibisba=\"http://ibisba.eu/qualifiers\">\n",
      "                <ibisba:smiles>[H]Oc1c([H])c([H])c([H])c([H])c1O[H]</ibisba:smiles>\n",
      "                <ibisba:inchi/>\n",
      "                <ibisba:inchikey/>\n",
      "                <ibisba:ddG units=\"kj_per_mol\"/>\n",
      "                <ibisba:ddG_uncert units=\"kj_per_mol\"/>\n",
      "              </ibisba:ibisba>\n",
      "            </rdf:Ibisba>\n",
      "          </rdf:RDF>\n",
      "        </annotation>\n",
      "      </species>\n",
      "      <species metaid=\"_76aec9c4390657d33b71dbc0bef4908b\" id=\"TARGET_0000000001__64__cytoplasm\" name=\"TARGET_0000000001\" compartment=\"cytoplasm\" initialConcentration=\"1\" hasOnlySubstanceUnits=\"false\" boundaryCondition=\"false\" constant=\"false\" fbc:charge=\"0\">\n",
      "        <annotation>\n",
      "          <rdf:RDF xmlns:rdf=\"http://www.w3.org/1999/02/22-rdf-syntax-ns#\" xmlns:bqbiol=\"http://biomodels.net/biology-qualifiers/\" xmlns:bqmodel=\"http://biomodels.net/model-qualifiers/\">\n",
      "            <rdf:Description rdf:about=\"#_76aec9c4390657d33b71dbc0bef4908b\">\n",
      "              <bqbiol:is>\n",
      "                <rdf:Bag/>\n",
      "              </bqbiol:is>\n",
      "            </rdf:Description>\n",
      "            <rdf:Ibisba rdf:about=\"#_76aec9c4390657d33b71dbc0bef4908b\">\n",
      "              <ibisba:ibisba xmlns:ibisba=\"http://ibisba.eu/qualifiers\">\n",
      "                <ibisba:smiles>[H]OC(=O)C([H])=C([H])C([H])=C([H])C(=O)O[H]</ibisba:smiles>\n",
      "                <ibisba:inchi>InChI=1S/C6H6O4/c7-5(8)3-1-2-4-6(9)10/h1-4H,(H,7,8)(H,9,10)</ibisba:inchi>\n",
      "                <ibisba:inchikey>TXXHDPDFNKHHGW-UHFFFAOYSA-N</ibisba:inchikey>\n",
      "                <ibisba:ddG units=\"kj_per_mol\"/>\n",
      "                <ibisba:ddG_uncert units=\"kj_per_mol\"/>\n",
      "              </ibisba:ibisba>\n",
      "            </rdf:Ibisba>\n",
      "          </rdf:RDF>\n",
      "        </annotation>\n",
      "      </species>\n",
      "      <species metaid=\"_8c06ad0cf5bcb6c8f92773f1afb7118f\" id=\"MNXM15__64__cytoplasm\" name=\"MNXM15\" compartment=\"cytoplasm\" initialConcentration=\"1\" hasOnlySubstanceUnits=\"false\" boundaryCondition=\"false\" constant=\"false\" fbc:charge=\"0\">\n",
      "        <annotation>\n",
      "          <rdf:RDF xmlns:rdf=\"http://www.w3.org/1999/02/22-rdf-syntax-ns#\" xmlns:bqbiol=\"http://biomodels.net/biology-qualifiers/\" xmlns:bqmodel=\"http://biomodels.net/model-qualifiers/\">\n",
      "            <rdf:Description rdf:about=\"#_8c06ad0cf5bcb6c8f92773f1afb7118f\">\n",
      "              <bqbiol:is>\n",
      "                <rdf:Bag>\n",
      "                  <rdf:li rdf:resource=\"http://identifiers.org/bigg.metabolite/nh3\"/>\n",
      "                  <rdf:li rdf:resource=\"http://identifiers.org/bigg.metabolite/M_nh3\"/>\n",
      "                  <rdf:li rdf:resource=\"http://identifiers.org/bigg.metabolite/nh4\"/>\n",
      "                  <rdf:li rdf:resource=\"http://identifiers.org/bigg.metabolite/M_nh4\"/>\n",
      "                  <rdf:li rdf:resource=\"http://identifiers.org/metanetx.chemical/MNXM15\"/>\n",
      "                  <rdf:li rdf:resource=\"http://identifiers.org/metanetx.chemical/MNXM84\"/>\n",
      "                  <rdf:li rdf:resource=\"http://identifiers.org/metanetx.chemical/MNXM89589\"/>\n",
      "                  <rdf:li rdf:resource=\"http://identifiers.org/metanetx.chemical/MNXM89593\"/>\n",
      "                  <rdf:li rdf:resource=\"http://identifiers.org/chebi/CHEBI:16134\"/>\n",
      "                  <rdf:li rdf:resource=\"http://identifiers.org/chebi/CHEBI:13405\"/>\n",
      "                  <rdf:li rdf:resource=\"http://identifiers.org/chebi/CHEBI:13406\"/>\n",
      "                  <rdf:li rdf:resource=\"http://identifiers.org/chebi/CHEBI:13407\"/>\n",
      "                  <rdf:li rdf:resource=\"http://identifiers.org/chebi/CHEBI:13771\"/>\n",
      "                  <rdf:li rdf:resource=\"http://identifiers.org/chebi/CHEBI:22533\"/>\n",
      "                  <rdf:li rdf:resource=\"http://identifiers.org/chebi/CHEBI:44269\"/>\n",
      "                  <rdf:li rdf:resource=\"http://identifiers.org/chebi/CHEBI:44284\"/>\n",
      "                  <rdf:li rdf:resource=\"http://identifiers.org/chebi/CHEBI:44404\"/>\n",
      "                  <rdf:li rdf:resource=\"http://identifiers.org/chebi/CHEBI:7434\"/>\n",
      "                  <rdf:li rdf:resource=\"http://identifiers.org/chebi/CHEBI:28938\"/>\n",
      "                  <rdf:li rdf:resource=\"http://identifiers.org/chebi/CHEBI:22534\"/>\n",
      "                  <rdf:li rdf:resource=\"http://identifiers.org/chebi/CHEBI:49783\"/>\n",
      "                  <rdf:li rdf:resource=\"http://identifiers.org/chebi/CHEBI:7435\"/>\n",
      "                  <rdf:li rdf:resource=\"http://identifiers.org/chebi/CHEBI:29337\"/>\n",
      "                  <rdf:li rdf:resource=\"http://identifiers.org/chebi/CHEBI:29340\"/>\n",
      "                  <rdf:li rdf:resource=\"http://identifiers.org/hmdb/HMDB00051\"/>\n",
      "                  <rdf:li rdf:resource=\"http://identifiers.org/hmdb/HMDB41827\"/>\n",
      "                  <rdf:li rdf:resource=\"http://identifiers.org/kegg.compound/C00014\"/>\n",
      "                  <rdf:li rdf:resource=\"http://identifiers.org/kegg.compound/D02916\"/>\n",
      "                  <rdf:li rdf:resource=\"http://identifiers.org/kegg.compound/C01342\"/>\n",
      "                  <rdf:li rdf:resource=\"http://identifiers.org/seed.compound/cpd00013\"/>\n",
      "                  <rdf:li rdf:resource=\"http://identifiers.org/seed.compound/cpd19013\"/>\n",
      "                </rdf:Bag>\n",
      "              </bqbiol:is>\n",
      "            </rdf:Description>\n",
      "            <rdf:Ibisba rdf:about=\"#_8c06ad0cf5bcb6c8f92773f1afb7118f\">\n",
      "              <ibisba:ibisba xmlns:ibisba=\"http://ibisba.eu/qualifiers\">\n",
      "                <ibisba:smiles>[H]N([H])[H]</ibisba:smiles>\n",
      "                <ibisba:inchi>InChI=1S/H3N/h1H3/p+1</ibisba:inchi>\n",
      "                <ibisba:inchikey>QGZKDVFQNNGYKY-UHFFFAOYSA-O</ibisba:inchikey>\n",
      "                <ibisba:ddG units=\"kj_per_mol\"/>\n",
      "                <ibisba:ddG_uncert units=\"kj_per_mol\"/>\n",
      "              </ibisba:ibisba>\n",
      "            </rdf:Ibisba>\n",
      "          </rdf:RDF>\n",
      "        </annotation>\n",
      "      </species>\n",
      "      <species metaid=\"_9e590de202b6a3a9b1c3566cafda86d0\" id=\"MNXM13__64__cytoplasm\" name=\"MNXM13\" compartment=\"cytoplasm\" initialConcentration=\"1\" hasOnlySubstanceUnits=\"false\" boundaryCondition=\"false\" constant=\"false\" fbc:charge=\"0\">\n",
      "        <annotation>\n",
      "          <rdf:RDF xmlns:rdf=\"http://www.w3.org/1999/02/22-rdf-syntax-ns#\" xmlns:bqbiol=\"http://biomodels.net/biology-qualifiers/\" xmlns:bqmodel=\"http://biomodels.net/model-qualifiers/\">\n",
      "            <rdf:Description rdf:about=\"#_9e590de202b6a3a9b1c3566cafda86d0\">\n",
      "              <bqbiol:is>\n",
      "                <rdf:Bag>\n",
      "                  <rdf:li rdf:resource=\"http://identifiers.org/bigg.metabolite/co2\"/>\n",
      "                  <rdf:li rdf:resource=\"http://identifiers.org/bigg.metabolite/M_co2\"/>\n",
      "                  <rdf:li rdf:resource=\"http://identifiers.org/metanetx.chemical/MNXM13\"/>\n",
      "                  <rdf:li rdf:resource=\"http://identifiers.org/metanetx.chemical/MNXM89563\"/>\n",
      "                  <rdf:li rdf:resource=\"http://identifiers.org/chebi/CHEBI:16526\"/>\n",
      "                  <rdf:li rdf:resource=\"http://identifiers.org/chebi/CHEBI:13282\"/>\n",
      "                  <rdf:li rdf:resource=\"http://identifiers.org/chebi/CHEBI:13283\"/>\n",
      "                  <rdf:li rdf:resource=\"http://identifiers.org/chebi/CHEBI:13284\"/>\n",
      "                  <rdf:li rdf:resource=\"http://identifiers.org/chebi/CHEBI:13285\"/>\n",
      "                  <rdf:li rdf:resource=\"http://identifiers.org/chebi/CHEBI:23011\"/>\n",
      "                  <rdf:li rdf:resource=\"http://identifiers.org/chebi/CHEBI:3283\"/>\n",
      "                  <rdf:li rdf:resource=\"http://identifiers.org/chebi/CHEBI:48829\"/>\n",
      "                  <rdf:li rdf:resource=\"http://identifiers.org/hmdb/HMDB01967\"/>\n",
      "                  <rdf:li rdf:resource=\"http://identifiers.org/kegg.compound/C00011\"/>\n",
      "                  <rdf:li rdf:resource=\"http://identifiers.org/kegg.compound/D00004\"/>\n",
      "                  <rdf:li rdf:resource=\"http://identifiers.org/seed.compound/cpd00011\"/>\n",
      "                </rdf:Bag>\n",
      "              </bqbiol:is>\n",
      "            </rdf:Description>\n",
      "            <rdf:Ibisba rdf:about=\"#_9e590de202b6a3a9b1c3566cafda86d0\">\n",
      "              <ibisba:ibisba xmlns:ibisba=\"http://ibisba.eu/qualifiers\">\n",
      "                <ibisba:smiles>O=C=O</ibisba:smiles>\n",
      "                <ibisba:inchi>InChI=1S/CO2/c2-1-3</ibisba:inchi>\n",
      "                <ibisba:inchikey>CURLTUGMZLYLDI-UHFFFAOYSA-N</ibisba:inchikey>\n",
      "                <ibisba:ddG units=\"kj_per_mol\"/>\n",
      "                <ibisba:ddG_uncert units=\"kj_per_mol\"/>\n",
      "              </ibisba:ibisba>\n",
      "            </rdf:Ibisba>\n",
      "          </rdf:RDF>\n",
      "        </annotation>\n",
      "      </species>\n",
      "      <species metaid=\"_8abbc7f30aac6ab1c526b763e164dbc5\" id=\"MNXM1__64__cytoplasm\" name=\"MNXM1\" compartment=\"cytoplasm\" initialConcentration=\"1\" hasOnlySubstanceUnits=\"false\" boundaryCondition=\"false\" constant=\"false\" fbc:charge=\"0\">\n",
      "        <annotation>\n",
      "          <rdf:RDF xmlns:rdf=\"http://www.w3.org/1999/02/22-rdf-syntax-ns#\" xmlns:bqbiol=\"http://biomodels.net/biology-qualifiers/\" xmlns:bqmodel=\"http://biomodels.net/model-qualifiers/\">\n",
      "            <rdf:Description rdf:about=\"#_8abbc7f30aac6ab1c526b763e164dbc5\">\n",
      "              <bqbiol:is>\n",
      "                <rdf:Bag>\n",
      "                  <rdf:li rdf:resource=\"http://identifiers.org/bigg.metabolite/h\"/>\n",
      "                  <rdf:li rdf:resource=\"http://identifiers.org/bigg.metabolite/M_h\"/>\n",
      "                  <rdf:li rdf:resource=\"http://identifiers.org/metanetx.chemical/MNXM1\"/>\n",
      "                  <rdf:li rdf:resource=\"http://identifiers.org/metanetx.chemical/MNXM145872\"/>\n",
      "                  <rdf:li rdf:resource=\"http://identifiers.org/metanetx.chemical/MNXM89553\"/>\n",
      "                  <rdf:li rdf:resource=\"http://identifiers.org/chebi/CHEBI:15378\"/>\n",
      "                  <rdf:li rdf:resource=\"http://identifiers.org/chebi/CHEBI:10744\"/>\n",
      "                  <rdf:li rdf:resource=\"http://identifiers.org/chebi/CHEBI:13357\"/>\n",
      "                  <rdf:li rdf:resource=\"http://identifiers.org/chebi/CHEBI:5584\"/>\n",
      "                  <rdf:li rdf:resource=\"http://identifiers.org/hmdb/HMDB59597\"/>\n",
      "                  <rdf:li rdf:resource=\"http://identifiers.org/kegg.compound/C00080\"/>\n",
      "                  <rdf:li rdf:resource=\"http://identifiers.org/seed.compound/cpd00067\"/>\n",
      "                </rdf:Bag>\n",
      "              </bqbiol:is>\n",
      "            </rdf:Description>\n",
      "            <rdf:Ibisba rdf:about=\"#_8abbc7f30aac6ab1c526b763e164dbc5\">\n",
      "              <ibisba:ibisba xmlns:ibisba=\"http://ibisba.eu/qualifiers\">\n",
      "                <ibisba:smiles>[H+]</ibisba:smiles>\n",
      "                <ibisba:inchi>InChI=1S</ibisba:inchi>\n",
      "                <ibisba:inchikey/>\n",
      "                <ibisba:ddG units=\"kj_per_mol\"/>\n",
      "                <ibisba:ddG_uncert units=\"kj_per_mol\"/>\n",
      "              </ibisba:ibisba>\n",
      "            </rdf:Ibisba>\n",
      "          </rdf:RDF>\n",
      "        </annotation>\n",
      "      </species>\n",
      "      <species metaid=\"_4354ed2227b0469132f44f938fb566fc\" id=\"MNXM8__64__cytoplasm\" name=\"MNXM8\" compartment=\"cytoplasm\" initialConcentration=\"1\" hasOnlySubstanceUnits=\"false\" boundaryCondition=\"false\" constant=\"false\" fbc:charge=\"0\">\n",
      "        <annotation>\n",
      "          <rdf:RDF xmlns:rdf=\"http://www.w3.org/1999/02/22-rdf-syntax-ns#\" xmlns:bqbiol=\"http://biomodels.net/biology-qualifiers/\" xmlns:bqmodel=\"http://biomodels.net/model-qualifiers/\">\n",
      "            <rdf:Description rdf:about=\"#_4354ed2227b0469132f44f938fb566fc\">\n",
      "              <bqbiol:is>\n",
      "                <rdf:Bag>\n",
      "                  <rdf:li rdf:resource=\"http://identifiers.org/bigg.metabolite/nad\"/>\n",
      "                  <rdf:li rdf:resource=\"http://identifiers.org/bigg.metabolite/M_nad\"/>\n",
      "                  <rdf:li rdf:resource=\"http://identifiers.org/metanetx.chemical/MNXM8\"/>\n",
      "                  <rdf:li rdf:resource=\"http://identifiers.org/metanetx.chemical/MNXM588016\"/>\n",
      "                  <rdf:li rdf:resource=\"http://identifiers.org/metanetx.chemical/MNXM96411\"/>\n",
      "                  <rdf:li rdf:resource=\"http://identifiers.org/chebi/CHEBI:15846\"/>\n",
      "                  <rdf:li rdf:resource=\"http://identifiers.org/chebi/CHEBI:13394\"/>\n",
      "                  <rdf:li rdf:resource=\"http://identifiers.org/chebi/CHEBI:21901\"/>\n",
      "                  <rdf:li rdf:resource=\"http://identifiers.org/chebi/CHEBI:29867\"/>\n",
      "                  <rdf:li rdf:resource=\"http://identifiers.org/chebi/CHEBI:7422\"/>\n",
      "                  <rdf:li rdf:resource=\"http://identifiers.org/chebi/CHEBI:44215\"/>\n",
      "                  <rdf:li rdf:resource=\"http://identifiers.org/chebi/CHEBI:13393\"/>\n",
      "                  <rdf:li rdf:resource=\"http://identifiers.org/chebi/CHEBI:44214\"/>\n",
      "                  <rdf:li rdf:resource=\"http://identifiers.org/chebi/CHEBI:44281\"/>\n",
      "                  <rdf:li rdf:resource=\"http://identifiers.org/chebi/CHEBI:57540\"/>\n",
      "                  <rdf:li rdf:resource=\"http://identifiers.org/hmdb/HMDB00902\"/>\n",
      "                  <rdf:li rdf:resource=\"http://identifiers.org/kegg.compound/C00003\"/>\n",
      "                  <rdf:li rdf:resource=\"http://identifiers.org/kegg.compound/D00002\"/>\n",
      "                  <rdf:li rdf:resource=\"http://identifiers.org/seed.compound/cpd00003\"/>\n",
      "                </rdf:Bag>\n",
      "              </bqbiol:is>\n",
      "            </rdf:Description>\n",
      "            <rdf:Ibisba rdf:about=\"#_4354ed2227b0469132f44f938fb566fc\">\n",
      "              <ibisba:ibisba xmlns:ibisba=\"http://ibisba.eu/qualifiers\">\n",
      "                <ibisba:smiles>NC(=O)c1ccc[n+](c1)[C@@H]1O[C@H](COP([O-])(=O)OP([O-])(=O)OC[C@H]2O[C@H]([C@H](O)[C@@H]2O)n2cnc3c(N)ncnc23)[C@@H](O)[C@H]1O</ibisba:smiles>\n",
      "                <ibisba:inchi>InChI=1S/C21H27N7O14P2/c22-17-12-19(25-7-24-17)28(8-26-12)21-16(32)14(30)11(41-21)6-39-44(36,37)42-43(34,35)38-5-10-13(29)15(31)20(40-10)27-3-1-2-9(4-27)18(23)33/h1-4,7-8,10-11,13-16,20-21,29-32H,5-6H2,(H5-,22,23,24,25,33,34,35,36,37)/p-1/t10-,11-,13-,14-,15-,16-,20-,21-/m1/s1</ibisba:inchi>\n",
      "                <ibisba:inchikey>BAWFJGJZGIEFAR-NNYOXOHSSA-M</ibisba:inchikey>\n",
      "                <ibisba:ddG units=\"kj_per_mol\"/>\n",
      "                <ibisba:ddG_uncert units=\"kj_per_mol\"/>\n",
      "              </ibisba:ibisba>\n",
      "            </rdf:Ibisba>\n",
      "          </rdf:RDF>\n",
      "        </annotation>\n",
      "      </species>\n",
      "      <species metaid=\"ee08cafb5274b6989e332af7c06ce4f6\" id=\"MNXM4__64__cytoplasm\" name=\"MNXM4\" compartment=\"cytoplasm\" initialConcentration=\"1\" hasOnlySubstanceUnits=\"false\" boundaryCondition=\"false\" constant=\"false\" fbc:charge=\"0\">\n",
      "        <annotation>\n",
      "          <rdf:RDF xmlns:rdf=\"http://www.w3.org/1999/02/22-rdf-syntax-ns#\" xmlns:bqbiol=\"http://biomodels.net/biology-qualifiers/\" xmlns:bqmodel=\"http://biomodels.net/model-qualifiers/\">\n",
      "            <rdf:Description rdf:about=\"#ee08cafb5274b6989e332af7c06ce4f6\">\n",
      "              <bqbiol:is>\n",
      "                <rdf:Bag>\n",
      "                  <rdf:li rdf:resource=\"http://identifiers.org/bigg.metabolite/o2\"/>\n",
      "                  <rdf:li rdf:resource=\"http://identifiers.org/bigg.metabolite/M_o2\"/>\n",
      "                  <rdf:li rdf:resource=\"http://identifiers.org/metanetx.chemical/MNXM4\"/>\n",
      "                  <rdf:li rdf:resource=\"http://identifiers.org/metanetx.chemical/MNXM114217\"/>\n",
      "                  <rdf:li rdf:resource=\"http://identifiers.org/metanetx.chemical/MNXM89559\"/>\n",
      "                  <rdf:li rdf:resource=\"http://identifiers.org/metanetx.chemical/MNXM97007\"/>\n",
      "                  <rdf:li rdf:resource=\"http://identifiers.org/chebi/CHEBI:15379\"/>\n",
      "                  <rdf:li rdf:resource=\"http://identifiers.org/chebi/CHEBI:10745\"/>\n",
      "                  <rdf:li rdf:resource=\"http://identifiers.org/chebi/CHEBI:13416\"/>\n",
      "                  <rdf:li rdf:resource=\"http://identifiers.org/chebi/CHEBI:23833\"/>\n",
      "                  <rdf:li rdf:resource=\"http://identifiers.org/chebi/CHEBI:25366\"/>\n",
      "                  <rdf:li rdf:resource=\"http://identifiers.org/chebi/CHEBI:29097\"/>\n",
      "                  <rdf:li rdf:resource=\"http://identifiers.org/chebi/CHEBI:30491\"/>\n",
      "                  <rdf:li rdf:resource=\"http://identifiers.org/chebi/CHEBI:44742\"/>\n",
      "                  <rdf:li rdf:resource=\"http://identifiers.org/chebi/CHEBI:7860\"/>\n",
      "                  <rdf:li rdf:resource=\"http://identifiers.org/chebi/CHEBI:26689\"/>\n",
      "                  <rdf:li rdf:resource=\"http://identifiers.org/chebi/CHEBI:27140\"/>\n",
      "                  <rdf:li rdf:resource=\"http://identifiers.org/chebi/CHEBI:29793\"/>\n",
      "                  <rdf:li rdf:resource=\"http://identifiers.org/hmdb/HMDB01377\"/>\n",
      "                  <rdf:li rdf:resource=\"http://identifiers.org/kegg.compound/C00007\"/>\n",
      "                  <rdf:li rdf:resource=\"http://identifiers.org/kegg.compound/D00003\"/>\n",
      "                  <rdf:li rdf:resource=\"http://identifiers.org/seed.compound/cpd00007\"/>\n",
      "                </rdf:Bag>\n",
      "              </bqbiol:is>\n",
      "            </rdf:Description>\n",
      "            <rdf:Ibisba rdf:about=\"#ee08cafb5274b6989e332af7c06ce4f6\">\n",
      "              <ibisba:ibisba xmlns:ibisba=\"http://ibisba.eu/qualifiers\">\n",
      "                <ibisba:smiles>O=O</ibisba:smiles>\n",
      "                <ibisba:inchi>InChI=1S/O2/c1-2</ibisba:inchi>\n",
      "                <ibisba:inchikey>MYMOFIZGZYHOMD-UHFFFAOYSA-N</ibisba:inchikey>\n",
      "                <ibisba:ddG units=\"kj_per_mol\"/>\n",
      "                <ibisba:ddG_uncert units=\"kj_per_mol\"/>\n",
      "              </ibisba:ibisba>\n",
      "            </rdf:Ibisba>\n",
      "          </rdf:RDF>\n",
      "        </annotation>\n",
      "      </species>\n",
      "      <species metaid=\"b64ad79fa334c16e5dc682747457ab9c\" id=\"MNXM188__64__cytoplasm\" name=\"MNXM188\" compartment=\"cytoplasm\" initialConcentration=\"1\" hasOnlySubstanceUnits=\"false\" boundaryCondition=\"false\" constant=\"false\" fbc:charge=\"0\">\n",
      "        <annotation>\n",
      "          <rdf:RDF xmlns:rdf=\"http://www.w3.org/1999/02/22-rdf-syntax-ns#\" xmlns:bqbiol=\"http://biomodels.net/biology-qualifiers/\" xmlns:bqmodel=\"http://biomodels.net/model-qualifiers/\">\n",
      "            <rdf:Description rdf:about=\"#b64ad79fa334c16e5dc682747457ab9c\">\n",
      "              <bqbiol:is>\n",
      "                <rdf:Bag>\n",
      "                  <rdf:li rdf:resource=\"http://identifiers.org/bigg.metabolite/anth\"/>\n",
      "                  <rdf:li rdf:resource=\"http://identifiers.org/bigg.metabolite/M_anth\"/>\n",
      "                  <rdf:li rdf:resource=\"http://identifiers.org/metanetx.chemical/MNXM188\"/>\n",
      "                  <rdf:li rdf:resource=\"http://identifiers.org/chebi/CHEBI:16567\"/>\n",
      "                  <rdf:li rdf:resource=\"http://identifiers.org/chebi/CHEBI:13841\"/>\n",
      "                  <rdf:li rdf:resource=\"http://identifiers.org/chebi/CHEBI:22575\"/>\n",
      "                  <rdf:li rdf:resource=\"http://identifiers.org/chebi/CHEBI:30754\"/>\n",
      "                  <rdf:li rdf:resource=\"http://identifiers.org/chebi/CHEBI:22577\"/>\n",
      "                  <rdf:li rdf:resource=\"http://identifiers.org/chebi/CHEBI:22578\"/>\n",
      "                  <rdf:li rdf:resource=\"http://identifiers.org/chebi/CHEBI:2757\"/>\n",
      "                  <rdf:li rdf:resource=\"http://identifiers.org/chebi/CHEBI:40980\"/>\n",
      "                  <rdf:li rdf:resource=\"http://identifiers.org/hmdb/HMDB01123\"/>\n",
      "                  <rdf:li rdf:resource=\"http://identifiers.org/kegg.compound/C00108\"/>\n",
      "                  <rdf:li rdf:resource=\"http://identifiers.org/seed.compound/cpd00093\"/>\n",
      "                </rdf:Bag>\n",
      "              </bqbiol:is>\n",
      "            </rdf:Description>\n",
      "            <rdf:Ibisba rdf:about=\"#b64ad79fa334c16e5dc682747457ab9c\">\n",
      "              <ibisba:ibisba xmlns:ibisba=\"http://ibisba.eu/qualifiers\">\n",
      "                <ibisba:smiles>[H]OC(=O)c1c([H])c([H])c([H])c([H])c1N([H])[H]</ibisba:smiles>\n",
      "                <ibisba:inchi>InChI=1S/C7H7NO2/c8-6-4-2-1-3-5(6)7(9)10/h1-4H,8H2,(H,9,10)/p-1</ibisba:inchi>\n",
      "                <ibisba:inchikey>RWZYAGGXGHYGMB-UHFFFAOYSA-M</ibisba:inchikey>\n",
      "                <ibisba:ddG units=\"kj_per_mol\"/>\n",
      "                <ibisba:ddG_uncert units=\"kj_per_mol\"/>\n",
      "              </ibisba:ibisba>\n",
      "            </rdf:Ibisba>\n",
      "          </rdf:RDF>\n",
      "        </annotation>\n",
      "      </species>\n",
      "    </listOfSpecies>\n",
      "    <listOfParameters>\n",
      "      <parameter metaid=\"bdc8f6b389997dd8c94563245322e89c\" sboTerm=\"SBO:0000625\" id=\"B_INF\" value=\"INF\" units=\"kj_per_mol\" constant=\"true\"/>\n",
      "      <parameter metaid=\"e62cee005b9f8a5fc80cf04d67a30de3\" sboTerm=\"SBO:0000625\" id=\"B__INF\" value=\"-INF\" units=\"kj_per_mol\" constant=\"true\"/>\n",
      "    </listOfParameters>\n",
      "  </model>\n",
      "</sbml>\n"
     ]
    }
   ],
   "source": [
    "print(rpsbml.document.toSBML())"
   ]
  },
  {
   "cell_type": "code",
   "execution_count": 12,
   "metadata": {},
   "outputs": [
    {
     "name": "stderr",
     "output_type": "stream",
     "text": [
      "WARNING:root:rpSBML object was initiated as empty. Please call createModel() to initalise the model\n"
     ]
    },
    {
     "data": {
      "text/plain": [
       "1"
      ]
     },
     "execution_count": 12,
     "metadata": {},
     "output_type": "execute_result"
    }
   ],
   "source": [
    "#createPathway\n",
    "rpsbml = rpSBML.rpSBML()\n",
    "rpsbml.genericModel('RetroPath_heterologous_pathway', 'rp_model')\n",
    "for meta in set([i for step in steps for lr in ['left', 'right'] for i in step[lr]]):\n",
    "    try:\n",
    "        inchi = rp_inchi[meta]\n",
    "    except KeyError:\n",
    "        inchi = None\n",
    "    try:\n",
    "        smiles = rp_smiles[meta]\n",
    "    except KeyError:\n",
    "        smiles = None\n",
    "    rpsbml.createSpecies(meta, None, inchi, smiles, 'cytoplasm', 0, '', None, None)\n",
    "rp_pathway = rpsbml.createPathway(path_id)\n",
    "#reactions\n",
    "step_id = 0\n",
    "for stepNum in range(len(steps)):\n",
    "    rpsbml.createReaction('RP_'+str(stepNum), 'B_INF', 'B__INF', steps[stepNum], reaction_smiles[stepNum], 'cytoplasm', rpsbml.hetero_group, None)\n",
    "    step_id += 1\n",
    "libsbml.writeSBML(rpsbml.document, 'models/test_createPathway.sbml')"
   ]
  },
  {
   "cell_type": "code",
   "execution_count": 13,
   "metadata": {},
   "outputs": [
    {
     "name": "stderr",
     "output_type": "stream",
     "text": [
      "WARNING:root:rpSBML object was initiated as empty. Please call createModel() to initalise the model\n"
     ]
    },
    {
     "data": {
      "text/plain": [
       "1"
      ]
     },
     "execution_count": 13,
     "metadata": {},
     "output_type": "execute_result"
    }
   ],
   "source": [
    "#createReaction\n",
    "rpsbml = rpSBML.rpSBML()\n",
    "rpsbml.genericModel('RetroPath_heterologous_pathway', 'rp_model')\n",
    "for meta in set([i for step in steps for lr in ['left', 'right'] for i in step[lr]]):\n",
    "    try:\n",
    "        inchi = rp_inchi[meta]\n",
    "    except KeyError:\n",
    "        inchi = None\n",
    "    try:\n",
    "        smiles = rp_smiles[meta]\n",
    "    except KeyError:\n",
    "        smiles = None\n",
    "    rpsbml.createSpecies(meta, None, inchi, smiles, 'cytoplasm', 0, '', None, None)\n",
    "rpsbml.createPathway(path_id)\n",
    "#reactions\n",
    "step_id = 0\n",
    "for stepNum in range(len(steps)):\n",
    "    rpsbml.createReaction('RP_'+str(stepNum), 'B_INF', 'B__INF', steps[stepNum], reaction_smiles[stepNum], 'cytoplasm', None, None)\n",
    "    step_id += 1\n",
    "libsbml.writeSBML(rpsbml.document, 'models/test_createReaction.sbml')"
   ]
  },
  {
   "cell_type": "code",
   "execution_count": 14,
   "metadata": {},
   "outputs": [
    {
     "name": "stderr",
     "output_type": "stream",
     "text": [
      "WARNING:root:rpSBML object was initiated as empty. Please call createModel() to initalise the model\n"
     ]
    },
    {
     "data": {
      "text/plain": [
       "1"
      ]
     },
     "execution_count": 14,
     "metadata": {},
     "output_type": "execute_result"
    }
   ],
   "source": [
    "#createFluxObj\n",
    "rpsbml = rpSBML.rpSBML()\n",
    "rpsbml.genericModel('RetroPath_heterologous_pathway', 'rp_model')\n",
    "for meta in set([i for step in steps for lr in ['left', 'right'] for i in step[lr]]):\n",
    "    try:\n",
    "        inchi = rp_inchi[meta]\n",
    "    except KeyError:\n",
    "        inchi = None\n",
    "    try:\n",
    "        smiles = rp_smiles[meta]\n",
    "    except KeyError:\n",
    "        smiles = None\n",
    "    rpsbml.createSpecies(meta, None, inchi, smiles, 'cytoplasm', 0, '', None, None)\n",
    "rpsbml.createPathway(path_id)\n",
    "step_id = 0\n",
    "for stepNum in range(len(steps)):\n",
    "    rpsbml.createReaction('RP_'+str(stepNum), 'B_INF', 'B__INF', steps[stepNum], reaction_smiles[stepNum], 'cytoplasm')\n",
    "    step_id += 1\n",
    "rpsbml.createFluxObj('flux1', 'RP_1', 2.0, True)\n",
    "libsbml.writeSBML(rpsbml.document, 'models/test_createFluxObj.sbml')"
   ]
  },
  {
   "cell_type": "code",
   "execution_count": 15,
   "metadata": {},
   "outputs": [
    {
     "name": "stderr",
     "output_type": "stream",
     "text": [
      "WARNING:root:rpSBML object was initiated as empty. Please call createModel() to initalise the model\n"
     ]
    },
    {
     "data": {
      "text/plain": [
       "1"
      ]
     },
     "execution_count": 15,
     "metadata": {},
     "output_type": "execute_result"
    }
   ],
   "source": [
    "#readAnnotation\n",
    "rpsbml = rpSBML.rpSBML()\n",
    "rpsbml.genericModel('RetroPath_heterologous_pathway', 'rp_model')\n",
    "for meta in set([i for step in steps for lr in ['left', 'right'] for i in step[lr]]):\n",
    "    try:\n",
    "        inchi = rp_inchi[meta]\n",
    "    except KeyError:\n",
    "        inchi = None\n",
    "    try:\n",
    "        smiles = rp_smiles[meta]\n",
    "    except KeyError:\n",
    "        smiles = None\n",
    "    rpsbml.createSpecies(meta, None, inchi, smiles, 'cytoplasm', 0, '', None, None)\n",
    "libsbml.writeSBML(rpsbml.document, 'models/test_readAnnotation.sbml')"
   ]
  },
  {
   "cell_type": "code",
   "execution_count": 17,
   "metadata": {},
   "outputs": [
    {
     "name": "stderr",
     "output_type": "stream",
     "text": [
      "WARNING:root:rpSBML object was initiated as empty. Please call createModel() to initalise the model\n"
     ]
    }
   ],
   "source": [
    "#compare annotation\n",
    "#rpsbml = rpSBML.rpSBML()\n",
    "#document = libsbml.readSBML('models/test_createPathway.sbml')\n",
    "#model = document.getModel()"
   ]
  },
  {
   "cell_type": "code",
   "execution_count": null,
   "metadata": {},
   "outputs": [],
   "source": []
  },
  {
   "cell_type": "code",
   "execution_count": null,
   "metadata": {},
   "outputs": [],
   "source": []
  },
  {
   "cell_type": "code",
   "execution_count": null,
   "metadata": {},
   "outputs": [],
   "source": []
  },
  {
   "cell_type": "code",
   "execution_count": null,
   "metadata": {},
   "outputs": [],
   "source": []
  },
  {
   "cell_type": "code",
   "execution_count": 19,
   "metadata": {},
   "outputs": [
    {
     "data": {
      "text/plain": [
       "<libsbml.XMLNode proxy of <Swig Object of type 'XMLNode_t *' at 0x7f98be04c510> >"
      ]
     },
     "execution_count": 19,
     "metadata": {},
     "output_type": "execute_result"
    }
   ],
   "source": [
    "model.species[0].getAnnotation()"
   ]
  },
  {
   "cell_type": "code",
   "execution_count": null,
   "metadata": {},
   "outputs": [],
   "source": []
  },
  {
   "cell_type": "code",
   "execution_count": 92,
   "metadata": {},
   "outputs": [],
   "source": [
    "yeast_document = libsbml.readSBML('/home/mdulac/Downloads/bigg_iMM904.COBRA-sbml3.xml')\n",
    "yeast_model = yeast_document.getModel()\n",
    "rpsbml.mergeModels(yeast_document.getModel())"
   ]
  },
  {
   "cell_type": "code",
   "execution_count": null,
   "metadata": {},
   "outputs": [],
   "source": []
  },
  {
   "cell_type": "code",
   "execution_count": null,
   "metadata": {},
   "outputs": [],
   "source": []
  },
  {
   "cell_type": "code",
   "execution_count": 4,
   "metadata": {},
   "outputs": [
    {
     "data": {
      "text/plain": [
       "{'bigg.metabolite': ['h', 'M_h'],\n",
       " 'metanetx.chemical': ['MNXM1', 'MNXM145872', 'MNXM89553'],\n",
       " 'chebi': ['CHEBI:15378', 'CHEBI:10744', 'CHEBI:13357', 'CHEBI:5584'],\n",
       " 'hmdb': ['HMDB59597'],\n",
       " 'kegg.compound': ['C00080'],\n",
       " 'seed.compound': ['cpd00067']}"
      ]
     },
     "execution_count": 4,
     "metadata": {},
     "output_type": "execute_result"
    }
   ],
   "source": [
    "rpsbml.readAnnotation(rpsbml.model.getSpecies('MNXM1__64__cytoplasm').getAnnotation())"
   ]
  },
  {
   "cell_type": "code",
   "execution_count": 5,
   "metadata": {},
   "outputs": [],
   "source": [
    "a = rpsbml.model.getSpecies('MNXM1__64__cytoplasm').getAnnotation()"
   ]
  },
  {
   "cell_type": "code",
   "execution_count": 6,
   "metadata": {},
   "outputs": [
    {
     "data": {
      "text/plain": [
       "{'smiles': '[H+]',\n",
       " 'inchi': 'InChI=1S',\n",
       " 'inchikey': '',\n",
       " 'ddG': {'units': 'kj_per_mol', 'value': ''},\n",
       " 'ddG_uncert': {'units': 'kj_per_mol', 'value': ''}}"
      ]
     },
     "execution_count": 6,
     "metadata": {},
     "output_type": "execute_result"
    }
   ],
   "source": [
    "rpsbml.readIBISBAAnnotation(a)"
   ]
  },
  {
   "cell_type": "code",
   "execution_count": 12,
   "metadata": {},
   "outputs": [],
   "source": [
    "b = a.getChild('RDF').getChild('Ibisba').getChild('ibisba')"
   ]
  },
  {
   "cell_type": "code",
   "execution_count": 13,
   "metadata": {},
   "outputs": [
    {
     "data": {
      "text/plain": [
       "5"
      ]
     },
     "execution_count": 13,
     "metadata": {},
     "output_type": "execute_result"
    }
   ],
   "source": [
    "b.getNumChildren()"
   ]
  },
  {
   "cell_type": "code",
   "execution_count": 10,
   "metadata": {},
   "outputs": [
    {
     "name": "stdout",
     "output_type": "stream",
     "text": [
      "<ibisba:ibisba xmlns:ibisba=\"http://ibisba.eu/qualifiers\">\n",
      "  <ibisba:smiles>[H+]</ibisba:smiles>\n",
      "  <ibisba:inchi>InChI=1S</ibisba:inchi>\n",
      "  <ibisba:inchikey/>\n",
      "  <ibisba:ddG units=\"kj_per_mol\"/>\n",
      "  <ibisba:ddG_uncert units=\"kj_per_mol\"/>\n",
      "</ibisba:ibisba>\n"
     ]
    }
   ],
   "source": [
    "print(b.toXMLString())"
   ]
  },
  {
   "cell_type": "code",
   "execution_count": 19,
   "metadata": {},
   "outputs": [],
   "source": [
    "c = b.getChild(0)"
   ]
  },
  {
   "cell_type": "code",
   "execution_count": 22,
   "metadata": {},
   "outputs": [
    {
     "data": {
      "text/plain": [
       "'<ibisba:smiles>[H+]</ibisba:smiles>'"
      ]
     },
     "execution_count": 22,
     "metadata": {},
     "output_type": "execute_result"
    }
   ],
   "source": [
    "c.toXMLString()"
   ]
  },
  {
   "cell_type": "code",
   "execution_count": 24,
   "metadata": {},
   "outputs": [
    {
     "data": {
      "text/plain": [
       "'smiles'"
      ]
     },
     "execution_count": 24,
     "metadata": {},
     "output_type": "execute_result"
    }
   ],
   "source": [
    "c.getName()"
   ]
  },
  {
   "cell_type": "code",
   "execution_count": 34,
   "metadata": {},
   "outputs": [
    {
     "data": {
      "text/plain": [
       "'[H+]'"
      ]
     },
     "execution_count": 34,
     "metadata": {},
     "output_type": "execute_result"
    }
   ],
   "source": [
    "b.getChild(0).getChild(0).toXMLString()"
   ]
  },
  {
   "cell_type": "code",
   "execution_count": 35,
   "metadata": {},
   "outputs": [
    {
     "name": "stdout",
     "output_type": "stream",
     "text": [
      "<ibisba:ibisba xmlns:ibisba=\"http://ibisba.eu/qualifiers\">\n",
      "  <ibisba:smiles>[H+]</ibisba:smiles>\n",
      "  <ibisba:inchi>InChI=1S</ibisba:inchi>\n",
      "  <ibisba:inchikey/>\n",
      "  <ibisba:ddG units=\"kj_per_mol\"/>\n",
      "  <ibisba:ddG_uncert units=\"kj_per_mol\"/>\n",
      "</ibisba:ibisba>\n"
     ]
    }
   ],
   "source": [
    "print(b.toXMLString())"
   ]
  },
  {
   "cell_type": "code",
   "execution_count": 33,
   "metadata": {},
   "outputs": [],
   "source": [
    "b = a.getChild('RDF').getChild('Ibisba')"
   ]
  },
  {
   "cell_type": "code",
   "execution_count": 34,
   "metadata": {},
   "outputs": [
    {
     "name": "stdout",
     "output_type": "stream",
     "text": [
      "<rdf:Ibisba rdf:about=\"#_8abbc7f30aac6ab1c526b763e164dbc5\">\n",
      "  <ibisba:ibisba xmlns:ibisba=\"http://ibisba.eu/qualifiers\">\n",
      "    <ibisba:smiles>[H+]</ibisba:smiles>\n",
      "    <ibisba:inchi>InChI=1S</ibisba:inchi>\n",
      "    <ibisba:inchikey/>\n",
      "    <ibisba:parameter type=\"ddG\" units=\"kj_per_mol\"/>\n",
      "    <ibisba:parameter type=\"ddG_uncert\" units=\"kj_per_mol\"/>\n",
      "  </ibisba:ibisba>\n",
      "</rdf:Ibisba>\n"
     ]
    }
   ],
   "source": [
    "print(b.toXMLString())"
   ]
  },
  {
   "cell_type": "code",
   "execution_count": 35,
   "metadata": {},
   "outputs": [],
   "source": [
    "c = b.getChild('ibisba')"
   ]
  },
  {
   "cell_type": "code",
   "execution_count": 36,
   "metadata": {},
   "outputs": [
    {
     "name": "stdout",
     "output_type": "stream",
     "text": [
      "<ibisba:ibisba xmlns:ibisba=\"http://ibisba.eu/qualifiers\">\n",
      "  <ibisba:smiles>[H+]</ibisba:smiles>\n",
      "  <ibisba:inchi>InChI=1S</ibisba:inchi>\n",
      "  <ibisba:inchikey/>\n",
      "  <ibisba:parameter type=\"ddG\" units=\"kj_per_mol\"/>\n",
      "  <ibisba:parameter type=\"ddG_uncert\" units=\"kj_per_mol\"/>\n",
      "</ibisba:ibisba>\n"
     ]
    }
   ],
   "source": [
    "print(c.toXMLString())"
   ]
  },
  {
   "cell_type": "code",
   "execution_count": 67,
   "metadata": {},
   "outputs": [
    {
     "data": {
      "text/plain": [
       "'<ibisba:parameter type=\"ddG\" units=\"kj_per_mol\"/>'"
      ]
     },
     "execution_count": 67,
     "metadata": {},
     "output_type": "execute_result"
    }
   ],
   "source": [
    "c.getChild(3).toXMLString()"
   ]
  },
  {
   "cell_type": "code",
   "execution_count": 68,
   "metadata": {},
   "outputs": [],
   "source": [
    "d = c.getChild(3)"
   ]
  },
  {
   "cell_type": "code",
   "execution_count": 73,
   "metadata": {},
   "outputs": [
    {
     "data": {
      "text/plain": [
       "''"
      ]
     },
     "execution_count": 73,
     "metadata": {},
     "output_type": "execute_result"
    }
   ],
   "source": [
    "d.getAttrValue('value')"
   ]
  },
  {
   "cell_type": "code",
   "execution_count": null,
   "metadata": {},
   "outputs": [],
   "source": []
  },
  {
   "cell_type": "code",
   "execution_count": null,
   "metadata": {},
   "outputs": [],
   "source": []
  },
  {
   "cell_type": "code",
   "execution_count": 37,
   "metadata": {},
   "outputs": [],
   "source": [
    "d = c.getChild(0)"
   ]
  },
  {
   "cell_type": "code",
   "execution_count": 38,
   "metadata": {},
   "outputs": [
    {
     "data": {
      "text/plain": [
       "'<ibisba:smiles>[H+]</ibisba:smiles>'"
      ]
     },
     "execution_count": 38,
     "metadata": {},
     "output_type": "execute_result"
    }
   ],
   "source": [
    "d.toXMLString()"
   ]
  },
  {
   "cell_type": "code",
   "execution_count": 58,
   "metadata": {},
   "outputs": [
    {
     "data": {
      "text/plain": [
       "'smiles'"
      ]
     },
     "execution_count": 58,
     "metadata": {},
     "output_type": "execute_result"
    }
   ],
   "source": [
    "d.getName()"
   ]
  },
  {
   "cell_type": "code",
   "execution_count": 61,
   "metadata": {},
   "outputs": [
    {
     "data": {
      "text/plain": [
       "'[H+]'"
      ]
     },
     "execution_count": 61,
     "metadata": {},
     "output_type": "execute_result"
    }
   ],
   "source": [
    "d.getChild(0).toXMLString()"
   ]
  },
  {
   "cell_type": "code",
   "execution_count": 62,
   "metadata": {},
   "outputs": [
    {
     "data": {
      "text/plain": [
       "'ibisba'"
      ]
     },
     "execution_count": 62,
     "metadata": {},
     "output_type": "execute_result"
    }
   ],
   "source": [
    "d.getPrefix()"
   ]
  },
  {
   "cell_type": "code",
   "execution_count": 63,
   "metadata": {},
   "outputs": [
    {
     "data": {
      "text/plain": [
       "'http://ibisba.eu/qualifiers'"
      ]
     },
     "execution_count": 63,
     "metadata": {},
     "output_type": "execute_result"
    }
   ],
   "source": [
    "d.getURI()"
   ]
  },
  {
   "cell_type": "code",
   "execution_count": 65,
   "metadata": {},
   "outputs": [
    {
     "data": {
      "text/plain": [
       "10"
      ]
     },
     "execution_count": 65,
     "metadata": {},
     "output_type": "execute_result"
    }
   ],
   "source": [
    "d.getName"
   ]
  },
  {
   "cell_type": "code",
   "execution_count": null,
   "metadata": {},
   "outputs": [],
   "source": []
  },
  {
   "cell_type": "code",
   "execution_count": null,
   "metadata": {},
   "outputs": [],
   "source": []
  },
  {
   "cell_type": "code",
   "execution_count": null,
   "metadata": {},
   "outputs": [],
   "source": []
  },
  {
   "cell_type": "code",
   "execution_count": 35,
   "metadata": {},
   "outputs": [
    {
     "data": {
      "text/plain": [
       "0"
      ]
     },
     "execution_count": 35,
     "metadata": {},
     "output_type": "execute_result"
    }
   ],
   "source": [
    "a.getIndex('RDF')"
   ]
  },
  {
   "cell_type": "code",
   "execution_count": 37,
   "metadata": {},
   "outputs": [],
   "source": [
    "b = a.getChild('RDF')"
   ]
  },
  {
   "cell_type": "code",
   "execution_count": 38,
   "metadata": {},
   "outputs": [
    {
     "data": {
      "text/plain": [
       "0"
      ]
     },
     "execution_count": 38,
     "metadata": {},
     "output_type": "execute_result"
    }
   ],
   "source": [
    "b.getIndex('Description')"
   ]
  },
  {
   "cell_type": "code",
   "execution_count": 30,
   "metadata": {},
   "outputs": [
    {
     "name": "stdout",
     "output_type": "stream",
     "text": [
      "<rdf:Description rdf:about=\"#ee08cafb5274b6989e332af7c06ce4f6\">\n",
      "  <bqbiol:is>\n",
      "    <rdf:Bag>\n",
      "      <rdf:li rdf:resource=\"http://identifiers.org/bigg.metabolite/o2\"/>\n",
      "      <rdf:li rdf:resource=\"http://identifiers.org/bigg.metabolite/M_o2\"/>\n",
      "      <rdf:li rdf:resource=\"http://identifiers.org/metanetx.chemical/MNXM4\"/>\n",
      "      <rdf:li rdf:resource=\"http://identifiers.org/metanetx.chemical/MNXM114217\"/>\n",
      "      <rdf:li rdf:resource=\"http://identifiers.org/metanetx.chemical/MNXM89559\"/>\n",
      "      <rdf:li rdf:resource=\"http://identifiers.org/metanetx.chemical/MNXM97007\"/>\n",
      "      <rdf:li rdf:resource=\"http://identifiers.org/chebi/CHEBI:15379\"/>\n",
      "      <rdf:li rdf:resource=\"http://identifiers.org/chebi/CHEBI:10745\"/>\n",
      "      <rdf:li rdf:resource=\"http://identifiers.org/chebi/CHEBI:13416\"/>\n",
      "      <rdf:li rdf:resource=\"http://identifiers.org/chebi/CHEBI:23833\"/>\n",
      "      <rdf:li rdf:resource=\"http://identifiers.org/chebi/CHEBI:25366\"/>\n",
      "      <rdf:li rdf:resource=\"http://identifiers.org/chebi/CHEBI:29097\"/>\n",
      "      <rdf:li rdf:resource=\"http://identifiers.org/chebi/CHEBI:30491\"/>\n",
      "      <rdf:li rdf:resource=\"http://identifiers.org/chebi/CHEBI:44742\"/>\n",
      "      <rdf:li rdf:resource=\"http://identifiers.org/chebi/CHEBI:7860\"/>\n",
      "      <rdf:li rdf:resource=\"http://identifiers.org/chebi/CHEBI:26689\"/>\n",
      "      <rdf:li rdf:resource=\"http://identifiers.org/chebi/CHEBI:27140\"/>\n",
      "      <rdf:li rdf:resource=\"http://identifiers.org/chebi/CHEBI:29793\"/>\n",
      "      <rdf:li rdf:resource=\"http://identifiers.org/hmdb/HMDB01377\"/>\n",
      "      <rdf:li rdf:resource=\"http://identifiers.org/kegg.compound/C00007\"/>\n",
      "      <rdf:li rdf:resource=\"http://identifiers.org/kegg.compound/D00003\"/>\n",
      "      <rdf:li rdf:resource=\"http://identifiers.org/seed.compound/cpd00007\"/>\n",
      "    </rdf:Bag>\n",
      "  </bqbiol:is>\n",
      "</rdf:Description>\n"
     ]
    }
   ],
   "source": [
    "print(b.toXMLString())"
   ]
  },
  {
   "cell_type": "code",
   "execution_count": 26,
   "metadata": {
    "scrolled": true
   },
   "outputs": [
    {
     "name": "stdout",
     "output_type": "stream",
     "text": [
      "<annotation>\n",
      "  <rdf:RDF xmlns:rdf=\"http://www.w3.org/1999/02/22-rdf-syntax-ns#\" xmlns:bqbiol=\"http://biomodels.net/biology-qualifiers/\" xmlns:bqmodel=\"http://biomodels.net/model-qualifiers/\">\n",
      "    <rdf:Description rdf:about=\"#ee08cafb5274b6989e332af7c06ce4f6\">\n",
      "      <bqbiol:is>\n",
      "        <rdf:Bag>\n",
      "          <rdf:li rdf:resource=\"http://identifiers.org/bigg.metabolite/o2\"/>\n",
      "          <rdf:li rdf:resource=\"http://identifiers.org/bigg.metabolite/M_o2\"/>\n",
      "          <rdf:li rdf:resource=\"http://identifiers.org/metanetx.chemical/MNXM4\"/>\n",
      "          <rdf:li rdf:resource=\"http://identifiers.org/metanetx.chemical/MNXM114217\"/>\n",
      "          <rdf:li rdf:resource=\"http://identifiers.org/metanetx.chemical/MNXM89559\"/>\n",
      "          <rdf:li rdf:resource=\"http://identifiers.org/metanetx.chemical/MNXM97007\"/>\n",
      "          <rdf:li rdf:resource=\"http://identifiers.org/chebi/CHEBI:15379\"/>\n",
      "          <rdf:li rdf:resource=\"http://identifiers.org/chebi/CHEBI:10745\"/>\n",
      "          <rdf:li rdf:resource=\"http://identifiers.org/chebi/CHEBI:13416\"/>\n",
      "          <rdf:li rdf:resource=\"http://identifiers.org/chebi/CHEBI:23833\"/>\n",
      "          <rdf:li rdf:resource=\"http://identifiers.org/chebi/CHEBI:25366\"/>\n",
      "          <rdf:li rdf:resource=\"http://identifiers.org/chebi/CHEBI:29097\"/>\n",
      "          <rdf:li rdf:resource=\"http://identifiers.org/chebi/CHEBI:30491\"/>\n",
      "          <rdf:li rdf:resource=\"http://identifiers.org/chebi/CHEBI:44742\"/>\n",
      "          <rdf:li rdf:resource=\"http://identifiers.org/chebi/CHEBI:7860\"/>\n",
      "          <rdf:li rdf:resource=\"http://identifiers.org/chebi/CHEBI:26689\"/>\n",
      "          <rdf:li rdf:resource=\"http://identifiers.org/chebi/CHEBI:27140\"/>\n",
      "          <rdf:li rdf:resource=\"http://identifiers.org/chebi/CHEBI:29793\"/>\n",
      "          <rdf:li rdf:resource=\"http://identifiers.org/hmdb/HMDB01377\"/>\n",
      "          <rdf:li rdf:resource=\"http://identifiers.org/kegg.compound/C00007\"/>\n",
      "          <rdf:li rdf:resource=\"http://identifiers.org/kegg.compound/D00003\"/>\n",
      "          <rdf:li rdf:resource=\"http://identifiers.org/seed.compound/cpd00007\"/>\n",
      "        </rdf:Bag>\n",
      "      </bqbiol:is>\n",
      "    </rdf:Description>\n",
      "    <rdf:Description rdf:about=\"#ee08cafb5274b6989e332af7c06ce4f6\">\n",
      "      <ibisba:ibisba xmlns:ibisba=\"http://ibisba.eu/qualifiers\">\n",
      "        <ibisba:smiles>O=O</ibisba:smiles>\n",
      "        <ibisba:inchi>InChI=1S/O2/c1-2</ibisba:inchi>\n",
      "        <ibisba:inchikey>MYMOFIZGZYHOMD-UHFFFAOYSA-N</ibisba:inchikey>\n",
      "        <ibisba:parameter type=\"ddG\" units=\"kj_per_mol\"/>\n",
      "        <ibisba:parameter type=\"ddG_uncert\" units=\"kj_per_mol\"/>\n",
      "      </ibisba:ibisba>\n",
      "    </rdf:Description>\n",
      "  </rdf:RDF>\n",
      "</annotation>\n"
     ]
    }
   ],
   "source": [
    "print(a.toXMLString())"
   ]
  },
  {
   "cell_type": "code",
   "execution_count": null,
   "metadata": {},
   "outputs": [],
   "source": []
  },
  {
   "cell_type": "code",
   "execution_count": null,
   "metadata": {},
   "outputs": [],
   "source": []
  },
  {
   "cell_type": "code",
   "execution_count": null,
   "metadata": {},
   "outputs": [],
   "source": []
  },
  {
   "cell_type": "code",
   "execution_count": 15,
   "metadata": {},
   "outputs": [],
   "source": [
    "a = rpsbml.model.species[6].getAnnotation()"
   ]
  },
  {
   "cell_type": "code",
   "execution_count": 16,
   "metadata": {},
   "outputs": [
    {
     "name": "stdout",
     "output_type": "stream",
     "text": [
      "<annotation>\n",
      "  <rdf:RDF xmlns:rdf=\"http://www.w3.org/1999/02/22-rdf-syntax-ns#\" xmlns:bqbiol=\"http://biomodels.net/biology-qualifiers/\" xmlns:bqmodel=\"http://biomodels.net/model-qualifiers/\">\n",
      "    <rdf:Description rdf:about=\"#_4354ed2227b0469132f44f938fb566fc\">\n",
      "      <bqbiol:is>\n",
      "        <rdf:Bag>\n",
      "          <rdf:li rdf:resource=\"http://identifiers.org/bigg.metabolite/nad\"/>\n",
      "          <rdf:li rdf:resource=\"http://identifiers.org/bigg.metabolite/M_nad\"/>\n",
      "          <rdf:li rdf:resource=\"http://identifiers.org/metanetx.chemical/MNXM8\"/>\n",
      "          <rdf:li rdf:resource=\"http://identifiers.org/metanetx.chemical/MNXM588016\"/>\n",
      "          <rdf:li rdf:resource=\"http://identifiers.org/metanetx.chemical/MNXM96411\"/>\n",
      "          <rdf:li rdf:resource=\"http://identifiers.org/chebi/CHEBI:15846\"/>\n",
      "          <rdf:li rdf:resource=\"http://identifiers.org/chebi/CHEBI:13394\"/>\n",
      "          <rdf:li rdf:resource=\"http://identifiers.org/chebi/CHEBI:21901\"/>\n",
      "          <rdf:li rdf:resource=\"http://identifiers.org/chebi/CHEBI:29867\"/>\n",
      "          <rdf:li rdf:resource=\"http://identifiers.org/chebi/CHEBI:7422\"/>\n",
      "          <rdf:li rdf:resource=\"http://identifiers.org/chebi/CHEBI:44215\"/>\n",
      "          <rdf:li rdf:resource=\"http://identifiers.org/chebi/CHEBI:13393\"/>\n",
      "          <rdf:li rdf:resource=\"http://identifiers.org/chebi/CHEBI:44214\"/>\n",
      "          <rdf:li rdf:resource=\"http://identifiers.org/chebi/CHEBI:44281\"/>\n",
      "          <rdf:li rdf:resource=\"http://identifiers.org/chebi/CHEBI:57540\"/>\n",
      "          <rdf:li rdf:resource=\"http://identifiers.org/hmdb/HMDB00902\"/>\n",
      "          <rdf:li rdf:resource=\"http://identifiers.org/kegg.compound/C00003\"/>\n",
      "          <rdf:li rdf:resource=\"http://identifiers.org/kegg.compound/D00002\"/>\n",
      "          <rdf:li rdf:resource=\"http://identifiers.org/seed.compound/cpd00003\"/>\n",
      "        </rdf:Bag>\n",
      "      </bqbiol:is>\n",
      "    </rdf:Description>\n",
      "    <rdf:Description rdf:about=\"#_4354ed2227b0469132f44f938fb566fc\">\n",
      "      <ibisba:ibisba xmlns:ibisba=\"http://ibisba.eu/qualifiers\">\n",
      "        <ibisba:smiles>NC(=O)c1ccc[n+](c1)[C@@H]1O[C@H](COP([O-])(=O)OP([O-])(=O)OC[C@H]2O[C@H]([C@H](O)[C@@H]2O)n2cnc3c(N)ncnc23)[C@@H](O)[C@H]1O</ibisba:smiles>\n",
      "        <ibisba:inchi>InChI=1S/C21H27N7O14P2/c22-17-12-19(25-7-24-17)28(8-26-12)21-16(32)14(30)11(41-21)6-39-44(36,37)42-43(34,35)38-5-10-13(29)15(31)20(40-10)27-3-1-2-9(4-27)18(23)33/h1-4,7-8,10-11,13-16,20-21,29-32H,5-6H2,(H5-,22,23,24,25,33,34,35,36,37)/p-1/t10-,11-,13-,14-,15-,16-,20-,21-/m1/s1</ibisba:inchi>\n",
      "        <ibisba:inchikey>BAWFJGJZGIEFAR-NNYOXOHSSA-M</ibisba:inchikey>\n",
      "        <ibisba:parameter type=\"ddG\" units=\"kj_per_mol\"/>\n",
      "        <ibisba:parameter type=\"ddG_uncert\" units=\"kj_per_mol\"/>\n",
      "      </ibisba:ibisba>\n",
      "    </rdf:Description>\n",
      "  </rdf:RDF>\n",
      "</annotation>\n"
     ]
    }
   ],
   "source": [
    "print(a.toXMLString())"
   ]
  },
  {
   "cell_type": "code",
   "execution_count": null,
   "metadata": {},
   "outputs": [],
   "source": []
  },
  {
   "cell_type": "code",
   "execution_count": null,
   "metadata": {},
   "outputs": [],
   "source": []
  },
  {
   "cell_type": "code",
   "execution_count": null,
   "metadata": {},
   "outputs": [],
   "source": []
  },
  {
   "cell_type": "code",
   "execution_count": 45,
   "metadata": {},
   "outputs": [
    {
     "name": "stderr",
     "output_type": "stream",
     "text": [
      "WARNING:root:rpSBML object was initiated as empty. Please call createModel() to initalise the model\n"
     ]
    }
   ],
   "source": [
    "rpsbml = rpSBML.rpSBML()\n",
    "######### Model\n",
    "rpsbml.genericModel('RetroPath_heterologous_pathway', 'rp_model')\n",
    "#list all the unique metabolites that must be created\n",
    "#identify if there are InchI or SMILES description of the two different molecules\n",
    "for meta in set([i for step in steps for lr in ['left', 'right'] for i in step[lr]]):\n",
    "    try:\n",
    "        inchi = rp_inchi[meta]\n",
    "    except KeyError:\n",
    "        inchi = None\n",
    "    try:\n",
    "        smiles = rp_smiles[meta]\n",
    "    except KeyError:\n",
    "        smiles = None\n",
    "    rpsbml.createSpecies(meta, None, inchi, smiles, 'cytoplasm')\n",
    "rpsbml.createPathway(path_id)\n",
    "#reactions\n",
    "step_id = 0\n",
    "for stepNum in range(len(steps)):\n",
    "    rpsbml.createReaction('RP_'+str(stepNum), 'B_INF', 'B__INF', steps[stepNum], reaction_smiles[stepNum], 'cytoplasm')\n",
    "    step_id += 1"
   ]
  },
  {
   "cell_type": "code",
   "execution_count": 82,
   "metadata": {},
   "outputs": [
    {
     "data": {
      "text/plain": [
       "{'bigg': ['10fthf', 'M_10fthf'],\n",
       " 'chebi': ['15637', '11304', '19108', '19109', '698', '57454'],\n",
       " 'hmdb': ['HMDB00972'],\n",
       " 'kegg': ['C00234'],\n",
       " 'metacyc': ['10-FORMYL-THF'],\n",
       " 'reactome': ['419151', '5389850'],\n",
       " 'sabiork': ['1318'],\n",
       " 'seed': ['cpd00201']}"
      ]
     },
     "execution_count": 82,
     "metadata": {},
     "output_type": "execute_result"
    }
   ],
   "source": [
    "rpsbml.chemXref['MNXM237']"
   ]
  },
  {
   "cell_type": "code",
   "execution_count": 46,
   "metadata": {},
   "outputs": [],
   "source": [
    "rpsbml.createFluxObj('flux1', 'RP_1', 2.0, True)"
   ]
  },
  {
   "cell_type": "code",
   "execution_count": 40,
   "metadata": {},
   "outputs": [
    {
     "name": "stderr",
     "output_type": "stream",
     "text": [
      "WARNING:root:rpSBML object was initiated as empty. Please call createModel() to initalise the model\n"
     ]
    },
    {
     "data": {
      "text/plain": [
       "\"\\nunitDef = rpsbml.createUnitDefinition('mmol_per_gDW_per_hr')\\nrpsbml.createUnit(unitDef, libsbml.UNIT_KIND_MOLE, 1, -3, 1)\\nrpsbml.createUnit(unitDef, libsbml.UNIT_KIND_GRAM, 1, 0, 1)\\nrpsbml.createUnit(unitDef, libsbml.UNIT_KIND_SECOND, 1, 0, 3600)\\n# kj_per_mol\\ngibbsDef = rpsbml.createUnitDefinition('kj_per_mol')\\nrpsbml.createUnit(gibbsDef, libsbml.UNIT_KIND_JOULE, 1, 3, 1)\\nrpsbml.createUnit(gibbsDef, libsbml.UNIT_KIND_MOLE, 1, 1, 1)\\n# infinity parameters (FBA)\\n\\nupInfParam = rpsbml.createParameter('B_INF', float('inf'), 'kj_per_mol')\\nlowInfParam = rpsbml.createParameter('B__INF', float('-inf'), 'kj_per_mol')\\n\""
      ]
     },
     "execution_count": 40,
     "metadata": {},
     "output_type": "execute_result"
    }
   ],
   "source": [
    "rpsbml = rpSBML.rpSBML()\n",
    "\n",
    "rpsbml.createModel('RetroPath_heterologous_pathway', 'rp_model')\n",
    "# mmol_per_gDW_per_hr\n",
    "\n",
    "unitDef = rpsbml.createUnitDefinition('mmol_per_gDW_per_hr')\n",
    "rpsbml.createUnit(unitDef, libsbml.UNIT_KIND_MOLE, 1, -3, 1)\n",
    "rpsbml.createUnit(unitDef, libsbml.UNIT_KIND_GRAM, 1, 0, 1)\n",
    "rpsbml.createUnit(unitDef, libsbml.UNIT_KIND_SECOND, 1, 0, 3600)\n",
    "# kj_per_mol\n",
    "gibbsDef = rpsbml.createUnitDefinition('kj_per_mol')\n",
    "rpsbml.createUnit(gibbsDef, libsbml.UNIT_KIND_JOULE, 1, 3, 1)\n",
    "rpsbml.createUnit(gibbsDef, libsbml.UNIT_KIND_MOLE, 1, 1, 1)\n",
    "# infinity parameters (FBA)\n",
    "\n",
    "upInfParam = rpsbml.createParameter('B_INF', float('inf'), 'kj_per_mol')\n",
    "lowInfParam = rpsbml.createParameter('B__INF', float('-inf'), 'kj_per_mol')\n",
    "\n",
    "#compartment\n",
    "rpsbml.createCompartment(1, 'cytoplasm')\n"
   ]
  },
  {
   "cell_type": "code",
   "execution_count": null,
   "metadata": {},
   "outputs": [],
   "source": [
    "rpsbml = rpSBML.rpSBML()\n",
    "rpsbml.createModel('RetroPath_heterologous_pathway', 'rp_model')\n",
    "rpsbml.createFluxObj(1, )"
   ]
  },
  {
   "cell_type": "code",
   "execution_count": 57,
   "metadata": {},
   "outputs": [
    {
     "data": {
      "text/plain": [
       "'_5df40e51a5d358ecfdf0372317853a79'"
      ]
     },
     "execution_count": 57,
     "metadata": {},
     "output_type": "execute_result"
    }
   ],
   "source": [
    "rpsbml._genMetaID('###test_input-23####')"
   ]
  },
  {
   "cell_type": "code",
   "execution_count": 70,
   "metadata": {},
   "outputs": [
    {
     "data": {
      "text/plain": [
       "{}"
      ]
     },
     "execution_count": 70,
     "metadata": {},
     "output_type": "execute_result"
    }
   ],
   "source": [
    "rpsbml.readAnnotation(rpsbml.model.species[3].getAnnotation())"
   ]
  },
  {
   "cell_type": "code",
   "execution_count": 79,
   "metadata": {},
   "outputs": [],
   "source": [
    "a = rpsbml.model.species[8]"
   ]
  },
  {
   "cell_type": "code",
   "execution_count": 80,
   "metadata": {},
   "outputs": [
    {
     "name": "stdout",
     "output_type": "stream",
     "text": [
      "<annotation>\n",
      "  <rdf:RDF xmlns:rdf=\"http://www.w3.org/1999/02/22-rdf-syntax-ns#\" xmlns:bqbiol=\"http://biomodels.net/biology-qualifiers/\" xmlns:bqmodel=\"http://biomodels.net/model-qualifiers/\">\n",
      "    <rdf:Description rdf:about=\"#_9e590de202b6a3a9b1c3566cafda86d0\">\n",
      "      <bqbiol:is>\n",
      "        <rdf:Bag/>\n",
      "      </bqbiol:is>\n",
      "    </rdf:Description>\n",
      "    <rdf:Description rdf:about=\"#_9e590de202b6a3a9b1c3566cafda86d0\">\n",
      "      <ibisba:ibisba xmlns:ibisba=\"http://ibisba.eu/qualifiers\">\n",
      "        <ibisba:smiles>O=C=O</ibisba:smiles>\n",
      "        <ibisba:inchi>InChI=1S/CO2/c2-1-3</ibisba:inchi>\n",
      "        <ibisba:inchikey>CURLTUGMZLYLDI-UHFFFAOYSA-N</ibisba:inchikey>\n",
      "        <ibisba:parameter type=\"ddG\" units=\"kj_per_mol\"/>\n",
      "        <ibisba:parameter type=\"ddG_uncert\" units=\"kj_per_mol\"/>\n",
      "      </ibisba:ibisba>\n",
      "    </rdf:Description>\n",
      "  </rdf:RDF>\n",
      "</annotation>\n"
     ]
    }
   ],
   "source": [
    "print(a.getAnnotationString())"
   ]
  },
  {
   "cell_type": "code",
   "execution_count": null,
   "metadata": {},
   "outputs": [],
   "source": []
  },
  {
   "cell_type": "code",
   "execution_count": null,
   "metadata": {},
   "outputs": [],
   "source": [
    "rpsbml._nameToSbmlId('test_input')"
   ]
  },
  {
   "cell_type": "code",
   "execution_count": 47,
   "metadata": {},
   "outputs": [
    {
     "data": {
      "text/plain": [
       "1"
      ]
     },
     "execution_count": 47,
     "metadata": {},
     "output_type": "execute_result"
    }
   ],
   "source": [
    "#rpsbml = rpSBML.rpSBML()\n",
    "#rpsbml.genericModel('RetroPath_heterologous_pathway', 'rp_model')\n",
    "#pickle.dump({'rpsbml': rpsbml.model}, open('test/rpsbml.pickle', 'wb'))\n",
    "libsbml.writeSBML(rpsbml.document, 'test/models/test_createFluxObj.sbml')"
   ]
  },
  {
   "cell_type": "code",
   "execution_count": 11,
   "metadata": {},
   "outputs": [],
   "source": [
    "inModel = libsbml.readSBML('test/models/test_createSpecies.sbml')"
   ]
  },
  {
   "cell_type": "code",
   "execution_count": 23,
   "metadata": {},
   "outputs": [
    {
     "data": {
      "text/plain": [
       "'<sbml xmlns=\"http://www.sbml.org/sbml/level3/version1/core\" xmlns:groups=\"http://www.sbml.org/sbml/level3/version1/groups/version1\" xmlns:fbc=\"http://www.sbml.org/sbml/level3/version1/fbc/version2\" level=\"3\" version=\"1\" groups:required=\"false\" fbc:required=\"false\">\\n  <model metaid=\"_81bcdb4f4f90440a19855f20c14ac474\" id=\"rp_model\" name=\"RetroPath_heterologous_pathway\" substanceUnits=\"mole\" timeUnits=\"second\" extentUnits=\"mole\">\\n    <listOfUnitDefinitions>\\n      <unitDefinition metaid=\"aebbce66773195cbd5d82838dda4f0ea\" id=\"mmol_per_gDW_per_hr\">\\n        <listOfUnits>\\n          <unit kind=\"mole\" exponent=\"1\" scale=\"-3\" multiplier=\"1\"/>\\n          <unit kind=\"gram\" exponent=\"1\" scale=\"0\" multiplier=\"1\"/>\\n          <unit kind=\"second\" exponent=\"1\" scale=\"0\" multiplier=\"3600\"/>\\n        </listOfUnits>\\n      </unitDefinition>\\n      <unitDefinition metaid=\"_0346858f65275ff01aa2ac815127e134\" id=\"kj_per_mol\">\\n        <listOfUnits>\\n          <unit kind=\"joule\" exponent=\"1\" scale=\"3\" multiplier=\"1\"/>\\n          <unit kind=\"mole\" exponent=\"1\" scale=\"1\" multiplier=\"1\"/>\\n        </listOfUnits>\\n      </unitDefinition>\\n    </listOfUnitDefinitions>\\n    <listOfCompartments>\\n      <compartment metaid=\"bd93fc3ad12aa61c97ebe613673522d1\" sboTerm=\"SBO:0000290\" id=\"MNXC3\" name=\"cytoplasm\" size=\"1\" constant=\"true\">\\n        <annotation>\\n          <rdf:RDF xmlns:rdf=\"http://www.w3.org/1999/02/22-rdf-syntax-ns#\" xmlns:dcterms=\"http://purl.org/dc/terms/\" xmlns:vCard=\"http://www.w3.org/2001/vcard-rdf/3.0#\" xmlns:vCard4=\"http://www.w3.org/2006/vcard/ns#\" xmlns:bqbiol=\"http://biomodels.net/biology-qualifiers/\" xmlns:bqmodel=\"http://biomodels.net/model-qualifiers/\">\\n            <rdf:Description rdf:about=\"#bd93fc3ad12aa61c97ebe613673522d1\">\\n              <bqbiol:is>\\n                <rdf:Bag>\\n                  <rdf:li rdf:resource=\"http://identifiers.org/bigg.compartment/c\"/>\\n                  <rdf:li rdf:resource=\"http://identifiers.org/bigg.compartment/C_c\"/>\\n                  <rdf:li rdf:resource=\"http://identifiers.org/metanetx.compartment/MNXC3\"/>\\n                </rdf:Bag>\\n              </bqbiol:is>\\n            </rdf:Description>\\n          </rdf:RDF>\\n        </annotation>\\n      </compartment>\\n    </listOfCompartments>\\n    <listOfParameters>\\n      <parameter metaid=\"bdc8f6b389997dd8c94563245322e89c\" sboTerm=\"SBO:0000625\" id=\"B_INF\" value=\"INF\" units=\"kj_per_mol\" constant=\"true\"/>\\n      <parameter metaid=\"e62cee005b9f8a5fc80cf04d67a30de3\" sboTerm=\"SBO:0000625\" id=\"B__INF\" value=\"-INF\" units=\"kj_per_mol\" constant=\"true\"/>\\n    </listOfParameters>\\n  </model>\\n</sbml>'"
      ]
     },
     "execution_count": 23,
     "metadata": {},
     "output_type": "execute_result"
    }
   ],
   "source": [
    "rpsbml.document.toSBML()"
   ]
  },
  {
   "cell_type": "code",
   "execution_count": 21,
   "metadata": {},
   "outputs": [
    {
     "data": {
      "text/plain": [
       "'<sbml xmlns=\"http://www.sbml.org/sbml/level3/version1/core\" xmlns:groups=\"http://www.sbml.org/sbml/level3/version1/groups/version1\" xmlns:fbc=\"http://www.sbml.org/sbml/level3/version1/fbc/version2\" level=\"3\" version=\"1\" groups:required=\"false\" fbc:required=\"false\">\\n  <model metaid=\"_81bcdb4f4f90440a19855f20c14ac474\" id=\"rp_model\" name=\"RetroPath_heterologous_pathway\" substanceUnits=\"mole\" timeUnits=\"second\" extentUnits=\"mole\">\\n    <listOfUnitDefinitions>\\n      <unitDefinition metaid=\"aebbce66773195cbd5d82838dda4f0ea\" id=\"mmol_per_gDW_per_hr\">\\n        <listOfUnits>\\n          <unit kind=\"mole\" exponent=\"1\" scale=\"-3\" multiplier=\"1\"/>\\n          <unit kind=\"gram\" exponent=\"1\" scale=\"0\" multiplier=\"1\"/>\\n          <unit kind=\"second\" exponent=\"1\" scale=\"0\" multiplier=\"3600\"/>\\n        </listOfUnits>\\n      </unitDefinition>\\n      <unitDefinition metaid=\"_0346858f65275ff01aa2ac815127e134\" id=\"kj_per_mol\">\\n        <listOfUnits>\\n          <unit kind=\"joule\" exponent=\"1\" scale=\"3\" multiplier=\"1\"/>\\n          <unit kind=\"mole\" exponent=\"1\" scale=\"1\" multiplier=\"1\"/>\\n        </listOfUnits>\\n      </unitDefinition>\\n    </listOfUnitDefinitions>\\n    <listOfCompartments>\\n      <compartment metaid=\"bd93fc3ad12aa61c97ebe613673522d1\" sboTerm=\"SBO:0000290\" id=\"MNXC3\" name=\"cytoplasm\" size=\"1\" constant=\"true\">\\n        <annotation>\\n          <rdf:RDF xmlns:rdf=\"http://www.w3.org/1999/02/22-rdf-syntax-ns#\" xmlns:dcterms=\"http://purl.org/dc/terms/\" xmlns:vCard=\"http://www.w3.org/2001/vcard-rdf/3.0#\" xmlns:vCard4=\"http://www.w3.org/2006/vcard/ns#\" xmlns:bqbiol=\"http://biomodels.net/biology-qualifiers/\" xmlns:bqmodel=\"http://biomodels.net/model-qualifiers/\">\\n            <rdf:Description rdf:about=\"#bd93fc3ad12aa61c97ebe613673522d1\">\\n              <bqbiol:is>\\n                <rdf:Bag>\\n                  <rdf:li rdf:resource=\"http://identifiers.org/bigg.compartment/c\"/>\\n                  <rdf:li rdf:resource=\"http://identifiers.org/bigg.compartment/C_c\"/>\\n                  <rdf:li rdf:resource=\"http://identifiers.org/metanetx.compartment/MNXC3\"/>\\n                </rdf:Bag>\\n              </bqbiol:is>\\n            </rdf:Description>\\n          </rdf:RDF>\\n        </annotation>\\n      </compartment>\\n    </listOfCompartments>\\n    <listOfParameters>\\n      <parameter metaid=\"bdc8f6b389997dd8c94563245322e89c\" sboTerm=\"SBO:0000625\" id=\"B_INF\" value=\"INF\" units=\"kj_per_mol\" constant=\"true\"/>\\n      <parameter metaid=\"e62cee005b9f8a5fc80cf04d67a30de3\" sboTerm=\"SBO:0000625\" id=\"B__INF\" value=\"-INF\" units=\"kj_per_mol\" constant=\"true\"/>\\n    </listOfParameters>\\n  </model>\\n</sbml>'"
      ]
     },
     "execution_count": 21,
     "metadata": {},
     "output_type": "execute_result"
    }
   ],
   "source": [
    "inModel.toSBML()"
   ]
  },
  {
   "cell_type": "code",
   "execution_count": 9,
   "metadata": {},
   "outputs": [
    {
     "data": {
      "text/plain": [
       "1"
      ]
     },
     "execution_count": 9,
     "metadata": {},
     "output_type": "execute_result"
    }
   ],
   "source": [
    "libsbml.writeSBML(rpsbml.document, 'test_create.sbml')"
   ]
  },
  {
   "cell_type": "code",
   "execution_count": 10,
   "metadata": {},
   "outputs": [
    {
     "name": "stderr",
     "output_type": "stream",
     "text": [
      "WARNING:root:No annotation for the target of reaction: R1E379799\n",
      "WARNING:root:No annotation for the target of reaction: R1FE47CD0\n",
      "WARNING:root:No annotation for the target of reaction: R23B3CB97\n",
      "WARNING:root:No annotation for the target of reaction: R2878F964\n",
      "WARNING:root:No annotation for the target of reaction: R29011D12\n",
      "WARNING:root:No annotation for the target of reaction: R2B038C66\n",
      "WARNING:root:No annotation for the target of reaction: R30E36566\n",
      "WARNING:root:No annotation for the target of reaction: R3C4CA9B\n",
      "WARNING:root:No annotation for the target of reaction: R46025724\n",
      "WARNING:root:No annotation for the target of reaction: R51BADAB\n",
      "WARNING:root:No annotation for the target of reaction: R568BA36D\n",
      "WARNING:root:No annotation for the target of reaction: R5F2B3D87\n",
      "WARNING:root:No annotation for the target of reaction: R5FA8BED6\n",
      "WARNING:root:No annotation for the target of reaction: R612AED7B\n",
      "WARNING:root:No annotation for the target of reaction: R63838FEC\n",
      "WARNING:root:No annotation for the target of reaction: R66AB3C0\n",
      "WARNING:root:No annotation for the target of reaction: R679CE229\n",
      "WARNING:root:No annotation for the target of reaction: R6C1F9228\n",
      "WARNING:root:No annotation for the target of reaction: R72B0A671\n",
      "WARNING:root:No annotation for the target of reaction: R73DAFF0A\n",
      "WARNING:root:No annotation for the target of reaction: R7562F658\n",
      "WARNING:root:No annotation for the target of reaction: R7EE6D9E\n",
      "WARNING:root:No annotation for the target of reaction: R834A6793\n",
      "WARNING:root:No annotation for the target of reaction: R89C1FDAE\n",
      "WARNING:root:No annotation for the target of reaction: R89FF310A\n",
      "WARNING:root:No annotation for the target of reaction: R8FE2E553\n",
      "WARNING:root:No annotation for the target of reaction: R96FA9B37\n",
      "WARNING:root:No annotation for the target of reaction: R99E8E9C3\n",
      "WARNING:root:No annotation for the target of reaction: R99FFBC6\n",
      "WARNING:root:No annotation for the target of reaction: R9E4ADCC6\n",
      "WARNING:root:No annotation for the target of reaction: R9FF9176F\n",
      "WARNING:root:No annotation for the target of reaction: RA3083C8A\n",
      "WARNING:root:No annotation for the target of reaction: RA4F9D54C\n",
      "WARNING:root:No annotation for the target of reaction: RA75D56C1\n",
      "WARNING:root:No annotation for the target of reaction: RB3F93423\n",
      "WARNING:root:No annotation for the target of reaction: RB5276A23\n",
      "WARNING:root:No annotation for the target of reaction: RB54E0D8C\n",
      "WARNING:root:No annotation for the target of reaction: RB5B4D92B\n",
      "WARNING:root:No annotation for the target of reaction: RBA2111EB\n",
      "WARNING:root:No annotation for the target of reaction: RBCF0DD64\n",
      "WARNING:root:No annotation for the target of reaction: RBD497606\n",
      "WARNING:root:No annotation for the target of reaction: RC71DFEAC\n",
      "WARNING:root:No annotation for the target of reaction: RCCB2E7\n",
      "WARNING:root:No annotation for the target of reaction: RD46FAA6C\n",
      "WARNING:root:No annotation for the target of reaction: RD54E3324\n",
      "WARNING:root:No annotation for the target of reaction: RD981707B\n",
      "WARNING:root:No annotation for the target of reaction: RDADFE0EF\n",
      "WARNING:root:No annotation for the target of reaction: RE3C2F3CD\n",
      "WARNING:root:No annotation for the target of reaction: RE469AEF\n",
      "WARNING:root:No annotation for the target of reaction: REACAC36A\n",
      "WARNING:root:No annotation for the target of reaction: REB3C0F1C\n",
      "WARNING:root:No annotation for the target of reaction: REBF8ED76\n",
      "WARNING:root:No annotation for the target of reaction: RF3BEAE48\n",
      "WARNING:root:No annotation for the target of reaction: RF42916A2\n",
      "WARNING:root:No annotation for the target of reaction: RF7F9C1A0\n",
      "WARNING:root:No annotation for the target of reaction: RFD25AB3F\n",
      "WARNING:root:No annotation for the target of reaction: RFD36C1CA\n",
      "WARNING:root:No annotation for the target of reaction: R1E379799\n",
      "WARNING:root:No annotation for the target of reaction: R1FE47CD0\n",
      "WARNING:root:No annotation for the target of reaction: R23B3CB97\n",
      "WARNING:root:No annotation for the target of reaction: R2878F964\n",
      "WARNING:root:No annotation for the target of reaction: R29011D12\n",
      "WARNING:root:No annotation for the target of reaction: R2B038C66\n",
      "WARNING:root:No annotation for the target of reaction: R30E36566\n",
      "WARNING:root:No annotation for the target of reaction: R3C4CA9B\n",
      "WARNING:root:No annotation for the target of reaction: R46025724\n",
      "WARNING:root:No annotation for the target of reaction: R51BADAB\n",
      "WARNING:root:No annotation for the target of reaction: R568BA36D\n",
      "WARNING:root:No annotation for the target of reaction: R5F2B3D87\n",
      "WARNING:root:No annotation for the target of reaction: R5FA8BED6\n",
      "WARNING:root:No annotation for the target of reaction: R612AED7B\n",
      "WARNING:root:No annotation for the target of reaction: R63838FEC\n",
      "WARNING:root:No annotation for the target of reaction: R66AB3C0\n",
      "WARNING:root:No annotation for the target of reaction: R679CE229\n",
      "WARNING:root:No annotation for the target of reaction: R6C1F9228\n",
      "WARNING:root:No annotation for the target of reaction: R72B0A671\n",
      "WARNING:root:No annotation for the target of reaction: R73DAFF0A\n",
      "WARNING:root:No annotation for the target of reaction: R7562F658\n",
      "WARNING:root:No annotation for the target of reaction: R7EE6D9E\n",
      "WARNING:root:No annotation for the target of reaction: R834A6793\n",
      "WARNING:root:No annotation for the target of reaction: R89C1FDAE\n",
      "WARNING:root:No annotation for the target of reaction: R89FF310A\n",
      "WARNING:root:No annotation for the target of reaction: R8FE2E553\n",
      "WARNING:root:No annotation for the target of reaction: R96FA9B37\n",
      "WARNING:root:No annotation for the target of reaction: R99E8E9C3\n",
      "WARNING:root:No annotation for the target of reaction: R99FFBC6\n",
      "WARNING:root:No annotation for the target of reaction: R9E4ADCC6\n",
      "WARNING:root:No annotation for the target of reaction: R9FF9176F\n",
      "WARNING:root:No annotation for the target of reaction: RA3083C8A\n",
      "WARNING:root:No annotation for the target of reaction: RA4F9D54C\n",
      "WARNING:root:No annotation for the target of reaction: RA75D56C1\n",
      "WARNING:root:No annotation for the target of reaction: RB3F93423\n",
      "WARNING:root:No annotation for the target of reaction: RB5276A23\n",
      "WARNING:root:No annotation for the target of reaction: RB54E0D8C\n",
      "WARNING:root:No annotation for the target of reaction: RB5B4D92B\n",
      "WARNING:root:No annotation for the target of reaction: RBA2111EB\n",
      "WARNING:root:No annotation for the target of reaction: RBCF0DD64\n",
      "WARNING:root:No annotation for the target of reaction: RBD497606\n",
      "WARNING:root:No annotation for the target of reaction: RC71DFEAC\n",
      "WARNING:root:No annotation for the target of reaction: RCCB2E7\n",
      "WARNING:root:No annotation for the target of reaction: RD46FAA6C\n",
      "WARNING:root:No annotation for the target of reaction: RD54E3324\n",
      "WARNING:root:No annotation for the target of reaction: RD981707B\n",
      "WARNING:root:No annotation for the target of reaction: RDADFE0EF\n",
      "WARNING:root:No annotation for the target of reaction: RE3C2F3CD\n",
      "WARNING:root:No annotation for the target of reaction: RE469AEF\n",
      "WARNING:root:No annotation for the target of reaction: REACAC36A\n",
      "WARNING:root:No annotation for the target of reaction: REB3C0F1C\n",
      "WARNING:root:No annotation for the target of reaction: REBF8ED76\n",
      "WARNING:root:No annotation for the target of reaction: RF3BEAE48\n",
      "WARNING:root:No annotation for the target of reaction: RF42916A2\n",
      "WARNING:root:No annotation for the target of reaction: RF7F9C1A0\n",
      "WARNING:root:No annotation for the target of reaction: RFD25AB3F\n",
      "WARNING:root:No annotation for the target of reaction: RFD36C1CA\n"
     ]
    }
   ],
   "source": [
    "yeast_document = libsbml.readSBML('/home/mdulac/Downloads/bigg_iMM904.COBRA-sbml3.xml')\n",
    "rpsbml.mergeModels(yeast_document.getModel())"
   ]
  },
  {
   "cell_type": "code",
   "execution_count": 11,
   "metadata": {},
   "outputs": [
    {
     "data": {
      "text/plain": [
       "1"
      ]
     },
     "execution_count": 11,
     "metadata": {},
     "output_type": "execute_result"
    }
   ],
   "source": [
    "libsbml.writeSBML(yeast_document, 'test_merge.sbml')"
   ]
  },
  {
   "cell_type": "code",
   "execution_count": 12,
   "metadata": {},
   "outputs": [
    {
     "data": {
      "text/plain": [
       "'_0af541538e84731aa9bd5c492976b25c'"
      ]
     },
     "execution_count": 12,
     "metadata": {},
     "output_type": "execute_result"
    }
   ],
   "source": [
    "rpsbml._genMetaID('hjsdhdjs')"
   ]
  },
  {
   "cell_type": "code",
   "execution_count": null,
   "metadata": {},
   "outputs": [],
   "source": []
  },
  {
   "cell_type": "code",
   "execution_count": null,
   "metadata": {},
   "outputs": [],
   "source": []
  },
  {
   "cell_type": "code",
   "execution_count": null,
   "metadata": {},
   "outputs": [],
   "source": [
    "#### generate the xref pickles ####"
   ]
  },
  {
   "cell_type": "code",
   "execution_count": 9,
   "metadata": {},
   "outputs": [],
   "source": [
    "chemXref = {}\n",
    "with open('/home/mdulac/Downloads/chem_xref.tsv') as f:\n",
    "    c = csv.reader(f, delimiter='\\t')\n",
    "    for row in c:\n",
    "        if not row[0][0]=='#' and len(row[0].split(':'))==2 and not row[0].split(':')[0]=='deprecated':\n",
    "            mnx = row[1]\n",
    "            dbName = row[0].split(':')[0]\n",
    "            dbID = row[0].split(':')[1]\n",
    "            if not mnx in chemXref:\n",
    "                chemXref[mnx] = {}\n",
    "            if not dbName in chemXref[mnx]:\n",
    "                chemXref[mnx][dbName] = []\n",
    "            chemXref[mnx][dbName].append(dbID)\n",
    "pickle.dump(chemXref, open('/home/mdulac/workspace/rpFBA/cache/chemXref.pickle', 'wb'))"
   ]
  },
  {
   "cell_type": "code",
   "execution_count": 11,
   "metadata": {},
   "outputs": [
    {
     "data": {
      "text/plain": [
       "{'MNXM237': {'bigg': ['10fthf', 'M_10fthf'],\n",
       "  'chebi': ['15637', '11304', '19108', '19109', '698', '57454'],\n",
       "  'hmdb': ['HMDB00972'],\n",
       "  'kegg': ['C00234'],\n",
       "  'metacyc': ['10-FORMYL-THF'],\n",
       "  'reactome': ['419151', '5389850'],\n",
       "  'sabiork': ['1318'],\n",
       "  'seed': ['cpd00201']},\n",
       " 'MNXM3428': {'bigg': ['10fthf5glu', 'M_10fthf5glu']},\n",
       " 'MNXM3429': {'bigg': ['10fthf6glu', 'M_10fthf6glu']},\n",
       " 'MNXM5422': {'bigg': ['10fthf7glu', 'M_10fthf7glu']},\n",
       " 'MNXM164047': {'bigg': ['10fthfglu__L', 'M_10fthfglu__L'],\n",
       "  'chebi': ['27862', '19110', '699']},\n",
       " 'MNXM146564': {'bigg': ['11_cis_retfa', 'M_11_cis_retfa']},\n",
       " 'MNXM163103': {'bigg': ['11docrtsl', 'M_11docrtsl']},\n",
       " 'MNXM162887': {'bigg': ['11docrtstrn', 'M_11docrtstrn']},\n",
       " 'MNXM13989': {'bigg': ['12HPET', 'M_12HPET']},\n",
       " 'MNXM13994': {'bigg': ['12RHPET', 'M_12RHPET']},\n",
       " 'MNXM163631': {'bigg': ['12d3k5m', 'M_12d3k5m']},\n",
       " 'MNXM163072': {'bigg': ['12dag3p_BS', 'M_12dag3p_BS']},\n",
       " 'MNXM4939': {'bigg': ['12dgr120', 'M_12dgr120']},\n",
       " 'MNXM146479': {'bigg': ['12dgr140', 'M_12dgr140']},\n",
       " 'MNXM4940': {'bigg': ['12dgr141', 'M_12dgr141']},\n",
       " 'MNXM3132': {'bigg': ['12dgr160', 'M_12dgr160']},\n",
       " 'MNXM145578': {'bigg': ['12dgr16018111Z', 'M_12dgr16018111Z'],\n",
       "  'seed': ['cpd30061']},\n",
       " 'MNXM145574': {'bigg': ['12dgr1601819Z', 'M_12dgr1601819Z'],\n",
       "  'seed': ['cpd30062']},\n",
       " 'MNXM3774': {'bigg': ['12dgr161', 'M_12dgr161']},\n",
       " 'MNXM4217': {'bigg': ['12dgr180', 'M_12dgr180']},\n",
       " 'MNXM145575': {'bigg': ['12dgr1801819Z', 'M_12dgr1801819Z'],\n",
       "  'seed': ['cpd30064']},\n",
       " 'MNXM3775': {'bigg': ['12dgr181', 'M_12dgr181']},\n",
       " 'MNXM147342': {'bigg': ['12dgr18111Z160', 'M_12dgr18111Z160'],\n",
       "  'seed': ['cpd30066']},\n",
       " 'MNXM145577': {'bigg': ['12dgr18111Z18111Z', 'M_12dgr18111Z18111Z'],\n",
       "  'seed': ['cpd30067']},\n",
       " 'MNXM145566': {'bigg': ['12dgr18111Z1819Z', 'M_12dgr18111Z1819Z'],\n",
       "  'seed': ['cpd30068']},\n",
       " 'MNXM146745': {'bigg': ['12dgr1819Z160', 'M_12dgr1819Z160'],\n",
       "  'seed': ['cpd30070']},\n",
       " 'MNXM147343': {'bigg': ['12dgr1819Z1619Z', 'M_12dgr1819Z1619Z'],\n",
       "  'seed': ['cpd30071']},\n",
       " 'MNXM145573': {'bigg': ['12dgr1819Z18111Z', 'M_12dgr1819Z18111Z'],\n",
       "  'seed': ['cpd30072']},\n",
       " 'MNXM145565': {'bigg': ['12dgr1819Z1819Z', 'M_12dgr1819Z1819Z'],\n",
       "  'seed': ['cpd30074']},\n",
       " 'MNXM147348': {'bigg': ['12dgr181_9', 'M_12dgr181_9']},\n",
       " 'MNXM147347': {'bigg': ['12dgr182_9_12', 'M_12dgr182_9_12']},\n",
       " 'MNXM147345': {'bigg': ['12dgr183_6_9_12', 'M_12dgr183_6_9_12']},\n",
       " 'MNXM147346': {'bigg': ['12dgr183_9_12_15', 'M_12dgr183_9_12_15']},\n",
       " 'MNXM147344': {'bigg': ['12dgr184_6_9_12_15', 'M_12dgr184_6_9_12_15']},\n",
       " 'MNXM147508': {'bigg': ['12dgr2_ST', 'M_12dgr2_ST']},\n",
       " 'MNXM162881': {'bigg': ['12dgr_BS', 'M_12dgr_BS']},\n",
       " 'MNXM90584': {'bigg': ['12dgr_EC', 'M_12dgr_EC']},\n",
       " 'MNXM9526': {'bigg': ['12dgr_HP', 'M_12dgr_HP']},\n",
       " 'MNXM91042': {'bigg': ['12dgr_SA', 'M_12dgr_SA'], 'seed': ['cpd16060']},\n",
       " 'MNXM1012': {'bigg': ['12dgr_SC', 'M_12dgr_SC']},\n",
       " 'MNXM13977': {'bigg': ['12harachd', 'M_12harachd']},\n",
       " 'MNXM90191': {'bigg': ['12ppd__R', 'M_12ppd__R'],\n",
       "  'chebi': ['28972', '18705', '352', '44863'],\n",
       "  'kegg': ['C02912'],\n",
       "  'metacyc': ['CPD-8891'],\n",
       "  'seed': ['cpd01861']},\n",
       " 'MNXM1255': {'bigg': ['12ppd__S', 'M_12ppd__S'],\n",
       "  'chebi': ['29002', '18799', '440', '45065'],\n",
       "  'hmdb': ['HMDB06213'],\n",
       "  'kegg': ['C02917'],\n",
       "  'metacyc': ['PROPANE-1-2-DIOL'],\n",
       "  'seed': ['cpd19024']},\n",
       " 'MNXM91349': {'bigg': ['13BDglcn', 'M_13BDglcn']},\n",
       " 'MNXM9689': {'bigg': ['13Shocdcy1829Z11Ea', 'M_13Shocdcy1829Z11Ea'],\n",
       "  'chebi': ['34154', '90850'],\n",
       "  'hmdb': ['HMDB04667', 'HMDB06939'],\n",
       "  'kegg': ['C14762'],\n",
       "  'lipidmaps': ['LMFA02000228'],\n",
       "  'sabiork': ['22013'],\n",
       "  'seed': ['cpd10459'],\n",
       "  'slm': ['000501150']},\n",
       " 'MNXM2313': {'bigg': ['13Shpocdcy1829Z11Ea', 'M_13Shpocdcy1829Z11Ea'],\n",
       "  'chebi': ['15655', '10941', '18619', '18620', '264', '39536', '57466'],\n",
       "  'hmdb': ['HMDB03871'],\n",
       "  'kegg': ['C04717'],\n",
       "  'lipidmaps': ['LMFA02000034'],\n",
       "  'metacyc': ['13-HYDROPEROXYOCTADECA-911-DIENOATE'],\n",
       "  'sabiork': ['7512'],\n",
       "  'seed': ['cpd02873'],\n",
       "  'slm': ['000000936']},\n",
       " 'MNXM146866': {'bigg': ['13_cis_oretn', 'M_13_cis_oretn']},\n",
       " 'MNXM58377': {'bigg': ['13_cis_retn', 'M_13_cis_retn']},\n",
       " 'MNXM146867': {'bigg': ['13_cis_retnglc', 'M_13_cis_retnglc']},\n",
       " 'MNXM146468': {'bigg': ['13dampp', 'M_13dampp']},\n",
       " 'MNXM261': {'bigg': ['13dpg', 'M_13dpg'],\n",
       "  'chebi': ['16001', '11881', '1658', '20189', '57604'],\n",
       "  'hmdb': ['HMDB62758'],\n",
       "  'kegg': ['C00236'],\n",
       "  'metacyc': ['DPG'],\n",
       "  'reactome': ['29800'],\n",
       "  'sabiork': ['21215'],\n",
       "  'seed': ['cpd00203']},\n",
       " 'MNXM101404': {'bigg': ['13oocdcy1829Z11Ea', 'M_13oocdcy1829Z11Ea'],\n",
       "  'chebi': ['68947', '34155', '90781'],\n",
       "  'hmdb': ['HMDB04668'],\n",
       "  'kegg': ['C14765'],\n",
       "  'lipidmaps': ['LMFA02000016', 'LMFA02000252'],\n",
       "  'seed': ['cpd10462']},\n",
       " 'MNXM2861': {'bigg': ['13ppd', 'M_13ppd'],\n",
       "  'chebi': ['16109', '14902', '26286', '44868', '8471'],\n",
       "  'kegg': ['C02457'],\n",
       "  'metacyc': ['CPD-347'],\n",
       "  'sabiork': ['2417'],\n",
       "  'seed': ['cpd01618']},\n",
       " 'MNXM165397': {'bigg': ['14bxyl', 'M_14bxyl']},\n",
       " 'MNXM147663': {'bigg': ['14dhncoa', 'M_14dhncoa']},\n",
       " 'MNXM2905': {'bigg': ['14glucan', 'M_14glucan'],\n",
       "  'metacyc': ['1-4-alpha-D-Glucan'],\n",
       "  'seed': ['cpd21754']},\n",
       " 'MNXM91761': {'bigg': ['14glun', 'M_14glun']},\n",
       " 'MNXM162620': {'bigg': ['15HPET', 'M_15HPET']},\n",
       " 'MNXM943': {'bigg': ['15dap', 'M_15dap'],\n",
       "  'chebi': ['18127', '13928', '22974', '3288', '44370', '58384'],\n",
       "  'hmdb': ['HMDB02322'],\n",
       "  'kegg': ['C01672'],\n",
       "  'metacyc': ['CADAVERINE'],\n",
       "  'sabiork': ['3091'],\n",
       "  'seed': ['cpd01155']},\n",
       " 'MNXM165456': {'bigg': ['16BDglcn', 'M_16BDglcn'], 'seed': ['cpd21762']},\n",
       " 'MNXM162733': {'bigg': ['17ahprgnlone', 'M_17ahprgnlone']},\n",
       " 'MNXM162621': {'bigg': ['17ahprgstrn', 'M_17ahprgstrn']},\n",
       " 'MNXM14054': {'bigg': ['18harachd', 'M_18harachd']},\n",
       " 'MNXM878': {'bigg': ['1Dgali', 'M_1Dgali'],\n",
       "  'chebi': ['17505', '11203', '11204', '11212', '11213', '18983', '689'],\n",
       "  'hmdb': ['HMDB05826'],\n",
       "  'kegg': ['C01235', 'G10488'],\n",
       "  'metacyc': ['CPD-458'],\n",
       "  'sabiork': ['5463'],\n",
       "  'seed': ['cpd00910']},\n",
       " 'MNXM9596': {'bigg': ['1a2425thvitd2', 'M_1a2425thvitd2']},\n",
       " 'MNXM9597': {'bigg': ['1a2425thvitd3', 'M_1a2425thvitd3']},\n",
       " 'MNXM9598': {'bigg': ['1a25dhvitd2', 'M_1a25dhvitd2']},\n",
       " 'MNXM9599': {'bigg': ['1a25dhvitd3', 'M_1a25dhvitd3']},\n",
       " 'MNXM1128': {'bigg': ['1acpc', 'M_1acpc'],\n",
       "  'chebi': ['18053',\n",
       "   '19027',\n",
       "   '19028',\n",
       "   '39590',\n",
       "   '609',\n",
       "   '30526',\n",
       "   '11251',\n",
       "   '19026',\n",
       "   '58360'],\n",
       "  'envipath': ['32de3cf4-e3e6-4168-956e-32fa5ddb0ce1/compound/7889f756-a494-4011-99ec-9c6d411c4476'],\n",
       "  'hmdb': ['HMDB36458'],\n",
       "  'kegg': ['C01234'],\n",
       "  'metacyc': ['CPD-68'],\n",
       "  'sabiork': ['5462'],\n",
       "  'seed': ['cpd00909']},\n",
       " 'MNXM6656': {'bigg': ['1ag3p_BS', 'M_1ag3p_BS'], 'seed': ['cpd11424']},\n",
       " 'MNXM145527': {'bigg': ['1ag3p_SC', 'M_1ag3p_SC'],\n",
       "  'chebi': ['16975',\n",
       "   '11227',\n",
       "   '18993',\n",
       "   '590',\n",
       "   '17088',\n",
       "   '13726',\n",
       "   '22224',\n",
       "   '2460',\n",
       "   '57970',\n",
       "   '74916',\n",
       "   '76629',\n",
       "   '77589',\n",
       "   '78166'],\n",
       "  'kegg': ['C00681', 'C03849'],\n",
       "  'lipidmaps': ['LMGP10050000'],\n",
       "  'metacyc': ['ACYL-SN-GLYCEROL-3P'],\n",
       "  'reactome': ['1500580', '1500604', '1602447', '76112'],\n",
       "  'sabiork': ['2531'],\n",
       "  'seed': ['cpd00517', 'cpd12185', 'cpd19029'],\n",
       "  'slm': ['000000333', '000001139']},\n",
       " 'MNXM91819': {'bigg': ['1agly3p_SC', 'M_1agly3p_SC']},\n",
       " 'MNXM147657': {'bigg': ['1agpc_SC', 'M_1agpc_SC']},\n",
       " 'MNXM32692': {'bigg': ['1agpe120', 'M_1agpe120'],\n",
       "  'lipidmaps': ['LMGP02050005'],\n",
       "  'metacyc': ['CPD0-2148'],\n",
       "  'seed': ['cpd26432'],\n",
       "  'slm': ['000030164']},\n",
       " 'MNXM32693': {'bigg': ['1agpe140', 'M_1agpe140'],\n",
       "  'chebi': ['84299', '85215'],\n",
       "  'hmdb': ['HMDB11500'],\n",
       "  'lipidmaps': ['LMGP02050003'],\n",
       "  'metacyc': ['CPD0-2147'],\n",
       "  'seed': ['cpd26431'],\n",
       "  'slm': ['000030177']},\n",
       " 'MNXM6599': {'bigg': ['1agpe141', 'M_1agpe141']},\n",
       " 'MNXM32511': {'bigg': ['1agpe160', 'M_1agpe160'],\n",
       "  'chebi': ['73004', '73134'],\n",
       "  'hmdb': ['HMDB11503'],\n",
       "  'lipidmaps': ['LMGP02050002'],\n",
       "  'metacyc': ['CPD-8353'],\n",
       "  'seed': ['cpd25195'],\n",
       "  'slm': ['000000654']},\n",
       " 'MNXM6601': {'bigg': ['1agpe161', 'M_1agpe161']},\n",
       " 'MNXM32694': {'bigg': ['1agpe180', 'M_1agpe180'],\n",
       "  'metacyc': ['CPD0-2152'],\n",
       "  'seed': ['cpd26433']},\n",
       " 'MNXM9584': {'bigg': ['1agpe181', 'M_1agpe181']},\n",
       " 'MNXM145879': {'bigg': ['1agpe18111Z', 'M_1agpe18111Z'],\n",
       "  'seed': ['cpd30083']},\n",
       " 'MNXM145880': {'bigg': ['1agpe1819Z', 'M_1agpe1819Z'], 'seed': ['cpd30084']},\n",
       " 'MNXM147357': {'bigg': ['1agpe1829Z12Z', 'M_1agpe1829Z12Z'],\n",
       "  'seed': ['cpd30085']},\n",
       " 'MNXM32695': {'bigg': ['1agpg120', 'M_1agpg120'],\n",
       "  'lipidmaps': ['LMGP04050011'],\n",
       "  'metacyc': ['CPD0-2144'],\n",
       "  'seed': ['cpd26430'],\n",
       "  'slm': ['000043110']},\n",
       " 'MNXM6603': {'bigg': ['1agpg140', 'M_1agpg140'],\n",
       "  'chebi': ['72826', '73092'],\n",
       "  'lipidmaps': ['LMGP04050012'],\n",
       "  'metacyc': ['CPD0-2143'],\n",
       "  'seed': ['cpd26429'],\n",
       "  'slm': ['000000844']},\n",
       " 'MNXM6604': {'bigg': ['1agpg141', 'M_1agpg141']},\n",
       " 'MNXM6605': {'bigg': ['1agpg160', 'M_1agpg160'],\n",
       "  'chebi': ['72825', '75158', '75376', '73093'],\n",
       "  'lipidmaps': ['LMGP04050008'],\n",
       "  'metacyc': ['CPD0-2162'],\n",
       "  'seed': ['cpd26434'],\n",
       "  'slm': ['000000686']},\n",
       " 'MNXM6606': {'bigg': ['1agpg161', 'M_1agpg161']},\n",
       " 'MNXM6607': {'bigg': ['1agpg180', 'M_1agpg180'],\n",
       "  'chebi': ['72827', '73091'],\n",
       "  'hmdb': ['HMDB61697'],\n",
       "  'lipidmaps': ['LMGP04050009'],\n",
       "  'metacyc': ['CPD0-2140'],\n",
       "  'seed': ['cpd26428'],\n",
       "  'slm': ['000000689']},\n",
       " 'MNXM73868': {'bigg': ['1agpg181', 'M_1agpg181'],\n",
       "  'chebi': ['72828', '72952'],\n",
       "  'lipidmaps': ['LMGP04050006'],\n",
       "  'metacyc': ['CPD-8365'],\n",
       "  'seed': ['cpd25202'],\n",
       "  'slm': ['000000847']},\n",
       " 'MNXM3230': {'bigg': ['1btol', 'M_1btol'],\n",
       "  'chebi': ['28885', '22936', '39632', '612'],\n",
       "  'hmdb': ['HMDB04327'],\n",
       "  'kegg': ['C06142', 'D03200'],\n",
       "  'lipidmaps': ['LMFA05000109'],\n",
       "  'metacyc': ['BUTANOL'],\n",
       "  'sabiork': ['2869'],\n",
       "  'seed': ['cpd03662']},\n",
       " 'MNXM4232': {'bigg': ['1ddecg3p', 'M_1ddecg3p'],\n",
       "  'chebi': ['62840', '72682'],\n",
       "  'hmdb': ['HMDB62319'],\n",
       "  'lipidmaps': ['LMGP10050015'],\n",
       "  'metacyc': ['CPD0-2200'],\n",
       "  'seed': ['cpd15325'],\n",
       "  'slm': ['000000650']},\n",
       " 'MNXM164013': {'bigg': ['1glyc_cho', 'M_1glyc_cho']},\n",
       " 'MNXM13807': {'bigg': ['1glyc_hs', 'M_1glyc_hs']},\n",
       " 'MNXM91047': {'bigg': ['1hdec9eg3p', 'M_1hdec9eg3p'], 'seed': ['cpd15326']},\n",
       " 'MNXM90586': {'bigg': ['1hdecg3p', 'M_1hdecg3p'], 'seed': ['cpd15327']},\n",
       " 'MNXM2172': {'bigg': ['1mncam', 'M_1mncam'],\n",
       "  'chebi': ['16797', '11267', '18635', '646'],\n",
       "  'hmdb': ['HMDB00699'],\n",
       "  'kegg': ['C02918'],\n",
       "  'metacyc': ['CPD-396'],\n",
       "  'reactome': ['549282'],\n",
       "  'sabiork': ['2583'],\n",
       "  'seed': ['cpd01866']},\n",
       " 'MNXM1615': {'bigg': ['1mpyr', 'M_1mpyr'],\n",
       "  'chebi': ['27435', '19069', '647'],\n",
       "  'hmdb': ['HMDB60253'],\n",
       "  'kegg': ['C06178'],\n",
       "  'seed': ['cpd03688']},\n",
       " 'MNXM91355': {'bigg': ['1msg3p', 'M_1msg3p'], 'seed': ['cpd15912']},\n",
       " 'MNXM91049': {'bigg': ['1odec11eg3p', 'M_1odec11eg3p'], 'seed': ['cpd15328']},\n",
       " 'MNXM147680': {'bigg': ['1odec691215eg3p', 'M_1odec691215eg3p']},\n",
       " 'MNXM147681': {'bigg': ['1odec6912eg3p', 'M_1odec6912eg3p']},\n",
       " 'MNXM147682': {'bigg': ['1odec91215eg3p', 'M_1odec91215eg3p']},\n",
       " 'MNXM147683': {'bigg': ['1odec912eg3p', 'M_1odec912eg3p']},\n",
       " 'MNXM145555': {'bigg': ['1odec9eg3p', 'M_1odec9eg3p'], 'seed': ['cpd30087']},\n",
       " 'MNXM32950': {'bigg': ['1odecg3p', 'M_1odecg3p'],\n",
       "  'chebi': ['74565', '74850'],\n",
       "  'hmdb': ['HMDB07854'],\n",
       "  'lipidmaps': ['LMGP10050005'],\n",
       "  'metacyc': ['CPD0-2113'],\n",
       "  'seed': ['cpd15329'],\n",
       "  'slm': ['000000640']},\n",
       " 'MNXM165560': {'bigg': ['1p2cbxl', 'M_1p2cbxl']},\n",
       " 'MNXM114091': {'bigg': ['1p3h5c', 'M_1p3h5c'],\n",
       "  'chebi': ['6151', '62612'],\n",
       "  'hmdb': ['HMDB62585'],\n",
       "  'kegg': ['C04281'],\n",
       "  'metacyc': ['PYRROLINE-HYDROXY-CARBOXYLATE'],\n",
       "  'seed': ['cpd02625']},\n",
       " 'MNXM911': {'bigg': ['1pipdn2c', 'M_1pipdn2c'],\n",
       "  'chebi': ['16187',\n",
       "   '11153',\n",
       "   '12278',\n",
       "   '18885',\n",
       "   '30912',\n",
       "   '10539',\n",
       "   '16334',\n",
       "   '18886',\n",
       "   '23601',\n",
       "   '500',\n",
       "   '77631'],\n",
       "  'hmdb': ['HMDB01084', 'HMDB62778'],\n",
       "  'kegg': ['C04092'],\n",
       "  'metacyc': ['DELTA1-PIPERIDEINE-2-CARBOXYLATE'],\n",
       "  'reactome': ['5693311'],\n",
       "  'sabiork': ['7071'],\n",
       "  'seed': ['cpd00922']},\n",
       " 'MNXM1617': {'bigg': ['1pyr5c', 'M_1pyr5c'],\n",
       "  'chebi': ['1372',\n",
       "   '15893',\n",
       "   '11297',\n",
       "   '11689',\n",
       "   '19095',\n",
       "   '19873',\n",
       "   '26458',\n",
       "   '29066'],\n",
       "  'hmdb': ['HMDB01301', 'HMDB02240'],\n",
       "  'kegg': ['C04322'],\n",
       "  'sabiork': ['7234'],\n",
       "  'seed': ['cpd02431', 'cpd02651']},\n",
       " 'MNXM91053': {'bigg': ['1tdec7eg3p', 'M_1tdec7eg3p'], 'seed': ['cpd15330']},\n",
       " 'MNXM3426': {'bigg': ['1tdecg3p', 'M_1tdecg3p'],\n",
       "  'chebi': ['62833', '72683'],\n",
       "  'hmdb': ['HMDB62321'],\n",
       "  'lipidmaps': ['LMGP10050007'],\n",
       "  'metacyc': ['CPD-18379'],\n",
       "  'reactome': ['8878649'],\n",
       "  'sabiork': ['26679'],\n",
       "  'seed': ['cpd15331'],\n",
       "  'slm': ['000000647']},\n",
       " 'MNXM164166': {'bigg': ['20ahchsterol', 'M_20ahchsterol']},\n",
       " 'MNXM2598': {'bigg': ['23camp', 'M_23camp'],\n",
       "  'chebi': ['27844', '19212', '40469', '823', '60879'],\n",
       "  'kegg': ['C02353'],\n",
       "  'metacyc': ['CPD-3707'],\n",
       "  'sabiork': ['1882'],\n",
       "  'seed': ['cpd01570']},\n",
       " 'MNXM3148': {'bigg': ['23ccmp', 'M_23ccmp'],\n",
       "  'chebi': ['27652', '19213', '824', '60877'],\n",
       "  'kegg': ['C02354'],\n",
       "  'metacyc': ['CPD-3713'],\n",
       "  'sabiork': ['2406'],\n",
       "  'seed': ['cpd01571']},\n",
       " 'MNXM3149': {'bigg': ['23cgmp', 'M_23cgmp'],\n",
       "  'chebi': ['28181', '19214', '825', '60837'],\n",
       "  'kegg': ['C06194'],\n",
       "  'metacyc': ['CPD-3709'],\n",
       "  'sabiork': ['1900'],\n",
       "  'seed': ['cpd03702']},\n",
       " 'MNXM3150': {'bigg': ['23cump', 'M_23cump'],\n",
       "  'chebi': ['28637', '19215', '826', '60873'],\n",
       "  'hmdb': ['HMDB11640'],\n",
       "  'kegg': ['C02355'],\n",
       "  'metacyc': ['CPD-3725'],\n",
       "  'sabiork': ['2407'],\n",
       "  'seed': ['cpd01572']},\n",
       " 'MNXM722756': {'bigg': ['23dappa', 'M_23dappa'],\n",
       "  'chebi': ['18383', '11419', '19309', '876', '49983', '58468'],\n",
       "  'hmdb': ['HMDB02006'],\n",
       "  'kegg': ['C06393'],\n",
       "  'lipidmaps': ['LMFA01100051'],\n",
       "  'metacyc': ['23-Diaminopropanoate'],\n",
       "  'sabiork': ['8608'],\n",
       "  'seed': ['cpd03828', 'cpd21925']},\n",
       " 'MNXM114261': {'bigg': ['23ddhb', 'M_23ddhb'],\n",
       "  'chebi': ['15941',\n",
       "   '11420',\n",
       "   '11423',\n",
       "   '19311',\n",
       "   '877',\n",
       "   '48968',\n",
       "   '57576',\n",
       "   '58764'],\n",
       "  'kegg': ['C04171'],\n",
       "  'metacyc': ['DIHYDRO-DIOH-BENZOATE'],\n",
       "  'sabiork': ['7130'],\n",
       "  'seed': ['cpd02566', 'cpd29666']},\n",
       " 'MNXM9750': {'bigg': ['23dhacoa', 'M_23dhacoa'],\n",
       "  'chebi': ['67261', '68471'],\n",
       "  'lipidmaps': ['LMFA07050165']},\n",
       " 'MNXM455': {'bigg': ['23dhb', 'M_23dhb'],\n",
       "  'chebi': ['18026', '19320', '41901', '885', '36654', '11427', '19319'],\n",
       "  'envipath': ['32de3cf4-e3e6-4168-956e-32fa5ddb0ce1/compound/f0dc57d7-63a2-4aea-8fcc-0c111e8cc0f1'],\n",
       "  'hmdb': ['HMDB00397'],\n",
       "  'kegg': ['C00196'],\n",
       "  'metacyc': ['2-3-DIHYDROXYBENZOATE'],\n",
       "  'sabiork': ['1970'],\n",
       "  'seed': ['cpd00168']},\n",
       " 'MNXM1978': {'bigg': ['23dhba', 'M_23dhba'],\n",
       "  'chebi': ['15572', '10846', '170', '18521', '57417'],\n",
       "  'kegg': ['C04030'],\n",
       "  'metacyc': ['CPD-62'],\n",
       "  'seed': ['cpd02494']},\n",
       " 'MNXM1487': {'bigg': ['23dhbzs', 'M_23dhbzs'],\n",
       "  'chebi': ['17455', '12428', '21467', '7084', '58154'],\n",
       "  'kegg': ['C04204'],\n",
       "  'metacyc': ['N-23-DIHYDROXYBENZOYL-L-SERINE'],\n",
       "  'seed': ['cpd02582', 'cpd15332']},\n",
       " 'MNXM147716': {'bigg': ['23dhbzs2', 'M_23dhbzs2']},\n",
       " 'MNXM145882': {'bigg': ['23dhbzs3', 'M_23dhbzs3']},\n",
       " 'MNXM163139': {'bigg': ['23dhdp', 'M_23dhdp'], 'chebi': ['11421', '48052']},\n",
       " 'MNXM114097': {'bigg': ['23dhmb', 'M_23dhmb'],\n",
       "  'chebi': ['15684', '10966', '18645', '305', '49072'],\n",
       "  'hmdb': ['HMDB12141'],\n",
       "  'kegg': ['C04272'],\n",
       "  'lipidmaps': ['LMFA01050453'],\n",
       "  'metacyc': ['CPD-13357'],\n",
       "  'seed': ['cpd19030']},\n",
       " 'MNXM1202': {'bigg': ['23dhmp', 'M_23dhmp'],\n",
       "  'chebi': ['27512', '18646', '306', '49258'],\n",
       "  'hmdb': ['HMDB12140'],\n",
       "  'kegg': ['C06007'],\n",
       "  'lipidmaps': ['LMFA01050452'],\n",
       "  'metacyc': ['1-KETO-2-METHYLVALERATE'],\n",
       "  'seed': ['cpd19046']},\n",
       " 'MNXM4266': {'bigg': ['23dmphol', 'M_23dmphol'],\n",
       "  'chebi': ['75921'],\n",
       "  'kegg': ['C15883'],\n",
       "  'metacyc': ['DMPBQ'],\n",
       "  'seed': ['cpd14614']},\n",
       " 'MNXM958': {'bigg': ['23doguln', 'M_23doguln'],\n",
       "  'chebi': ['15622', '10900', '18578', '226', '60793', '57441'],\n",
       "  'hmdb': ['HMDB05971', 'HMDB06511', 'HMDB62803'],\n",
       "  'kegg': ['C04575'],\n",
       "  'lipidmaps': ['LMFA01060195'],\n",
       "  'metacyc': ['CPD-19692', 'CPD-334'],\n",
       "  'sabiork': ['25315'],\n",
       "  'seed': ['cpd02784']},\n",
       " 'MNXM892': {'bigg': ['23dpg', 'M_23dpg'],\n",
       "  'chebi': ['17720', '11417', '19306', '872', '58248'],\n",
       "  'kegg': ['C01159'],\n",
       "  'metacyc': ['23-DIPHOSPHOGLYCERATE'],\n",
       "  'sabiork': ['1355'],\n",
       "  'seed': ['cpd00853']},\n",
       " 'MNXM6764': {'bigg': ['2425dhvitd2', 'M_2425dhvitd2']},\n",
       " 'MNXM6763': {'bigg': ['2425dhvitd3', 'M_2425dhvitd3']},\n",
       " 'MNXM840': {'bigg': ['24dab', 'M_24dab'],\n",
       "  'chebi': ['16028',\n",
       "   '13044',\n",
       "   '13045',\n",
       "   '21191',\n",
       "   '48950',\n",
       "   '21192',\n",
       "   '6154',\n",
       "   '58761'],\n",
       "  'hmdb': ['HMDB06284'],\n",
       "  'kegg': ['C03283'],\n",
       "  'metacyc': ['CPD-470'],\n",
       "  'sabiork': ['6525'],\n",
       "  'seed': ['cpd02095']},\n",
       " 'MNXM722757': {'bigg': ['24dhhed', 'M_24dhhed'],\n",
       "  'chebi': ['58936', '73089', '915'],\n",
       "  'kegg': ['C06201'],\n",
       "  'lipidmaps': ['LMFA01170062'],\n",
       "  'metacyc': ['CPD-15125'],\n",
       "  'seed': ['cpd03708']},\n",
       " 'MNXM9757': {'bigg': ['24nph', 'M_24nph']},\n",
       " 'MNXM607': {'bigg': ['25aics', 'M_25aics'],\n",
       "  'chebi': ['18319', '11028', '18965', '572', '78110', '58443'],\n",
       "  'hmdb': ['HMDB00797', 'HMDB06274'],\n",
       "  'kegg': ['C04823'],\n",
       "  'metacyc': ['P-RIBOSYL-4-SUCCCARB-AMINOIMIDAZOLE'],\n",
       "  'reactome': ['111399'],\n",
       "  'sabiork': ['1893'],\n",
       "  'seed': ['cpd19032']},\n",
       " 'MNXM90906': {'bigg': ['25dhpp', 'M_25dhpp']},\n",
       " 'MNXM936': {'bigg': ['25dkglcn', 'M_25dkglcn'],\n",
       "  'chebi': ['11449', '58428', '18281', '1070', '19378'],\n",
       "  'kegg': ['C02780'],\n",
       "  'lipidmaps': ['LMFA01050471'],\n",
       "  'metacyc': ['25-DIDEHYDRO-D-GLUCONATE'],\n",
       "  'seed': ['cpd01793']},\n",
       " 'MNXM165561': {'bigg': ['25dop', 'M_25dop']},\n",
       " 'MNXM648': {'bigg': ['25drapp', 'M_25drapp'],\n",
       "  'chebi': ['29114', '11446', '19368', '927', '58614', '59545', '59546'],\n",
       "  'kegg': ['C01304'],\n",
       "  'metacyc': ['DIAMINO-OH-PHOSPHORIBOSYLAMINO-PYR']},\n",
       " 'MNXM90774': {'bigg': ['25dthpp', 'M_25dthpp']},\n",
       " 'MNXM4976': {'bigg': ['25hvitd2', 'M_25hvitd2']},\n",
       " 'MNXM162388': {'bigg': ['25hvitd3', 'M_25hvitd3']},\n",
       " 'MNXM644': {'bigg': ['26dap_LL', 'M_26dap_LL'],\n",
       "  'chebi': ['16026', '21429', '6341', '47031', '13192', '21428', '57609'],\n",
       "  'hmdb': ['HMDB01370'],\n",
       "  'kegg': ['C00666'],\n",
       "  'lipidmaps': ['LMFA01170102'],\n",
       "  'metacyc': ['LL-DIAMINOPIMELATE'],\n",
       "  'sabiork': ['5171'],\n",
       "  'seed': ['cpd00504']},\n",
       " 'MNXM529': {'bigg': ['26dap__M', 'M_26dap__M'],\n",
       "  'chebi': ['16488',\n",
       "   '10598',\n",
       "   '25204',\n",
       "   '40838',\n",
       "   '30308',\n",
       "   '12822',\n",
       "   '12823',\n",
       "   '12825',\n",
       "   '25203',\n",
       "   '57791'],\n",
       "  'kegg': ['C00680'],\n",
       "  'metacyc': ['MESO-DIAMINOPIMELATE'],\n",
       "  'seed': ['cpd00516']},\n",
       " 'MNXM164994': {'bigg': ['26dapime', 'M_26dapime']},\n",
       " 'MNXM2917': {'bigg': ['26dmani', 'M_26dmani'],\n",
       "  'chebi': ['28738', '19404', '956'],\n",
       "  'hmdb': ['HMDB60677'],\n",
       "  'kegg': ['C11004'],\n",
       "  'seed': ['cpd07889']},\n",
       " 'MNXM5455': {'bigg': ['2a3pp', 'M_2a3pp'],\n",
       "  'chebi': ['28388', '19451', '999'],\n",
       "  'hmdb': ['HMDB00370'],\n",
       "  'kegg': ['C05672'],\n",
       "  'metacyc': ['CPD0-1615'],\n",
       "  'seed': ['cpd03378']},\n",
       " 'MNXM34808': {'bigg': ['2agpe120', 'M_2agpe120'],\n",
       "  'metacyc': ['CPD0-2178'],\n",
       "  'seed': ['cpd26439'],\n",
       "  'slm': ['000043349']},\n",
       " 'MNXM34809': {'bigg': ['2agpe140', 'M_2agpe140'],\n",
       "  'hmdb': ['HMDB11470'],\n",
       "  'lipidmaps': ['LMGP02050033'],\n",
       "  'metacyc': ['CPD0-2165'],\n",
       "  'seed': ['cpd26435'],\n",
       "  'slm': ['000043363']},\n",
       " 'MNXM3447': {'bigg': ['2agpe141', 'M_2agpe141']},\n",
       " 'MNXM34810': {'bigg': ['2agpe160', 'M_2agpe160'],\n",
       "  'chebi': ['131743', '132926'],\n",
       "  'hmdb': ['HMDB11473'],\n",
       "  'lipidmaps': ['LMGP02050036'],\n",
       "  'metacyc': ['CPD0-2177'],\n",
       "  'seed': ['cpd15339', 'cpd26438'],\n",
       "  'slm': ['000043354']},\n",
       " 'MNXM3448': {'bigg': ['2agpe161', 'M_2agpe161']},\n",
       " 'MNXM34811': {'bigg': ['2agpe180', 'M_2agpe180'],\n",
       "  'chebi': ['133144', '133145'],\n",
       "  'hmdb': ['HMDB11129'],\n",
       "  'lipidmaps': ['LMGP02050038'],\n",
       "  'metacyc': ['CPD0-2223'],\n",
       "  'seed': ['cpd15341', 'cpd26450'],\n",
       "  'slm': ['000043358']},\n",
       " 'MNXM3449': {'bigg': ['2agpe181', 'M_2agpe181']},\n",
       " 'MNXM3450': {'bigg': ['2agpg120', 'M_2agpg120']},\n",
       " 'MNXM34739': {'bigg': ['2agpg140', 'M_2agpg140'],\n",
       "  'metacyc': ['CPD0-2173'],\n",
       "  'seed': ['cpd26437'],\n",
       "  'slm': ['000046424']},\n",
       " 'MNXM3452': {'bigg': ['2agpg141', 'M_2agpg141']},\n",
       " 'MNXM34740': {'bigg': ['2agpg160', 'M_2agpg160'],\n",
       "  'metacyc': ['CPD-8363'],\n",
       "  'seed': ['cpd25200'],\n",
       "  'slm': ['000046415']},\n",
       " 'MNXM3453': {'bigg': ['2agpg161', 'M_2agpg161']},\n",
       " 'MNXM150642': {'bigg': ['2agpg180', 'M_2agpg180'],\n",
       "  'hmdb': ['HMDB61703'],\n",
       "  'metacyc': ['CPD0-2133'],\n",
       "  'seed': ['cpd26427']},\n",
       " 'MNXM3455': {'bigg': ['2agpg181', 'M_2agpg181']},\n",
       " 'MNXM114220': {'bigg': ['2ahbut', 'M_2ahbut'],\n",
       "  'chebi': ['27681', '18730', '373', '49256'],\n",
       "  'hmdb': ['HMDB06900', 'HMDB06854'],\n",
       "  'kegg': ['C06006'],\n",
       "  'metacyc': ['2-ACETO-2-HYDROXY-BUTYRATE'],\n",
       "  'sabiork': ['2852'],\n",
       "  'seed': ['cpd19045']},\n",
       " 'MNXM1705': {'bigg': ['2ahethmpp', 'M_2ahethmpp'],\n",
       "  'chebi': ['58939', '978'],\n",
       "  'hmdb': ['HMDB03904'],\n",
       "  'kegg': ['C05125'],\n",
       "  'metacyc': ['2-ALPHA-HYDROXYETHYL-THPP'],\n",
       "  'sabiork': ['1839'],\n",
       "  'seed': ['cpd03049']},\n",
       " 'MNXM91459': {'bigg': ['2ahhmd', 'M_2ahhmd'], 'seed': ['cpd02920']},\n",
       " 'MNXM146055': {'bigg': ['2ahhmp', 'M_2ahhmp']},\n",
       " 'MNXM3414': {'bigg': ['2amac', 'M_2amac'],\n",
       "  'chebi': ['17123',\n",
       "   '1013',\n",
       "   '11518',\n",
       "   '23590',\n",
       "   '41996',\n",
       "   '58020',\n",
       "   '76565',\n",
       "   '76608'],\n",
       "  'hmdb': ['HMDB03609', 'HMDB06356'],\n",
       "  'kegg': ['C02218'],\n",
       "  'metacyc': ['2-AMINOACRYLATE'],\n",
       "  'seed': ['cpd01495']},\n",
       " 'MNXM1692': {'bigg': ['2ameph', 'M_2ameph'],\n",
       "  'chebi': ['15573', '10849', '172', '19469', '19470', '57418'],\n",
       "  'hmdb': ['HMDB11747'],\n",
       "  'kegg': ['C03557'],\n",
       "  'metacyc': ['CPD-1106'],\n",
       "  'seed': ['cpd02233']},\n",
       " 'MNXM2124': {'bigg': ['2amsa', 'M_2amsa'],\n",
       "  'chebi': ['37012', '1020', '21210', '58671', '77662'],\n",
       "  'kegg': ['C11822'],\n",
       "  'metacyc': ['2-AMINOMALONATE-SEMIALDEHYDE'],\n",
       "  'seed': ['cpd08626']},\n",
       " 'MNXM114087': {'bigg': ['2aobut', 'M_2aobut'],\n",
       "  'chebi': ['16944',\n",
       "   '13048',\n",
       "   '21195',\n",
       "   '6156',\n",
       "   '40673',\n",
       "   '35229',\n",
       "   '40668',\n",
       "   '78948'],\n",
       "  'hmdb': ['HMDB06454'],\n",
       "  'kegg': ['C03508'],\n",
       "  'lipidmaps': ['LMFA01060172'],\n",
       "  'metacyc': ['AMINO-OXOBUT'],\n",
       "  'reactome': ['6798652'],\n",
       "  'sabiork': ['6672'],\n",
       "  'seed': ['cpd02211']},\n",
       " 'MNXM163662': {'bigg': ['2c23dh56dhoxin', 'M_2c23dh56dhoxin']},\n",
       " 'MNXM3237': {'bigg': ['2coum', 'M_2coum'],\n",
       "  'chebi': ['23399', '23401', '28873', '10469', '23284', '47921'],\n",
       "  'hmdb': ['HMDB41592', 'HMDB62655'],\n",
       "  'kegg': ['C05838'],\n",
       "  'metacyc': ['CPD-7418'],\n",
       "  'seed': ['cpd03468']},\n",
       " 'MNXM1455': {'bigg': ['2cpr5p', 'M_2cpr5p'],\n",
       "  'chebi': ['29112', '11186', '18959', '28625', '565', '566', '58613'],\n",
       "  'kegg': ['C01302'],\n",
       "  'metacyc': ['CARBOXYPHENYLAMINO-DEOXYRIBULOSE-P'],\n",
       "  'seed': ['cpd00956']},\n",
       " 'MNXM147758': {'bigg': ['2d5kg', 'M_2d5kg']},\n",
       " 'MNXM1219': {'bigg': ['2dda7p', 'M_2dda7p'],\n",
       "  'chebi': ['18150',\n",
       "   '1053',\n",
       "   '11544',\n",
       "   '11785',\n",
       "   '11786',\n",
       "   '19523',\n",
       "   '20003',\n",
       "   '29477',\n",
       "   '58394'],\n",
       "  'kegg': ['C04691'],\n",
       "  'metacyc': ['3-DEOXY-D-ARABINO-HEPTULOSONATE-7-P'],\n",
       "  'reactome': ['964909'],\n",
       "  'sabiork': ['1828'],\n",
       "  'seed': ['cpd02857']},\n",
       " 'MNXM5461': {'bigg': ['2ddecg3p', 'M_2ddecg3p'], 'seed': ['cpd15350']},\n",
       " 'MNXM649': {'bigg': ['2ddg6p', 'M_2ddg6p'],\n",
       "  'chebi': ['15925', '1051', '11543', '11551', '12227', '19522', '57569'],\n",
       "  'hmdb': ['HMDB01376'],\n",
       "  'kegg': ['C04442'],\n",
       "  'metacyc': ['2-KETO-3-DEOXY-6-P-GLUCONATE'],\n",
       "  'seed': ['cpd02711']},\n",
       " 'MNXM440': {'bigg': ['2ddglcn', 'M_2ddglcn'],\n",
       "  'chebi': ['17032', '1059', '11550', '19530', '57990'],\n",
       "  'hmdb': ['HMDB01353'],\n",
       "  'kegg': ['C00204'],\n",
       "  'lipidmaps': ['LMFA01050475', 'LMFA01050486'],\n",
       "  'metacyc': ['2-DEHYDRO-3-DEOXY-D-GLUCONATE'],\n",
       "  'sabiork': ['1973', '21127'],\n",
       "  'seed': ['cpd00176']},\n",
       " 'MNXM2925': {'bigg': ['2dglc', 'M_2dglc'],\n",
       "  'chebi': ['15866',\n",
       "   '1078',\n",
       "   '11565',\n",
       "   '11569',\n",
       "   '19553',\n",
       "   '57546',\n",
       "   '84755',\n",
       "   '90760'],\n",
       "  'kegg': ['C00586'],\n",
       "  'metacyc': ['2-DEOXY-D-GLUCOSE'],\n",
       "  'sabiork': ['1609'],\n",
       "  'seed': ['cpd00455']},\n",
       " 'MNXM3460': {'bigg': ['2dglcn', 'M_2dglcn'],\n",
       "  'chebi': ['16138', '1077', '11564', '57653'],\n",
       "  'kegg': ['C02782'],\n",
       "  'metacyc': ['DE-O-GLUCONATE'],\n",
       "  'seed': ['cpd01795']},\n",
       " 'MNXM1627': {'bigg': ['2dh3dgal', 'M_2dh3dgal'],\n",
       "  'chebi': ['17028', '1056', '11547', '19527', '57989'],\n",
       "  'kegg': ['C01216'],\n",
       "  'metacyc': ['2-DEHYDRO-3-DEOXY-D-GALACTONATE'],\n",
       "  'sabiork': ['21126', '5451'],\n",
       "  'seed': ['cpd00894']},\n",
       " 'MNXM90136': {'bigg': ['2dh3dgal6p', 'M_2dh3dgal6p'],\n",
       "  'chebi': ['17860', '1057', '11548', '19528', '58298'],\n",
       "  'kegg': ['C01286'],\n",
       "  'metacyc': ['DEHYDRO-DEOXY-GALACTONATE-PHOSPHATE'],\n",
       "  'seed': ['cpd00945']},\n",
       " 'MNXM582': {'bigg': ['2dhglcn', 'M_2dhglcn'],\n",
       "  'chebi': ['16808',\n",
       "   '1066',\n",
       "   '11559',\n",
       "   '19539',\n",
       "   '58512',\n",
       "   '59504',\n",
       "   '27469',\n",
       "   '1180',\n",
       "   '19669'],\n",
       "  'kegg': ['C06473'],\n",
       "  'metacyc': ['CPD-377'],\n",
       "  'sabiork': ['2124'],\n",
       "  'seed': ['cpd00480', 'cpd03889']},\n",
       " 'MNXM114283': {'bigg': ['2dhguln', 'M_2dhguln'], 'seed': ['cpd15351']},\n",
       " 'MNXM959': {'bigg': ['2dhp', 'M_2dhp'],\n",
       "  'chebi': ['11561', '17094', '1071', '19545'],\n",
       "  'kegg': ['C00966'],\n",
       "  'metacyc': ['2-DEHYDROPANTOATE'],\n",
       "  'sabiork': ['5342'],\n",
       "  'seed': ['cpd00712']},\n",
       " 'MNXM6576': {'bigg': ['2dhphaccoa', 'M_2dhphaccoa'], 'seed': ['cpd16740']},\n",
       " 'MNXM6065': {'bigg': ['2dmmq6', 'M_2dmmq6'], 'seed': ['cpd15913']},\n",
       " 'MNXM164125': {'bigg': ['2dmmq7', 'M_2dmmq7'], 'seed': ['cpd29732']},\n",
       " 'MNXM2178': {'bigg': ['2dmmq8', 'M_2dmmq8'],\n",
       "  'chebi': ['48455'],\n",
       "  'lipidmaps': ['LMPR02030027'],\n",
       "  'metacyc': ['DEMETHYLMENAQUINONE'],\n",
       "  'seed': ['cpd15352']},\n",
       " 'MNXM558': {'bigg': ['2dmmql8', 'M_2dmmql8'],\n",
       "  'chebi': ['61873'],\n",
       "  'metacyc': ['CPD-12115', 'CPD0-2129'],\n",
       "  'seed': ['cpd15353']},\n",
       " 'MNXM3809': {'bigg': ['2doxg6p', 'M_2doxg6p'],\n",
       "  'chebi': ['16043', '1079', '11570', '19554', '57615', '84756', '84760'],\n",
       "  'kegg': ['C06369'],\n",
       "  'metacyc': ['2-DEOXY-D-GLUCOSE-6-PHOSPHATE'],\n",
       "  'sabiork': ['1611'],\n",
       "  'seed': ['cpd03805']},\n",
       " 'MNXM91882': {'bigg': ['2dp6mep', 'M_2dp6mep']},\n",
       " 'MNXM9806': {'bigg': ['2dp6mobq', 'M_2dp6mobq']},\n",
       " 'MNXM9803': {'bigg': ['2dp6mobq_me', 'M_2dp6mobq_me']},\n",
       " 'MNXM9802': {'bigg': ['2dpmhobq', 'M_2dpmhobq']},\n",
       " 'MNXM1063': {'bigg': ['2dr1p', 'M_2dr1p'],\n",
       "  'chebi': ['28542', '1081', '19558', '58576'],\n",
       "  'hmdb': ['HMDB01351'],\n",
       "  'kegg': ['C00672'],\n",
       "  'reactome': ['112032'],\n",
       "  'sabiork': ['1345'],\n",
       "  'seed': ['cpd00509', 'cpd26845']},\n",
       " 'MNXM2179': {'bigg': ['2dr5p', 'M_2dr5p'],\n",
       "  'chebi': ['16132', '1082', '11566', '19559', '42055', '57651'],\n",
       "  'kegg': ['C00673'],\n",
       "  'metacyc': ['DEOXY-RIBOSE-5P'],\n",
       "  'reactome': ['6787328'],\n",
       "  'sabiork': ['1346']},\n",
       " 'MNXM147395': {'bigg': ['2fe1s', 'M_2fe1s']},\n",
       " 'MNXM151647': {'bigg': ['2fe2s', 'M_2fe2s'],\n",
       "  'chebi': ['49601', '21134', '49600', '64605'],\n",
       "  'seed': ['cpd24604']},\n",
       " 'MNXM114441': {'bigg': ['2h34hppr', 'M_2h34hppr'],\n",
       "  'chebi': ['27683', '1118', '19599'],\n",
       "  'hmdb': ['HMDB06915'],\n",
       "  'kegg': ['C05350'],\n",
       "  'sabiork': ['2779'],\n",
       "  'seed': ['cpd03174']},\n",
       " 'MNXM409': {'bigg': ['2h3k5m', 'M_2h3k5m', 'hkmpp', 'M_hkmpp'],\n",
       "  'chebi': ['50605', '59505', '58829'],\n",
       "  'kegg': ['C15651'],\n",
       "  'metacyc': ['2-HYDROXY-3-KETO-5-METHYLTHIO-1-PHOSPHOP'],\n",
       "  'seed': ['cpd11296']},\n",
       " 'MNXM475': {'bigg': ['2h3opp',\n",
       "   'M_2h3opp',\n",
       "   '2h3oppan',\n",
       "   'M_2h3oppan',\n",
       "   'hop',\n",
       "   'M_hop'],\n",
       "  'chebi': ['16992', '1123', '11583', '15194', '19605', '57978'],\n",
       "  'hmdb': ['HMDB06938', 'HMDB06781'],\n",
       "  'kegg': ['C01146'],\n",
       "  'metacyc': ['TARTRONATE-S-ALD'],\n",
       "  'seed': ['cpd00843']},\n",
       " 'MNXM4968': {'bigg': ['2hb', 'M_2hb', '2hbut', 'M_2hbut'],\n",
       "  'chebi': ['1148', '675746', '64552'],\n",
       "  'envipath': ['650babc9-9d68-4b73-9332-11972ca26f7b/compound/c79bd2ad-5e18-41b7-9b12-5232412c1193'],\n",
       "  'hmdb': ['HMDB00008'],\n",
       "  'lipidmaps': ['LMFA01050004'],\n",
       "  'sabiork': ['2835'],\n",
       "  'seed': ['cpd03561']},\n",
       " 'MNXM145883': {'bigg': ['2hchd', 'M_2hchd'],\n",
       "  'chebi': ['1142'],\n",
       "  'kegg': ['C11354'],\n",
       "  'lipidmaps': ['LMFA01031001'],\n",
       "  'seed': ['cpd08209']},\n",
       " 'MNXM5464': {'bigg': ['2hdec9eg3p', 'M_2hdec9eg3p'], 'seed': ['cpd15354']},\n",
       " 'MNXM5465': {'bigg': ['2hdecg3p', 'M_2hdecg3p'],\n",
       "  'hmdb': ['HMDB07849'],\n",
       "  'lipidmaps': ['LMGP10050042'],\n",
       "  'metacyc': ['CPD-17276'],\n",
       "  'seed': ['cpd15355'],\n",
       "  'slm': ['000043273']},\n",
       " 'MNXM146251': {'bigg': ['2hh24dd', 'M_2hh24dd']},\n",
       " 'MNXM35167': {'bigg': ['2hhxdal', 'M_2hhxdal'],\n",
       "  'chebi': ['50626'],\n",
       "  'lipidmaps': ['LMFA06000252'],\n",
       "  'metacyc': ['CPD-14766'],\n",
       "  'seed': ['cpd15197']},\n",
       " 'MNXM162276': {'bigg': ['2hmc', 'M_2hmc'],\n",
       "  'chebi': ['28080', '1167', '19652', '53146'],\n",
       "  'envipath': ['32de3cf4-e3e6-4168-956e-32fa5ddb0ce1/compound/571b2ca8-e29a-4496-9a09-5b3174ad9019'],\n",
       "  'kegg': ['C02501'],\n",
       "  'metacyc': ['CPD-13339'],\n",
       "  'sabiork': ['2424'],\n",
       "  'seed': ['cpd01644', 'cpd23837']},\n",
       " 'MNXM1102': {'bigg': ['2hmcnsad', 'M_2hmcnsad'],\n",
       "  'chebi': ['17236', '11599', '1168', '19653', '58068', '71198', '71207'],\n",
       "  'kegg': ['C00682'],\n",
       "  'lipidmaps': ['LMFA01030970'],\n",
       "  'metacyc': ['HYDROXYMUCONATE-SALD'],\n",
       "  'sabiork': ['27641', '5179'],\n",
       "  'seed': ['cpd00518']},\n",
       " 'MNXM1210': {'bigg': ['2hog', 'M_2hog'],\n",
       "  'chebi': ['11596', '132941', '17084', '1160', '36149'],\n",
       "  'hmdb': ['HMDB59655'],\n",
       "  'kegg': ['C02630'],\n",
       "  'lipidmaps': ['LMFA01050483'],\n",
       "  'metacyc': ['2-HYDROXYGLUTARIC_ACID'],\n",
       "  'sabiork': ['2471'],\n",
       "  'seed': ['cpd01709', 'cpd21873']},\n",
       " 'MNXM147698': {'bigg': ['2hp6mbq', 'M_2hp6mbq']},\n",
       " 'MNXM4291': {'bigg': ['2hp6mp', 'M_2hp6mp'],\n",
       "  'chebi': ['1109'],\n",
       "  'hmdb': ['HMDB06817'],\n",
       "  'kegg': ['C05802'],\n",
       "  'lipidmaps': ['LMPR02010042'],\n",
       "  'metacyc': ['2-HEXAPRENYL-6-METHOXYPHENOL'],\n",
       "  'reactome': ['2164814'],\n",
       "  'seed': ['cpd03439']},\n",
       " 'MNXM148614': {'bigg': ['2hphaccoa', 'M_2hphaccoa']},\n",
       " 'MNXM147696': {'bigg': ['2hpmhmbq', 'M_2hpmhmbq']},\n",
       " 'MNXM147697': {'bigg': ['2hpmmbq', 'M_2hpmmbq']},\n",
       " 'MNXM1855': {'bigg': ['2hxmp', 'M_2hxmp', '2hymeph', 'M_2hymeph'],\n",
       "  'chebi': ['16464', '15059', '26592', '9004', '974'],\n",
       "  'hmdb': ['HMDB59709'],\n",
       "  'kegg': ['C02323', 'D05790'],\n",
       "  'metacyc': ['CPD-173'],\n",
       "  'sabiork': ['6141'],\n",
       "  'seed': ['cpd01553']},\n",
       " 'MNXM2160': {'bigg': ['2hyoxplac', 'M_2hyoxplac'],\n",
       "  'chebi': ['28478', '1169', '19655', '62423'],\n",
       "  'envipath': ['32de3cf4-e3e6-4168-956e-32fa5ddb0ce1/compound/450ae323-a033-4d27-871a-efd701ffc363'],\n",
       "  'hmdb': ['HMDB00669'],\n",
       "  'kegg': ['C05852'],\n",
       "  'metacyc': ['CPD-11495'],\n",
       "  'sabiork': ['8207'],\n",
       "  'seed': ['cpd03480']},\n",
       " 'MNXM676': {'bigg': ['2ins', 'M_2ins'],\n",
       "  'chebi': ['17811', '11435', '19339', '900'],\n",
       "  'kegg': ['C00691'],\n",
       "  'metacyc': ['CPD-14808'],\n",
       "  'sabiork': ['5184'],\n",
       "  'seed': ['cpd00524']},\n",
       " 'MNXM1706': {'bigg': ['2ippm', 'M_2ippm'],\n",
       "  'chebi': ['17275', '11604', '1179', '19668', '58085'],\n",
       "  'hmdb': ['HMDB12241'],\n",
       "  'kegg': ['C02631'],\n",
       "  'metacyc': ['CPD-9451'],\n",
       "  'sabiork': ['2472'],\n",
       "  'seed': ['cpd01710']},\n",
       " 'MNXM276': {'bigg': ['2kmb', 'M_2kmb', '4met2obut', 'M_4met2obut'],\n",
       "  'chebi': ['16723',\n",
       "   '12029',\n",
       "   '20451',\n",
       "   '63388',\n",
       "   '33574',\n",
       "   '1902',\n",
       "   '22458',\n",
       "   '43720'],\n",
       "  'hmdb': ['HMDB01553', 'HMDB13210'],\n",
       "  'kegg': ['C01180'],\n",
       "  'lipidmaps': ['LMFA01060170'],\n",
       "  'metacyc': ['CPD-479'],\n",
       "  'reactome': ['1237122'],\n",
       "  'sabiork': ['5424'],\n",
       "  'seed': ['cpd00869']},\n",
       " 'MNXM2068': {'bigg': ['2m3osuc', 'M_2m3osuc'], 'chebi': ['50793', '58851']},\n",
       " 'MNXM3160': {'bigg': ['2m6phol', 'M_2m6phol'],\n",
       "  'chebi': ['75920'],\n",
       "  'kegg': ['C15882'],\n",
       "  'metacyc': ['MPBQ'],\n",
       "  'seed': ['cpd14613']},\n",
       " 'MNXM524': {'bigg': ['2maacoa', 'M_2maacoa'],\n",
       "  'chebi': ['15476', '11613', '1195', '19687', '57335'],\n",
       "  'hmdb': ['HMDB01157'],\n",
       "  'kegg': ['C03344'],\n",
       "  'lipidmaps': ['LMFA07050189'],\n",
       "  'metacyc': ['2-METHYL-ACETO-ACETYL-COA'],\n",
       "  'reactome': ['70836'],\n",
       "  'sabiork': ['6566'],\n",
       "  'seed': ['cpd02124']},\n",
       " 'MNXM1135': {'bigg': ['2mahmp', 'M_2mahmp'],\n",
       "  'chebi': ['16629',\n",
       "   '11612',\n",
       "   '1194',\n",
       "   '11953',\n",
       "   '19684',\n",
       "   '20308',\n",
       "   '29079',\n",
       "   '57841'],\n",
       "  'kegg': ['C04752'],\n",
       "  'metacyc': ['AMINO-HYDROXYMETHYL-METHYLPYRIMIDINE-PP'],\n",
       "  'sabiork': ['1832'],\n",
       "  'seed': ['cpd02894']},\n",
       " 'MNXM609': {'bigg': ['2mb2coa', 'M_2mb2coa'],\n",
       "  'chebi': ['11614',\n",
       "   '15478',\n",
       "   '10949',\n",
       "   '11619',\n",
       "   '1199',\n",
       "   '1204',\n",
       "   '19691',\n",
       "   '19697',\n",
       "   '57260',\n",
       "   '57337'],\n",
       "  'hmdb': ['HMDB02054', 'HMDB00993', 'HMDB02371', 'HMDB06871', 'HMDB62753'],\n",
       "  'kegg': ['C03345'],\n",
       "  'lipidmaps': ['LMFA07050191', 'LMFA07050374'],\n",
       "  'metacyc': ['CPD-1083'],\n",
       "  'reactome': ['70799'],\n",
       "  'sabiork': ['6567'],\n",
       "  'seed': ['cpd02125', 'cpd29594']},\n",
       " 'MNXM35277': {'bigg': ['2mbac', 'M_2mbac'],\n",
       "  'chebi': ['50585'],\n",
       "  'hmdb': ['HMDB34166'],\n",
       "  'metacyc': ['CPD-19624'],\n",
       "  'seed': ['cpd16872']},\n",
       " 'MNXM2604': {'bigg': ['2mbald', 'M_2mbald'],\n",
       "  'chebi': ['16182', '11615', '1200', '19692'],\n",
       "  'hmdb': ['HMDB31526'],\n",
       "  'kegg': ['C02223'],\n",
       "  'metacyc': ['METHYLBUT-CPD'],\n",
       "  'sabiork': ['2385'],\n",
       "  'seed': ['cpd01499']},\n",
       " 'MNXM569': {'bigg': ['2mbcoa', 'M_2mbcoa'],\n",
       "  'chebi': ['15477', '11616', '1201', '19693', '57336'],\n",
       "  'hmdb': ['HMDB01041', 'HMDB02021', 'HMDB02191', 'HMDB02253'],\n",
       "  'kegg': ['C01033'],\n",
       "  'lipidmaps': ['LMFA07050190'],\n",
       "  'metacyc': ['2-METHYL-BUTYRYL-COA'],\n",
       "  'reactome': ['70718'],\n",
       "  'sabiork': ['2221'],\n",
       "  'seed': ['cpd00760']},\n",
       " 'MNXM9096': {'bigg': ['2mbdhl', 'M_2mbdhl', 'HC01376', 'M_HC01376'],\n",
       "  'chebi': ['28692', '22012', '8929'],\n",
       "  'hmdb': ['HMDB06869'],\n",
       "  'kegg': ['C05118'],\n",
       "  'metacyc': ['CPD-941'],\n",
       "  'seed': ['cpd03045']},\n",
       " 'MNXM5476': {'bigg': ['2mbtoh', 'M_2mbtoh'],\n",
       "  'chebi': ['48945'],\n",
       "  'hmdb': ['HMDB31527'],\n",
       "  'lipidmaps': ['LMFA05000104'],\n",
       "  'metacyc': ['CPD-7033'],\n",
       "  'sabiork': ['24989'],\n",
       "  'seed': ['cpd16873', 'cpd24695']},\n",
       " 'MNXM1792': {'bigg': ['2mcacn', 'M_2mcacn'],\n",
       "  'chebi': ['16717', '11084', '18819', '456', '57872'],\n",
       "  'hmdb': ['HMDB06357'],\n",
       "  'kegg': ['C04225'],\n",
       "  'metacyc': ['CPD-1136'],\n",
       "  'sabiork': ['7166'],\n",
       "  'seed': ['cpd02597']},\n",
       " 'MNXM1030': {'bigg': ['2mcit', 'M_2mcit'],\n",
       "  'chebi': ['10860',\n",
       "   '15598',\n",
       "   '11592',\n",
       "   '11618',\n",
       "   '19630',\n",
       "   '19695',\n",
       "   '30835',\n",
       "   '1203',\n",
       "   '19696',\n",
       "   '30836'],\n",
       "  'hmdb': ['HMDB00379', 'HMDB03610'],\n",
       "  'kegg': ['C02225'],\n",
       "  'lipidmaps': ['LMFA01050442'],\n",
       "  'sabiork': ['2387'],\n",
       "  'seed': ['cpd01501', 'cpd24620']},\n",
       " 'MNXM1626': {'bigg': ['2me4p', 'M_2me4p'],\n",
       "  'chebi': ['17764', '1030', '11483', '58262'],\n",
       "  'kegg': ['C11434'],\n",
       "  'metacyc': ['2-C-METHYL-D-ERYTHRITOL-4-PHOSPHATE'],\n",
       "  'sabiork': ['13501'],\n",
       "  'seed': ['cpd08286']},\n",
       " 'MNXM1168': {'bigg': ['2mecdp', 'M_2mecdp'],\n",
       "  'chebi': ['18425', '1029', '11481', '11482', '58483'],\n",
       "  'kegg': ['C11453'],\n",
       "  'metacyc': ['2C-METH-D-ERYTHRITOL-CYCLODIPHOSPHATE'],\n",
       "  'seed': ['cpd08301']},\n",
       " 'MNXM6733': {'bigg': ['2mhob', 'M_2mhob'],\n",
       "  'chebi': ['80223'],\n",
       "  'hmdb': ['HMDB12310'],\n",
       "  'kegg': ['C15978']},\n",
       " 'MNXM6734': {'bigg': ['2mhop', 'M_2mhop'],\n",
       "  'chebi': ['48522', '29142', '45938'],\n",
       "  'hmdb': ['HMDB06866'],\n",
       "  'kegg': ['C15976']},\n",
       " 'MNXM305': {'bigg': ['2mop', 'M_2mop'],\n",
       "  'chebi': ['16256', '11609', '11610', '1193', '19682', '57700'],\n",
       "  'envipath': ['32de3cf4-e3e6-4168-956e-32fa5ddb0ce1/compound/669443ca-5d20-4e6e-a4f5-0143c8400cde'],\n",
       "  'hmdb': ['HMDB01172'],\n",
       "  'kegg': ['C00349'],\n",
       "  'lipidmaps': ['LMFA01060193'],\n",
       "  'metacyc': ['CPD-12179'],\n",
       "  'reactome': ['30004'],\n",
       "  'sabiork': ['2027'],\n",
       "  'seed': ['cpd00287', 'cpd23282']},\n",
       " 'MNXM947': {'bigg': ['2mp2coa', 'M_2mp2coa'],\n",
       "  'chebi': ['27754', '1208', '19706', '62500'],\n",
       "  'hmdb': ['HMDB01011'],\n",
       "  'kegg': ['C03460'],\n",
       "  'lipidmaps': ['LMFA07050350'],\n",
       "  'metacyc': ['METHACRYLYL-COA'],\n",
       "  'reactome': ['70858'],\n",
       "  'sabiork': ['6641'],\n",
       "  'seed': ['cpd02187']},\n",
       " 'MNXM7749': {'bigg': ['2mpdhl', 'M_2mpdhl'],\n",
       "  'chebi': ['17577', '12733', '22013', '8930'],\n",
       "  'hmdb': ['HMDB06868'],\n",
       "  'kegg': ['C04424'],\n",
       "  'lipidmaps': ['LMFA08010022'],\n",
       "  'metacyc': ['CPD-281'],\n",
       "  'sabiork': ['7303'],\n",
       "  'seed': ['cpd02700']},\n",
       " 'MNXM5189': {'bigg': ['2mppal', 'M_2mppal'],\n",
       "  'chebi': ['48943'],\n",
       "  'hmdb': ['HMDB31243'],\n",
       "  'metacyc': ['CPD-7000'],\n",
       "  'sabiork': ['24796'],\n",
       "  'seed': ['cpd16874', 'cpd24683']},\n",
       " 'MNXM94056': {'bigg': ['2o3mpt', 'M_2o3mpt'],\n",
       "  'chebi': ['28379', '18656', '316'],\n",
       "  'kegg': ['C06008'],\n",
       "  'sabiork': ['2854'],\n",
       "  'seed': ['cpd03577']},\n",
       " 'MNXM159': {'bigg': ['2obut', 'M_2obut'],\n",
       "  'chebi': ['16763', '11636', '19741', '30831', '1250', '19743', '39748'],\n",
       "  'envipath': ['32de3cf4-e3e6-4168-956e-32fa5ddb0ce1/compound/1d8dba15-23b7-4916-91ba-3b00be5e4e8b'],\n",
       "  'hmdb': ['HMDB00005', 'HMDB06544'],\n",
       "  'kegg': ['C00109'],\n",
       "  'lipidmaps': ['LMFA01060002'],\n",
       "  'metacyc': ['2-OXOBUTANOATE'],\n",
       "  'reactome': ['936714'],\n",
       "  'sabiork': ['1934'],\n",
       "  'seed': ['cpd00094']},\n",
       " 'MNXM5480': {'bigg': ['2odec11eg3p', 'M_2odec11eg3p'], 'seed': ['cpd15357']},\n",
       " 'MNXM5481': {'bigg': ['2odecg3p', 'M_2odecg3p'],\n",
       "  'hmdb': ['HMDB07850'],\n",
       "  'lipidmaps': ['LMGP10050043'],\n",
       "  'metacyc': ['CPD-17274'],\n",
       "  'seed': ['cpd15358'],\n",
       "  'slm': ['000043277']},\n",
       " 'MNXM145629': {'bigg': ['2ohed', 'M_2ohed'],\n",
       "  'chebi': ['17205', '11639', '19750', '48061', '48062'],\n",
       "  'kegg': ['C03063'],\n",
       "  'sabiork': ['6433'],\n",
       "  'seed': ['cpd01960']},\n",
       " 'MNXM1635': {'bigg': ['2ohph', 'M_2ohph'],\n",
       "  'chebi': ['1233', '62730'],\n",
       "  'kegg': ['C05811'],\n",
       "  'metacyc': ['2-OCTAPRENYL-6-HYDROXYPHENOL'],\n",
       "  'seed': ['cpd03445']},\n",
       " 'MNXM5483': {'bigg': ['2ohph_5', 'M_2ohph_5'], 'seed': ['cpd15198']},\n",
       " 'MNXM1903': {'bigg': ['2ombz', 'M_2ombz'],\n",
       "  'chebi': ['28423', '1234', '19730'],\n",
       "  'kegg': ['C05813'],\n",
       "  'metacyc': ['CPD-15152'],\n",
       "  'seed': ['cpd03447']},\n",
       " 'MNXM90444': {'bigg': ['2ombzl', 'M_2ombzl'],\n",
       "  'chebi': ['60655'],\n",
       "  'metacyc': ['OCTAPRENYL-METHOXY-BENZOQUINONE'],\n",
       "  'seed': ['cpd15359']},\n",
       " 'MNXM6753': {'bigg': ['2ombzl_5', 'M_2ombzl_5'], 'seed': ['cpd15199']},\n",
       " 'MNXM4398': {'bigg': ['2omcm', 'M_2omcm'],\n",
       "  'chebi': ['1243'],\n",
       "  'kegg': ['C07479'],\n",
       "  'seed': ['cpd04652']},\n",
       " 'MNXM2187': {'bigg': ['2omhmbl', 'M_2omhmbl'],\n",
       "  'chebi': ['27688', '1231', '19728', '61705'],\n",
       "  'metacyc': ['OCTAPRENYL-METHYL-OH-METHOXY-BENZQ'],\n",
       "  'seed': ['cpd15360']},\n",
       " 'MNXM6752': {'bigg': ['2omhmbl_5', 'M_2omhmbl_5'], 'seed': ['cpd15200']},\n",
       " 'MNXM90440': {'bigg': ['2ommb', 'M_2ommb'],\n",
       "  'chebi': ['28636', '1232', '19729'],\n",
       "  'kegg': ['C05814'],\n",
       "  'metacyc': ['CPD-15153'],\n",
       "  'seed': ['cpd03448']},\n",
       " 'MNXM1899': {'bigg': ['2ommbl', 'M_2ommbl'],\n",
       "  'chebi': ['60656'],\n",
       "  'hmdb': ['HMDB11661'],\n",
       "  'metacyc': ['OCTAPRENYL-METHYL-METHOXY-BENZQ'],\n",
       "  'seed': ['cpd15361']},\n",
       " 'MNXM6754': {'bigg': ['2ommbl_5', 'M_2ommbl_5'], 'seed': ['cpd15201']},\n",
       " 'MNXM1707': {'bigg': ['2omph', 'M_2omph'],\n",
       "  'chebi': ['1235'],\n",
       "  'kegg': ['C05812'],\n",
       "  'metacyc': ['2-OCTAPRENYL-6-METHOXYPHENOL'],\n",
       "  'seed': ['cpd03446']},\n",
       " 'MNXM4300': {'bigg': ['2omph_5', 'M_2omph_5'], 'seed': ['cpd15202']},\n",
       " 'MNXM114285': {'bigg': ['2ood', 'M_2ood'], 'seed': ['cpd15808']},\n",
       " 'MNXM1886': {'bigg': ['2oph', 'M_2oph'],\n",
       "  'chebi': ['40407', '1236', '40398'],\n",
       "  'kegg': ['C05810'],\n",
       "  'metacyc': ['2-OCTAPRENYLPHENOL'],\n",
       "  'seed': ['cpd03444']},\n",
       " 'MNXM6755': {'bigg': ['2oph_5', 'M_2oph_5'], 'seed': ['cpd15203']},\n",
       " 'MNXM263': {'bigg': ['2oxoadp', 'M_2oxoadp'],\n",
       "  'chebi': ['15753', '11635', '1247', '19737', '57499'],\n",
       "  'hmdb': ['HMDB00225'],\n",
       "  'kegg': ['C00322'],\n",
       "  'lipidmaps': ['LMFA01170121'],\n",
       "  'metacyc': ['2K-ADIPATE'],\n",
       "  'reactome': ['113577', '70951'],\n",
       "  'sabiork': ['2016'],\n",
       "  'seed': ['cpd00269']},\n",
       " 'MNXM2851': {'bigg': ['2oxpaccoa', 'M_2oxpaccoa'],\n",
       "  'chebi': ['63251', '63252'],\n",
       "  'envipath': ['32de3cf4-e3e6-4168-956e-32fa5ddb0ce1/compound/3dfebe6c-c2b9-490b-8a0b-a10c16c4700f'],\n",
       "  'kegg': ['C19975'],\n",
       "  'metacyc': ['CPD0-2363'],\n",
       "  'seed': ['cpd21214']},\n",
       " 'MNXM1641': {'bigg': ['2p4c2me', 'M_2p4c2me'],\n",
       "  'chebi': ['16840', '11649', '11650', '1266', '57919'],\n",
       "  'kegg': ['C11436'],\n",
       "  'metacyc': ['2-PHOSPHO-4-CYTIDINE-5-DIPHOSPHO-2-C-MET'],\n",
       "  'seed': ['cpd08288']},\n",
       " 'MNXM3442': {'bigg': ['2pcpgc', 'M_2pcpgc'],\n",
       "  'chebi': ['16068', '11654', '1273', '136231', '19773', '57628'],\n",
       "  'envipath': ['32de3cf4-e3e6-4168-956e-32fa5ddb0ce1/compound/68788b75-a6f2-4055-8843-5ccfa7563211'],\n",
       "  'hmdb': ['HMDB59651'],\n",
       "  'kegg': ['C04524'],\n",
       "  'metacyc': ['2-PROTOCATECHUOYLPHLOROGLUCINOLCARBOXYLA'],\n",
       "  'sabiork': ['7373'],\n",
       "  'seed': ['cpd02754']},\n",
       " 'MNXM275': {'bigg': ['2pg', 'M_2pg'],\n",
       "  'chebi': ['17835', '11651', '1267', '12986', '21028', '39868', '58289'],\n",
       "  'hmdb': ['HMDB03391', 'HMDB62707'],\n",
       "  'kegg': ['C00631'],\n",
       "  'metacyc': ['2-PG'],\n",
       "  'reactome': ['30485'],\n",
       "  'sabiork': ['31'],\n",
       "  'seed': ['cpd00482']},\n",
       " 'MNXM2074': {'bigg': ['2pglyc', 'M_2pglyc'],\n",
       "  'chebi': ['17150', '11652', '1268', '19764', '44849', '19763', '58033'],\n",
       "  'hmdb': ['HMDB00816', 'HMDB60148'],\n",
       "  'kegg': ['C00988'],\n",
       "  'metacyc': ['CPD-67'],\n",
       "  'sabiork': ['1350'],\n",
       "  'seed': ['cpd00727']},\n",
       " 'MNXM2476': {'bigg': ['2phetoh', 'M_2phetoh'],\n",
       "  'chebi': ['49000', '44780', '8096'],\n",
       "  'hmdb': ['HMDB33944'],\n",
       "  'kegg': ['C05853', 'D00192'],\n",
       "  'metacyc': ['CPD-7035'],\n",
       "  'sabiork': ['8208'],\n",
       "  'seed': ['cpd03481']},\n",
       " 'MNXM2888': {'bigg': ['2plac__L', 'M_2plac__L'],\n",
       "  'chebi': ['45013', '59433', '59906'],\n",
       "  'kegg': ['C19156'],\n",
       "  'metacyc': ['S-PHOSPHOLACTATE'],\n",
       "  'sabiork': ['28542'],\n",
       "  'seed': ['cpd15809', 'cpd20414', 'cpd28137']},\n",
       " 'MNXM3085': {'bigg': ['2ppoh', 'M_2ppoh'],\n",
       "  'chebi': ['17824', '14897', '26280', '43588', '8467'],\n",
       "  'envipath': ['32de3cf4-e3e6-4168-956e-32fa5ddb0ce1/compound/ab133c42-5533-4d5b-b8f7-865fa0094c0e'],\n",
       "  'hmdb': ['HMDB00863'],\n",
       "  'kegg': ['C01845', 'D00137'],\n",
       "  'metacyc': ['ISO-PROPANOL'],\n",
       "  'sabiork': ['2324'],\n",
       "  'seed': ['cpd01269']},\n",
       " 'MNXM434': {'bigg': ['2saa', 'M_2saa'],\n",
       "  'chebi': ['17717', '11657', '15140', '26824', '9345', '58246'],\n",
       "  'envipath': ['32de3cf4-e3e6-4168-956e-32fa5ddb0ce1/compound/428e8f52-6e11-4206-bf7e-6728cc11c344'],\n",
       "  'kegg': ['C00593'],\n",
       "  'metacyc': ['SULFOACETALDEHYDE'],\n",
       "  'sabiork': ['2110'],\n",
       "  'seed': ['cpd00460']},\n",
       " 'MNXM1861': {'bigg': ['2sephchc', 'M_2sephchc'],\n",
       "  'chebi': ['50271', '58818'],\n",
       "  'kegg': ['C16519'],\n",
       "  'sabiork': ['27666'],\n",
       "  'seed': ['cpd16335']},\n",
       " 'MNXM162721': {'bigg': ['2shchc', 'M_2shchc'],\n",
       "  'chebi': ['1277', '57272'],\n",
       "  'metacyc': ['SUCCINYL-OH-CYCLOHEXADIENE-COOH'],\n",
       "  'sabiork': ['8173'],\n",
       "  'seed': ['cpd28162']},\n",
       " 'MNXM5452': {'bigg': ['2tcc', 'M_2tcc'],\n",
       "  'chebi': ['73964'],\n",
       "  'metacyc': ['CPD-418'],\n",
       "  'seed': ['cpd15810']},\n",
       " 'MNXM5490': {'bigg': ['2tdec7eg3p', 'M_2tdec7eg3p'], 'seed': ['cpd15362']},\n",
       " 'MNXM5491': {'bigg': ['2tdecg3p', 'M_2tdecg3p'], 'seed': ['cpd15363']},\n",
       " 'MNXM2769': {'bigg': ['2tpr3dpcoa', 'M_2tpr3dpcoa'],\n",
       "  'chebi': ['11392', '61378'],\n",
       "  'kegg': ['C19771'],\n",
       "  'lipidmaps': ['LMFA07050169'],\n",
       "  'metacyc': ['2-5-TRIPHOSPHORIBOSYL-3-DEPHOSPHO-'],\n",
       "  'seed': ['cpd15364']},\n",
       " 'MNXM2779': {'bigg': ['34dhbald', 'M_34dhbald'],\n",
       "  'chebi': ['50205'],\n",
       "  'hmdb': ['HMDB59965'],\n",
       "  'kegg': ['C16700'],\n",
       "  'metacyc': ['CPD-7616'],\n",
       "  'sabiork': ['23378'],\n",
       "  'seed': ['cpd16507']},\n",
       " 'MNXM204': {'bigg': ['34dhbz', 'M_34dhbz'],\n",
       "  'chebi': ['36062',\n",
       "   '1380',\n",
       "   '16798',\n",
       "   '19879',\n",
       "   '20270',\n",
       "   '20272',\n",
       "   '41912',\n",
       "   '36241',\n",
       "   '11694',\n",
       "   '14955',\n",
       "   '19878'],\n",
       "  'envipath': ['32de3cf4-e3e6-4168-956e-32fa5ddb0ce1/compound/ea67a9bb-3d64-4abf-8925-efc74746beaf'],\n",
       "  'hmdb': ['HMDB01856'],\n",
       "  'kegg': ['C00230'],\n",
       "  'metacyc': ['3-4-DIHYDROXYBENZOATE'],\n",
       "  'reactome': ['175977'],\n",
       "  'sabiork': ['1983'],\n",
       "  'seed': ['cpd00197']},\n",
       " 'MNXM890': {'bigg': ['34dhcinm', 'M_34dhcinm'],\n",
       "  'chebi': ['16433',\n",
       "   '11691',\n",
       "   '11692',\n",
       "   '12870',\n",
       "   '1379',\n",
       "   '19877',\n",
       "   '41964',\n",
       "   '36281',\n",
       "   '57770'],\n",
       "  'hmdb': ['HMDB01964', 'HMDB03501', 'HMDB06494'],\n",
       "  'kegg': ['C01197', 'C01481'],\n",
       "  'metacyc': ['CPD-676'],\n",
       "  'sabiork': ['5437', '5610'],\n",
       "  'seed': ['cpd00881', 'cpd22503', 'cpd30744']},\n",
       " 'MNXM1633': {'bigg': ['34dhmald', 'M_34dhmald'],\n",
       "  'chebi': ['27852', '1382', '19883'],\n",
       "  'hmdb': ['HMDB06242', 'HMDB04057'],\n",
       "  'kegg': ['C05577'],\n",
       "  'metacyc': ['DIHYDROXYPHENYLGLYCOLALDEHYDE'],\n",
       "  'reactome': ['5279533'],\n",
       "  'sabiork': ['26613'],\n",
       "  'seed': ['cpd03307']},\n",
       " 'MNXM90911': {'bigg': ['34dhoxmand', 'M_34dhoxmand']},\n",
       " 'MNXM2931': {'bigg': ['34dhoxpeg', 'M_34dhoxpeg'],\n",
       "  'chebi': ['1387'],\n",
       "  'hmdb': ['HMDB00318', 'HMDB05870'],\n",
       "  'kegg': ['C05576'],\n",
       "  'metacyc': ['CPD-11878'],\n",
       "  'seed': ['cpd03306']},\n",
       " 'MNXM1401': {'bigg': ['34dhpac', 'M_34dhpac'],\n",
       "  'chebi': ['27978', '1385', '19888'],\n",
       "  'hmdb': ['HMDB03791', 'HMDB06256', 'HMDB06778'],\n",
       "  'kegg': ['C04043'],\n",
       "  'metacyc': ['34-DIHYDROXYPHENYLACETALDEHYDE'],\n",
       "  'sabiork': ['7037'],\n",
       "  'seed': ['cpd02500']},\n",
       " 'MNXM645': {'bigg': ['34dhpacet', 'M_34dhpacet', '34dhpha', 'M_34dhpha'],\n",
       "  'chebi': ['17612', '11696', '11697', '19889', '41941', '1386', '41936'],\n",
       "  'envipath': ['32de3cf4-e3e6-4168-956e-32fa5ddb0ce1/compound/d7441dee-c9b3-4f65-ba05-c652a8465767'],\n",
       "  'hmdb': ['HMDB01336'],\n",
       "  'kegg': ['C01161'],\n",
       "  'metacyc': ['CPD-782'],\n",
       "  'sabiork': ['5413'],\n",
       "  'seed': ['cpd00854']},\n",
       " 'MNXM14479': {'bigg': ['34dhphaccoa', 'M_34dhphaccoa'],\n",
       "  'metacyc': ['34-DIHYDROXYPHENYLACETYL-COA'],\n",
       "  'sabiork': ['27952'],\n",
       "  'seed': ['cpd22085']},\n",
       " 'MNXM162631': {'bigg': ['34dhphe', 'M_34dhphe']},\n",
       " 'MNXM114141': {'bigg': ['34hpl', 'M_34hpl'],\n",
       "  'chebi': ['17385',\n",
       "   '1430',\n",
       "   '19600',\n",
       "   '36659',\n",
       "   '1117',\n",
       "   '11726',\n",
       "   '19598',\n",
       "   '19932',\n",
       "   '28403'],\n",
       "  'hmdb': ['HMDB00755'],\n",
       "  'kegg': ['C03672'],\n",
       "  'metacyc': ['4-HYDROXYPHENYLLACTATE'],\n",
       "  'sabiork': ['6782'],\n",
       "  'seed': ['cpd02305']},\n",
       " 'MNXM153': {'bigg': ['34hpp', 'M_34hpp'],\n",
       "  'chebi': ['15999',\n",
       "   '1431',\n",
       "   '20426',\n",
       "   '42422',\n",
       "   '36242',\n",
       "   '11725',\n",
       "   '11727',\n",
       "   '12016',\n",
       "   '20425',\n",
       "   '594665'],\n",
       "  'envipath': ['32de3cf4-e3e6-4168-956e-32fa5ddb0ce1/compound/f2e806ef-76ea-4ddf-bf89-db7737caa79b'],\n",
       "  'hmdb': ['HMDB00707'],\n",
       "  'kegg': ['C01179'],\n",
       "  'metacyc': ['P-HYDROXY-PHENYLPYRUVATE'],\n",
       "  'reactome': ['31365'],\n",
       "  'sabiork': ['5423'],\n",
       "  'seed': ['cpd00868']},\n",
       " 'MNXM148637': {'bigg': ['35ccmp', 'M_35ccmp']},\n",
       " 'MNXM91927': {'bigg': ['35cdamp', 'M_35cdamp']},\n",
       " 'MNXM665': {'bigg': ['35cgmp', 'M_35cgmp'],\n",
       "  'chebi': ['16356',\n",
       "   '11675',\n",
       "   '1327',\n",
       "   '14377',\n",
       "   '19829',\n",
       "   '39915',\n",
       "   '44955',\n",
       "   '44957',\n",
       "   '57746'],\n",
       "  'hmdb': ['HMDB01314'],\n",
       "  'kegg': ['C00942'],\n",
       "  'metacyc': ['CGMP'],\n",
       "  'seed': ['cpd00697']},\n",
       " 'MNXM91928': {'bigg': ['35cimp', 'M_35cimp']},\n",
       " 'MNXM148638': {'bigg': ['35dhpha', 'M_35dhpha']},\n",
       " 'MNXM148639': {'bigg': ['35dhphaccoa', 'M_35dhphaccoa']},\n",
       " 'MNXM163675': {'bigg': ['35diotyr', 'M_35diotyr']},\n",
       " 'MNXM1865': {'bigg': ['36dahx', 'M_36dahx'],\n",
       "  'chebi': ['15613', '10885', '18564', '206', '57434'],\n",
       "  'hmdb': ['HMDB12114'],\n",
       "  'kegg': ['C01142'],\n",
       "  'metacyc': ['CPD-233'],\n",
       "  'seed': ['cpd00840']},\n",
       " 'MNXM14448': {'bigg': ['3AStmyn', 'M_3AStmyn'], 'seed': ['cpd16061']},\n",
       " 'MNXM9930': {'bigg': ['3AStrmyn', 'M_3AStrmyn'],\n",
       "  'kegg': ['C03580'],\n",
       "  'seed': ['cpd02250']},\n",
       " 'MNXM771': {'bigg': ['3aap', 'M_3aap'],\n",
       "  'chebi': ['30322'],\n",
       "  'hmdb': ['HMDB12880'],\n",
       "  'kegg': ['C18170'],\n",
       "  'metacyc': ['CPD-10687'],\n",
       "  'reactome': ['141327'],\n",
       "  'sabiork': ['28801'],\n",
       "  'seed': ['cpd19440']},\n",
       " 'MNXM786': {'bigg': ['3aib', 'M_3aib'],\n",
       "  'chebi': ['16320', '10981', '18661', '320', '49097', '57731'],\n",
       "  'hmdb': ['HMDB02299'],\n",
       "  'kegg': ['C01205'],\n",
       "  'lipidmaps': ['LMFA01100049'],\n",
       "  'metacyc': ['CPD-471'],\n",
       "  'reactome': ['73619', '909779'],\n",
       "  'seed': ['cpd00886']},\n",
       " 'MNXM162802': {'bigg': ['3aib__D', 'M_3aib__D']},\n",
       " 'MNXM162288': {'bigg': ['3amac', 'M_3amac'],\n",
       "  'chebi': ['59893', '59894'],\n",
       "  'kegg': ['C20253'],\n",
       "  'metacyc': ['CPD0-2339'],\n",
       "  'seed': ['cpd21486']},\n",
       " 'MNXM36331': {'bigg': ['3amba', 'M_3amba'],\n",
       "  'chebi': ['37081', '87997'],\n",
       "  'hmdb': ['HMDB31654'],\n",
       "  'metacyc': ['CPD-4748'],\n",
       "  'seed': ['cpd11599']},\n",
       " 'MNXM1985': {'bigg': ['3amp', 'M_3amp'],\n",
       "  'chebi': ['28931', '1333', '22241', '40872', '60880'],\n",
       "  'hmdb': ['HMDB03540', 'HMDB06550'],\n",
       "  'kegg': ['C01367'],\n",
       "  'metacyc': ['CPD-3706'],\n",
       "  'seed': ['cpd00988']},\n",
       " 'MNXM163668': {'bigg': ['3bcrn', 'M_3bcrn'],\n",
       "  'chebi': ['72995'],\n",
       "  'lipidmaps': ['LMFA07070037']},\n",
       " 'MNXM891': {'bigg': ['3c2hmp', 'M_3c2hmp'],\n",
       "  'chebi': ['35121', '1565', '35120', '43468', '35122', '43465'],\n",
       "  'kegg': ['C04411'],\n",
       "  'metacyc': ['2-D-THREO-HYDROXY-3-CARBOXY-ISOCAPROATE']},\n",
       " 'MNXM985': {'bigg': ['3c3hmp', 'M_3c3hmp'],\n",
       "  'chebi': ['1178', '35128'],\n",
       "  'kegg': ['C02504'],\n",
       "  'metacyc': ['3-CARBOXY-3-HYDROXY-ISOCAPROATE']},\n",
       " 'MNXM1602': {'bigg': ['3c4mop', 'M_3c4mop'],\n",
       "  'chebi': ['1467', '17214', '11765', '19975'],\n",
       "  'hmdb': ['HMDB12149'],\n",
       "  'kegg': ['C04236'],\n",
       "  'metacyc': ['CPD-7100'],\n",
       "  'seed': ['cpd02605']},\n",
       " 'MNXM2182': {'bigg': ['3cmp', 'M_3cmp'],\n",
       "  'chebi': ['53013', '1335', '23517', '28929', '41345', '41615', '60875'],\n",
       "  'kegg': ['C05822'],\n",
       "  'metacyc': ['CPD-3711'],\n",
       "  'seed': ['cpd03454']},\n",
       " 'MNXM150910': {'bigg': ['3ddcrn', 'M_3ddcrn'],\n",
       "  'chebi': ['73056'],\n",
       "  'hmdb': ['HMDB61638'],\n",
       "  'lipidmaps': ['LMFA07070039']},\n",
       " 'MNXM3482': {'bigg': ['3ddgc', 'M_3ddgc'],\n",
       "  'chebi': ['16622', '11774', '1481', '19990', '57839'],\n",
       "  'kegg': ['C03926'],\n",
       "  'metacyc': ['DE-O-K-GLUCONATE'],\n",
       "  'seed': ['cpd02441']},\n",
       " 'MNXM150909': {'bigg': ['3deccrn', 'M_3deccrn'],\n",
       "  'chebi': ['73051'],\n",
       "  'hmdb': ['HMDB61636']},\n",
       " 'MNXM2783': {'bigg': ['3dh5hpb', 'M_3dh5hpb'],\n",
       "  'chebi': ['18081', '11798', '1509', '20027', '58373'],\n",
       "  'hmdb': ['HMDB01063'],\n",
       "  'kegg': ['C05200'],\n",
       "  'lipidmaps': ['LMPR02010043'],\n",
       "  'metacyc': ['3-HEXAPRENYL-45-DIHYDROXYBENZOATE'],\n",
       "  'reactome': ['2162278'],\n",
       "  'seed': ['cpd03092']},\n",
       " 'MNXM736': {'bigg': ['3dhguln', 'M_3dhguln'],\n",
       "  'chebi': ['16142', '11777', '1482', '19992', '57655'],\n",
       "  'hmdb': ['HMDB06334'],\n",
       "  'kegg': ['C00618'],\n",
       "  'metacyc': ['3-KETO-L-GULONATE'],\n",
       "  'reactome': ['5661262'],\n",
       "  'sabiork': ['2117'],\n",
       "  'seed': ['cpd00473']},\n",
       " 'MNXM1170': {'bigg': ['3dhgulnp', 'M_3dhgulnp'],\n",
       "  'chebi': ['49039', '58774'],\n",
       "  'kegg': ['C14899'],\n",
       "  'metacyc': ['CPD-2343'],\n",
       "  'sabiork': ['22145'],\n",
       "  'seed': ['cpd10596']},\n",
       " 'MNXM148613': {'bigg': ['3dhphaccoa', 'M_3dhphaccoa']},\n",
       " 'MNXM478': {'bigg': ['3dhq', 'M_3dhq'],\n",
       "  'chebi': ['17947', '1487', '19997', '42078', '32364', '11781', '12122'],\n",
       "  'hmdb': ['HMDB12710'],\n",
       "  'kegg': ['C00944'],\n",
       "  'metacyc': ['DEHYDROQUINATE'],\n",
       "  'reactome': ['964921'],\n",
       "  'sabiork': ['27311', '5328'],\n",
       "  'seed': ['cpd00699']},\n",
       " 'MNXM611': {'bigg': ['3dhsk', 'M_3dhsk'],\n",
       "  'chebi': ['16630',\n",
       "   '11782',\n",
       "   '12123',\n",
       "   '17841',\n",
       "   '19998',\n",
       "   '20566',\n",
       "   '30918',\n",
       "   '1488',\n",
       "   '19999',\n",
       "   '2052',\n",
       "   '42005'],\n",
       "  'kegg': ['C02637'],\n",
       "  'metacyc': ['3-DEHYDRO-SHIKIMATE'],\n",
       "  'reactome': ['964941'],\n",
       "  'sabiork': ['27313', '6290'],\n",
       "  'seed': ['cpd01716']},\n",
       " 'MNXM91405': {'bigg': ['3dpdhb', 'M_3dpdhb']},\n",
       " 'MNXM91944': {'bigg': ['3dpdhb_me', 'M_3dpdhb_me']},\n",
       " 'MNXM91406': {'bigg': ['3dphb', 'M_3dphb']},\n",
       " 'MNXM559': {'bigg': ['3dsphgn', 'M_3dsphgn'],\n",
       "  'chebi': ['17862', '11776', '11783', '1489', '19991', '58299'],\n",
       "  'hmdb': ['HMDB01480', 'HMDB62571'],\n",
       "  'kegg': ['C02934'],\n",
       "  'lipidmaps': ['LMSP01020002'],\n",
       "  'metacyc': ['DEHYDROSPHINGANINE'],\n",
       "  'reactome': ['428182'],\n",
       "  'seed': ['cpd01879'],\n",
       "  'slm': ['000000384']},\n",
       " 'MNXM147396': {'bigg': ['3fe4s', 'M_3fe4s']},\n",
       " 'MNXM103135': {'bigg': ['3g12dgr_SA2', 'M_3g12dgr_SA2'],\n",
       "  'chebi': ['75799'],\n",
       "  'kegg': ['C04046'],\n",
       "  'lipidmaps': ['LMGL0501AB00'],\n",
       "  'metacyc': ['D-Glucosyl-12-diacyl-glycerols'],\n",
       "  'seed': ['cpd12452']},\n",
       " 'MNXM2183': {'bigg': ['3gmp', 'M_3gmp'],\n",
       "  'chebi': ['28072', '24447', '39948', '42888', '5567', '60732'],\n",
       "  'metacyc': ['CPD-3708'],\n",
       "  'seed': ['cpd03701']},\n",
       " 'MNXM6801': {'bigg': ['3h26dm5coa', 'M_3h26dm5coa']},\n",
       " 'MNXM5861': {'bigg': ['3haACP', 'M_3haACP'],\n",
       "  'chebi': ['84648'],\n",
       "  'kegg': ['C01271'],\n",
       "  'metacyc': ['OH-ACYL-ACP'],\n",
       "  'reactome': ['8862371'],\n",
       "  'seed': ['cpd11836']},\n",
       " 'MNXM1875': {'bigg': ['3hacoa', 'M_3hacoa'],\n",
       "  'chebi': ['15455',\n",
       "   '10887',\n",
       "   '11046',\n",
       "   '18566',\n",
       "   '208',\n",
       "   '57318',\n",
       "   '87718',\n",
       "   '88087'],\n",
       "  'kegg': ['C00640'],\n",
       "  'metacyc': ['L-3-HYDROXYACYL-COA'],\n",
       "  'seed': ['cpd11718']},\n",
       " 'MNXM2784': {'bigg': ['3hadpcoa', 'M_3hadpcoa'],\n",
       "  'chebi': ['132183', '34002', '70990', '71038'],\n",
       "  'envipath': ['32de3cf4-e3e6-4168-956e-32fa5ddb0ce1/compound/5bf44b24-e859-4cb6-9efd-d350969bc5f5'],\n",
       "  'hmdb': ['HMDB12475', 'HMDB62352'],\n",
       "  'kegg': ['C14145'],\n",
       "  'lipidmaps': ['LMFA07050117', 'LMFA07050211'],\n",
       "  'metacyc': ['3-HYDROXYADIPYL-COA'],\n",
       "  'seed': ['cpd09844']},\n",
       " 'MNXM359': {'bigg': ['3hanthrn', 'M_3hanthrn'],\n",
       "  'chebi': ['15793',\n",
       "   '1536',\n",
       "   '39887',\n",
       "   '36559',\n",
       "   '11800',\n",
       "   '11826',\n",
       "   '20061',\n",
       "   '61149',\n",
       "   '61150'],\n",
       "  'envipath': ['32de3cf4-e3e6-4168-956e-32fa5ddb0ce1/compound/8343d5cb-07fb-42df-ba04-68d360249d35'],\n",
       "  'hmdb': ['HMDB01476'],\n",
       "  'kegg': ['C00632'],\n",
       "  'metacyc': ['3-HYDROXY-ANTHRANILATE', 'CPD-9520'],\n",
       "  'reactome': ['30487'],\n",
       "  'sabiork': ['2126'],\n",
       "  'seed': ['cpd00483', 'cpd25715']},\n",
       " 'MNXM446': {'bigg': ['3hbcoa', 'M_3hbcoa', '3hbycoa', 'M_3hbycoa'],\n",
       "  'chebi': ['15453', '11048', '18749', '394', '39978', '57316'],\n",
       "  'envipath': ['32de3cf4-e3e6-4168-956e-32fa5ddb0ce1/compound/52913599-1749-4913-8cc4-b6c15d72ad5e'],\n",
       "  'hmdb': ['HMDB62259'],\n",
       "  'kegg': ['C01144'],\n",
       "  'lipidmaps': ['LMFA07050153'],\n",
       "  'metacyc': ['S-3-HYDROXYBUTANOYL-COA'],\n",
       "  'reactome': ['77251'],\n",
       "  'sabiork': ['2254'],\n",
       "  'seed': ['cpd00842'],\n",
       "  'slm': ['000001032']},\n",
       " 'MNXM162788': {'bigg': ['3hbcoa__R', 'M_3hbcoa__R']},\n",
       " 'MNXM91793': {'bigg': ['3hbutACP', 'M_3hbutACP'],\n",
       "  'kegg': ['C04618'],\n",
       "  'metacyc': ['Beta-3-hydroxybutyryl-ACPs'],\n",
       "  'seed': ['cpd11478']},\n",
       " 'MNXM5389': {'bigg': ['3hcddec5eACP', 'M_3hcddec5eACP'],\n",
       "  'seed': ['cpd15366']},\n",
       " 'MNXM91139': {'bigg': ['3hcdgggp', 'M_3hcdgggp'], 'seed': ['cpd15811']},\n",
       " 'MNXM1799': {'bigg': ['3hcinnm', 'M_3hcinnm'],\n",
       "  'chebi': ['32357', '47925', '47927', '47928'],\n",
       "  'hmdb': ['HMDB01713', 'HMDB62774'],\n",
       "  'kegg': ['C12621'],\n",
       "  'metacyc': ['CPD-10797'],\n",
       "  'sabiork': ['14652', '27751'],\n",
       "  'seed': ['cpd09252']},\n",
       " 'MNXM5390': {'bigg': ['3hcmrs7eACP', 'M_3hcmrs7eACP'], 'seed': ['cpd15368']},\n",
       " 'MNXM6556': {'bigg': ['3hcpalm9eACP', 'M_3hcpalm9eACP'],\n",
       "  'seed': ['cpd15369']},\n",
       " 'MNXM6557': {'bigg': ['3hcvac11eACP', 'M_3hcvac11eACP'],\n",
       "  'seed': ['cpd15370']},\n",
       " 'MNXM674': {'bigg': ['3hdcoa', 'M_3hdcoa'],\n",
       "  'chebi': ['28325', '18779', '418', '62616'],\n",
       "  'hmdb': ['HMDB03938'],\n",
       "  'kegg': ['C05264'],\n",
       "  'lipidmaps': ['LMFA07050014', 'LMFA07050154'],\n",
       "  'metacyc': ['CPD0-2244'],\n",
       "  'reactome': ['77341'],\n",
       "  'sabiork': ['2741'],\n",
       "  'seed': ['cpd03118'],\n",
       "  'slm': ['000001027']},\n",
       " 'MNXM733': {'bigg': ['3hddcoa', 'M_3hddcoa'],\n",
       "  'chebi': ['27668', '18751', '396', '62558'],\n",
       "  'hmdb': ['HMDB03936', 'HMDB62260'],\n",
       "  'kegg': ['C05262'],\n",
       "  'lipidmaps': ['LMFA07050012', 'LMFA07050158'],\n",
       "  'metacyc': ['CPD0-2107'],\n",
       "  'reactome': ['77252'],\n",
       "  'sabiork': ['2739'],\n",
       "  'seed': ['cpd03116'],\n",
       "  'slm': ['000001023']},\n",
       " 'MNXM27066': {'bigg': ['3hddecACP', 'M_3hddecACP'],\n",
       "  'chebi': ['325'],\n",
       "  'kegg': ['C05757'],\n",
       "  'lipidmaps': ['LMFA07060015'],\n",
       "  'seed': ['cpd11480']},\n",
       " 'MNXM7127': {'bigg': ['3hdecACP', 'M_3hdecACP'],\n",
       "  'kegg': ['C04619'],\n",
       "  'metacyc': ['Beta-hydroxydecanoyl-ACPs'],\n",
       "  'seed': ['cpd11482']},\n",
       " 'MNXM91919': {'bigg': ['3hdgggp', 'M_3hdgggp'], 'seed': ['cpd15812']},\n",
       " 'MNXM91920': {'bigg': ['3hdgggps', 'M_3hdgggps'], 'seed': ['cpd15813']},\n",
       " 'MNXM91917': {'bigg': ['3hdggpg', 'M_3hdggpg'], 'seed': ['cpd15814']},\n",
       " 'MNXM91918': {'bigg': ['3hdggpgp', 'M_3hdggpgp'], 'seed': ['cpd15815']},\n",
       " 'MNXM6751': {'bigg': ['3hdggpi', 'M_3hdggpi'], 'seed': ['cpd15816']},\n",
       " 'MNXM6748': {'bigg': ['3hdpgpe', 'M_3hdpgpe'], 'seed': ['cpd15817']},\n",
       " 'MNXM91389': {'bigg': ['3hdpgpg', 'M_3hdpgpg'], 'seed': ['cpd15818']},\n",
       " 'MNXM6750': {'bigg': ['3hdpgpi', 'M_3hdpgpi'],\n",
       "  'metacyc': ['CPD-19667'],\n",
       "  'seed': ['cpd15819']},\n",
       " 'MNXM91071': {'bigg': ['3hdpgps', 'M_3hdpgps'], 'seed': ['cpd15820']},\n",
       " 'MNXM163183': {'bigg': ['3hexdcoa', 'M_3hexdcoa']},\n",
       " 'MNXM36524': {'bigg': ['3hexdcrn', 'M_3hexdcrn'],\n",
       "  'chebi': ['73070'],\n",
       "  'hmdb': ['HMDB13336', 'HMDB61642']},\n",
       " 'MNXM6807': {'bigg': ['3hfrdp', 'M_3hfrdp'], 'seed': ['cpd15821']},\n",
       " 'MNXM6809': {'bigg': ['3hggdp', 'M_3hggdp'], 'seed': ['cpd15822']},\n",
       " 'MNXM6808': {'bigg': ['3hgrdp', 'M_3hgrdp'], 'seed': ['cpd15823']},\n",
       " 'MNXM757': {'bigg': ['3hhcoa', 'M_3hhcoa'],\n",
       "  'chebi': ['28276', '18780', '419', '62075'],\n",
       "  'hmdb': ['HMDB03942', 'HMDB62262'],\n",
       "  'kegg': ['C05268'],\n",
       "  'lipidmaps': ['LMFA07050017', 'LMFA07050156'],\n",
       "  'metacyc': ['OH-HEXANOYL-COA'],\n",
       "  'reactome': ['77322'],\n",
       "  'sabiork': ['2745'],\n",
       "  'seed': ['cpd03122'],\n",
       "  'slm': ['000001030']},\n",
       " 'MNXM825': {'bigg': ['3hhdcoa', 'M_3hhdcoa'],\n",
       "  'chebi': ['27402', '18752', '397', '62613'],\n",
       "  'hmdb': ['HMDB03932', 'HMDB62261'],\n",
       "  'kegg': ['C05258'],\n",
       "  'lipidmaps': ['LMFA07050161'],\n",
       "  'metacyc': ['CPD0-2232'],\n",
       "  'reactome': ['77300'],\n",
       "  'sabiork': ['2735'],\n",
       "  'seed': ['cpd03113'],\n",
       "  'slm': ['000000868']},\n",
       " 'MNXM25370': {'bigg': ['3hhexACP', 'M_3hhexACP'],\n",
       "  'chebi': ['326'],\n",
       "  'kegg': ['C05747'],\n",
       "  'lipidmaps': ['LMFA07060006'],\n",
       "  'seed': ['cpd11479']},\n",
       " 'MNXM114176': {'bigg': ['3hib', 'M_3hib'],\n",
       "  'chebi': ['37373', '62638', '398'],\n",
       "  'hmdb': ['HMDB00023', 'HMDB00435'],\n",
       "  'kegg': ['C06001'],\n",
       "  'metacyc': ['CPD-12175'],\n",
       "  'sabiork': ['2847']},\n",
       " 'MNXM90341': {'bigg': ['3hibutcoa', 'M_3hibutcoa', 'hibcoa', 'M_hibcoa'],\n",
       "  'chebi': ['28259', '18753', '399', '62611'],\n",
       "  'hmdb': ['HMDB01052'],\n",
       "  'kegg': ['C06000'],\n",
       "  'lipidmaps': ['LMFA07050157'],\n",
       "  'metacyc': ['CPD-12173'],\n",
       "  'sabiork': ['2846'],\n",
       "  'seed': ['cpd03572']},\n",
       " 'MNXM4987': {'bigg': ['3hivcoa', 'M_3hivcoa'],\n",
       "  'chebi': ['28291', '1545', '20073', '62555'],\n",
       "  'hmdb': ['HMDB06870'],\n",
       "  'kegg': ['C05998'],\n",
       "  'lipidmaps': ['LMFA07050221', 'LMFA07050222'],\n",
       "  'metacyc': ['3-HYDROXY-ISOVALERYL-COA'],\n",
       "  'seed': ['cpd03570']},\n",
       " 'MNXM6814': {'bigg': ['3hlido', 'M_3hlido'],\n",
       "  'chebi': ['80567'],\n",
       "  'hmdb': ['HMDB60655'],\n",
       "  'kegg': ['C16560'],\n",
       "  'seed': ['cpd16374']},\n",
       " 'MNXM701': {'bigg': ['3hmbcoa', 'M_3hmbcoa'],\n",
       "  'chebi': ['15449', '10871', '18552', '18553', '191', '57312'],\n",
       "  'hmdb': ['HMDB01356', 'HMDB02029'],\n",
       "  'kegg': ['C04405'],\n",
       "  'lipidmaps': ['LMFA07050109', 'LMFA07050188'],\n",
       "  'metacyc': ['2-METHYL-3-HYDROXY-BUTYRYL-COA'],\n",
       "  'sabiork': ['7288'],\n",
       "  'seed': ['cpd02691']},\n",
       " 'MNXM1638': {'bigg': ['3hmoa', 'M_3hmoa'],\n",
       "  'chebi': ['11812', '17667', '1522'],\n",
       "  'kegg': ['C04181'],\n",
       "  'lipidmaps': ['LMFA01020277'],\n",
       "  'metacyc': ['CPD-231'],\n",
       "  'seed': ['cpd02569']},\n",
       " 'MNXM114594': {'bigg': ['3hmop', 'M_3hmop'],\n",
       "  'chebi': ['34008', '49257'],\n",
       "  'kegg': ['C14463'],\n",
       "  'lipidmaps': ['LMFA01050457'],\n",
       "  'metacyc': ['CPD-15104'],\n",
       "  'seed': ['cpd10162']},\n",
       " 'MNXM396': {'bigg': ['3hmp', 'M_3hmp'],\n",
       "  'chebi': ['11805', '18064', '1516'],\n",
       "  'hmdb': ['HMDB62640'],\n",
       "  'kegg': ['C01188'],\n",
       "  'metacyc': ['3-HYDROXY-ISOBUTYRATE'],\n",
       "  'reactome': ['573404'],\n",
       "  'sabiork': ['5430'],\n",
       "  'seed': ['cpd00876']},\n",
       " 'MNXM7733': {'bigg': ['3hmrsACP', 'M_3hmrsACP'],\n",
       "  'kegg': ['C04688'],\n",
       "  'metacyc': ['R-3-hydroxymyristoyl-ACPs'],\n",
       "  'seed': ['cpd11484']},\n",
       " 'MNXM766': {'bigg': ['3hocoa', 'M_3hocoa'],\n",
       "  'chebi': ['28632', '18750', '18781', '27800', '395', '420', '62617'],\n",
       "  'hmdb': ['HMDB03940'],\n",
       "  'kegg': ['C05266'],\n",
       "  'lipidmaps': ['LMFA07050015', 'LMFA07050160'],\n",
       "  'reactome': ['77330'],\n",
       "  'sabiork': ['2743'],\n",
       "  'seed': ['cpd03120'],\n",
       "  'slm': ['000001025']},\n",
       " 'MNXM10019': {'bigg': ['3hoctACP', 'M_3hoctACP'],\n",
       "  'kegg': ['C04620'],\n",
       "  'metacyc': ['3-Hydroxy-octanoyl-ACPs'],\n",
       "  'seed': ['cpd11483']},\n",
       " 'MNXM6417': {'bigg': ['3hoctaACP', 'M_3hoctaACP'],\n",
       "  'kegg': ['C16220'],\n",
       "  'seed': ['cpd15371']},\n",
       " 'MNXM31746': {'bigg': ['3hodcoa', 'M_3hodcoa'],\n",
       "  'chebi': ['50577', '87561'],\n",
       "  'lipidmaps': ['LMFA07050159'],\n",
       "  'metacyc': ['CPD0-2253'],\n",
       "  'seed': ['cpd15204']},\n",
       " 'MNXM1639': {'bigg': ['3hoxpac', 'M_3hoxpac'],\n",
       "  'chebi': ['17445', '11833', '1550', '20076', '39897', '58149'],\n",
       "  'hmdb': ['HMDB00440'],\n",
       "  'kegg': ['C05593'],\n",
       "  'metacyc': ['3-HYDROXYPHENYLACETATE'],\n",
       "  'sabiork': ['2819'],\n",
       "  'seed': ['cpd03320']},\n",
       " 'MNXM2576': {'bigg': ['3hpalmACP', 'M_3hpalmACP'],\n",
       "  'kegg': ['C04633'],\n",
       "  'seed': ['cpd11481']},\n",
       " 'MNXM1263': {'bigg': ['3hpcoa', 'M_3hpcoa'],\n",
       "  'chebi': ['27762', '1554', '20080', '58528'],\n",
       "  'hmdb': ['HMDB62572'],\n",
       "  'lipidmaps': ['LMFA07050226'],\n",
       "  'metacyc': ['3-HYDROXY-PROPIONYL-COA'],\n",
       "  'sabiork': ['2826'],\n",
       "  'seed': ['cpd03375']},\n",
       " 'MNXM3166': {'bigg': ['3hph5mb', 'M_3hph5mb'],\n",
       "  'chebi': ['16835', '11799', '1510', '20028', '57916'],\n",
       "  'hmdb': ['HMDB00977'],\n",
       "  'kegg': ['C05313'],\n",
       "  'lipidmaps': ['LMPR02010044'],\n",
       "  'metacyc': ['3-HEXAPRENYL-4-HYDROXY-5-METHOXYBENZOATE'],\n",
       "  'reactome': ['2164809'],\n",
       "  'seed': ['cpd03151']},\n",
       " 'MNXM36544': {'bigg': ['3hphaccoa', 'M_3hphaccoa'],\n",
       "  'metacyc': ['3-HYDROXYPHENYLACETYL-COA'],\n",
       "  'sabiork': ['27951'],\n",
       "  'seed': ['cpd22017']},\n",
       " 'MNXM2188': {'bigg': ['3hpimcoa', 'M_3hpimcoa'],\n",
       "  'chebi': ['15485', '11834', '1551', '20077', '57343'],\n",
       "  'envipath': ['32de3cf4-e3e6-4168-956e-32fa5ddb0ce1/compound/f9aaa268-20f3-4ed0-83a9-a3cacf91b3bb'],\n",
       "  'hmdb': ['HMDB12155'],\n",
       "  'kegg': ['C06714'],\n",
       "  'lipidmaps': ['LMFA07050224'],\n",
       "  'metacyc': ['3-HYDROXYPIMELYL-COA'],\n",
       "  'seed': ['cpd04103']},\n",
       " 'MNXM872': {'bigg': ['3hpp', 'M_3hpp'],\n",
       "  'chebi': ['16510', '11836', '20079', '33404', '1553', '20071', '40000'],\n",
       "  'hmdb': ['HMDB00700'],\n",
       "  'kegg': ['C01013'],\n",
       "  'metacyc': ['3-HYDROXY-PROPIONATE'],\n",
       "  'sabiork': ['2214'],\n",
       "  'seed': ['cpd00745']},\n",
       " 'MNXM1526': {'bigg': ['3hppnl', 'M_3hppnl'],\n",
       "  'chebi': ['17871', '11835', '1552', '20078'],\n",
       "  'hmdb': ['HMDB03453'],\n",
       "  'kegg': ['C00969'],\n",
       "  'metacyc': ['HYDROXYPROPANAL'],\n",
       "  'sabiork': ['2198'],\n",
       "  'seed': ['cpd00714']},\n",
       " 'MNXM1634': {'bigg': ['3hpppn', 'M_3hpppn'],\n",
       "  'chebi': ['1427', '57277'],\n",
       "  'hmdb': ['HMDB00375'],\n",
       "  'kegg': ['C11457'],\n",
       "  'metacyc': ['3-HYDROXYPHENYL-PROPIONATE'],\n",
       "  'seed': ['cpd08304']},\n",
       " 'MNXM147789': {'bigg': ['3hptcoa', 'M_3hptcoa']},\n",
       " 'MNXM767': {'bigg': ['3htdcoa', 'M_3htdcoa'],\n",
       "  'chebi': ['27466', '18754', '400', '62614'],\n",
       "  'hmdb': ['HMDB03934'],\n",
       "  'kegg': ['C05260'],\n",
       "  'lipidmaps': ['LMFA07050257'],\n",
       "  'metacyc': ['CPD0-2171'],\n",
       "  'reactome': ['77276'],\n",
       "  'sabiork': ['2737'],\n",
       "  'seed': ['cpd03115', 'cpd26436'],\n",
       "  'slm': ['000001020']},\n",
       " 'MNXM91413': {'bigg': ['3htmelys', 'M_3htmelys']},\n",
       " 'MNXM146921': {'bigg': ['3httdca', 'M_3httdca']},\n",
       " 'MNXM91798': {'bigg': ['3hxccoa', 'M_3hxccoa'], 'seed': ['cpd15205']},\n",
       " 'MNXM36534': {'bigg': ['3hxkynam', 'M_3hxkynam'],\n",
       "  'chebi': ['27421', '1546', '20074'],\n",
       "  'hmdb': ['HMDB60281'],\n",
       "  'kegg': ['C05636'],\n",
       "  'seed': ['cpd03347']},\n",
       " 'MNXM866': {'bigg': ['3ig3p', 'M_3ig3p'],\n",
       "  'chebi': ['51793', '58866'],\n",
       "  'kegg': ['C03506'],\n",
       "  'metacyc': ['INDOLE-3-GLYCEROL-P'],\n",
       "  'seed': ['cpd02210', 'cpd29667']},\n",
       " 'MNXM14578': {'bigg': ['3ipmmest', 'M_3ipmmest'], 'seed': ['cpd16875']},\n",
       " 'MNXM163676': {'bigg': ['3ityr__L', 'M_3ityr__L']},\n",
       " 'MNXM162904': {'bigg': ['3m4hpga', 'M_3m4hpga']},\n",
       " 'MNXM7454': {'bigg': ['3mb', 'M_3mb'],\n",
       "  'chebi': ['28484', '24930', '43426', '6069', '48942'],\n",
       "  'hmdb': ['HMDB00718'],\n",
       "  'kegg': ['C08262'],\n",
       "  'lipidmaps': ['LMFA01020181'],\n",
       "  'metacyc': ['ISOVALERATE'],\n",
       "  'sabiork': ['10362'],\n",
       "  'seed': ['cpd05178']},\n",
       " 'MNXM389': {'bigg': ['3mb2coa', 'M_3mb2coa'],\n",
       "  'chebi': ['15486',\n",
       "   '11853',\n",
       "   '11858',\n",
       "   '1599',\n",
       "   '20128',\n",
       "   '23802',\n",
       "   '27728',\n",
       "   '4615',\n",
       "   '57344'],\n",
       "  'envipath': ['32de3cf4-e3e6-4168-956e-32fa5ddb0ce1/compound/63be9529-6dc6-49ee-afef-6b6ddff4b097'],\n",
       "  'hmdb': ['HMDB01493'],\n",
       "  'kegg': ['C03069'],\n",
       "  'lipidmaps': ['LMFA07050232', 'LMFA07050234'],\n",
       "  'metacyc': ['3-METHYL-CROTONYL-COA'],\n",
       "  'reactome': ['70744'],\n",
       "  'sabiork': ['2652'],\n",
       "  'seed': ['cpd01966']},\n",
       " 'MNXM1711': {'bigg': ['3mbald', 'M_3mbald'],\n",
       "  'chebi': ['16638', '11854', '1595', '20124'],\n",
       "  'hmdb': ['HMDB06478'],\n",
       "  'kegg': ['C07329'],\n",
       "  'metacyc': ['CPD-7031'],\n",
       "  'sabiork': ['9440'],\n",
       "  'seed': ['cpd04534']},\n",
       " 'MNXM5589': {'bigg': ['3mbdhl', 'M_3mbdhl', 'HC01377', 'M_HC01377'],\n",
       "  'chebi': ['27462', '22014', '8931'],\n",
       "  'kegg': ['C05119'],\n",
       "  'sabiork': ['7748'],\n",
       "  'seed': ['cpd03046']},\n",
       " 'MNXM3486': {'bigg': ['3mbzalc', 'M_3mbzalc'],\n",
       "  'chebi': ['27995', '1593', '20123'],\n",
       "  'envipath': ['32de3cf4-e3e6-4168-956e-32fa5ddb0ce1/compound/11d62303-815a-42cc-a037-f1cae3b7d72f'],\n",
       "  'kegg': ['C07216'],\n",
       "  'metacyc': ['3-METHYLBENZYL-ALCOHOL'],\n",
       "  'sabiork': ['9330'],\n",
       "  'seed': ['cpd04454']},\n",
       " 'MNXM4040': {'bigg': ['3mbzald', 'M_3mbzald'],\n",
       "  'chebi': ['28476', '1592', '20122'],\n",
       "  'envipath': ['32de3cf4-e3e6-4168-956e-32fa5ddb0ce1/compound/d21e99cf-791d-49a4-a1c5-f4bbdc1fbad9'],\n",
       "  'hmdb': ['HMDB29637'],\n",
       "  'kegg': ['C07209'],\n",
       "  'metacyc': ['CPD-8774'],\n",
       "  'sabiork': ['20994', '9323'],\n",
       "  'seed': ['cpd04447']},\n",
       " 'MNXM1064': {'bigg': ['3mcat', 'M_3mcat'],\n",
       "  'chebi': ['18404', '11857', '20127', '43829', '887'],\n",
       "  'envipath': ['32de3cf4-e3e6-4168-956e-32fa5ddb0ce1/compound/dc45d3c6-7856-4768-8cf3-555064a8f8f4'],\n",
       "  'kegg': ['C02923'],\n",
       "  'metacyc': ['CPD-111'],\n",
       "  'sabiork': ['2587'],\n",
       "  'seed': ['cpd01871']},\n",
       " 'MNXM91417': {'bigg': ['3mgcoa', 'M_3mgcoa'],\n",
       "  'hmdb': ['HMDB01057'],\n",
       "  'kegg': ['C03231'],\n",
       "  'lipidmaps': ['LMFA07050235'],\n",
       "  'metacyc': ['TRANS-3-METHYL-GLUTACONYL-COA'],\n",
       "  'reactome': ['70772'],\n",
       "  'seed': ['cpd02068']},\n",
       " 'MNXM6824': {'bigg': ['3mhtpp', 'M_3mhtpp'],\n",
       "  'chebi': ['80220'],\n",
       "  'hmdb': ['HMDB06865', 'HMDB06946'],\n",
       "  'kegg': ['C15974']},\n",
       " 'MNXM91418': {'bigg': ['3mlda', 'M_3mlda']},\n",
       " 'MNXM147791': {'bigg': ['3mldz', 'M_3mldz']},\n",
       " 'MNXM238': {'bigg': ['3mob', 'M_3mob'],\n",
       "  'chebi': ['11851', '132177', '16530', '1584', '20115', '43714'],\n",
       "  'hmdb': ['HMDB00019', 'HMDB04260'],\n",
       "  'kegg': ['C00141'],\n",
       "  'lipidmaps': ['LMFA01020274'],\n",
       "  'metacyc': ['2-KETO-ISOVALERATE'],\n",
       "  'sabiork': ['1945'],\n",
       "  'seed': ['cpd00123']},\n",
       " 'MNXM439': {'bigg': ['3mop', 'M_3mop'],\n",
       "  'chebi': ['15614',\n",
       "   '18567',\n",
       "   '213',\n",
       "   '401',\n",
       "   '35146',\n",
       "   '10888',\n",
       "   '11049',\n",
       "   '18568',\n",
       "   '18755'],\n",
       "  'kegg': ['C00671'],\n",
       "  'metacyc': ['2-KETO-3-METHYL-VALERATE'],\n",
       "  'sabiork': ['5174'],\n",
       "  'seed': ['cpd00508']},\n",
       " 'MNXM163196': {'bigg': ['3mox4hoxm', 'M_3mox4hoxm']},\n",
       " 'MNXM4183': {'bigg': ['3mox4hpac', 'M_3mox4hpac'],\n",
       "  'chebi': ['28111', '1574', '20107'],\n",
       "  'hmdb': ['HMDB05175'],\n",
       "  'kegg': ['C05581'],\n",
       "  'seed': ['cpd03311']},\n",
       " 'MNXM3848': {'bigg': ['3moxtyr', 'M_3moxtyr'],\n",
       "  'chebi': ['1582'],\n",
       "  'hmdb': ['HMDB00022', 'HMDB06022'],\n",
       "  'kegg': ['C05587'],\n",
       "  'metacyc': ['CPD-7650'],\n",
       "  'seed': ['cpd03316']},\n",
       " 'MNXM2782': {'bigg': ['3mtp',\n",
       "   'M_3mtp',\n",
       "   'C08276',\n",
       "   'M_C08276',\n",
       "   'mtpp',\n",
       "   'M_mtpp'],\n",
       "  'chebi': ['1438', '49016'],\n",
       "  'hmdb': ['HMDB01527'],\n",
       "  'kegg': ['C08276'],\n",
       "  'lipidmaps': ['LMFA01130006'],\n",
       "  'metacyc': ['CPD-7672'],\n",
       "  'seed': ['cpd05191']},\n",
       " 'MNXM97190': {'bigg': ['3ntym', 'M_3ntym'],\n",
       "  'chebi': ['71233', '71286'],\n",
       "  'envipath': ['32de3cf4-e3e6-4168-956e-32fa5ddb0ce1/compound/26da5fa2-6c62-40da-8753-e08df8e6dcbc']},\n",
       " 'MNXM1310': {'bigg': ['3oacoa', 'M_3oacoa'],\n",
       "  'chebi': ['15489', '11868', '13606', '1629', '20161', '57347', '90726'],\n",
       "  'kegg': ['C00264'],\n",
       "  'metacyc': ['3-KETOACYL-COA'],\n",
       "  'reactome': ['8874749'],\n",
       "  'seed': ['cpd11637'],\n",
       "  'slm': ['000000726']},\n",
       " 'MNXM6837': {'bigg': ['3ocddec5eACP', 'M_3ocddec5eACP'],\n",
       "  'seed': ['cpd15373']},\n",
       " 'MNXM6838': {'bigg': ['3ocmrs7eACP', 'M_3ocmrs7eACP'], 'seed': ['cpd15374']},\n",
       " 'MNXM6839': {'bigg': ['3ocpalm9eACP', 'M_3ocpalm9eACP'],\n",
       "  'seed': ['cpd15375']},\n",
       " 'MNXM6840': {'bigg': ['3ocvac11eACP', 'M_3ocvac11eACP'],\n",
       "  'seed': ['cpd15376']},\n",
       " 'MNXM677': {'bigg': ['3odcoa', 'M_3odcoa'],\n",
       "  'chebi': ['28528', '1633', '20166', '62548'],\n",
       "  'hmdb': ['HMDB03939', 'HMDB06349'],\n",
       "  'kegg': ['C05265'],\n",
       "  'lipidmaps': ['LMFA07050239'],\n",
       "  'metacyc': ['CPD0-2123'],\n",
       "  'reactome': ['77339'],\n",
       "  'sabiork': ['2742'],\n",
       "  'seed': ['cpd03119'],\n",
       "  'slm': ['000001028']},\n",
       " 'MNXM705': {'bigg': ['3oddcoa', 'M_3oddcoa'],\n",
       "  'chebi': ['27868', '1636', '20169', '62615'],\n",
       "  'hmdb': ['HMDB03937', 'HMDB06350', 'HMDB62368'],\n",
       "  'kegg': ['C05263'],\n",
       "  'lipidmaps': ['LMFA07050013', 'LMFA07050247'],\n",
       "  'metacyc': ['CPD0-2105'],\n",
       "  'reactome': ['77253'],\n",
       "  'sabiork': ['2740'],\n",
       "  'seed': ['cpd03117'],\n",
       "  'slm': ['000001024']},\n",
       " 'MNXM28933': {'bigg': ['3oddecACP', 'M_3oddecACP'],\n",
       "  'chebi': ['1637'],\n",
       "  'kegg': ['C05756'],\n",
       "  'lipidmaps': ['LMFA07060014'],\n",
       "  'metacyc': ['3-oxo-dodecanoyl-ACPs'],\n",
       "  'sabiork': ['8116'],\n",
       "  'seed': ['cpd11489']},\n",
       " 'MNXM26616': {'bigg': ['3odecACP', 'M_3odecACP'],\n",
       "  'chebi': ['1634'],\n",
       "  'kegg': ['C05753'],\n",
       "  'lipidmaps': ['LMFA07060011'],\n",
       "  'metacyc': ['3-oxo-decanoyl-ACPs'],\n",
       "  'sabiork': ['8113'],\n",
       "  'seed': ['cpd11487']},\n",
       " 'MNXM717': {'bigg': ['3ohcoa', 'M_3ohcoa'],\n",
       "  'chebi': ['27648', '1641', '20172', '62418'],\n",
       "  'hmdb': ['HMDB03943', 'HMDB62372'],\n",
       "  'kegg': ['C05269'],\n",
       "  'lipidmaps': ['LMFA07050018', 'LMFA07050242'],\n",
       "  'metacyc': ['K-HEXANOYL-COA'],\n",
       "  'reactome': ['77320'],\n",
       "  'sabiork': ['2746'],\n",
       "  'seed': ['cpd03123'],\n",
       "  'slm': ['000001031']},\n",
       " 'MNXM738': {'bigg': ['3ohdcoa', 'M_3ohdcoa'],\n",
       "  'chebi': ['15491', '11875', '1647', '20176', '57349'],\n",
       "  'hmdb': ['HMDB06402'],\n",
       "  'kegg': ['C05259'],\n",
       "  'lipidmaps': ['LMFA07050250'],\n",
       "  'metacyc': ['3-OXOPALMITOYL-COA'],\n",
       "  'reactome': ['77302'],\n",
       "  'sabiork': ['2736'],\n",
       "  'seed': ['cpd03114'],\n",
       "  'slm': ['000000869']},\n",
       " 'MNXM25602': {'bigg': ['3ohexACP', 'M_3ohexACP'],\n",
       "  'chebi': ['1642'],\n",
       "  'kegg': ['C05746'],\n",
       "  'lipidmaps': ['LMFA07060005'],\n",
       "  'metacyc': ['3-oxo-hexanoyl-ACPs'],\n",
       "  'sabiork': ['8106'],\n",
       "  'seed': ['cpd11486']},\n",
       " 'MNXM513': {'bigg': ['3ohodcoa', 'M_3ohodcoa'],\n",
       "  'chebi': ['50571', '71407'],\n",
       "  'hmdb': ['HMDB06498'],\n",
       "  'kegg': ['C16216'],\n",
       "  'lipidmaps': ['LMFA07050248'],\n",
       "  'metacyc': ['CPD-10260'],\n",
       "  'reactome': ['548812'],\n",
       "  'seed': ['cpd14935'],\n",
       "  'slm': ['000000487']},\n",
       " 'MNXM36758': {'bigg': ['3ohxccoa', 'M_3ohxccoa'],\n",
       "  'chebi': ['52977', '52370', '52959', '73980'],\n",
       "  'hmdb': ['HMDB60241', 'HMDB62371'],\n",
       "  'lipidmaps': ['LMFA07050241'],\n",
       "  'metacyc': ['CPD-14274'],\n",
       "  'reactome': ['390241', '548797'],\n",
       "  'seed': ['cpd15207', 'cpd24265'],\n",
       "  'slm': ['000000589']},\n",
       " 'MNXM26095': {'bigg': ['3omrsACP', 'M_3omrsACP'],\n",
       "  'chebi': ['1655'],\n",
       "  'kegg': ['C05759'],\n",
       "  'lipidmaps': ['LMFA07060017'],\n",
       "  'metacyc': ['3-oxo-myristoyl-ACPs'],\n",
       "  'sabiork': ['8119'],\n",
       "  'seed': ['cpd11491']},\n",
       " 'MNXM706': {'bigg': ['3oocoa', 'M_3oocoa'],\n",
       "  'chebi': ['28264', '1645', '20175', '62619'],\n",
       "  'kegg': ['C05267'],\n",
       "  'lipidmaps': ['LMFA07050249'],\n",
       "  'metacyc': ['CPD0-2106'],\n",
       "  'reactome': ['77328'],\n",
       "  'sabiork': ['2744'],\n",
       "  'seed': ['cpd03121'],\n",
       "  'slm': ['000001026']},\n",
       " 'MNXM28031': {'bigg': ['3ooctACP', 'M_3ooctACP'],\n",
       "  'chebi': ['1646'],\n",
       "  'kegg': ['C05750'],\n",
       "  'lipidmaps': ['LMFA07060008'],\n",
       "  'metacyc': ['3-Oxo-octanoyl-ACPs'],\n",
       "  'sabiork': ['8110'],\n",
       "  'seed': ['cpd11490']},\n",
       " 'MNXM3491': {'bigg': ['3ooctdACP', 'M_3ooctdACP'], 'seed': ['cpd15377']},\n",
       " 'MNXM4345': {'bigg': ['3opalmACP', 'M_3opalmACP'],\n",
       "  'chebi': ['1639'],\n",
       "  'kegg': ['C05762'],\n",
       "  'lipidmaps': ['LMFA07060019'],\n",
       "  'metacyc': ['3-oxo-palmitoyl-ACPs'],\n",
       "  'sabiork': ['8122'],\n",
       "  'seed': ['cpd11485']},\n",
       " 'MNXM6325': {'bigg': ['3opcoa', 'M_3opcoa'],\n",
       "  'chebi': ['28673', '1652', '20181', '84996'],\n",
       "  'kegg': ['C05989'],\n",
       "  'lipidmaps': ['LMFA07050254'],\n",
       "  'metacyc': ['CPD-17259'],\n",
       "  'sabiork': ['2838'],\n",
       "  'seed': ['cpd03564']},\n",
       " 'MNXM2195': {'bigg': ['3ophb', 'M_3ophb'],\n",
       "  'chebi': ['1617', '50116'],\n",
       "  'kegg': ['C05809'],\n",
       "  'metacyc': ['3-OCTAPRENYL-4-HYDROXYBENZOATE'],\n",
       "  'seed': ['cpd03443']},\n",
       " 'MNXM3167': {'bigg': ['3ophb_5', 'M_3ophb_5'],\n",
       "  'chebi': ['31116', '84492'],\n",
       "  'hmdb': ['HMDB06816'],\n",
       "  'kegg': ['C13425'],\n",
       "  'lipidmaps': ['LMPR02010045'],\n",
       "  'metacyc': ['3-HEXAPRENYL-4-HYDROXYBENZOATE'],\n",
       "  'reactome': ['2162330'],\n",
       "  'seed': ['cpd09429']},\n",
       " 'MNXM2941': {'bigg': ['3opimcoa', 'M_3opimcoa'],\n",
       "  'chebi': ['15492', '11876', '1649', '20098', '20178', '57350'],\n",
       "  'envipath': ['32de3cf4-e3e6-4168-956e-32fa5ddb0ce1/compound/04848a85-6e3c-4a83-bdd5-ae3154eb3c21'],\n",
       "  'kegg': ['C06715'],\n",
       "  'lipidmaps': ['LMFA07050251'],\n",
       "  'metacyc': ['3-OXOPIMELOYL-COA'],\n",
       "  'seed': ['cpd04104']},\n",
       " 'MNXM147794': {'bigg': ['3optcoa', 'M_3optcoa']},\n",
       " 'MNXM707': {'bigg': ['3otdcoa', 'M_3otdcoa'],\n",
       "  'chebi': ['28726', '1654', '20183', '62543'],\n",
       "  'hmdb': ['HMDB03935', 'HMDB06527'],\n",
       "  'kegg': ['C05261'],\n",
       "  'lipidmaps': ['LMFA07050256'],\n",
       "  'metacyc': ['CPD-10284'],\n",
       "  'reactome': ['77269'],\n",
       "  'sabiork': ['2738'],\n",
       "  'seed': ['cpd12689'],\n",
       "  'slm': ['000001022']},\n",
       " 'MNXM3852': {'bigg': ['3oxdhscoa', 'M_3oxdhscoa'],\n",
       "  'chebi': ['63253', '63255'],\n",
       "  'envipath': ['32de3cf4-e3e6-4168-956e-32fa5ddb0ce1/compound/6ee3d25d-86c2-4734-a684-74b0f8510d20'],\n",
       "  'kegg': ['C19945'],\n",
       "  'lipidmaps': ['LMFA07050236'],\n",
       "  'metacyc': ['CPD0-2364'],\n",
       "  'seed': ['cpd21184']},\n",
       " 'MNXM716': {'bigg': ['3oxoadp', 'M_3oxoadp'],\n",
       "  'chebi': ['15775', '11870', '1631', '20162', '37440'],\n",
       "  'envipath': ['32de3cf4-e3e6-4168-956e-32fa5ddb0ce1/compound/2b282aec-4bf2-4afb-bc97-36e7c3d90c64'],\n",
       "  'hmdb': ['HMDB00398'],\n",
       "  'kegg': ['C00846'],\n",
       "  'lipidmaps': ['LMFA01170096'],\n",
       "  'metacyc': ['3-KETO-ADIPATE'],\n",
       "  'sabiork': ['5272'],\n",
       "  'seed': ['cpd00630']},\n",
       " 'MNXM92909': {'bigg': ['3padsel', 'M_3padsel']},\n",
       " 'MNXM126': {'bigg': ['3pg', 'M_3pg'],\n",
       "  'chebi': ['17794', '11879', '11880', '12987', '1657', '21029', '58272'],\n",
       "  'hmdb': ['HMDB60180'],\n",
       "  'kegg': ['C00197'],\n",
       "  'metacyc': ['G3P'],\n",
       "  'sabiork': ['21216']},\n",
       " 'MNXM541': {'bigg': ['3php', 'M_3php'],\n",
       "  'chebi': ['18110', '11883', '11884', '20191', '30933', '1661', '20192'],\n",
       "  'hmdb': ['HMDB01024', 'HMDB60175'],\n",
       "  'kegg': ['C03232'],\n",
       "  'metacyc': ['3-P-HYDROXYPYRUVATE'],\n",
       "  'reactome': ['977329'],\n",
       "  'sabiork': ['2712'],\n",
       "  'seed': ['cpd02069']},\n",
       " 'MNXM1215': {'bigg': ['3pop', 'M_3pop'],\n",
       "  'chebi': ['17271',\n",
       "   '11885',\n",
       "   '20193',\n",
       "   '58634',\n",
       "   '59461',\n",
       "   '30935',\n",
       "   '1662',\n",
       "   '20194',\n",
       "   '45128',\n",
       "   '88256',\n",
       "   '71402'],\n",
       "  'kegg': ['C02798'],\n",
       "  'metacyc': ['CPD-235'],\n",
       "  'sabiork': ['2536'],\n",
       "  'seed': ['cpd01807']},\n",
       " 'MNXM1365': {'bigg': ['3psme', 'M_3psme'],\n",
       "  'chebi': ['16257', '12094', '12097', '20533', '2104', '57701'],\n",
       "  'kegg': ['C01269'],\n",
       "  'metacyc': ['3-ENOLPYRUVYL-SHIKIMATE-5P'],\n",
       "  'reactome': ['964900'],\n",
       "  'sabiork': ['5488'],\n",
       "  'seed': ['cpd00932']},\n",
       " 'MNXM498': {'bigg': ['3sala', 'M_3sala'],\n",
       "  'chebi': ['16345',\n",
       "   '11888',\n",
       "   '11889',\n",
       "   '1664',\n",
       "   '21271',\n",
       "   '41618',\n",
       "   '8973',\n",
       "   '224037',\n",
       "   '41721',\n",
       "   '61085'],\n",
       "  'hmdb': ['HMDB00996', 'HMDB60179'],\n",
       "  'kegg': ['C00606'],\n",
       "  'metacyc': ['3-SULFINOALANINE'],\n",
       "  'reactome': ['1614519'],\n",
       "  'sabiork': ['5155'],\n",
       "  'seed': ['cpd00467']},\n",
       " 'MNXM162632': {'bigg': ['3snpyr', 'M_3snpyr']},\n",
       " 'MNXM594': {'bigg': ['3spyr', 'M_3spyr'],\n",
       "  'chebi': ['16894', '11891', '1669', '45736', '57940'],\n",
       "  'hmdb': ['HMDB04045', 'HMDB60174'],\n",
       "  'kegg': ['C05528'],\n",
       "  'metacyc': ['CPD-380'],\n",
       "  'sabiork': ['2800'],\n",
       "  'seed': ['cpd03285']},\n",
       " 'MNXM150929': {'bigg': ['3tdcrn', 'M_3tdcrn'],\n",
       "  'chebi': ['73063'],\n",
       "  'hmdb': ['HMDB61640'],\n",
       "  'lipidmaps': ['LMFA07070045']},\n",
       " 'MNXM1015': {'bigg': ['3uib', 'M_3uib'],\n",
       "  'chebi': ['1670', '74414'],\n",
       "  'hmdb': ['HMDB02031'],\n",
       "  'kegg': ['C05100'],\n",
       "  'sabiork': ['2926'],\n",
       "  'seed': ['cpd03034']},\n",
       " 'MNXM2184': {'bigg': ['3ump', 'M_3ump'],\n",
       "  'chebi': ['28895', '1361', '27229', '46259', '556513', '60784'],\n",
       "  'hmdb': ['HMDB60282'],\n",
       "  'kegg': ['C01368'],\n",
       "  'metacyc': ['CPD-3724'],\n",
       "  'sabiork': ['1716'],\n",
       "  'seed': ['cpd00989']},\n",
       " 'MNXM163203': {'bigg': ['42A3HP24DB', 'M_42A3HP24DB']},\n",
       " 'MNXM97101': {'bigg': ['44mctr', 'M_44mctr']},\n",
       " 'MNXM146507': {'bigg': ['44mzym', 'M_44mzym']},\n",
       " 'MNXM164321': {'bigg': ['46dh25dohxn', 'M_46dh25dohxn']},\n",
       " 'MNXM9072': {'bigg': ['46dhoxquin', 'M_46dhoxquin'],\n",
       "  'chebi': ['28799', '1755', '26504'],\n",
       "  'hmdb': ['HMDB04077'],\n",
       "  'kegg': ['C05639'],\n",
       "  'seed': ['cpd03350']},\n",
       " 'MNXM9073': {'bigg': ['48dhoxquin', 'M_48dhoxquin'],\n",
       "  'chebi': ['28883', '1759', '26505'],\n",
       "  'hmdb': ['HMDB60289'],\n",
       "  'kegg': ['C05637'],\n",
       "  'seed': ['cpd03348']},\n",
       " 'MNXM2083': {'bigg': ['4aabutn', 'M_4aabutn'],\n",
       "  'chebi': ['11951', '17645', '1777', '20303'],\n",
       "  'hmdb': ['HMDB03681', 'HMDB06238', 'HMDB60265'],\n",
       "  'kegg': ['C02946'],\n",
       "  'metacyc': ['CPD-35'],\n",
       "  'sabiork': ['2601'],\n",
       "  'seed': ['cpd01889']},\n",
       " 'MNXM192': {'bigg': ['4abut', 'M_4abut'],\n",
       "  'chebi': ['16865',\n",
       "   '1786',\n",
       "   '193777',\n",
       "   '20318',\n",
       "   '40483',\n",
       "   '30566',\n",
       "   '11961',\n",
       "   '20317',\n",
       "   '59888'],\n",
       "  'envipath': ['32de3cf4-e3e6-4168-956e-32fa5ddb0ce1/compound/e90ecce1-b9b5-49f9-85d9-b83421426cbb'],\n",
       "  'hmdb': ['HMDB00112'],\n",
       "  'kegg': ['C00334', 'D00058'],\n",
       "  'lipidmaps': ['LMFA01100039'],\n",
       "  'metacyc': ['4-AMINO-BUTYRATE'],\n",
       "  'reactome': ['352003', '352011', '428571', '916850'],\n",
       "  'sabiork': ['2021'],\n",
       "  'seed': ['cpd00281']},\n",
       " 'MNXM422': {'bigg': ['4abutn', 'M_4abutn'],\n",
       "  'chebi': ['17769', '11960', '1785', '20316', '58264'],\n",
       "  'hmdb': ['HMDB01080', 'HMDB60247'],\n",
       "  'kegg': ['C00555'],\n",
       "  'metacyc': ['4-AMINO-BUTYRALDEHYDE'],\n",
       "  'sabiork': ['2092'],\n",
       "  'seed': ['cpd00434']},\n",
       " 'MNXM421': {'bigg': ['4abz', 'M_4abz'],\n",
       "  'chebi': ['17836',\n",
       "   '11959',\n",
       "   '20314',\n",
       "   '30753',\n",
       "   '113372',\n",
       "   '1783',\n",
       "   '20315',\n",
       "   '44778'],\n",
       "  'envipath': ['32de3cf4-e3e6-4168-956e-32fa5ddb0ce1/compound/a5ad09dc-a75c-4ad4-8917-a62ebefdc941'],\n",
       "  'hmdb': ['HMDB01392'],\n",
       "  'kegg': ['C00568', 'D02456'],\n",
       "  'metacyc': ['P-AMINO-BENZOATE'],\n",
       "  'sabiork': ['2099'],\n",
       "  'seed': ['cpd00443']},\n",
       " 'MNXM1458': {'bigg': ['4adcho', 'M_4adcho'],\n",
       "  'chebi': ['18198', '1943', '35181', '11956', '35180', '58406'],\n",
       "  'kegg': ['C11355'],\n",
       "  'metacyc': ['4-AMINO-4-DEOXYCHORISMATE'],\n",
       "  'sabiork': ['13425'],\n",
       "  'seed': ['cpd08210']},\n",
       " 'MNXM874': {'bigg': ['4ahmmp', 'M_4ahmmp'],\n",
       "  'chebi': ['16892', '11957', '1781', '20312', '43206'],\n",
       "  'envipath': ['32de3cf4-e3e6-4168-956e-32fa5ddb0ce1/compound/05e806c1-5e9c-4cd7-b31a-1cff94880c8a'],\n",
       "  'kegg': ['C01279'],\n",
       "  'metacyc': ['HMP'],\n",
       "  'sabiork': ['5497'],\n",
       "  'seed': ['cpd00939']},\n",
       " 'MNXM790': {'bigg': ['4ampm', 'M_4ampm'],\n",
       "  'chebi': ['18032', '11954', '11958', '1779', '20309', '58354'],\n",
       "  'kegg': ['C04556'],\n",
       "  'metacyc': ['AMINO-HYDROXYMETHYL-METHYL-PYR-P'],\n",
       "  'sabiork': ['7398'],\n",
       "  'seed': ['cpd02775']},\n",
       " 'MNXM163204': {'bigg': ['4aphdob', 'M_4aphdob']},\n",
       " 'MNXM1642': {'bigg': ['4c2me', 'M_4c2me'],\n",
       "  'chebi': ['16578', '11938', '1770', '57823'],\n",
       "  'kegg': ['C11435'],\n",
       "  'metacyc': ['4-CYTIDINE-5-DIPHOSPHO-2-C'],\n",
       "  'sabiork': ['13502'],\n",
       "  'seed': ['cpd08287']},\n",
       " 'MNXM1521': {'bigg': ['4cml', 'M_4cml'],\n",
       "  'chebi': ['16993', '1033', '11534', '19491', '19493', '57979'],\n",
       "  'kegg': ['C01278'],\n",
       "  'sabiork': ['5496'],\n",
       "  'seed': ['cpd00938']},\n",
       " 'MNXM828': {'bigg': ['4crsol', 'M_4crsol'],\n",
       "  'chebi': ['17847', '11981', '1816', '20352', '44726'],\n",
       "  'envipath': ['32de3cf4-e3e6-4168-956e-32fa5ddb0ce1/compound/b1f893aa-04c5-4a93-b65f-6b42cd0dc97f'],\n",
       "  'hmdb': ['HMDB01858', 'HMDB13762'],\n",
       "  'kegg': ['C01468'],\n",
       "  'metacyc': ['CPD-108'],\n",
       "  'sabiork': ['25097', '5602'],\n",
       "  'seed': ['cpd01042']},\n",
       " 'MNXM37766': {'bigg': ['4fe4s', 'M_4fe4s'],\n",
       "  'chebi': ['33725'],\n",
       "  'metacyc': ['CPD-7'],\n",
       "  'seed': ['cpd24682']},\n",
       " 'MNXM708': {'bigg': ['4fumacac', 'M_4fumacac'],\n",
       "  'chebi': ['18034', '11988', '20368', '30907', '1830', '20369'],\n",
       "  'envipath': ['32de3cf4-e3e6-4168-956e-32fa5ddb0ce1/compound/8ad129e3-5a03-4cab-b99a-3fce198e749e'],\n",
       "  'hmdb': ['HMDB01268', 'HMDB01428'],\n",
       "  'kegg': ['C01061'],\n",
       "  'lipidmaps': ['LMFA01170066'],\n",
       "  'metacyc': ['4-FUMARYL-ACETOACETATE'],\n",
       "  'seed': ['cpd00780']},\n",
       " 'MNXM2617': {'bigg': ['4gudbd', 'M_4gudbd'],\n",
       "  'chebi': ['18062', '11990', '1833', '20371', '58365'],\n",
       "  'kegg': ['C03078'],\n",
       "  'metacyc': ['4-GUANIDO-BUTYRAMIDE'],\n",
       "  'seed': ['cpd01973']},\n",
       " 'MNXM1312': {'bigg': ['4gudbutn', 'M_4gudbutn'],\n",
       "  'chebi': ['15728', '11991', '1834', '20372', '57486', '86392', '86564'],\n",
       "  'hmdb': ['HMDB03464', 'HMDB05991'],\n",
       "  'kegg': ['C01035'],\n",
       "  'metacyc': ['CPD-592'],\n",
       "  'sabiork': ['5368'],\n",
       "  'seed': ['cpd00762']},\n",
       " 'MNXM1623': {'bigg': ['4h2kpi', 'M_4h2kpi'],\n",
       "  'chebi': ['73036'],\n",
       "  'envipath': ['4fd7f3e0-dd25-43ac-9453-dda3e52396e4/compound/bb6a1240-2a3c-4bad-82e2-bfc0a2a03f75'],\n",
       "  'kegg': ['C05601'],\n",
       "  'lipidmaps': ['LMFA01170052'],\n",
       "  'seed': ['cpd03327']},\n",
       " 'MNXM894': {'bigg': ['4h2oglt', 'M_4h2oglt'],\n",
       "  'chebi': ['17742', '11993', '20374', '30923', '1838', '20375', '36148'],\n",
       "  'hmdb': ['HMDB02070', 'HMDB01479'],\n",
       "  'kegg': ['C01127'],\n",
       "  'metacyc': ['CPD-15015'],\n",
       "  'sabiork': ['2252'],\n",
       "  'seed': ['cpd00830']},\n",
       " 'MNXM1176': {'bigg': ['4h2opntn', 'M_4h2opntn'],\n",
       "  'chebi': ['17655', '11994', '1840', '20377', '58222'],\n",
       "  'envipath': ['32de3cf4-e3e6-4168-956e-32fa5ddb0ce1/compound/4cb37502-c29f-479c-9aaf-a30a57e2a9f8'],\n",
       "  'kegg': ['C03589'],\n",
       "  'sabiork': ['6725'],\n",
       "  'seed': ['cpd02258']},\n",
       " 'MNXM31169': {'bigg': ['4h3npac', 'M_4h3npac', 'CE1957', 'M_CE1957'],\n",
       "  'chebi': ['53794', '546274', '44475', '71332'],\n",
       "  'envipath': ['32de3cf4-e3e6-4168-956e-32fa5ddb0ce1/compound/09cf0489-67f6-4110-bc98-b7541472d549'],\n",
       "  'hmdb': ['HMDB62403']},\n",
       " 'MNXM97102': {'bigg': ['4h3npacald', 'M_4h3npacald'],\n",
       "  'chebi': ['71235', '71287'],\n",
       "  'envipath': ['32de3cf4-e3e6-4168-956e-32fa5ddb0ce1/compound/79700be1-d9da-4a44-95ff-1fe80dc2ef98']},\n",
       " 'MNXM107505': {'bigg': ['4hba', 'M_4hba'],\n",
       "  'chebi': ['67410'],\n",
       "  'hmdb': ['HMDB11724'],\n",
       "  'kegg': ['C17467'],\n",
       "  'metacyc': ['4-HYDROXY-BENZYL-ALCOHOL'],\n",
       "  'sabiork': ['26558'],\n",
       "  'seed': ['cpd15378', 'cpd17595']},\n",
       " 'MNXM577': {'bigg': ['4hbald', 'M_4hbald'],\n",
       "  'chebi': ['17597', '12002', '1857', '20396', '43009'],\n",
       "  'envipath': ['32de3cf4-e3e6-4168-956e-32fa5ddb0ce1/compound/0c54f7ff-b26d-4b69-83d8-9bcc4283686b'],\n",
       "  'hmdb': ['HMDB11718'],\n",
       "  'kegg': ['C00633'],\n",
       "  'metacyc': ['4-HYDROXYBENZALDEHYDE'],\n",
       "  'sabiork': ['2127'],\n",
       "  'seed': ['cpd00484']},\n",
       " 'MNXM2334': {'bigg': ['4hbutcoa', 'M_4hbutcoa'],\n",
       "  'chebi': ['28522', '1861', '20403', '58574'],\n",
       "  'kegg': ['C11062'],\n",
       "  'metacyc': ['4-HYDROXY-BUTYRYL-COA'],\n",
       "  'sabiork': ['13140'],\n",
       "  'seed': ['cpd07946']},\n",
       " 'MNXM164': {'bigg': ['4hbz', 'M_4hbz'],\n",
       "  'chebi': ['17879', '12003', '20397', '30763', '1858', '20398', '44949'],\n",
       "  'envipath': ['32de3cf4-e3e6-4168-956e-32fa5ddb0ce1/compound/9e05c7cc-e1b3-46a4-93ce-785c0dc04bfa'],\n",
       "  'hmdb': ['HMDB00500'],\n",
       "  'kegg': ['C00156'],\n",
       "  'metacyc': ['4-hydroxybenzoate'],\n",
       "  'reactome': ['2162213'],\n",
       "  'sabiork': ['1951'],\n",
       "  'seed': ['cpd00136']},\n",
       " 'MNXM6883': {'bigg': ['4hbzACP', 'M_4hbzACP'], 'seed': ['cpd15914']},\n",
       " 'MNXM739': {'bigg': ['4hbzcoa', 'M_4hbzcoa'],\n",
       "  'chebi': ['15500', '12004', '12005', '1859', '20399', '40998', '57356'],\n",
       "  'envipath': ['32de3cf4-e3e6-4168-956e-32fa5ddb0ce1/compound/ab11f261-89a0-45c0-a638-6ee8b3156c03'],\n",
       "  'hmdb': ['HMDB06467', 'HMDB60140'],\n",
       "  'kegg': ['C02949'],\n",
       "  'metacyc': ['CPD-201'],\n",
       "  'sabiork': ['2603'],\n",
       "  'seed': ['cpd01892', 'cpd16876']},\n",
       " 'MNXM10135': {'bigg': ['4hdebrisoquine', 'M_4hdebrisoquine']},\n",
       " 'MNXM2489': {'bigg': ['4hglu', 'M_4hglu'],\n",
       "  'chebi': ['16338', '11998', '20389', '32811', '1851', '20390', '32812'],\n",
       "  'hmdb': ['HMDB02273', 'HMDB01344'],\n",
       "  'kegg': ['C03079'],\n",
       "  'seed': ['cpd01974']},\n",
       " 'MNXM2687': {'bigg': ['4hglusa', 'M_4hglusa'],\n",
       "  'chebi': ['27809', '21213', '6169', '62637'],\n",
       "  'hmdb': ['HMDB06556'],\n",
       "  'kegg': ['C05938'],\n",
       "  'metacyc': ['L-4-HYDROXYGLUTAMATE_SEMIALDEHYDE'],\n",
       "  'seed': ['cpd03530']},\n",
       " 'MNXM2488': {'bigg': ['4hoxoh', 'M_4hoxoh'],\n",
       "  'chebi': ['27530', '1839', '20376', '53800'],\n",
       "  'envipath': ['32de3cf4-e3e6-4168-956e-32fa5ddb0ce1/compound/adc687b0-7229-4b4a-ad94-9e4d552feed4'],\n",
       "  'kegg': ['C06762'],\n",
       "  'sabiork': ['2923'],\n",
       "  'seed': ['cpd04141']},\n",
       " 'MNXM485': {'bigg': ['4hoxpac', 'M_4hoxpac'],\n",
       "  'chebi': ['18101', '12014', '1874', '20419', '40091', '48999'],\n",
       "  'envipath': ['32de3cf4-e3e6-4168-956e-32fa5ddb0ce1/compound/21154a0c-6b4f-4118-b265-5cd134f03c97',\n",
       "   '650babc9-9d68-4b73-9332-11972ca26f7b/compound/8284218f-7e7b-4fae-aff9-d167cc692982'],\n",
       "  'hmdb': ['HMDB00020'],\n",
       "  'kegg': ['C00642'],\n",
       "  'metacyc': ['4-HYDROXYPHENYLACETATE'],\n",
       "  'seed': ['cpd00489']},\n",
       " 'MNXM479': {'bigg': ['4hoxpacd', 'M_4hoxpacd'],\n",
       "  'chebi': ['15621', '10899', '12012', '1872', '20417'],\n",
       "  'hmdb': ['HMDB03767'],\n",
       "  'kegg': ['C03765'],\n",
       "  'metacyc': ['HYDRPHENYLAC-CPD'],\n",
       "  'reactome': ['500608', '5696178'],\n",
       "  'sabiork': ['6840'],\n",
       "  'seed': ['cpd02361']},\n",
       " 'MNXM3863': {'bigg': ['4hphac', 'M_4hphac'],\n",
       "  'chebi': ['31128'],\n",
       "  'envipath': ['32de3cf4-e3e6-4168-956e-32fa5ddb0ce1/compound/a796d1f0-5509-4e0b-8a69-621c14841617'],\n",
       "  'hmdb': ['HMDB60390'],\n",
       "  'kegg': ['C13636'],\n",
       "  'sabiork': ['2131'],\n",
       "  'seed': ['cpd19151']},\n",
       " 'MNXM87584': {'bigg': ['4hpro_LT', 'M_4hpro_LT'],\n",
       "  'chebi': ['18095',\n",
       "   '10714',\n",
       "   '12864',\n",
       "   '27060',\n",
       "   '43172',\n",
       "   '43210',\n",
       "   '43227',\n",
       "   '43318',\n",
       "   '49360',\n",
       "   '58375'],\n",
       "  'kegg': ['C01157'],\n",
       "  'metacyc': ['4-HYDROXY-L-PROLINE', 'CPD-17742'],\n",
       "  'seed': ['cpd00851']},\n",
       " 'MNXM147484': {'bigg': ['4hproara', 'M_4hproara'], 'seed': ['cpd30116']},\n",
       " 'MNXM147487': {'bigg': ['4hproara_ara_gal', 'M_4hproara_ara_gal'],\n",
       "  'seed': ['cpd30131']},\n",
       " 'MNXM147488': {'bigg': ['4hproara_ara_galara', 'M_4hproara_ara_galara'],\n",
       "  'seed': ['cpd30132']},\n",
       " 'MNXM149077': {'bigg': ['4hproara_ara_galaragal', 'M_4hproara_ara_galaragal'],\n",
       "  'seed': ['cpd30133']},\n",
       " 'MNXM147126': {'bigg': ['4hproara_aragal_gal', 'M_4hproara_aragal_gal']},\n",
       " 'MNXM148285': {'bigg': ['4hproara_aragal_galara', 'M_4hproara_aragal_galara'],\n",
       "  'seed': ['cpd30130']},\n",
       " 'MNXM148284': {'bigg': ['4hproara_aragalara_gal', 'M_4hproara_aragalara_gal'],\n",
       "  'seed': ['cpd30128']},\n",
       " 'MNXM147125': {'bigg': ['4hproaraara', 'M_4hproaraara'],\n",
       "  'seed': ['cpd30117']},\n",
       " 'MNXM149076': {'bigg': ['4hproaraara_ara_gal', 'M_4hproaraara_ara_gal'],\n",
       "  'seed': ['cpd30123']},\n",
       " 'MNXM148283': {'bigg': ['4hproaraara_gal_gal', 'M_4hproaraara_gal_gal'],\n",
       "  'seed': ['cpd30129']},\n",
       " 'MNXM149075': {'bigg': ['4hproaraara_gal_megal', 'M_4hproaraara_gal_megal'],\n",
       "  'seed': ['cpd30125']},\n",
       " 'MNXM147486': {'bigg': ['4hproaraaraara', 'M_4hproaraaraara'],\n",
       "  'seed': ['cpd30118']},\n",
       " 'MNXM149074': {'bigg': ['4hproaraaraaragal', 'M_4hproaraaraaragal'],\n",
       "  'seed': ['cpd30119']},\n",
       " 'MNXM146574': {'bigg': ['4hproaraaragal', 'M_4hproaraaragal'],\n",
       "  'seed': ['cpd30120']},\n",
       " 'MNXM147485': {'bigg': ['4hproaraaragalara', 'M_4hproaraaragalara'],\n",
       "  'seed': ['cpd30121']},\n",
       " 'MNXM149072': {'bigg': ['4hproaraaragalmeara', 'M_4hproaraaragalmeara'],\n",
       "  'seed': ['cpd30122']},\n",
       " 'MNXM149073': {'bigg': ['4hproaraaramegal', 'M_4hproaraaramegal'],\n",
       "  'seed': ['cpd30126']},\n",
       " 'MNXM149071': {'bigg': ['4hproaragal', 'M_4hproaragal'],\n",
       "  'seed': ['cpd30127']},\n",
       " 'MNXM149070': {'bigg': ['4hprogal', 'M_4hprogal'], 'seed': ['cpd30134']},\n",
       " 'MNXM1802': {'bigg': ['4hthr', 'M_4hthr'],\n",
       "  'chebi': ['28330', '1853', '20393', '60904'],\n",
       "  'kegg': ['C06056'],\n",
       "  'metacyc': ['CPD0-2189'],\n",
       "  'seed': ['cpd03608']},\n",
       " 'MNXM90394': {'bigg': ['4izp', 'M_4izp'],\n",
       "  'chebi': ['11041',\n",
       "   '27384',\n",
       "   '11730',\n",
       "   '1886',\n",
       "   '20430',\n",
       "   '20431',\n",
       "   '57255',\n",
       "   '58508',\n",
       "   '77893'],\n",
       "  'hmdb': ['HMDB62719'],\n",
       "  'kegg': ['C03680'],\n",
       "  'metacyc': ['4-IMIDAZOLONE-5-PROPIONATE'],\n",
       "  'reactome': ['34979'],\n",
       "  'seed': ['cpd02311']},\n",
       " 'MNXM6894': {'bigg': ['4kfbp', 'M_4kfbp'], 'seed': ['cpd15824']},\n",
       " 'MNXM3500': {'bigg': ['4mbzalc', 'M_4mbzalc'],\n",
       "  'chebi': ['1895', '25828'],\n",
       "  'envipath': ['32de3cf4-e3e6-4168-956e-32fa5ddb0ce1/compound/39c9fb06-3dfc-44f0-9907-1b7e5c3aab71'],\n",
       "  'hmdb': ['HMDB41609'],\n",
       "  'kegg': ['C06757'],\n",
       "  'metacyc': ['4-METHYLBENZYL-ALCOHOL'],\n",
       "  'sabiork': ['2919'],\n",
       "  'seed': ['cpd04137']},\n",
       " 'MNXM4077': {'bigg': ['4mbzald', 'M_4mbzald'],\n",
       "  'chebi': ['28617', '10632', '25831'],\n",
       "  'envipath': ['32de3cf4-e3e6-4168-956e-32fa5ddb0ce1/compound/05760994-348b-4764-af60-445d6ef930f4'],\n",
       "  'hmdb': ['HMDB29638'],\n",
       "  'kegg': ['C06758'],\n",
       "  'metacyc': ['CPD-8773'],\n",
       "  'sabiork': ['20928', '2920'],\n",
       "  'seed': ['cpd04138']},\n",
       " 'MNXM961': {'bigg': ['4mcat', 'M_4mcat'],\n",
       "  'chebi': ['17254', '12025', '1897', '20442', '43962'],\n",
       "  'envipath': ['32de3cf4-e3e6-4168-956e-32fa5ddb0ce1/compound/2d2657ba-99f3-4d58-acb6-d2d72fc6e104'],\n",
       "  'hmdb': ['HMDB00873'],\n",
       "  'kegg': ['C06730'],\n",
       "  'metacyc': ['4-METHYLCATECHOL'],\n",
       "  'sabiork': ['8874'],\n",
       "  'seed': ['cpd04117']},\n",
       " 'MNXM962': {'bigg': ['4mhetz', 'M_4mhetz'],\n",
       "  'chebi': ['17957', '12021', '12022', '12086', '2011', '20522', '46320'],\n",
       "  'hmdb': ['HMDB32985'],\n",
       "  'kegg': ['C04294'],\n",
       "  'metacyc': ['THZ'],\n",
       "  'seed': ['cpd02636']},\n",
       " 'MNXM691': {'bigg': ['4mlacac', 'M_4mlacac'],\n",
       "  'chebi': ['133872', '17105', '12018', '20433', '47904', '1888', '20434'],\n",
       "  'envipath': ['32de3cf4-e3e6-4168-956e-32fa5ddb0ce1/compound/678f0290-6479-4f12-8164-c0d043384543'],\n",
       "  'hmdb': ['HMDB02052'],\n",
       "  'kegg': ['C01036'],\n",
       "  'lipidmaps': ['LMFA01170114'],\n",
       "  'metacyc': ['4-MALEYL-ACETOACETATE'],\n",
       "  'reactome': ['31135'],\n",
       "  'sabiork': ['5369'],\n",
       "  'seed': ['cpd00763']},\n",
       " 'MNXM404': {'bigg': ['4mop', 'M_4mop'],\n",
       "  'chebi': ['17865', '12020', '20438', '48430', '1891', '41619'],\n",
       "  'hmdb': ['HMDB00695', 'HMDB00762'],\n",
       "  'kegg': ['C00233'],\n",
       "  'metacyc': ['2K-4CH3-PENTANOATE'],\n",
       "  'sabiork': ['1985'],\n",
       "  'seed': ['cpd00200']},\n",
       " 'MNXM960': {'bigg': ['4mpetz', 'M_4mpetz'],\n",
       "  'chebi': ['17857',\n",
       "   '12023',\n",
       "   '12024',\n",
       "   '1892',\n",
       "   '20439',\n",
       "   '30638',\n",
       "   '46182',\n",
       "   '58296'],\n",
       "  'kegg': ['C04327'],\n",
       "  'metacyc': ['THZ-P'],\n",
       "  'sabiork': ['7237'],\n",
       "  'seed': ['cpd02654']},\n",
       " 'MNXM162907': {'bigg': ['4mptnl', 'M_4mptnl']},\n",
       " 'MNXM10136': {'bigg': ['4mtolbutamide', 'M_4mtolbutamide']},\n",
       " 'MNXM37647': {'bigg': ['4mzym', 'M_4mzym'],\n",
       "  'chebi': ['63841'],\n",
       "  'reactome': ['194723'],\n",
       "  'seed': ['cpd03035']},\n",
       " 'MNXM7449': {'bigg': ['4mzym_int1', 'M_4mzym_int1'],\n",
       "  'hmdb': ['HMDB60146'],\n",
       "  'seed': ['cpd15212']},\n",
       " 'MNXM8744': {'bigg': ['4mzym_int2', 'M_4mzym_int2'],\n",
       "  'hmdb': ['HMDB60142'],\n",
       "  'seed': ['cpd15213']},\n",
       " 'MNXM162908': {'bigg': ['4nph', 'M_4nph']},\n",
       " 'MNXM10226': {'bigg': ['4nphsf', 'M_4nphsf']},\n",
       " 'MNXM4374': {'bigg': ['4ogm', 'M_4ogm'],\n",
       "  'chebi': ['27467', '20466', '30883', '1922', '20467'],\n",
       "  'kegg': ['C05572'],\n",
       "  'metacyc': ['4-OXOGLUTARAMATE'],\n",
       "  'seed': ['cpd03303']},\n",
       " 'MNXM1177': {'bigg': ['4pasp', 'M_4pasp'],\n",
       "  'chebi': ['15836',\n",
       "   '13062',\n",
       "   '1925',\n",
       "   '20472',\n",
       "   '21246',\n",
       "   '30407',\n",
       "   '12042',\n",
       "   '20471',\n",
       "   '57535'],\n",
       "  'hmdb': ['HMDB12250'],\n",
       "  'kegg': ['C03082'],\n",
       "  'metacyc': ['L-BETA-ASPARTYL-P'],\n",
       "  'sabiork': ['1733'],\n",
       "  'seed': ['cpd01977']},\n",
       " 'MNXM1407': {'bigg': ['4per', 'M_4per'],\n",
       "  'chebi': ['49003', '1924', '41926', '49055', '58766'],\n",
       "  'kegg': ['C03393'],\n",
       "  'metacyc': ['ERYTHRONATE-4P'],\n",
       "  'sabiork': ['6597'],\n",
       "  'seed': ['cpd02147']},\n",
       " 'MNXM415': {'bigg': ['4ppan', 'M_4ppan'],\n",
       "  'chebi': ['10986', '12886', '15905', '18702', '4082', '20891'],\n",
       "  'hmdb': ['HMDB01016', 'HMDB62700'],\n",
       "  'kegg': ['C03492'],\n",
       "  'metacyc': ['4-P-PANTOTHENATE'],\n",
       "  'reactome': ['196786'],\n",
       "  'sabiork': ['6663'],\n",
       "  'seed': ['cpd02201']},\n",
       " 'MNXM483': {'bigg': ['4ppcys', 'M_4ppcys'],\n",
       "  'chebi': ['15769', '10987', '12438', '21461', '328', '59458', '57507'],\n",
       "  'kegg': ['C04352'],\n",
       "  'metacyc': ['R-4-PHOSPHOPANTOTHENOYL-L-CYSTEINE'],\n",
       "  'reactome': ['196834'],\n",
       "  'sabiork': ['7255'],\n",
       "  'seed': ['cpd02666']},\n",
       " 'MNXM163205': {'bigg': ['4pyrdx', 'M_4pyrdx']},\n",
       " 'MNXM791': {'bigg': ['4r5au', 'M_4r5au'],\n",
       "  'chebi': ['15934', '11929', '1761', '20283', '52403', '57573'],\n",
       "  'kegg': ['C04732'],\n",
       "  'metacyc': ['AMINO-RIBOSYLAMINO-1H-3H-PYR-DIONE'],\n",
       "  'sabiork': ['7525'],\n",
       "  'seed': ['cpd02882', 'cpd29668']},\n",
       " 'MNXM163683': {'bigg': ['4tmeabut', 'M_4tmeabut']},\n",
       " 'MNXM626': {'bigg': ['4tmeabutn', 'M_4tmeabutn', 'gbbtn', 'M_gbbtn'],\n",
       "  'chebi': ['16244', '12047', '20484', '1941'],\n",
       "  'hmdb': ['HMDB01161'],\n",
       "  'kegg': ['C01181'],\n",
       "  'metacyc': ['GAMMA-BUTYROBETAINE'],\n",
       "  'reactome': ['31369'],\n",
       "  'sabiork': ['5425'],\n",
       "  'seed': ['cpd00870']},\n",
       " 'MNXM6119': {'bigg': ['56dh5flura', 'M_56dh5flura'],\n",
       "  'chebi': ['80624'],\n",
       "  'hmdb': ['HMDB60402'],\n",
       "  'kegg': ['C16630'],\n",
       "  'seed': ['cpd16434']},\n",
       " 'MNXM10284': {'bigg': ['56dihindlcrbxlt', 'M_56dihindlcrbxlt']},\n",
       " 'MNXM772': {'bigg': ['56dthm', 'M_56dthm'],\n",
       "  'chebi': ['27468', '1998', '20510'],\n",
       "  'hmdb': ['HMDB00079'],\n",
       "  'kegg': ['C00906'],\n",
       "  'metacyc': ['DIHYDRO-THYMINE'],\n",
       "  'reactome': ['73541'],\n",
       "  'sabiork': ['2185'],\n",
       "  'seed': ['cpd00673']},\n",
       " 'MNXM506': {'bigg': ['56dura', 'M_56dura'],\n",
       "  'chebi': ['15901',\n",
       "   '12078',\n",
       "   '19360',\n",
       "   '1999',\n",
       "   '20511',\n",
       "   '28622',\n",
       "   '42107',\n",
       "   '921'],\n",
       "  'hmdb': ['HMDB00076'],\n",
       "  'kegg': ['C00429'],\n",
       "  'metacyc': ['DI-H-URACIL'],\n",
       "  'reactome': ['73584'],\n",
       "  'sabiork': ['2930'],\n",
       "  'seed': ['cpd00337']},\n",
       " 'MNXM6292': {'bigg': ['56iqcrbxlt', 'M_56iqcrbxlt', 'CE1562', 'M_CE1562'],\n",
       "  'chebi': ['81394'],\n",
       "  'kegg': ['C17938'],\n",
       "  'metacyc': ['CPD-12374'],\n",
       "  'reactome': ['8878586'],\n",
       "  'seed': ['cpd17924']},\n",
       " 'MNXM163693': {'bigg': ['5HPET', 'M_5HPET']},\n",
       " 'MNXM1714': {'bigg': ['5a2opntn', 'M_5a2opntn'],\n",
       "  'chebi': ['17572', '12104', '2026', '20540', '49268', '58802'],\n",
       "  'hmdb': ['HMDB06272'],\n",
       "  'kegg': ['C01110'],\n",
       "  'lipidmaps': ['LMFA01060169'],\n",
       "  'metacyc': ['5-AMINO-2-OXOPENTANOATE'],\n",
       "  'sabiork': ['2247'],\n",
       "  'seed': ['cpd00815']},\n",
       " 'MNXM162520': {'bigg': ['5adtststerone', 'M_5adtststerone']},\n",
       " 'MNXM8181': {'bigg': ['5adtststeroneglc', 'M_5adtststeroneglc']},\n",
       " 'MNXM10347': {'bigg': ['5adtststerones', 'M_5adtststerones']},\n",
       " 'MNXM507': {'bigg': ['5aizc', 'M_5aizc'],\n",
       "  'chebi': ['28413', '12103', '18968', '575', '41336', '58564', '77657'],\n",
       "  'hmdb': ['HMDB06273', 'HMDB62424'],\n",
       "  'kegg': ['C04751'],\n",
       "  'metacyc': ['PHOSPHORIBOSYL-CARBOXY-AMINOIMIDAZOLE'],\n",
       "  'reactome': ['111395'],\n",
       "  'seed': ['cpd02893']},\n",
       " 'MNXM405': {'bigg': ['5aop', 'M_5aop'],\n",
       "  'chebi': ['12109', '132970', '17549', '2034', '20547', '356416'],\n",
       "  'hmdb': ['HMDB01149'],\n",
       "  'kegg': ['C00430', 'D07567'],\n",
       "  'lipidmaps': ['LMFA01100055'],\n",
       "  'metacyc': ['5-AMINO-LEVULINATE'],\n",
       "  'reactome': ['189466', '189489'],\n",
       "  'seed': ['cpd00338']},\n",
       " 'MNXM2090': {'bigg': ['5apentam', 'M_5apentam'],\n",
       "  'chebi': ['18120', '12110', '2036', '20548', '58382'],\n",
       "  'hmdb': ['HMDB12176'],\n",
       "  'kegg': ['C00990'],\n",
       "  'metacyc': ['5-AMINOPENTANAMIDE'],\n",
       "  'seed': ['cpd00729']},\n",
       " 'MNXM1178': {'bigg': ['5aprbu', 'M_5aprbu'],\n",
       "  'chebi': ['18247', '12107', '2031', '58421'],\n",
       "  'hmdb': ['HMDB03841'],\n",
       "  'kegg': ['C04454'],\n",
       "  'metacyc': ['CPD-1086'],\n",
       "  'seed': ['cpd02720']},\n",
       " 'MNXM1532': {'bigg': ['5apru', 'M_5apru'],\n",
       "  'chebi': ['18337', '12108', '2032', '20546', '59550', '58453', '59551'],\n",
       "  'kegg': ['C01268'],\n",
       "  'metacyc': ['CPD-602'],\n",
       "  'seed': ['cpd00931']},\n",
       " 'MNXM792': {'bigg': ['5aptn', 'M_5aptn'],\n",
       "  'chebi': ['15887', '12111', '2037', '20549', '41853', '356010', '86394'],\n",
       "  'hmdb': ['HMDB03355'],\n",
       "  'kegg': ['C00431'],\n",
       "  'lipidmaps': ['LMFA01100040'],\n",
       "  'metacyc': ['5-AMINOPENTANOATE'],\n",
       "  'sabiork': ['5090'],\n",
       "  'seed': ['cpd00339']},\n",
       " 'MNXM1409': {'bigg': ['5caiz', 'M_5caiz'],\n",
       "  'chebi': ['48000', '58730'],\n",
       "  'hmdb': ['HMDB12268'],\n",
       "  'kegg': ['C15667'],\n",
       "  'metacyc': ['CPD0-181'],\n",
       "  'seed': ['cpd11310', 'cpd25523']},\n",
       " 'MNXM1163': {'bigg': ['5cmhm', 'M_5cmhm'],\n",
       "  'chebi': ['15376', '10741', '20554', '27028', '2040', '47960', '47961'],\n",
       "  'kegg': ['C04186'],\n",
       "  'metacyc': ['CPD-784'],\n",
       "  'sabiork': ['7139'],\n",
       "  'seed': ['cpd02572']},\n",
       " 'MNXM1628': {'bigg': ['5cmhmsa', 'M_5cmhmsa'],\n",
       "  'chebi': ['17142', '1129', '11586', '12114', '27029', '58030'],\n",
       "  'kegg': ['C04642'],\n",
       "  'lipidmaps': ['LMFA01030989'],\n",
       "  'metacyc': ['CPD-783'],\n",
       "  'sabiork': ['7459'],\n",
       "  'seed': ['cpd02828']},\n",
       " 'MNXM91445': {'bigg': ['5cohe', 'M_5cohe'],\n",
       "  'kegg': ['C04052'],\n",
       "  'seed': ['cpd02507']},\n",
       " 'MNXM854': {'bigg': ['5d4dglcr', 'M_5d4dglcr', '5dh4dglc', 'M_5dh4dglc'],\n",
       "  'chebi': ['16369',\n",
       "   '12117',\n",
       "   '2048',\n",
       "   '20561',\n",
       "   '35453',\n",
       "   '42819',\n",
       "   '35454',\n",
       "   '42815',\n",
       "   '43704'],\n",
       "  'kegg': ['C00679'],\n",
       "  'metacyc': ['5-KETO-4-DEOXY-D-GLUCARATE'],\n",
       "  'sabiork': ['5177'],\n",
       "  'seed': ['cpd00515']},\n",
       " 'MNXM963': {'bigg': ['5dglcn', 'M_5dglcn'],\n",
       "  'chebi': ['17426', '12120', '12121', '2051', '20564', '58143'],\n",
       "  'kegg': ['C01062'],\n",
       "  'metacyc': ['5-DEHYDROGLUCONATE'],\n",
       "  'sabiork': ['2233'],\n",
       "  'seed': ['cpd00781']},\n",
       " 'MNXM718': {'bigg': ['5dh4dglcn', 'M_5dh4dglcn'],\n",
       "  'chebi': ['17117',\n",
       "   '11985',\n",
       "   '12118',\n",
       "   '2049',\n",
       "   '20562',\n",
       "   '58267',\n",
       "   '17782',\n",
       "   '1821',\n",
       "   '20357'],\n",
       "  'kegg': ['C04053'],\n",
       "  'metacyc': ['CPD-37'],\n",
       "  'seed': ['cpd02508']},\n",
       " 'MNXM4080': {'bigg': ['5dhf', 'M_5dhf']},\n",
       " 'MNXM689': {'bigg': ['5dpmev', 'M_5dpmev'],\n",
       "  'chebi': ['15899', '10989', '18674', '332', '57557'],\n",
       "  'hmdb': ['HMDB01090'],\n",
       "  'kegg': ['C01143'],\n",
       "  'lipidmaps': ['LMFA01050416'],\n",
       "  'metacyc': ['CPD-641'],\n",
       "  'reactome': ['191403'],\n",
       "  'sabiork': ['5408'],\n",
       "  'seed': ['cpd00841']},\n",
       " 'MNXM4391': {'bigg': ['5drib', 'M_5drib'],\n",
       "  'chebi': ['62012'],\n",
       "  'metacyc': ['CPD0-2167'],\n",
       "  'seed': ['cpd15380', 'cpd17002']},\n",
       " 'MNXM1993': {'bigg': ['5flura', 'M_5flura'],\n",
       "  'chebi': ['46345', '2054', '46343'],\n",
       "  'hmdb': ['HMDB14684'],\n",
       "  'kegg': ['C07649', 'D00584'],\n",
       "  'metacyc': ['CPD0-1327'],\n",
       "  'sabiork': ['9753'],\n",
       "  'seed': ['cpd04810']},\n",
       " 'MNXM6123': {'bigg': ['5flurimp', 'M_5flurimp'],\n",
       "  'chebi': ['40101'],\n",
       "  'hmdb': ['HMDB60397'],\n",
       "  'kegg': ['C16634'],\n",
       "  'seed': ['cpd16438']},\n",
       " 'MNXM915': {'bigg': ['5forthf', 'M_5forthf'],\n",
       "  'chebi': ['15639', '12126', '18603', '2056', '57456'],\n",
       "  'hmdb': ['HMDB01534'],\n",
       "  'kegg': ['C00664'],\n",
       "  'metacyc': ['CPD-671'],\n",
       "  'reactome': ['70919'],\n",
       "  'sabiork': ['1913'],\n",
       "  'seed': ['cpd00502']},\n",
       " 'MNXM1392': {'bigg': ['5fthf', 'M_5fthf'],\n",
       "  'chebi': ['15640', '12127', '18607', '2057', '57457', '63606', '65340'],\n",
       "  'hmdb': ['HMDB01562', 'HMDB06206', 'HMDB62757'],\n",
       "  'kegg': ['C03479', 'D07986'],\n",
       "  'metacyc': ['5-FORMYL-THF'],\n",
       "  'sabiork': ['6654'],\n",
       "  'seed': ['cpd02197']},\n",
       " 'MNXM1037': {'bigg': ['5g2oxpt', 'M_5g2oxpt'],\n",
       "  'chebi': ['18253',\n",
       "   '12129',\n",
       "   '20572',\n",
       "   '28116',\n",
       "   '1249',\n",
       "   '19740',\n",
       "   '2060',\n",
       "   '58489'],\n",
       "  'hmdb': ['HMDB04225', 'HMDB06815'],\n",
       "  'kegg': ['C03771'],\n",
       "  'metacyc': ['CPD-824'],\n",
       "  'sabiork': ['6844'],\n",
       "  'seed': ['cpd02364', 'cpd03528']},\n",
       " 'MNXM6924': {'bigg': ['5hbzid', 'M_5hbzid'],\n",
       "  'metacyc': ['CPD-18497'],\n",
       "  'seed': ['cpd15825']},\n",
       " 'MNXM1137': {'bigg': ['5hiu', 'M_5hiu', 'C11821', 'M_C11821'],\n",
       "  'chebi': ['18072', '12137', '20588', '2074', '59562'],\n",
       "  'hmdb': ['HMDB30097'],\n",
       "  'kegg': ['C11821'],\n",
       "  'metacyc': ['5-HYDROXYISOURATE'],\n",
       "  'sabiork': ['1921'],\n",
       "  'seed': ['cpd08625']},\n",
       " 'MNXM10267': {'bigg': ['5homeprazole', 'M_5homeprazole']},\n",
       " 'MNXM1805': {'bigg': ['5houdic', 'M_5houdic', 'houdic', 'M_houdic'],\n",
       "  'chebi': ['31132', '58639'],\n",
       "  'hmdb': ['HMDB59663'],\n",
       "  'kegg': ['C12248'],\n",
       "  'metacyc': ['CPD-5821'],\n",
       "  'sabiork': ['14282'],\n",
       "  'seed': ['cpd09027']},\n",
       " 'MNXM1057': {'bigg': ['5hoxindact', 'M_5hoxindact'],\n",
       "  'chebi': ['50157', '20583', '2070'],\n",
       "  'hmdb': ['HMDB04073'],\n",
       "  'kegg': ['C05634'],\n",
       "  'metacyc': ['5-HYDROXYINDOLE_ACETALDEHYDE'],\n",
       "  'reactome': ['380598', '500604'],\n",
       "  'sabiork': ['8021'],\n",
       "  'seed': ['cpd03345']},\n",
       " 'MNXM90519': {'bigg': ['5hoxindoa', 'M_5hoxindoa']},\n",
       " 'MNXM166597': {'bigg': ['5hoxnfkyn', 'M_5hoxnfkyn']},\n",
       " 'MNXM162909': {'bigg': ['5htrp', 'M_5htrp']},\n",
       " 'MNXM166598': {'bigg': ['5hxkyn', 'M_5hxkyn']},\n",
       " 'MNXM3508': {'bigg': ['5hxkynam', 'M_5hxkynam'],\n",
       "  'chebi': ['28715', '20589', '2075', '62214'],\n",
       "  'hmdb': ['HMDB04076'],\n",
       "  'kegg': ['C05638'],\n",
       "  'seed': ['cpd03349']},\n",
       " 'MNXM3509': {'bigg': ['5mcsn', 'M_5mcsn'],\n",
       "  'chebi': ['27551', '20608', '2094', '85013'],\n",
       "  'hmdb': ['HMDB02894'],\n",
       "  'kegg': ['C02376'],\n",
       "  'metacyc': ['CPD0-2018'],\n",
       "  'seed': ['cpd01587']},\n",
       " 'MNXM407': {'bigg': ['5mdr1p', 'M_5mdr1p'],\n",
       "  'chebi': ['27859',\n",
       "   '12767',\n",
       "   '12769',\n",
       "   '12770',\n",
       "   '20614',\n",
       "   '20616',\n",
       "   '2102',\n",
       "   '30309',\n",
       "   '30310',\n",
       "   '30311',\n",
       "   '58533'],\n",
       "  'kegg': ['C04188'],\n",
       "  'metacyc': ['CPD-444'],\n",
       "  'reactome': ['1237165'],\n",
       "  'sabiork': ['1642'],\n",
       "  'seed': ['cpd02574', 'cpd29669']},\n",
       " 'MNXM522': {'bigg': ['5mdru1p', 'M_5mdru1p'],\n",
       "  'chebi': ['28096', '12768', '20615', '2100', '44141', '58548'],\n",
       "  'hmdb': ['HMDB01299', 'HMDB62647'],\n",
       "  'kegg': ['C04582'],\n",
       "  'metacyc': ['CPD-1063'],\n",
       "  'reactome': ['1237107'],\n",
       "  'seed': ['cpd02791']},\n",
       " 'MNXM38195': {'bigg': ['5moxact', 'M_5moxact'],\n",
       "  'chebi': ['28281', '20600', '2088'],\n",
       "  'hmdb': ['HMDB04096'],\n",
       "  'kegg': ['C05660'],\n",
       "  'metacyc': ['CPD-12020'],\n",
       "  'seed': ['cpd03371']},\n",
       " 'MNXM150': {'bigg': ['5mta', 'M_5mta'],\n",
       "  'chebi': ['17509',\n",
       "   '12055',\n",
       "   '12064',\n",
       "   '12771',\n",
       "   '14605',\n",
       "   '18175',\n",
       "   '1966',\n",
       "   '1986',\n",
       "   '20491',\n",
       "   '20494',\n",
       "   '44181'],\n",
       "  'hmdb': ['HMDB01173'],\n",
       "  'kegg': ['C00170'],\n",
       "  'metacyc': ['5-METHYLTHIOADENOSINE'],\n",
       "  'reactome': ['353106', '5279412'],\n",
       "  'sabiork': ['1960'],\n",
       "  'seed': ['cpd00147']},\n",
       " 'MNXM318': {'bigg': ['5mthf', 'M_5mthf'],\n",
       "  'chebi': ['136009', '15641', '12146', '2097', '18608', '20612'],\n",
       "  'hmdb': ['HMDB01396'],\n",
       "  'kegg': ['C00440'],\n",
       "  'reactome': ['200665', '200709'],\n",
       "  'sabiork': ['2051'],\n",
       "  'seed': ['cpd00345']},\n",
       " 'MNXM722742': {'bigg': ['5mtr', 'M_5mtr'],\n",
       "  'chebi': ['78440'],\n",
       "  'kegg': ['C03089'],\n",
       "  'sabiork': ['1638'],\n",
       "  'seed': ['cpd01981']},\n",
       " 'MNXM829': {'bigg': ['5odhf2a', 'M_5odhf2a'],\n",
       "  'chebi': ['18267', '11871', '11923', '1239', '20269', '58425'],\n",
       "  'kegg': ['C03586'],\n",
       "  'metacyc': ['3-OXOADIPATE-ENOL-LACTONE'],\n",
       "  'seed': ['cpd02255']},\n",
       " 'MNXM964': {'bigg': ['5oxpro', 'M_5oxpro'],\n",
       "  'chebi': ['16010', '12157', '20624', '2116', '44943', '57606'],\n",
       "  'hmdb': ['HMDB00805', 'HMDB60262'],\n",
       "  'reactome': ['1247942'],\n",
       "  'seed': ['cpd01293']},\n",
       " 'MNXM4772': {'bigg': ['5pg35pg', 'M_5pg35pg'],\n",
       "  'chebi': ['48622', '58754'],\n",
       "  'kegg': ['C18076'],\n",
       "  'metacyc': ['L-DI-GMP'],\n",
       "  'sabiork': ['28106'],\n",
       "  'seed': ['cpd18057']},\n",
       " 'MNXM567': {'bigg': ['5pmev', 'M_5pmev'],\n",
       "  'chebi': ['17436', '10990', '10991', '18675', '333', '58146'],\n",
       "  'hmdb': ['HMDB01343'],\n",
       "  'kegg': ['C01107'],\n",
       "  'lipidmaps': ['LMFA01050415'],\n",
       "  'metacyc': ['CPD-499'],\n",
       "  'sabiork': ['5389'],\n",
       "  'seed': ['cpd00812']},\n",
       " 'MNXM7577': {'bigg': ['5pr5hbz', 'M_5pr5hbz'], 'seed': ['cpd15826']},\n",
       " 'MNXM1224': {'bigg': ['5prdmbz', 'M_5prdmbz'],\n",
       "  'chebi': ['16837',\n",
       "   '12622',\n",
       "   '21797',\n",
       "   '30599',\n",
       "   '45218',\n",
       "   '45255',\n",
       "   '45256',\n",
       "   '7355',\n",
       "   '57918'],\n",
       "  'hmdb': ['HMDB03882'],\n",
       "  'kegg': ['C04778'],\n",
       "  'metacyc': ['ALPHA-RIBAZOLE-5-P'],\n",
       "  'seed': ['cpd02904']},\n",
       " 'MNXM3687': {'bigg': ['5thf', 'M_5thf']},\n",
       " 'MNXM916': {'bigg': ['6a2ohxnt', 'M_6a2ohxnt'],\n",
       "  'chebi': ['17534', '12205', '20701', '2170', '58183'],\n",
       "  'hmdb': ['HMDB12151'],\n",
       "  'kegg': ['C03239'],\n",
       "  'metacyc': ['2-KETO-6-AMINO-CAPROATE'],\n",
       "  'sabiork': ['6500'],\n",
       "  'seed': ['cpd02074']},\n",
       " 'MNXM2495': {'bigg': ['6ampenc', 'M_6ampenc', '6apa', 'M_6apa'],\n",
       "  'chebi': ['16705', '20705', '2172', '30938', '12207', '20704', '57869'],\n",
       "  'hmdb': ['HMDB60618'],\n",
       "  'kegg': ['C02954'],\n",
       "  'metacyc': ['6-AMINOPENICILLANATE'],\n",
       "  'sabiork': ['2606'],\n",
       "  'seed': ['cpd01896']},\n",
       " 'MNXM2339': {'bigg': ['6ax', 'M_6ax'],\n",
       "  'chebi': ['16586',\n",
       "   '2171',\n",
       "   '227755',\n",
       "   '40458',\n",
       "   '32396',\n",
       "   '12206',\n",
       "   '20703',\n",
       "   '57826'],\n",
       "  'envipath': ['32de3cf4-e3e6-4168-956e-32fa5ddb0ce1/compound/e0b1d5f1-eb2c-4192-86f6-9b84ec5de751'],\n",
       "  'hmdb': ['HMDB01901', 'HMDB02002'],\n",
       "  'kegg': ['C02378', 'D00160'],\n",
       "  'lipidmaps': ['LMFA01100035'],\n",
       "  'metacyc': ['CPD-884'],\n",
       "  'seed': ['cpd01588']},\n",
       " 'MNXM2137': {'bigg': ['6ax6ax', 'M_6ax6ax'],\n",
       "  'chebi': ['16780', '12433', '21473', '7092', '49255', '58798'],\n",
       "  'envipath': ['32de3cf4-e3e6-4168-956e-32fa5ddb0ce1/compound/341e4f4e-e5e5-415f-a022-56e524b0022e'],\n",
       "  'kegg': ['C01255'],\n",
       "  'lipidmaps': ['LMFA00000009'],\n",
       "  'metacyc': ['N-6-AMINOHEXANOYL-6-AMINOHEXANOATE'],\n",
       "  'seed': ['cpd00921']},\n",
       " 'MNXM1434': {'bigg': ['6dg', 'M_6dg'],\n",
       "  'chebi': ['28053', '20943', '25182', '60170', '6733'],\n",
       "  'hmdb': ['HMDB00048'],\n",
       "  'kegg': ['C05402', 'G01275'],\n",
       "  'sabiork': ['2789'],\n",
       "  'seed': ['cpd03198']},\n",
       " 'MNXM3615': {'bigg': ['6dhf', 'M_6dhf']},\n",
       " 'MNXM2792': {'bigg': ['6hch1eccoa', 'M_6hch1eccoa'],\n",
       "  'chebi': ['15505', '12215', '20724', '2189', '57361'],\n",
       "  'envipath': ['32de3cf4-e3e6-4168-956e-32fa5ddb0ce1/compound/f86ba665-1560-4017-9b9c-9d7595016723'],\n",
       "  'hmdb': ['HMDB12179'],\n",
       "  'kegg': ['C06749'],\n",
       "  'lipidmaps': ['LMFA07050271', 'LMFA07050272'],\n",
       "  'metacyc': ['6-HYDROXYCYCLOHEX-1-ENE-1-CARBONYL-COA'],\n",
       "  'seed': ['cpd04130']},\n",
       " 'MNXM937': {'bigg': ['6hmhpt', 'M_6hmhpt'],\n",
       "  'chebi': ['17083', '1003', '11511', '19456', '44841'],\n",
       "  'kegg': ['C01300'],\n",
       "  'metacyc': ['AMINO-OH-HYDROXYMETHYL-DIHYDROPTERIDINE'],\n",
       "  'sabiork': ['5516'],\n",
       "  'seed': ['cpd00954', 'cpd29670']},\n",
       " 'MNXM1160': {'bigg': ['6hmhptpp', 'M_6hmhptpp'],\n",
       "  'chebi': ['15998',\n",
       "   '1011',\n",
       "   '11512',\n",
       "   '11517',\n",
       "   '19465',\n",
       "   '57602',\n",
       "   '72950',\n",
       "   '73083'],\n",
       "  'kegg': ['C04807'],\n",
       "  'metacyc': ['DIHYDROPTERIN-CH2OH-PP'],\n",
       "  'seed': ['cpd16760']},\n",
       " 'MNXM773': {'bigg': ['6hnac', 'M_6hnac'],\n",
       "  'chebi': ['16168', '12219', '20731', '2200', '57664'],\n",
       "  'hmdb': ['HMDB02658'],\n",
       "  'kegg': ['C01020'],\n",
       "  'metacyc': ['6-HYDROXY-NICOTINATE'],\n",
       "  'seed': ['cpd00752']},\n",
       " 'MNXM164382': {'bigg': ['6hoxmelatn', 'M_6hoxmelatn']},\n",
       " 'MNXM163219': {'bigg': ['6htststerone', 'M_6htststerone']},\n",
       " 'MNXM1156': {'bigg': ['6mpur', 'M_6mpur'],\n",
       "  'chebi': ['2208', '50667'],\n",
       "  'hmdb': ['HMDB15167'],\n",
       "  'kegg': ['C02380', 'D04931'],\n",
       "  'metacyc': ['CPD-15916'],\n",
       "  'reactome': ['158619', '33153'],\n",
       "  'seed': ['cpd01590']},\n",
       " 'MNXM5572': {'bigg': ['6occhcoa', 'M_6occhcoa'],\n",
       "  'chebi': ['28168', '20737', '2206', '76526'],\n",
       "  'hmdb': ['HMDB12180'],\n",
       "  'kegg': ['C09821'],\n",
       "  'lipidmaps': ['LMFA07050274', 'LMFA07050275'],\n",
       "  'metacyc': ['6-OXOCYCLOHEX-1-ENE-1-CARBONYL-COA'],\n",
       "  'seed': ['cpd06713']},\n",
       " 'MNXM1218': {'bigg': ['6p2dhglcn', 'M_6p2dhglcn'],\n",
       "  'chebi': ['15865', '12228', '20750', '2229'],\n",
       "  'kegg': ['C01218'],\n",
       "  'metacyc': ['CPD-339'],\n",
       "  'sabiork': ['1705'],\n",
       "  'seed': ['cpd00896']},\n",
       " 'MNXM325': {'bigg': ['6pgc', 'M_6pgc'],\n",
       "  'chebi': ['16863', '12232', '48928', '2231', '33851', '40282', '58759'],\n",
       "  'hmdb': ['HMDB01316', 'HMDB62800'],\n",
       "  'kegg': ['C00345'],\n",
       "  'metacyc': ['CPD-2961'],\n",
       "  'reactome': ['29996'],\n",
       "  'sabiork': ['2024', '22801'],\n",
       "  'seed': ['cpd00284']},\n",
       " 'MNXM147389': {'bigg': ['6pgg', 'M_6pgg']},\n",
       " 'MNXM429': {'bigg': ['6pgl', 'M_6pgl'],\n",
       "  'chebi': ['16938', '12233', '12958', '20989', '4160', '57955'],\n",
       "  'hmdb': ['HMDB01127', 'HMDB62628'],\n",
       "  'kegg': ['C01236'],\n",
       "  'metacyc': ['D-6-P-GLUCONO-DELTA-LACTONE'],\n",
       "  'reactome': ['31467'],\n",
       "  'sabiork': ['1366'],\n",
       "  'seed': ['cpd00911']},\n",
       " 'MNXM722720': {'bigg': ['6pthp', 'M_6pthp'], 'chebi': ['136564']},\n",
       " 'MNXM5574': {'bigg': ['6tgsnmp', 'M_6tgsnmp'],\n",
       "  'chebi': ['80613'],\n",
       "  'hmdb': ['HMDB60415', 'HMDB60789'],\n",
       "  'kegg': ['C16619'],\n",
       "  'seed': ['cpd16423']},\n",
       " 'MNXM3616': {'bigg': ['6thf', 'M_6thf']},\n",
       " 'MNXM3196': {'bigg': ['6tins5mp', 'M_6tins5mp'],\n",
       "  'chebi': ['2332'],\n",
       "  'hmdb': ['HMDB60416'],\n",
       "  'kegg': ['C04646'],\n",
       "  'seed': ['cpd02832']},\n",
       " 'MNXM6955': {'bigg': ['6txan5mp', 'M_6txan5mp'],\n",
       "  'chebi': ['80612'],\n",
       "  'hmdb': ['HMDB60418'],\n",
       "  'kegg': ['C16618'],\n",
       "  'seed': ['cpd16422']},\n",
       " 'MNXM162639': {'bigg': ['7dhchsterol', 'M_7dhchsterol']},\n",
       " 'MNXM5779': {'bigg': ['7dhf', 'M_7dhf']},\n",
       " 'MNXM5029': {'bigg': ['7mhp', 'M_7mhp'],\n",
       "  'chebi': ['80591'],\n",
       "  'kegg': ['C16593'],\n",
       "  'metacyc': ['CPD-349'],\n",
       "  'seed': ['cpd15827']},\n",
       " 'MNXM3883': {'bigg': ['7mht', 'M_7mht'],\n",
       "  'chebi': ['80592'],\n",
       "  'kegg': ['C16594'],\n",
       "  'metacyc': ['CPD-359'],\n",
       "  'seed': ['cpd15828']},\n",
       " 'MNXM4423': {'bigg': ['7ohp', 'M_7ohp'],\n",
       "  'chebi': ['80588'],\n",
       "  'envipath': ['32de3cf4-e3e6-4168-956e-32fa5ddb0ce1/compound/833c3eaa-6894-4576-a9e1-82a552394eb2'],\n",
       "  'kegg': ['C16590'],\n",
       "  'metacyc': ['CPD-338'],\n",
       "  'seed': ['cpd15829']},\n",
       " 'MNXM5780': {'bigg': ['7thf', 'M_7thf']},\n",
       " 'MNXM1141': {'bigg': ['8aonn', 'M_8aonn'],\n",
       "  'chebi': ['12266', '15830', '20808', '2308', '57532'],\n",
       "  'kegg': ['C01092'],\n",
       "  'lipidmaps': ['LMFA01060168'],\n",
       "  'metacyc': ['8-AMINO-7-OXONONANOATE'],\n",
       "  'sabiork': ['5387'],\n",
       "  'seed': ['cpd00800']},\n",
       " 'MNXM146565': {'bigg': ['9_cis_retfa', 'M_9_cis_retfa']},\n",
       " 'MNXM925': {'bigg': ['ACP', 'M_ACP'],\n",
       "  'chebi': ['18359', '14405', '2458'],\n",
       "  'kegg': ['C00229'],\n",
       "  'metacyc': ['ACP'],\n",
       "  'sabiork': ['2186'],\n",
       "  'seed': ['cpd11493']},\n",
       " 'MNXM7024': {'bigg': ['Ac1PIM1', 'M_Ac1PIM1'],\n",
       "  'chebi': ['88053'],\n",
       "  'seed': ['cpd15915']},\n",
       " 'MNXM4431': {'bigg': ['Ac1PIM2', 'M_Ac1PIM2'], 'seed': ['cpd15916']},\n",
       " 'MNXM7025': {'bigg': ['Ac1PIM3', 'M_Ac1PIM3'], 'seed': ['cpd15917']},\n",
       " 'MNXM10580': {'bigg': ['Ac1PIM4', 'M_Ac1PIM4'], 'seed': ['cpd15918']},\n",
       " 'MNXM11348': {'bigg': ['Ac2PIM2', 'M_Ac2PIM2'], 'seed': ['cpd15919']},\n",
       " 'MNXM145923': {'bigg': ['Asn_X_Ser_Thr', 'M_Asn_X_Ser_Thr']},\n",
       " 'MNXM2808': {'bigg': ['B_ara1p', 'M_B_ara1p'],\n",
       "  'chebi': ['15807', '10421', '12386', '22817', '57521'],\n",
       "  'hmdb': ['HMDB12195'],\n",
       "  'kegg': ['C03906'],\n",
       "  'metacyc': ['CPD-1825'],\n",
       "  'seed': ['cpd02428']},\n",
       " 'MNXM114345': {'bigg': ['Brfap', 'M_Brfap'], 'seed': ['cpd15830']},\n",
       " 'MNXM91270': {'bigg': ['C01241', 'M_C01241'],\n",
       "  'chebi': ['15958', '14799', '14800', '26027', '73160', '8126', '57588'],\n",
       "  'kegg': ['C01241'],\n",
       "  'metacyc': ['CPD-405'],\n",
       "  'sabiork': ['5467'],\n",
       "  'seed': ['cpd11829']},\n",
       " 'MNXM168132': {'bigg': ['C01507', 'M_C01507']},\n",
       " 'MNXM12480': {'bigg': ['C01601', 'M_C01601', 'nona', 'M_nona'],\n",
       "  'chebi': ['29019', '25861', '7616', '32361'],\n",
       "  'hmdb': ['HMDB00847'],\n",
       "  'kegg': ['C01601'],\n",
       "  'lipidmaps': ['LMFA01010009'],\n",
       "  'metacyc': ['CPD-8505'],\n",
       "  'sabiork': ['2299'],\n",
       "  'seed': ['cpd01126']},\n",
       " 'MNXM163889': {'bigg': ['C01747', 'M_C01747']},\n",
       " 'MNXM64520': {'bigg': ['C01836', 'M_C01836'],\n",
       "  'chebi': ['7542'],\n",
       "  'kegg': ['C01836'],\n",
       "  'sabiork': ['5833'],\n",
       "  'seed': ['cpd11960']},\n",
       " 'MNXM3585': {'bigg': ['C02147', 'M_C02147'],\n",
       "  'chebi': ['18047', '23752', '4569', '30316', '14154', '23751'],\n",
       "  'hmdb': ['HMDB12210'],\n",
       "  'kegg': ['C02147'],\n",
       "  'metacyc': ['CPD-296'],\n",
       "  'sabiork': ['6031'],\n",
       "  'seed': ['cpd01454']},\n",
       " 'MNXM17054': {'bigg': ['C02356', 'M_C02356'],\n",
       "  'chebi': ['28340',\n",
       "   '18733',\n",
       "   '35619',\n",
       "   '18734',\n",
       "   '35723',\n",
       "   '376',\n",
       "   '46346',\n",
       "   '74359'],\n",
       "  'hmdb': ['HMDB00452', 'HMDB00581', 'HMDB05815'],\n",
       "  'kegg': ['C02356'],\n",
       "  'lipidmaps': ['LMFA01100034'],\n",
       "  'metacyc': ['CPD0-1942'],\n",
       "  'sabiork': ['21104'],\n",
       "  'seed': ['cpd01573']},\n",
       " 'MNXM3670': {'bigg': ['C02442', 'M_C02442'],\n",
       "  'chebi': ['17458', '12524', '21775', '7327', '58155'],\n",
       "  'hmdb': ['HMDB03633', 'HMDB60283', 'HMDB60284'],\n",
       "  'kegg': ['C02442'],\n",
       "  'metacyc': ['CPD-391'],\n",
       "  'seed': ['cpd01610']},\n",
       " 'MNXM5989': {'bigg': ['C02470', 'M_C02470'],\n",
       "  'chebi': ['10072', '71201'],\n",
       "  'hmdb': ['HMDB00881'],\n",
       "  'kegg': ['C02470'],\n",
       "  'metacyc': ['XANTHURENATE'],\n",
       "  'seed': ['cpd01625']},\n",
       " 'MNXM1183': {'bigg': ['C02528', 'M_C02528'],\n",
       "  'chebi': ['16755',\n",
       "   '23094',\n",
       "   '3588',\n",
       "   '3593',\n",
       "   '36234',\n",
       "   '13960',\n",
       "   '23093',\n",
       "   '57884'],\n",
       "  'hmdb': ['HMDB00518'],\n",
       "  'kegg': ['C02528', 'D00163'],\n",
       "  'lipidmaps': ['LMST04010032'],\n",
       "  'metacyc': ['CPD-15189'],\n",
       "  'reactome': ['194096'],\n",
       "  'sabiork': ['6249'],\n",
       "  'seed': ['cpd01663'],\n",
       "  'slm': ['000000861']},\n",
       " 'MNXM722898': {'bigg': ['C02712', 'M_C02712'],\n",
       "  'chebi': ['132957', '132958', '7211'],\n",
       "  'kegg': ['C02712'],\n",
       "  'seed': ['cpd01756']},\n",
       " 'MNXM7718': {'bigg': ['C02744', 'M_C02744'],\n",
       "  'chebi': ['17507', '14967', '26371', '8620', '58170'],\n",
       "  'hmdb': ['HMDB13046'],\n",
       "  'kegg': ['C02744'],\n",
       "  'lipidmaps': ['LMSP08000002'],\n",
       "  'metacyc': ['CPD-518'],\n",
       "  'seed': ['cpd01778']},\n",
       " 'MNXM59674': {'bigg': ['C03405', 'M_C03405'],\n",
       "  'chebi': ['37986', '25007', '6355', '78426'],\n",
       "  'kegg': ['C03405', 'G10258'],\n",
       "  'lipidmaps': ['LMSP0602AA00'],\n",
       "  'seed': ['cpd12314']},\n",
       " 'MNXM4676': {'bigg': ['C03413', 'M_C03413'],\n",
       "  'chebi': ['28101', '21796', '7353', '58550'],\n",
       "  'hmdb': ['HMDB02172', 'HMDB62649'],\n",
       "  'kegg': ['C03413'],\n",
       "  'metacyc': ['CPD-11268'],\n",
       "  'seed': ['cpd02158']},\n",
       " 'MNXM3823': {'bigg': ['C03577', 'M_C03577'],\n",
       "  'chebi': ['28700', '11660', '1291', '19798', '58584'],\n",
       "  'hmdb': ['HMDB12639'],\n",
       "  'kegg': ['C03577'],\n",
       "  'lipidmaps': ['LMFA03020025', 'LMFA03020062'],\n",
       "  'metacyc': ['20-HYDROXY-LEUKOTRIENE-E4'],\n",
       "  'seed': ['cpd02247']},\n",
       " 'MNXM1066': {'bigg': ['C03681', 'M_C03681'],\n",
       "  'chebi': ['28952', '12175', '20657', '2144'],\n",
       "  'kegg': ['C03681'],\n",
       "  'lipidmaps': ['LMST02030170'],\n",
       "  'metacyc': ['CPD-293'],\n",
       "  'sabiork': ['6790'],\n",
       "  'seed': ['cpd02312'],\n",
       "  'slm': ['000485382']},\n",
       " 'MNXM48557': {'bigg': ['C03693', 'M_C03693'],\n",
       "  'chebi': ['4209'],\n",
       "  'hmdb': ['HMDB60269'],\n",
       "  'kegg': ['C03693'],\n",
       "  'sabiork': ['1488'],\n",
       "  'seed': ['cpd02320']},\n",
       " 'MNXM21371': {'bigg': ['C03958', 'M_C03958'],\n",
       "  'chebi': ['35940', '8584', '9585'],\n",
       "  'hmdb': ['HMDB60080'],\n",
       "  'kegg': ['C03958', 'D00176'],\n",
       "  'seed': ['cpd02457']},\n",
       " 'MNXM4388': {'bigg': ['C04051', 'M_C04051'],\n",
       "  'chebi': ['2030', '20544'],\n",
       "  'hmdb': ['HMDB03192'],\n",
       "  'kegg': ['C04051'],\n",
       "  'metacyc': ['CPD-3762'],\n",
       "  'seed': ['cpd02506', 'cpd16736']},\n",
       " 'MNXM2973': {'bigg': ['C04295', 'M_C04295'],\n",
       "  'chebi': ['2710'],\n",
       "  'kegg': ['C04295', 'D00179'],\n",
       "  'lipidmaps': ['LMST02020005'],\n",
       "  'sabiork': ['7215'],\n",
       "  'seed': ['cpd02637'],\n",
       "  'slm': ['000485341']},\n",
       " 'MNXM75100': {'bigg': ['C04308',\n",
       "   'M_C04308',\n",
       "   'ptd2meeta_SC',\n",
       "   'M_ptd2meeta_SC'],\n",
       "  'chebi': ['17152', '14798', '26026', '8125', '52332', '64427'],\n",
       "  'kegg': ['C04308'],\n",
       "  'lipidmaps': ['LMGP0201AB00'],\n",
       "  'metacyc': ['CPD-160'],\n",
       "  'sabiork': ['7224'],\n",
       "  'seed': ['cpd12514']},\n",
       " 'MNXM165530': {'bigg': ['C04717', 'M_C04717']},\n",
       " 'MNXM38414': {'bigg': ['C04805', 'M_C04805'],\n",
       "  'chebi': ['28209', '20581', '2068', '90632'],\n",
       "  'kegg': ['C04805'],\n",
       "  'lipidmaps': ['LMFA03060002'],\n",
       "  'reactome': ['2142733']},\n",
       " 'MNXM5376': {'bigg': ['C04843', 'M_C04843'],\n",
       "  'chebi': ['15630', '10922', '18598', '253', '57448'],\n",
       "  'hmdb': ['HMDB60107'],\n",
       "  'kegg': ['C04843'],\n",
       "  'lipidmaps': ['LMFA03050022'],\n",
       "  'reactome': ['2142713']},\n",
       " 'MNXM4921': {'bigg': ['C04849', 'M_C04849'],\n",
       "  'chebi': ['15631', '10923', '18597', '252', '57449'],\n",
       "  'hmdb': ['HMDB62619'],\n",
       "  'kegg': ['C04849'],\n",
       "  'metacyc': ['CPD-2044']},\n",
       " 'MNXM2593': {'bigg': ['C05284', 'M_C05284'],\n",
       "  'chebi': ['27967', '19132', '736'],\n",
       "  'hmdb': ['HMDB06773'],\n",
       "  'kegg': ['C05284'],\n",
       "  'lipidmaps': ['LMST02020066'],\n",
       "  'seed': ['cpd03135']},\n",
       " 'MNXM3813': {'bigg': ['C05298', 'M_C05298'],\n",
       "  'chebi': ['1156'],\n",
       "  'hmdb': ['HMDB00343'],\n",
       "  'kegg': ['C05298'],\n",
       "  'lipidmaps': ['LMST02010032'],\n",
       "  'sabiork': ['7836'],\n",
       "  'seed': ['cpd03143'],\n",
       "  'slm': ['000485704']},\n",
       " 'MNXM4971': {'bigg': ['C05299', 'M_C05299'],\n",
       "  'chebi': ['1189'],\n",
       "  'hmdb': ['HMDB00010', 'HMDB04990', 'HMDB04991'],\n",
       "  'kegg': ['C05299'],\n",
       "  'lipidmaps': ['LMST02010033'],\n",
       "  'seed': ['cpd03144']},\n",
       " 'MNXM3794': {'bigg': ['C05300', 'M_C05300'],\n",
       "  'chebi': ['776', '60497'],\n",
       "  'hmdb': ['HMDB00335'],\n",
       "  'kegg': ['C05300'],\n",
       "  'lipidmaps': ['LMST02010041'],\n",
       "  'seed': ['cpd03145'],\n",
       "  'slm': ['000485703']},\n",
       " 'MNXM2926': {'bigg': ['C05301', 'M_C05301'],\n",
       "  'chebi': ['28744', '1155', '19637', '42267'],\n",
       "  'envipath': ['650babc9-9d68-4b73-9332-11972ca26f7b/compound/840d2aaa-b5b2-4c20-a35f-77342c7fb32b'],\n",
       "  'hmdb': ['HMDB00338', 'HMDB03962'],\n",
       "  'kegg': ['C05301'],\n",
       "  'lipidmaps': ['LMST02010027'],\n",
       "  'metacyc': ['2-HYDROXY-ESTRADIOL'],\n",
       "  'sabiork': ['21019', '7839'],\n",
       "  'seed': ['cpd03146'],\n",
       "  'slm': ['000485705']},\n",
       " 'MNXM4970': {'bigg': ['C05302', 'M_C05302'],\n",
       "  'chebi': ['28955', '1187', '19675', '42274'],\n",
       "  'kegg': ['C05302'],\n",
       "  'lipidmaps': ['LMST02010035'],\n",
       "  'seed': ['cpd03147']},\n",
       " 'MNXM81813': {'bigg': ['C05708', 'M_C05708'],\n",
       "  'chebi': ['28434', '26639', '9099'],\n",
       "  'hmdb': ['HMDB60257'],\n",
       "  'kegg': ['C05708'],\n",
       "  'seed': ['cpd03406']},\n",
       " 'MNXM167472': {'bigg': ['C05769', 'M_C05769']},\n",
       " 'MNXM7704': {'bigg': ['C05957', 'M_C05957'],\n",
       "  'chebi': ['133396', '27485', '26332', '8521'],\n",
       "  'hmdb': ['HMDB02710', 'HMDB05078'],\n",
       "  'kegg': ['C05957'],\n",
       "  'lipidmaps': ['LMFA03010019'],\n",
       "  'reactome': ['2142674'],\n",
       "  'sabiork': ['8299'],\n",
       "  'seed': ['cpd03546']},\n",
       " 'MNXM11832': {'bigg': ['C06199', 'M_C06199'],\n",
       "  'chebi': ['5764'],\n",
       "  'hmdb': ['HMDB04366'],\n",
       "  'kegg': ['C06199'],\n",
       "  'seed': ['cpd03707']},\n",
       " 'MNXM12129': {'bigg': ['C06314', 'M_C06314'],\n",
       "  'chebi': ['6498', '67026'],\n",
       "  'hmdb': ['HMDB04385'],\n",
       "  'kegg': ['C06314'],\n",
       "  'lipidmaps': ['LMFA03040001'],\n",
       "  'metacyc': ['CPD66-51'],\n",
       "  'reactome': ['2161759'],\n",
       "  'seed': ['cpd03755'],\n",
       "  'slm': ['000389595']},\n",
       " 'MNXM12130': {'bigg': ['C06315', 'M_C06315'],\n",
       "  'chebi': ['6499', '67031'],\n",
       "  'hmdb': ['HMDB05082'],\n",
       "  'kegg': ['C06315'],\n",
       "  'lipidmaps': ['LMFA03040002'],\n",
       "  'metacyc': ['CPD66-56'],\n",
       "  'seed': ['cpd03756'],\n",
       "  'slm': ['000501194']},\n",
       " 'MNXM114536': {'bigg': ['C06350', 'M_C06350'],\n",
       "  'chebi': ['28770', '18715', '362'],\n",
       "  'hmdb': ['HMDB12486'],\n",
       "  'kegg': ['C06350'],\n",
       "  'sabiork': ['8568'],\n",
       "  'seed': ['cpd03791']},\n",
       " 'MNXM90852': {'bigg': ['C06453', 'M_C06453'],\n",
       "  'hmdb': ['HMDB02274'],\n",
       "  'kegg': ['C06453', 'D03246'],\n",
       "  'seed': ['cpd12878']},\n",
       " 'MNXM50391': {'bigg': ['C06948', 'M_C06948'],\n",
       "  'chebi': ['49575', '4494', '49574'],\n",
       "  'envipath': ['32de3cf4-e3e6-4168-956e-32fa5ddb0ce1/compound/83ad49d1-65b8-4119-8087-30fd07f76efa'],\n",
       "  'hmdb': ['HMDB14967'],\n",
       "  'kegg': ['C06948', 'D00293'],\n",
       "  'seed': ['cpd04280']},\n",
       " 'MNXM64920': {'bigg': ['C07486', 'M_C07486'],\n",
       "  'chebi': ['111762', '7624'],\n",
       "  'hmdb': ['HMDB60538', 'HMDB61094'],\n",
       "  'kegg': ['C07486', 'D08283'],\n",
       "  'seed': ['cpd04658']},\n",
       " 'MNXM3216': {'bigg': ['C07535', 'M_C07535'],\n",
       "  'chebi': ['29865', '22716', '3045'],\n",
       "  'envipath': ['32de3cf4-e3e6-4168-956e-32fa5ddb0ce1/compound/0f5aa24b-9d47-4e00-a245-92b63824fde1'],\n",
       "  'hmdb': ['HMDB62469'],\n",
       "  'kegg': ['C07535'],\n",
       "  'seed': ['cpd04705']},\n",
       " 'MNXM164574': {'bigg': ['C08261', 'M_C08261']},\n",
       " 'MNXM11747': {'bigg': ['C09209', 'M_C09209'],\n",
       "  'chebi': ['5623'],\n",
       "  'hmdb': ['HMDB35196'],\n",
       "  'kegg': ['C09209'],\n",
       "  'metacyc': ['CPD66-92'],\n",
       "  'seed': ['cpd06104']},\n",
       " 'MNXM13455': {'bigg': ['C09640', 'M_C09640'],\n",
       "  'chebi': ['112'],\n",
       "  'hmdb': ['HMDB12469'],\n",
       "  'kegg': ['C09640'],\n",
       "  'seed': ['cpd06534']},\n",
       " 'MNXM9366': {'bigg': ['C09642', 'M_C09642'],\n",
       "  'chebi': ['113'],\n",
       "  'hmdb': ['HMDB42012'],\n",
       "  'kegg': ['C09642'],\n",
       "  'seed': ['cpd06536']},\n",
       " 'MNXM6198': {'bigg': ['C100mclPHA', 'M_C100mclPHA'], 'seed': ['cpd16744']},\n",
       " 'MNXM168895': {'bigg': ['C10164', 'M_C10164']},\n",
       " 'MNXM81247': {'bigg': ['C11304', 'M_C11304'],\n",
       "  'chebi': ['8937'],\n",
       "  'hmdb': ['HMDB13061'],\n",
       "  'kegg': ['C11304'],\n",
       "  'seed': ['cpd08162']},\n",
       " 'MNXM5060': {'bigg': ['C11695', 'M_C11695'],\n",
       "  'chebi': ['2700', '88116'],\n",
       "  'hmdb': ['HMDB04080'],\n",
       "  'kegg': ['C11695'],\n",
       "  'lipidmaps': ['LMFA08040001', 'LMFA08040056'],\n",
       "  'metacyc': ['CPD-7598'],\n",
       "  'reactome': ['5693752', '5693754'],\n",
       "  'sabiork': ['13755'],\n",
       "  'seed': ['cpd08505']},\n",
       " 'MNXM6199': {'bigg': ['C120mclPHA', 'M_C120mclPHA'], 'seed': ['cpd16745']},\n",
       " 'MNXM8355': {'bigg': ['C121mclPHA', 'M_C121mclPHA'], 'seed': ['cpd16746']},\n",
       " 'MNXM1167': {'bigg': ['C13856', 'M_C13856'],\n",
       "  'chebi': ['52392', '34261', '52365'],\n",
       "  'hmdb': ['HMDB04666', 'HMDB11548'],\n",
       "  'kegg': ['C13856'],\n",
       "  'lipidmaps': ['LMGL01010023', 'LMGL01010028'],\n",
       "  'metacyc': ['CPD-12600'],\n",
       "  'reactome': ['426030'],\n",
       "  'seed': ['cpd09673'],\n",
       "  'slm': ['000000507']},\n",
       " 'MNXM8356': {'bigg': ['C140mclPHA', 'M_C140mclPHA'], 'seed': ['cpd16747']},\n",
       " 'MNXM8357': {'bigg': ['C141mclPHA', 'M_C141mclPHA'], 'seed': ['cpd16748']},\n",
       " 'MNXM6120': {'bigg': ['C14768', 'M_C14768'],\n",
       "  'chebi': ['131992', '34450', '63973'],\n",
       "  'hmdb': ['HMDB02190'],\n",
       "  'kegg': ['C14768'],\n",
       "  'lipidmaps': ['LMFA03080002'],\n",
       "  'reactome': ['2142739'],\n",
       "  'seed': ['cpd10465']},\n",
       " 'MNXM6139': {'bigg': ['C14769', 'M_C14769'],\n",
       "  'chebi': ['34490', '63972', '84025'],\n",
       "  'hmdb': ['HMDB02232', 'HMDB04672'],\n",
       "  'kegg': ['C14769'],\n",
       "  'lipidmaps': ['LMFA03080003'],\n",
       "  'seed': ['cpd10466']},\n",
       " 'MNXM6048': {'bigg': ['C14770', 'M_C14770'],\n",
       "  'chebi': ['34130', '63967', '76625'],\n",
       "  'kegg': ['C14770'],\n",
       "  'lipidmaps': ['LMFA03080004'],\n",
       "  'seed': ['cpd10467'],\n",
       "  'slm': ['000389384']},\n",
       " 'MNXM6053': {'bigg': ['C14771', 'M_C14771'],\n",
       "  'chebi': ['34157', '84024'],\n",
       "  'hmdb': ['HMDB04264', 'HMDB11138'],\n",
       "  'kegg': ['C14771'],\n",
       "  'lipidmaps': ['LMFA03080005'],\n",
       "  'seed': ['cpd10468']},\n",
       " 'MNXM6142': {'bigg': ['C14825', 'M_C14825'],\n",
       "  'chebi': ['34494', '84023'],\n",
       "  'hmdb': ['HMDB04701'],\n",
       "  'kegg': ['C14825'],\n",
       "  'lipidmaps': ['LMFA02000037', 'LMFA02000280'],\n",
       "  'metacyc': ['CPD-13636'],\n",
       "  'seed': ['cpd10522', 'cpd23973']},\n",
       " 'MNXM722799': {'bigg': ['C14826', 'M_C14826'],\n",
       "  'chebi': ['38300'],\n",
       "  'kegg': ['C08368', 'C14826'],\n",
       "  'lipidmaps': ['LMFA02000038'],\n",
       "  'metacyc': ['CPD-14397'],\n",
       "  'seed': ['cpd05280', 'cpd10523']},\n",
       " 'MNXM7106': {'bigg': ['C14849', 'M_C14849'],\n",
       "  'chebi': ['34564'],\n",
       "  'hmdb': ['HMDB60090'],\n",
       "  'kegg': ['C14849'],\n",
       "  'seed': ['cpd10546']},\n",
       " 'MNXM7104': {'bigg': ['C14851', 'M_C14851'],\n",
       "  'chebi': ['34560'],\n",
       "  'hmdb': ['HMDB60091'],\n",
       "  'kegg': ['C14851'],\n",
       "  'reactome': ['5694080'],\n",
       "  'seed': ['cpd10548']},\n",
       " 'MNXM6200': {'bigg': ['C60mclPHA', 'M_C60mclPHA'], 'seed': ['cpd16749']},\n",
       " 'MNXM6201': {'bigg': ['C80mclPHA', 'M_C80mclPHA'], 'seed': ['cpd16750']},\n",
       " 'MNXM1134': {'bigg': ['CCbuttc', 'M_CCbuttc'],\n",
       "  'chebi': ['15749', '11766', '11767', '12801', '1468', '19976', '57496'],\n",
       "  'envipath': ['32de3cf4-e3e6-4168-956e-32fa5ddb0ce1/compound/74e47a3a-0d86-4fe1-b500-8fd83d2a0c6e'],\n",
       "  'kegg': ['C01163'],\n",
       "  'metacyc': ['CPD-245'],\n",
       "  'sabiork': ['5415'],\n",
       "  'seed': ['cpd00856']},\n",
       " 'MNXM148986': {'bigg': ['CDP_4keto_36dideox_glc',\n",
       "   'M_CDP_4keto_36dideox_glc']},\n",
       " 'MNXM148987': {'bigg': ['CDP_4keto_6deox_glc', 'M_CDP_4keto_6deox_glc']},\n",
       " 'MNXM15828': {'bigg': ['CE0074', 'M_CE0074'],\n",
       "  'chebi': ['76451'],\n",
       "  'hmdb': ['HMDB02818'],\n",
       "  'metacyc': ['CPD-3684']},\n",
       " 'MNXM151435': {'bigg': ['CE0233', 'M_CE0233'], 'hmdb': ['HMDB60138']},\n",
       " 'MNXM162888': {'bigg': ['CE0347', 'M_CE0347'],\n",
       "  'hmdb': ['HMDB62287'],\n",
       "  'lipidmaps': ['LMFA03060063', 'LMFA03060064']},\n",
       " 'MNXM167779': {'bigg': ['CE0469', 'M_CE0469']},\n",
       " 'MNXM166246': {'bigg': ['CE0692', 'M_CE0692']},\n",
       " 'MNXM166245': {'bigg': ['CE0693', 'M_CE0693']},\n",
       " 'MNXM166247': {'bigg': ['CE0713', 'M_CE0713']},\n",
       " 'MNXM61004': {'bigg': ['CE0737', 'M_CE0737'],\n",
       "  'chebi': ['566274', '43895'],\n",
       "  'hmdb': ['HMDB06112'],\n",
       "  'kegg': ['C19440'],\n",
       "  'reactome': ['2161562'],\n",
       "  'sabiork': ['21382'],\n",
       "  'seed': ['cpd20696']},\n",
       " 'MNXM166248': {'bigg': ['CE0782', 'M_CE0782']},\n",
       " 'MNXM166250': {'bigg': ['CE0853', 'M_CE0853']},\n",
       " 'MNXM6131': {'bigg': ['CE0955', 'M_CE0955'],\n",
       "  'chebi': ['133451', '28158', '20736', '2205'],\n",
       "  'hmdb': ['HMDB02886'],\n",
       "  'kegg': ['C05961'],\n",
       "  'lipidmaps': ['LMFA03010001'],\n",
       "  'reactome': ['2142786'],\n",
       "  'seed': ['cpd03550']},\n",
       " 'MNXM64037': {'bigg': ['CE1059', 'M_CE1059'],\n",
       "  'hmdb': ['HMDB41947'],\n",
       "  'metacyc': ['CPD-11585'],\n",
       "  'seed': ['cpd23010']},\n",
       " 'MNXM167439': {'bigg': ['CE1102', 'M_CE1102'], 'hmdb': ['HMDB62465']},\n",
       " 'MNXM169417': {'bigg': ['CE1162', 'M_CE1162']},\n",
       " 'MNXM13995': {'bigg': ['CE1243', 'M_CE1243'],\n",
       "  'chebi': ['63977', '90694'],\n",
       "  'hmdb': ['HMDB12535'],\n",
       "  'kegg': ['C20388'],\n",
       "  'lipidmaps': ['LMFA03050002'],\n",
       "  'reactome': ['2142797']},\n",
       " 'MNXM29720': {'bigg': ['CE1272', 'M_CE1272'], 'lipidmaps': ['LMST04030037']},\n",
       " 'MNXM163691': {'bigg': ['CE1273', 'M_CE1273']},\n",
       " 'MNXM151029': {'bigg': ['CE1274', 'M_CE1274'], 'hmdb': ['HMDB60137']},\n",
       " 'MNXM28106': {'bigg': ['CE1277', 'M_CE1277'],\n",
       "  'hmdb': ['HMDB62421'],\n",
       "  'lipidmaps': ['LMST04030038']},\n",
       " 'MNXM164360': {'bigg': ['CE1278', 'M_CE1278']},\n",
       " 'MNXM164359': {'bigg': ['CE1279', 'M_CE1279']},\n",
       " 'MNXM163195': {'bigg': ['CE1292', 'M_CE1292']},\n",
       " 'MNXM166031': {'bigg': ['CE1293', 'M_CE1293']},\n",
       " 'MNXM150736': {'bigg': ['CE1294', 'M_CE1294'], 'hmdb': ['HMDB60132']},\n",
       " 'MNXM164395': {'bigg': ['CE1297', 'M_CE1297']},\n",
       " 'MNXM163194': {'bigg': ['CE1298', 'M_CE1298'], 'hmdb': ['HMDB60131']},\n",
       " 'MNXM98606': {'bigg': ['CE1310', 'M_CE1310'],\n",
       "  'chebi': ['28939', '21548', '2418', '45481', '78236'],\n",
       "  'metacyc': ['CPD-9175'],\n",
       "  'sabiork': ['23198']},\n",
       " 'MNXM59433': {'bigg': ['CE1401', 'M_CE1401'],\n",
       "  'chebi': ['60315'],\n",
       "  'hmdb': ['HMDB02287'],\n",
       "  'sabiork': ['27984']},\n",
       " 'MNXM9667': {'bigg': ['CE1447', 'M_CE1447'],\n",
       "  'chebi': ['136539', '28667', '19122', '710'],\n",
       "  'hmdb': ['HMDB04242'],\n",
       "  'kegg': ['C05964'],\n",
       "  'lipidmaps': ['LMFA03030004', 'LMFA03030014'],\n",
       "  'reactome': ['2142828'],\n",
       "  'seed': ['cpd03553']},\n",
       " 'MNXM19630': {'bigg': ['CE1554', 'M_CE1554'],\n",
       "  'chebi': ['133520', '40992', '21544', '40986'],\n",
       "  'hmdb': ['HMDB00766'],\n",
       "  'sabiork': ['23221']},\n",
       " 'MNXM163469': {'bigg': ['CE1556', 'M_CE1556'], 'sabiork': ['26823']},\n",
       " 'MNXM3972': {'bigg': ['CE1589', 'M_CE1589'],\n",
       "  'chebi': ['50111', '58810'],\n",
       "  'hmdb': ['HMDB60236'],\n",
       "  'kegg': ['C15560'],\n",
       "  'lipidmaps': ['LMFA07050314'],\n",
       "  'metacyc': ['DEOXYCHOLYL-COA'],\n",
       "  'sabiork': ['23257'],\n",
       "  'seed': ['cpd11228'],\n",
       "  'slm': ['000485700']},\n",
       " 'MNXM10472': {'bigg': ['CE1617', 'M_CE1617'],\n",
       "  'chebi': ['50648', '63793', '78630'],\n",
       "  'hmdb': ['HMDB02369', 'HMDB12874'],\n",
       "  'kegg': ['C15493', 'D02815'],\n",
       "  'lipidmaps': ['LMPR01090022', 'LMPR01090023'],\n",
       "  'metacyc': ['CPD-13549'],\n",
       "  'reactome': ['5362520'],\n",
       "  'sabiork': ['23496'],\n",
       "  'seed': ['cpd11177']},\n",
       " 'MNXM167780': {'bigg': ['CE1661', 'M_CE1661']},\n",
       " 'MNXM167778': {'bigg': ['CE1665', 'M_CE1665']},\n",
       " 'MNXM164305': {'bigg': ['CE1761', 'M_CE1761']},\n",
       " 'MNXM42': {'bigg': ['CE1787',\n",
       "   'M_CE1787',\n",
       "   'CE5868',\n",
       "   'M_CE5868',\n",
       "   'asp__L',\n",
       "   'M_asp__L'],\n",
       "  'chebi': ['132943',\n",
       "   '17053',\n",
       "   '21247',\n",
       "   '40853',\n",
       "   '40900',\n",
       "   '40913',\n",
       "   '40942',\n",
       "   '6193',\n",
       "   '22660',\n",
       "   '29991',\n",
       "   '13085',\n",
       "   '21244',\n",
       "   '29993',\n",
       "   '29995',\n",
       "   '35391',\n",
       "   '22659',\n",
       "   '29992'],\n",
       "  'envipath': ['32de3cf4-e3e6-4168-956e-32fa5ddb0ce1/compound/4b0cdcb0-137a-4ddc-8e5c-2b55ea238c15'],\n",
       "  'hmdb': ['HMDB00191', 'HMDB62186', 'HMDB62501'],\n",
       "  'kegg': ['C00049', 'D00013', 'C16433'],\n",
       "  'metacyc': ['L-ASPARTATE'],\n",
       "  'reactome': ['113553', '29448'],\n",
       "  'sabiork': ['71'],\n",
       "  'seed': ['cpd00041', 'cpd19181']},\n",
       " 'MNXM8173': {'bigg': ['CE1918', 'M_CE1918'],\n",
       "  'chebi': ['89825'],\n",
       "  'hmdb': ['HMDB01855'],\n",
       "  'metacyc': ['CPD-11671'],\n",
       "  'seed': ['cpd23049']},\n",
       " 'MNXM163170': {'bigg': ['CE1925', 'M_CE1925'], 'hmdb': ['HMDB62349']},\n",
       " 'MNXM163392': {'bigg': ['CE1926', 'M_CE1926']},\n",
       " 'MNXM162716': {'bigg': ['CE1935', 'M_CE1935']},\n",
       " 'MNXM82536': {'bigg': ['CE1936', 'M_CE1936'], 'hmdb': ['HMDB13076']},\n",
       " 'MNXM161256': {'bigg': ['CE1937', 'M_CE1937'], 'hmdb': ['HMDB60066']},\n",
       " 'MNXM162714': {'bigg': ['CE1939', 'M_CE1939']},\n",
       " 'MNXM162715': {'bigg': ['CE1940', 'M_CE1940']},\n",
       " 'MNXM58163': {'bigg': ['CE1941', 'M_CE1941'], 'hmdb': ['HMDB06009']},\n",
       " 'MNXM162776': {'bigg': ['CE1943', 'M_CE1943']},\n",
       " 'MNXM722923': {'bigg': ['CE1944', 'M_CE1944'], 'hmdb': ['HMDB60246']},\n",
       " 'MNXM6110': {'bigg': ['CE2006', 'M_CE2006'],\n",
       "  'chebi': ['32585', '58968'],\n",
       "  'hmdb': ['HMDB04362'],\n",
       "  'lipidmaps': ['LMFA06000051'],\n",
       "  'metacyc': ['CPD-10806'],\n",
       "  'sabiork': ['18790'],\n",
       "  'seed': ['cpd22829']},\n",
       " 'MNXM57006': {'bigg': ['CE2011', 'M_CE2011'],\n",
       "  'chebi': ['133907'],\n",
       "  'hmdb': ['HMDB12974']},\n",
       " 'MNXM63653': {'bigg': ['CE2020', 'M_CE2020'],\n",
       "  'chebi': ['58961', '59002'],\n",
       "  'hmdb': ['HMDB05096', 'HMDB62617'],\n",
       "  'lipidmaps': ['LMFA08020003'],\n",
       "  'sabiork': ['28676']},\n",
       " 'MNXM166207': {'bigg': ['CE2026', 'M_CE2026']},\n",
       " 'MNXM36533': {'bigg': ['CE2028', 'M_CE2028'],\n",
       "  'chebi': ['37084', '82957'],\n",
       "  'hmdb': ['HMDB00754'],\n",
       "  'kegg': ['C20827'],\n",
       "  'lipidmaps': ['LMFA01050396'],\n",
       "  'metacyc': ['CPD-14642']},\n",
       " 'MNXM93048': {'bigg': ['CE2047', 'M_CE2047'],\n",
       "  'chebi': ['72663', '84027'],\n",
       "  'hmdb': ['HMDB04704'],\n",
       "  'kegg': ['C14828'],\n",
       "  'lipidmaps': ['LMFA02000229'],\n",
       "  'seed': ['cpd10525']},\n",
       " 'MNXM163104': {'bigg': ['CE2049', 'M_CE2049']},\n",
       " 'MNXM35503': {'bigg': ['CE2053', 'M_CE2053'],\n",
       "  'chebi': ['63979', '90720'],\n",
       "  'hmdb': ['HMDB12641'],\n",
       "  'lipidmaps': ['LMFA03020064'],\n",
       "  'reactome': ['2142740'],\n",
       "  'slm': ['000501202']},\n",
       " 'MNXM35484': {'bigg': ['CE2056', 'M_CE2056'],\n",
       "  'chebi': ['133437', '134516'],\n",
       "  'hmdb': ['HMDB12635'],\n",
       "  'lipidmaps': ['LMFA03020061']},\n",
       " 'MNXM40087': {'bigg': ['CE2065', 'M_CE2065'], 'hmdb': ['HMDB12881']},\n",
       " 'MNXM95678': {'bigg': ['CE2072', 'M_CE2072'],\n",
       "  'chebi': ['89478'],\n",
       "  'hmdb': ['HMDB06078']},\n",
       " 'MNXM94297': {'bigg': ['CE2084', 'M_CE2084'],\n",
       "  'chebi': ['52449', '120616', '34460', '52287', '60950', '65342'],\n",
       "  'hmdb': ['HMDB10217'],\n",
       "  'kegg': ['C14732'],\n",
       "  'lipidmaps': ['LMFA03060011'],\n",
       "  'reactome': ['2161921'],\n",
       "  'seed': ['cpd10430']},\n",
       " 'MNXM168488': {'bigg': ['CE2088', 'M_CE2088']},\n",
       " 'MNXM165124': {'bigg': ['CE2089', 'M_CE2089']},\n",
       " 'MNXM163184': {'bigg': ['CE2095', 'M_CE2095']},\n",
       " 'MNXM60228': {'bigg': ['CE2102', 'M_CE2102'], 'hmdb': ['HMDB12996']},\n",
       " 'MNXM12249': {'bigg': ['CE2122', 'M_CE2122'],\n",
       "  'chebi': ['72782'],\n",
       "  'hmdb': ['HMDB29738'],\n",
       "  'kegg': ['C20635'],\n",
       "  'metacyc': ['CPD-10546'],\n",
       "  'seed': ['cpd22713']},\n",
       " 'MNXM468573': {'bigg': ['CE2152', 'M_CE2152'],\n",
       "  'chebi': ['92568'],\n",
       "  'hmdb': ['HMDB12488']},\n",
       " 'MNXM166635': {'bigg': ['CE2153', 'M_CE2153']},\n",
       " 'MNXM166603': {'bigg': ['CE2172', 'M_CE2172']},\n",
       " 'MNXM158565': {'bigg': ['CE2173', 'M_CE2173'], 'hmdb': ['HMDB60065']},\n",
       " 'MNXM151064': {'bigg': ['CE2174', 'M_CE2174'], 'hmdb': ['HMDB60280']},\n",
       " 'MNXM10073': {'bigg': ['CE2176', 'M_CE2176'],\n",
       "  'chebi': ['133668', '82913'],\n",
       "  'hmdb': ['HMDB60747'],\n",
       "  'metacyc': ['CPD-11496'],\n",
       "  'seed': ['cpd22970']},\n",
       " 'MNXM37528': {'bigg': ['CE2180', 'M_CE2180'],\n",
       "  'chebi': ['87602'],\n",
       "  'envipath': ['650babc9-9d68-4b73-9332-11972ca26f7b/compound/39a8f923-ad33-4b99-b948-e1bca309d9fb'],\n",
       "  'hmdb': ['HMDB05895'],\n",
       "  'sabiork': ['21041'],\n",
       "  'slm': ['000485711']},\n",
       " 'MNXM165923': {'bigg': ['CE2183', 'M_CE2183']},\n",
       " 'MNXM35123': {'bigg': ['CE2184', 'M_CE2184'], 'hmdb': ['HMDB11195']},\n",
       " 'MNXM37599': {'bigg': ['CE2186', 'M_CE2186'], 'hmdb': ['HMDB12782']},\n",
       " 'MNXM151212': {'bigg': ['CE2189', 'M_CE2189'], 'hmdb': ['HMDB60088']},\n",
       " 'MNXM31535': {'bigg': ['CE2196', 'M_CE2196'], 'hmdb': ['HMDB12484']},\n",
       " 'MNXM30699': {'bigg': ['CE2201', 'M_CE2201'],\n",
       "  'chebi': ['47214'],\n",
       "  'hmdb': ['HMDB06720'],\n",
       "  'lipidmaps': ['LMST03020272']},\n",
       " 'MNXM30695': {'bigg': ['CE2202', 'M_CE2202'],\n",
       "  'chebi': ['47803'],\n",
       "  'hmdb': ['HMDB60134']},\n",
       " 'MNXM150729': {'bigg': ['CE2203', 'M_CE2203'], 'hmdb': ['HMDB60127']},\n",
       " 'MNXM150730': {'bigg': ['CE2204', 'M_CE2204'], 'hmdb': ['HMDB60126']},\n",
       " 'MNXM4159': {'bigg': ['CE2206', 'M_CE2206'],\n",
       "  'chebi': ['47812'],\n",
       "  'hmdb': ['HMDB60128'],\n",
       "  'lipidmaps': ['LMST03020186'],\n",
       "  'metacyc': ['CPD-15059']},\n",
       " 'MNXM6501': {'bigg': ['CE2207', 'M_CE2207'],\n",
       "  'chebi': ['47813'],\n",
       "  'hmdb': ['HMDB60129'],\n",
       "  'metacyc': ['CPD-15060']},\n",
       " 'MNXM90931': {'bigg': ['CE2209', 'M_CE2209'],\n",
       "  'chebi': ['36713'],\n",
       "  'hmdb': ['HMDB00554'],\n",
       "  'lipidmaps': ['LMST02020052'],\n",
       "  'metacyc': ['CPD-13179'],\n",
       "  'sabiork': ['23012'],\n",
       "  'seed': ['cpd23769'],\n",
       "  'slm': ['000390126']},\n",
       " 'MNXM3494': {'bigg': ['CE2211', 'M_CE2211'],\n",
       "  'chebi': ['11909'],\n",
       "  'hmdb': ['HMDB01449', 'HMDB01455'],\n",
       "  'kegg': ['C13712', 'C15484'],\n",
       "  'lipidmaps': ['LMST02030130', 'LMST02030173'],\n",
       "  'metacyc': ['3-BETA-HYDROXY-5-ALPHA-PREGNANE-20-ONE'],\n",
       "  'sabiork': ['23317'],\n",
       "  'seed': ['cpd11171'],\n",
       "  'slm': ['000485663']},\n",
       " 'MNXM97615': {'bigg': ['CE2242', 'M_CE2242'],\n",
       "  'chebi': ['74692', '75064'],\n",
       "  'hmdb': ['HMDB62226'],\n",
       "  'metacyc': ['CPD-14281'],\n",
       "  'seed': ['cpd24271'],\n",
       "  'slm': ['000389403']},\n",
       " 'MNXM163905': {'bigg': ['CE2243', 'M_CE2243'], 'sabiork': ['23434']},\n",
       " 'MNXM165192': {'bigg': ['CE2245', 'M_CE2245']},\n",
       " 'MNXM162568': {'bigg': ['CE2246', 'M_CE2246'],\n",
       "  'chebi': ['52325', '71456', '76375', '76459'],\n",
       "  'hmdb': ['HMDB60216'],\n",
       "  'lipidmaps': ['LMFA07050215'],\n",
       "  'metacyc': ['CPD-14276'],\n",
       "  'seed': ['cpd24267'],\n",
       "  'slm': ['000389402']},\n",
       " 'MNXM146349': {'bigg': ['CE2247', 'M_CE2247'],\n",
       "  'chebi': ['52324', '71455'],\n",
       "  'lipidmaps': ['LMFA07050218'],\n",
       "  'seed': ['cpd16772']},\n",
       " 'MNXM1309': {'bigg': ['CE2248', 'M_CE2248'],\n",
       "  'chebi': ['50583', '71408'],\n",
       "  'hmdb': ['HMDB12715'],\n",
       "  'kegg': ['C16217'],\n",
       "  'lipidmaps': ['LMFA07050223'],\n",
       "  'reactome': ['548836'],\n",
       "  'seed': ['cpd14936']},\n",
       " 'MNXM36558': {'bigg': ['CE2249', 'M_CE2249'],\n",
       "  'chebi': ['52326', '65051', '76377', '76463'],\n",
       "  'hmdb': ['HMDB60240'],\n",
       "  'lipidmaps': ['LMFA07050228'],\n",
       "  'metacyc': ['CPD-14277'],\n",
       "  'seed': ['cpd24268'],\n",
       "  'slm': ['000389404']},\n",
       " 'MNXM36756': {'bigg': ['CE2250', 'M_CE2250'],\n",
       "  'chebi': ['52328', '71451'],\n",
       "  'hmdb': ['HMDB60215'],\n",
       "  'lipidmaps': ['LMFA07050240'],\n",
       "  'metacyc': ['CPD-10283'],\n",
       "  'reactome': ['548829'],\n",
       "  'seed': ['cpd22630'],\n",
       "  'slm': ['000000486']},\n",
       " 'MNXM36762': {'bigg': ['CE2251', 'M_CE2251'],\n",
       "  'chebi': ['52327', '65115'],\n",
       "  'hmdb': ['HMDB60190', 'HMDB62369'],\n",
       "  'lipidmaps': ['LMFA07050077', 'LMFA07050243'],\n",
       "  'metacyc': ['CPD-14271'],\n",
       "  'seed': ['cpd16784'],\n",
       "  'slm': ['000000488']},\n",
       " 'MNXM36773': {'bigg': ['CE2253', 'M_CE2253'],\n",
       "  'chebi': ['52329', '73977'],\n",
       "  'hmdb': ['HMDB60238'],\n",
       "  'lipidmaps': ['LMFA07050255'],\n",
       "  'metacyc': ['CPD-14273'],\n",
       "  'seed': ['cpd24264'],\n",
       "  'slm': ['000000588']},\n",
       " 'MNXM151630': {'bigg': ['CE2303', 'M_CE2303'], 'hmdb': ['HMDB60121']},\n",
       " 'MNXM150158': {'bigg': ['CE2304', 'M_CE2304'], 'hmdb': ['HMDB60120']},\n",
       " 'MNXM150189': {'bigg': ['CE2305', 'M_CE2305'], 'hmdb': ['HMDB60118']},\n",
       " 'MNXM150196': {'bigg': ['CE2306', 'M_CE2306'], 'hmdb': ['HMDB60119']},\n",
       " 'MNXM166287': {'bigg': ['CE2313', 'M_CE2313'], 'hmdb': ['HMDB60147']},\n",
       " 'MNXM5534': {'bigg': ['CE2314', 'M_CE2314'],\n",
       "  'chebi': ['87044', '80173'],\n",
       "  'hmdb': ['HMDB06840'],\n",
       "  'kegg': ['C15915'],\n",
       "  'lipidmaps': ['LMST01010225'],\n",
       "  'metacyc': ['CPD-8610'],\n",
       "  'seed': ['cpd14644'],\n",
       "  'slm': ['000485366']},\n",
       " 'MNXM164390': {'bigg': ['CE2345', 'M_CE2345'], 'hmdb': ['HMDB62430']},\n",
       " 'MNXM165293': {'bigg': ['CE2414', 'M_CE2414']},\n",
       " 'MNXM165274': {'bigg': ['CE2416', 'M_CE2416']},\n",
       " 'MNXM166068': {'bigg': ['CE2417', 'M_CE2417']},\n",
       " 'MNXM31113': {'bigg': ['CE2418', 'M_CE2418'], 'hmdb': ['HMDB12473']},\n",
       " 'MNXM31119': {'bigg': ['CE2420', 'M_CE2420'],\n",
       "  'hmdb': ['HMDB12476'],\n",
       "  'lipidmaps': ['LMFA07050090']},\n",
       " 'MNXM31120': {'bigg': ['CE2421', 'M_CE2421'], 'hmdb': ['HMDB12477']},\n",
       " 'MNXM166235': {'bigg': ['CE2422', 'M_CE2422']},\n",
       " 'MNXM166234': {'bigg': ['CE2424', 'M_CE2424']},\n",
       " 'MNXM48977': {'bigg': ['CE2445', 'M_CE2445'],\n",
       "  'chebi': ['63981', '90723'],\n",
       "  'hmdb': ['HMDB05087', 'HMDB10218'],\n",
       "  'lipidmaps': ['LMFA03020013']},\n",
       " 'MNXM164381': {'bigg': ['CE2446', 'M_CE2446']},\n",
       " 'MNXM165514': {'bigg': ['CE2510', 'M_CE2510']},\n",
       " 'MNXM5607': {'bigg': ['CE2516', 'M_CE2516'],\n",
       "  'chebi': ['53486', '43587', '71589'],\n",
       "  'hmdb': ['HMDB02925', 'HMDB06735'],\n",
       "  'kegg': ['C03242'],\n",
       "  'lipidmaps': ['LMFA01030158'],\n",
       "  'metacyc': ['CPD-8120'],\n",
       "  'seed': ['cpd02077'],\n",
       "  'slm': ['000000928']},\n",
       " 'MNXM165539': {'bigg': ['CE2537', 'M_CE2537']},\n",
       " 'MNXM33399': {'bigg': ['CE2565', 'M_CE2565'],\n",
       "  'chebi': ['63989', '78837'],\n",
       "  'hmdb': ['HMDB62294'],\n",
       "  'lipidmaps': ['LMFA03060030'],\n",
       "  'metacyc': ['CPD66-52'],\n",
       "  'reactome': ['2142738']},\n",
       " 'MNXM162637': {'bigg': ['CE2566', 'M_CE2566']},\n",
       " 'MNXM162458': {'bigg': ['CE2567', 'M_CE2567']},\n",
       " 'MNXM33427': {'bigg': ['CE2568', 'M_CE2568'],\n",
       "  'chebi': ['72789'],\n",
       "  'hmdb': ['HMDB12587'],\n",
       "  'lipidmaps': ['LMFA03040010'],\n",
       "  'metacyc': ['CPD66-53']},\n",
       " 'MNXM33428': {'bigg': ['CE2569', 'M_CE2569'],\n",
       "  'chebi': ['63991'],\n",
       "  'lipidmaps': ['LMFA03040007'],\n",
       "  'metacyc': ['CPD66-54']},\n",
       " 'MNXM14753': {'bigg': ['CE2576', 'M_CE2576'],\n",
       "  'hmdb': ['HMDB60287'],\n",
       "  'lipidmaps': ['LMFA06000253'],\n",
       "  'metacyc': ['4-HYDROPEROXYOCTADECA-T-2-NONENAL'],\n",
       "  'seed': ['cpd22111']},\n",
       " 'MNXM7935': {'bigg': ['CE2577', 'M_CE2577'],\n",
       "  'chebi': ['58972'],\n",
       "  'hmdb': ['HMDB60285'],\n",
       "  'lipidmaps': ['LMFA06000254']},\n",
       " 'MNXM31749': {'bigg': ['CE2592', 'M_CE2592'], 'hmdb': ['HMDB12487']},\n",
       " 'MNXM166067': {'bigg': ['CE2597', 'M_CE2597'], 'hmdb': ['HMDB12674']},\n",
       " 'MNXM164138': {'bigg': ['CE2615', 'M_CE2615'], 'sabiork': ['28733']},\n",
       " 'MNXM165945': {'bigg': ['CE2616', 'M_CE2616']},\n",
       " 'MNXM90604': {'bigg': ['CE2705', 'M_CE2705'],\n",
       "  'chebi': ['64277'],\n",
       "  'kegg': ['C02953'],\n",
       "  'metacyc': ['BIOPTERIN'],\n",
       "  'reactome': ['1497857'],\n",
       "  'sabiork': ['2605'],\n",
       "  'seed': ['cpd01895']},\n",
       " 'MNXM164752': {'bigg': ['CE2751', 'M_CE2751']},\n",
       " 'MNXM690': {'bigg': ['CE2754', 'M_CE2754', 'HC02187', 'M_HC02187'],\n",
       "  'chebi': ['28774', '1365', '19863'],\n",
       "  'envipath': ['650babc9-9d68-4b73-9332-11972ca26f7b/compound/a29dbad8-8742-4ef7-8d90-4c2c718b9b8c'],\n",
       "  'hmdb': ['HMDB60074'],\n",
       "  'reactome': ['176667', '352331'],\n",
       "  'sabiork': ['9743']},\n",
       " 'MNXM61030': {'bigg': ['CE2838', 'M_CE2838'], 'hmdb': ['HMDB13001']},\n",
       " 'MNXM61023': {'bigg': ['CE2839', 'M_CE2839'], 'hmdb': ['HMDB12999']},\n",
       " 'MNXM167748': {'bigg': ['CE2846', 'M_CE2846']},\n",
       " 'MNXM53921': {'bigg': ['CE2847', 'M_CE2847'],\n",
       "  'chebi': ['24108', '66940'],\n",
       "  'hmdb': ['HMDB60278'],\n",
       "  'metacyc': ['FRUCTOSEGLYCINE'],\n",
       "  'seed': ['cpd27041']},\n",
       " 'MNXM167747': {'bigg': ['CE2848', 'M_CE2848']},\n",
       " 'MNXM51736': {'bigg': ['CE2858', 'M_CE2858'], 'hmdb': ['HMDB12933']},\n",
       " 'MNXM165013': {'bigg': ['CE2862', 'M_CE2862']},\n",
       " 'MNXM64523': {'bigg': ['CE2863', 'M_CE2863'], 'hmdb': ['HMDB13024']},\n",
       " 'MNXM722880': {'bigg': ['CE2866', 'M_CE2866'],\n",
       "  'chebi': ['45698', '35429', '45695'],\n",
       "  'seed': ['cpd22927']},\n",
       " 'MNXM164192': {'bigg': ['CE2870', 'M_CE2870']},\n",
       " 'MNXM9935': {'bigg': ['CE2872', 'M_CE2872'],\n",
       "  'hmdb': ['HMDB62348'],\n",
       "  'metacyc': ['CPD-13008'],\n",
       "  'seed': ['cpd23693']},\n",
       " 'MNXM169240': {'bigg': ['CE2874', 'M_CE2874'],\n",
       "  'chebi': ['30661'],\n",
       "  'hmdb': ['HMDB62356']},\n",
       " 'MNXM150752': {'bigg': ['CE2875', 'M_CE2875'], 'hmdb': ['HMDB60076']},\n",
       " 'MNXM150745': {'bigg': ['CE2876', 'M_CE2876'], 'hmdb': ['HMDB60110']},\n",
       " 'MNXM166090': {'bigg': ['CE2877', 'M_CE2877']},\n",
       " 'MNXM166073': {'bigg': ['CE2878', 'M_CE2878']},\n",
       " 'MNXM166093': {'bigg': ['CE2879', 'M_CE2879']},\n",
       " 'MNXM166076': {'bigg': ['CE2880', 'M_CE2880']},\n",
       " 'MNXM166091': {'bigg': ['CE2881', 'M_CE2881']},\n",
       " 'MNXM166074': {'bigg': ['CE2882', 'M_CE2882']},\n",
       " 'MNXM166094': {'bigg': ['CE2883', 'M_CE2883']},\n",
       " 'MNXM166036': {'bigg': ['CE2884', 'M_CE2884']},\n",
       " 'MNXM166092': {'bigg': ['CE2885', 'M_CE2885']},\n",
       " 'MNXM166075': {'bigg': ['CE2886', 'M_CE2886']},\n",
       " 'MNXM166095': {'bigg': ['CE2887', 'M_CE2887']},\n",
       " 'MNXM166037': {'bigg': ['CE2888', 'M_CE2888']},\n",
       " 'MNXM51735': {'bigg': ['CE2890', 'M_CE2890'], 'hmdb': ['HMDB12932']},\n",
       " 'MNXM51738': {'bigg': ['CE2891', 'M_CE2891'],\n",
       "  'chebi': ['80347'],\n",
       "  'hmdb': ['HMDB12938'],\n",
       "  'kegg': ['C16135'],\n",
       "  'seed': ['cpd14856']},\n",
       " 'MNXM163311': {'bigg': ['CE2915', 'M_CE2915'], 'sabiork': ['28687']},\n",
       " 'MNXM158695': {'bigg': ['CE2916', 'M_CE2916'], 'hmdb': ['HMDB60164']},\n",
       " 'MNXM42305': {'bigg': ['CE2917', 'M_CE2917'],\n",
       "  'chebi': ['80131'],\n",
       "  'hmdb': ['HMDB12894'],\n",
       "  'kegg': ['C15855'],\n",
       "  'sabiork': ['28682'],\n",
       "  'seed': ['cpd14586']},\n",
       " 'MNXM35291': {'bigg': ['CE2934', 'M_CE2934'],\n",
       "  'chebi': ['68455'],\n",
       "  'hmdb': ['HMDB11723']},\n",
       " 'MNXM89165': {'bigg': ['CE2947', 'M_CE2947'], 'hmdb': ['HMDB13118']},\n",
       " 'MNXM168758': {'bigg': ['CE2949', 'M_CE2949']},\n",
       " 'MNXM723087': {'bigg': ['CE2953', 'M_CE2953'], 'hmdb': ['HMDB60093']},\n",
       " 'MNXM40794': {'bigg': ['CE2955', 'M_CE2955'],\n",
       "  'chebi': ['132260', '133794'],\n",
       "  'hmdb': ['HMDB60092'],\n",
       "  'lipidmaps': ['LMPR01090020']},\n",
       " 'MNXM164069': {'bigg': ['CE2957', 'M_CE2957']},\n",
       " 'MNXM160766': {'bigg': ['CE2958', 'M_CE2958'], 'hmdb': ['HMDB60123']},\n",
       " 'MNXM151179': {'bigg': ['CE2961', 'M_CE2961'], 'hmdb': ['HMDB60112']},\n",
       " 'MNXM160765': {'bigg': ['CE2962', 'M_CE2962'], 'hmdb': ['HMDB60141']},\n",
       " 'MNXM164331': {'bigg': ['CE2963', 'M_CE2963'], 'hmdb': ['HMDB62411']},\n",
       " 'MNXM723034': {'bigg': ['CE2964', 'M_CE2964'], 'hmdb': ['HMDB62412']},\n",
       " 'MNXM6853': {'bigg': ['CE3038', 'M_CE3038'],\n",
       "  'chebi': ['81015'],\n",
       "  'hmdb': ['HMDB12454', 'HMDB62211'],\n",
       "  'kegg': ['C17335'],\n",
       "  'seed': ['cpd17477']},\n",
       " 'MNXM48480': {'bigg': ['CE3075', 'M_CE3075'],\n",
       "  'chebi': ['21092'],\n",
       "  'hmdb': ['HMDB62530']},\n",
       " 'MNXM166294': {'bigg': ['CE3086', 'M_CE3086'], 'hmdb': ['HMDB62374']},\n",
       " 'MNXM43781': {'bigg': ['CE3087', 'M_CE3087'],\n",
       "  'chebi': ['109895'],\n",
       "  'hmdb': ['HMDB12897'],\n",
       "  'kegg': ['C20157'],\n",
       "  'metacyc': ['CPD-15304'],\n",
       "  'sabiork': ['25502'],\n",
       "  'seed': ['cpd21390']},\n",
       " 'MNXM165154': {'bigg': ['CE3092', 'M_CE3092'], 'hmdb': ['HMDB62471']},\n",
       " 'MNXM166718': {'bigg': ['CE3136', 'M_CE3136']},\n",
       " 'MNXM32416': {'bigg': ['CE3140', 'M_CE3140'], 'hmdb': ['HMDB12492']},\n",
       " 'MNXM32836': {'bigg': ['CE3481', 'M_CE3481'],\n",
       "  'chebi': ['78209', '79059'],\n",
       "  'hmdb': ['HMDB12496'],\n",
       "  'lipidmaps': ['LMGP10050039'],\n",
       "  'slm': ['000043242']},\n",
       " 'MNXM35505': {'bigg': ['CE3554', 'M_CE3554'],\n",
       "  'chebi': ['133434', '134515'],\n",
       "  'hmdb': ['HMDB12643'],\n",
       "  'lipidmaps': ['LMFA03020066']},\n",
       " 'MNXM3035': {'bigg': ['CE4633', 'M_CE4633'],\n",
       "  'chebi': ['24757', '29222'],\n",
       "  'hmdb': ['HMDB01050', 'HMDB59650'],\n",
       "  'kegg': ['C19697'],\n",
       "  'metacyc': ['CPD-12799', 'CPD-12800'],\n",
       "  'seed': ['cpd20945', 'cpd23586']},\n",
       " 'MNXM152651': {'bigg': ['CE4722', 'M_CE4722'], 'hmdb': ['HMDB60168']},\n",
       " 'MNXM158696': {'bigg': ['CE4723', 'M_CE4723'], 'hmdb': ['HMDB60144']},\n",
       " 'MNXM152293': {'bigg': ['CE4724', 'M_CE4724'], 'hmdb': ['HMDB60264']},\n",
       " 'MNXM51740': {'bigg': ['CE4753', 'M_CE4753'], 'hmdb': ['HMDB12936']},\n",
       " 'MNXM51741': {'bigg': ['CE4754', 'M_CE4754'], 'hmdb': ['HMDB12937']},\n",
       " 'MNXM166236': {'bigg': ['CE4793', 'M_CE4793']},\n",
       " 'MNXM7114': {'bigg': ['CE4810', 'M_CE4810'],\n",
       "  'chebi': ['40656', '37685', '40649'],\n",
       "  'hmdb': ['HMDB62202'],\n",
       "  'metacyc': ['CPD-15628']},\n",
       " 'MNXM164249': {'bigg': ['CE4811', 'M_CE4811'], 'hmdb': ['HMDB62354']},\n",
       " 'MNXM164756': {'bigg': ['CE4812', 'M_CE4812']},\n",
       " 'MNXM164161': {'bigg': ['CE4816', 'M_CE4816'], 'hmdb': ['HMDB60218']},\n",
       " 'MNXM164187': {'bigg': ['CE4817', 'M_CE4817'], 'hmdb': ['HMDB60205']},\n",
       " 'MNXM164189': {'bigg': ['CE4818', 'M_CE4818'], 'hmdb': ['HMDB60227']},\n",
       " 'MNXM164262': {'bigg': ['CE4819', 'M_CE4819'], 'hmdb': ['HMDB60200']},\n",
       " 'MNXM164259': {'bigg': ['CE4820', 'M_CE4820'], 'hmdb': ['HMDB60220']},\n",
       " 'MNXM164160': {'bigg': ['CE4821', 'M_CE4821'], 'hmdb': ['HMDB60197']},\n",
       " 'MNXM169215': {'bigg': ['CE4824', 'M_CE4824'], 'hmdb': ['HMDB60228']},\n",
       " 'MNXM163157': {'bigg': ['CE4830', 'M_CE4830'], 'hmdb': ['HMDB60224']},\n",
       " 'MNXM164188': {'bigg': ['CE4831', 'M_CE4831'], 'hmdb': ['HMDB60212']},\n",
       " 'MNXM164263': {'bigg': ['CE4833', 'M_CE4833'], 'hmdb': ['HMDB60206']},\n",
       " 'MNXM164266': {'bigg': ['CE4834', 'M_CE4834'], 'hmdb': ['HMDB60229']},\n",
       " 'MNXM145822': {'bigg': ['CE4835', 'M_CE4835'],\n",
       "  'chebi': ['76416', '76542'],\n",
       "  'hmdb': ['HMDB60202'],\n",
       "  'metacyc': ['CPD-17368'],\n",
       "  'slm': ['000389613']},\n",
       " 'MNXM165171': {'bigg': ['CE4837', 'M_CE4837'], 'hmdb': ['HMDB60232']},\n",
       " 'MNXM163965': {'bigg': ['CE4840', 'M_CE4840'], 'hmdb': ['HMDB60189']},\n",
       " 'MNXM164268': {'bigg': ['CE4841', 'M_CE4841'], 'hmdb': ['HMDB60187']},\n",
       " 'MNXM165186': {'bigg': ['CE4842', 'M_CE4842'], 'hmdb': ['HMDB60186']},\n",
       " 'MNXM167435': {'bigg': ['CE4843', 'M_CE4843'], 'hmdb': ['HMDB60188']},\n",
       " 'MNXM150755': {'bigg': ['CE4844', 'M_CE4844'], 'hmdb': ['HMDB60214']},\n",
       " 'MNXM164264': {'bigg': ['CE4845', 'M_CE4845'], 'hmdb': ['HMDB60211']},\n",
       " 'MNXM161733': {'bigg': ['CE4846', 'M_CE4846'], 'hmdb': ['HMDB60209']},\n",
       " 'MNXM153498': {'bigg': ['CE4847', 'M_CE4847'], 'hmdb': ['HMDB60213']},\n",
       " 'MNXM150759': {'bigg': ['CE4848', 'M_CE4848'], 'hmdb': ['HMDB60210']},\n",
       " 'MNXM150760': {'bigg': ['CE4849', 'M_CE4849'], 'hmdb': ['HMDB60234']},\n",
       " 'MNXM164261': {'bigg': ['CE4850', 'M_CE4850'], 'hmdb': ['HMDB60204']},\n",
       " 'MNXM164265': {'bigg': ['CE4851', 'M_CE4851'], 'hmdb': ['HMDB60226']},\n",
       " 'MNXM161731': {'bigg': ['CE4852', 'M_CE4852'], 'hmdb': ['HMDB60201']},\n",
       " 'MNXM161732': {'bigg': ['CE4853', 'M_CE4853'], 'hmdb': ['HMDB60223']},\n",
       " 'MNXM164507': {'bigg': ['CE4854', 'M_CE4854'], 'hmdb': ['HMDB60207']},\n",
       " 'MNXM151927': {'bigg': ['CE4855', 'M_CE4855'], 'hmdb': ['HMDB60233']},\n",
       " 'MNXM867': {'bigg': ['CE4872', 'M_CE4872'], 'reactome': ['191968']},\n",
       " 'MNXM163692': {'bigg': ['CE4874', 'M_CE4874']},\n",
       " 'MNXM6638': {'bigg': ['CE4876', 'M_CE4876'],\n",
       "  'chebi': ['133424', '28130', '10537', '23604'],\n",
       "  'hmdb': ['HMDB04238'],\n",
       "  'kegg': ['C05958'],\n",
       "  'lipidmaps': ['LMFA03010020'],\n",
       "  'reactome': ['2142821'],\n",
       "  'sabiork': ['8300'],\n",
       "  'seed': ['cpd03547']},\n",
       " 'MNXM164061': {'bigg': ['CE4877', 'M_CE4877']},\n",
       " 'MNXM162976': {'bigg': ['CE4881', 'M_CE4881'], 'hmdb': ['HMDB62505']},\n",
       " 'MNXM163363': {'bigg': ['CE4888', 'M_CE4888']},\n",
       " 'MNXM31861': {'bigg': ['CE4890', 'M_CE4890'],\n",
       "  'chebi': ['88540'],\n",
       "  'hmdb': ['HMDB03892']},\n",
       " 'MNXM164055': {'bigg': ['CE4898', 'M_CE4898']},\n",
       " 'MNXM63564': {'bigg': ['CE4936', 'M_CE4936'],\n",
       "  'chebi': ['7210'],\n",
       "  'hmdb': ['HMDB05084'],\n",
       "  'kegg': ['C11361'],\n",
       "  'lipidmaps': ['LMFA03020078', 'LMFA03020079'],\n",
       "  'seed': ['cpd08216']},\n",
       " 'MNXM58397': {'bigg': ['CE4968', 'M_CE4968'],\n",
       "  'chebi': ['133611', '70984'],\n",
       "  'hmdb': ['HMDB00678'],\n",
       "  'sabiork': ['28193']},\n",
       " 'MNXM57844': {'bigg': ['CE4969', 'M_CE4969'],\n",
       "  'chebi': ['133610', '70979'],\n",
       "  'hmdb': ['HMDB00730']},\n",
       " 'MNXM35282': {'bigg': ['CE4970', 'M_CE4970'],\n",
       "  'chebi': ['86366'],\n",
       "  'hmdb': ['HMDB00339']},\n",
       " 'MNXM78303': {'bigg': ['CE4980', 'M_CE4980'], 'hmdb': ['HMDB13045']},\n",
       " 'MNXM33031': {'bigg': ['CE4987', 'M_CE4987'],\n",
       "  'chebi': ['133324', '134444'],\n",
       "  'hmdb': ['HMDB12504'],\n",
       "  'lipidmaps': ['LMFA03020045']},\n",
       " 'MNXM162617': {'bigg': ['CE4988', 'M_CE4988']},\n",
       " 'MNXM163164': {'bigg': ['CE4989', 'M_CE4989']},\n",
       " 'MNXM6635': {'bigg': ['CE4990', 'M_CE4990'],\n",
       "  'chebi': ['133309', '27814', '19140', '742'],\n",
       "  'hmdb': ['HMDB04234', 'HMDB05086'],\n",
       "  'kegg': ['C05949'],\n",
       "  'lipidmaps': ['LMFA03020024'],\n",
       "  'reactome': ['2142810'],\n",
       "  'seed': ['cpd03538']},\n",
       " 'MNXM150154': {'bigg': ['CE4993', 'M_CE4993'],\n",
       "  'chebi': ['133441', '134519'],\n",
       "  'hmdb': ['HMDB60155']},\n",
       " 'MNXM165537': {'bigg': ['CE5013', 'M_CE5013']},\n",
       " 'MNXM42129': {'bigg': ['CE5014', 'M_CE5014'],\n",
       "  'hmdb': ['HMDB62447'],\n",
       "  'metacyc': ['CPD-11536'],\n",
       "  'seed': ['cpd22990']},\n",
       " 'MNXM165531': {'bigg': ['CE5016', 'M_CE5016']},\n",
       " 'MNXM166990': {'bigg': ['CE5021', 'M_CE5021']},\n",
       " 'MNXM164520': {'bigg': ['CE5022', 'M_CE5022']},\n",
       " 'MNXM164351': {'bigg': ['CE5025', 'M_CE5025']},\n",
       " 'MNXM164352': {'bigg': ['CE5026', 'M_CE5026'], 'hmdb': ['HMDB62425']},\n",
       " 'MNXM165975': {'bigg': ['CE5068', 'M_CE5068']},\n",
       " 'MNXM8277': {'bigg': ['CE5072', 'M_CE5072'], 'lipidmaps': ['LMST02030132']},\n",
       " 'MNXM168463': {'bigg': ['CE5082', 'M_CE5082']},\n",
       " 'MNXM165187': {'bigg': ['CE5114', 'M_CE5114']},\n",
       " 'MNXM166069': {'bigg': ['CE5122', 'M_CE5122']},\n",
       " 'MNXM35866': {'bigg': ['CE5126', 'M_CE5126'],\n",
       "  'chebi': ['77275', '77550'],\n",
       "  'lipidmaps': ['LMFA07050065']},\n",
       " 'MNXM33278': {'bigg': ['CE5138', 'M_CE5138'],\n",
       "  'chebi': ['133346', '134456'],\n",
       "  'hmdb': ['HMDB12552'],\n",
       "  'lipidmaps': ['LMFA03020049']},\n",
       " 'MNXM33277': {'bigg': ['CE5139', 'M_CE5139'],\n",
       "  'hmdb': ['HMDB12551'],\n",
       "  'lipidmaps': ['LMFA03020048']},\n",
       " 'MNXM33279': {'bigg': ['CE5140', 'M_CE5140'],\n",
       "  'hmdb': ['HMDB12553'],\n",
       "  'lipidmaps': ['LMFA03020050']},\n",
       " 'MNXM150182': {'bigg': ['CE5141', 'M_CE5141'],\n",
       "  'chebi': ['133436', '134520'],\n",
       "  'hmdb': ['HMDB60094']},\n",
       " 'MNXM163188': {'bigg': ['CE5144', 'M_CE5144']},\n",
       " 'MNXM163172': {'bigg': ['CE5148', 'M_CE5148']},\n",
       " 'MNXM163588': {'bigg': ['CE5150', 'M_CE5150']},\n",
       " 'MNXM11852': {'bigg': ['CE5151', 'M_CE5151'],\n",
       "  'chebi': ['74069', '74126'],\n",
       "  'hmdb': ['HMDB62214'],\n",
       "  'kegg': ['C16530'],\n",
       "  'lipidmaps': ['LMFA07050056', 'LMFA07050093'],\n",
       "  'metacyc': ['CPD-15363'],\n",
       "  'seed': ['cpd16344'],\n",
       "  'slm': ['000000591']},\n",
       " 'MNXM163189': {'bigg': ['CE5152', 'M_CE5152']},\n",
       " 'MNXM163173': {'bigg': ['CE5153', 'M_CE5153'], 'hmdb': ['HMDB62200']},\n",
       " 'MNXM163589': {'bigg': ['CE5154', 'M_CE5154']},\n",
       " 'MNXM162947': {'bigg': ['CE5155', 'M_CE5155']},\n",
       " 'MNXM163190': {'bigg': ['CE5156', 'M_CE5156']},\n",
       " 'MNXM163174': {'bigg': ['CE5157', 'M_CE5157']},\n",
       " 'MNXM163590': {'bigg': ['CE5158', 'M_CE5158']},\n",
       " 'MNXM163191': {'bigg': ['CE5160', 'M_CE5160']},\n",
       " 'MNXM163175': {'bigg': ['CE5161', 'M_CE5161']},\n",
       " 'MNXM163591': {'bigg': ['CE5162', 'M_CE5162']},\n",
       " 'MNXM166027': {'bigg': ['CE5168', 'M_CE5168']},\n",
       " 'MNXM38280': {'bigg': ['CE5178', 'M_CE5178'],\n",
       "  'hmdb': ['HMDB12824', 'HMDB12825'],\n",
       "  'lipidmaps': ['LMFA03020069']},\n",
       " 'MNXM163695': {'bigg': ['CE5179', 'M_CE5179']},\n",
       " 'MNXM65212': {'bigg': ['CE5236', 'M_CE5236'], 'hmdb': ['HMDB13031']},\n",
       " 'MNXM163148': {'bigg': ['CE5239', 'M_CE5239']},\n",
       " 'MNXM35159': {'bigg': ['CE5240', 'M_CE5240'], 'hmdb': ['HMDB12624']},\n",
       " 'MNXM163147': {'bigg': ['CE5241', 'M_CE5241']},\n",
       " 'MNXM35158': {'bigg': ['CE5242', 'M_CE5242'], 'hmdb': ['HMDB12623']},\n",
       " 'MNXM151160': {'bigg': ['CE5243', 'M_CE5243'], 'hmdb': ['HMDB60139']},\n",
       " 'MNXM37530': {'bigg': ['CE5244', 'M_CE5244'], 'hmdb': ['HMDB12780']},\n",
       " 'MNXM150262': {'bigg': ['CE5249', 'M_CE5249'], 'hmdb': ['HMDB60085']},\n",
       " 'MNXM150261': {'bigg': ['CE5250', 'M_CE5250'], 'hmdb': ['HMDB60084']},\n",
       " 'MNXM52647': {'bigg': ['CE5251', 'M_CE5251'],\n",
       "  'chebi': ['87263'],\n",
       "  'hmdb': ['HMDB12942']},\n",
       " 'MNXM52646': {'bigg': ['CE5252', 'M_CE5252'],\n",
       "  'chebi': ['87262'],\n",
       "  'hmdb': ['HMDB12941']},\n",
       " 'MNXM165551': {'bigg': ['CE5253', 'M_CE5253']},\n",
       " 'MNXM165550': {'bigg': ['CE5254', 'M_CE5254']},\n",
       " 'MNXM167710': {'bigg': ['CE5255', 'M_CE5255']},\n",
       " 'MNXM167709': {'bigg': ['CE5256', 'M_CE5256']},\n",
       " 'MNXM5727': {'bigg': ['CE5276', 'M_CE5276'],\n",
       "  'chebi': ['74684'],\n",
       "  'hmdb': ['HMDB12219'],\n",
       "  'kegg': ['C17755'],\n",
       "  'metacyc': ['CPD-8851'],\n",
       "  'sabiork': ['26804'],\n",
       "  'seed': ['cpd17852']},\n",
       " 'MNXM152198': {'bigg': ['CE5277', 'M_CE5277'], 'hmdb': ['HMDB60279']},\n",
       " 'MNXM51534': {'bigg': ['CE5278', 'M_CE5278'], 'hmdb': ['HMDB12931']},\n",
       " 'MNXM33412': {'bigg': ['CE5304', 'M_CE5304'],\n",
       "  'chebi': ['63999'],\n",
       "  'hmdb': ['HMDB62298'],\n",
       "  'lipidmaps': ['LMFA03010051'],\n",
       "  'reactome': ['2142817']},\n",
       " 'MNXM163671': {'bigg': ['CE5307', 'M_CE5307'], 'hmdb': ['HMDB62357']},\n",
       " 'MNXM163672': {'bigg': ['CE5319', 'M_CE5319'], 'hmdb': ['HMDB62359']},\n",
       " 'MNXM162896': {'bigg': ['CE5329', 'M_CE5329']},\n",
       " 'MNXM162899': {'bigg': ['CE5331', 'M_CE5331']},\n",
       " 'MNXM162903': {'bigg': ['CE5337', 'M_CE5337'], 'hmdb': ['HMDB62360']},\n",
       " 'MNXM163215': {'bigg': ['CE5341', 'M_CE5341']},\n",
       " 'MNXM162806': {'bigg': ['CE5342', 'M_CE5342']},\n",
       " 'MNXM162494': {'bigg': ['CE5343', 'M_CE5343']},\n",
       " 'MNXM162895': {'bigg': ['CE5344', 'M_CE5344']},\n",
       " 'MNXM162898': {'bigg': ['CE5345', 'M_CE5345']},\n",
       " 'MNXM162902': {'bigg': ['CE5346', 'M_CE5346'], 'hmdb': ['HMDB62358']},\n",
       " ...}"
      ]
     },
     "execution_count": 11,
     "metadata": {},
     "output_type": "execute_result"
    }
   ],
   "source": [
    "chemXref"
   ]
  },
  {
   "cell_type": "code",
   "execution_count": 10,
   "metadata": {},
   "outputs": [],
   "source": [
    "reacXref = {}\n",
    "with open('/home/mdulac/Downloads/reac_xref.tsv') as f:\n",
    "    c = csv.reader(f, delimiter='\\t')\n",
    "    for row in c:\n",
    "        if not row[0][0]=='#' and len(row[0].split(':'))==2:\n",
    "            mnx = row[1]\n",
    "            dbName = row[0].split(':')[0]\n",
    "            dbID = row[0].split(':')[1]\n",
    "            if not mnx in reacXref:\n",
    "                reacXref[mnx] = {}\n",
    "            if not dbName in reacXref[mnx]:\n",
    "                reacXref[mnx][dbName] = []\n",
    "            reacXref[mnx][dbName].append(dbID)\n",
    "pickle.dump(reacXref, open('/home/mdulac/workspace/rpFBA/cache/reacXref.pickle', 'wb'))"
   ]
  },
  {
   "cell_type": "code",
   "execution_count": 11,
   "metadata": {},
   "outputs": [],
   "source": [
    "mnxc_name = {}\n",
    "with open('/home/mdulac/Downloads/comp_prop.tsv') as f:\n",
    "    c = csv.reader(f, delimiter='\\t')\n",
    "    for row in c:\n",
    "        if not row[0][0]=='#':\n",
    "            mnxc = row[0]\n",
    "            name = row[1]\n",
    "            if not mnxc in mnxc_name:\n",
    "                mnxc_name[mnxc] = name\n",
    "compXref = {}\n",
    "with open('/home/mdulac/Downloads/comp_xref.tsv') as f:\n",
    "    c = csv.reader(f, delimiter='\\t')\n",
    "    for row in c:\n",
    "        if not row[0][0]=='#' and len(row[0].split(':'))==2:\n",
    "            mnxc = row[1]\n",
    "            name = mnxc_name[mnxc]\n",
    "            dbName = row[0].split(':')[0]\n",
    "            dbID = row[0].split(':')[1]\n",
    "            if not name in compXref:\n",
    "                compXref[name] = {}\n",
    "            if not dbName in compXref[name]:\n",
    "                compXref[name][dbName] = []\n",
    "            if not 'mnx' in compXref[name]:\n",
    "                compXref[name]['mnx'] = []\n",
    "            if not mnxc in compXref[name]['mnx']:\n",
    "                compXref[name]['mnx'].append(mnxc)\n",
    "            compXref[name][dbName].append(dbID)\n",
    "pickle.dump(compXref, open('/home/mdulac/workspace/rpFBA/cache/compXref.pickle', 'wb'))"
   ]
  },
  {
   "cell_type": "code",
   "execution_count": null,
   "metadata": {},
   "outputs": [],
   "source": [
    "compXref['cytoplasm']['seed']"
   ]
  },
  {
   "cell_type": "code",
   "execution_count": 6,
   "metadata": {},
   "outputs": [],
   "source": [
    "unit_def = rp_model.getListOfUnitDefinitions()"
   ]
  },
  {
   "cell_type": "code",
   "execution_count": 12,
   "metadata": {},
   "outputs": [],
   "source": [
    "a = 'MNXC17'"
   ]
  },
  {
   "cell_type": "code",
   "execution_count": 14,
   "metadata": {},
   "outputs": [
    {
     "data": {
      "text/plain": [
       "'MNXC'"
      ]
     },
     "execution_count": 14,
     "metadata": {},
     "output_type": "execute_result"
    }
   ],
   "source": [
    "a[:4]"
   ]
  },
  {
   "cell_type": "code",
   "execution_count": 8,
   "metadata": {},
   "outputs": [
    {
     "data": {
      "text/plain": [
       "1"
      ]
     },
     "execution_count": 8,
     "metadata": {},
     "output_type": "execute_result"
    }
   ],
   "source": [
    "rp_model.getNumUnitDefinitions()"
   ]
  },
  {
   "cell_type": "code",
   "execution_count": 18,
   "metadata": {},
   "outputs": [
    {
     "data": {
      "text/plain": [
       "['mmol_per_gDW_per_hr']"
      ]
     },
     "execution_count": 18,
     "metadata": {},
     "output_type": "execute_result"
    }
   ],
   "source": [
    "[i.getId() for i in rp_model.getListOfUnitDefinitions()]"
   ]
  },
  {
   "cell_type": "code",
   "execution_count": 12,
   "metadata": {},
   "outputs": [
    {
     "name": "stdout",
     "output_type": "stream",
     "text": [
      "Error encountered trying to adding unit def.LibSBML returned error code -10: \"The SBML Namespaces associated with the object do not match the SBML Namespaces of the parent object. This error can happen when an SBML component such as a species or compartment object is created outside of a model and a calling program then attempts to add the object to a model that has a different SBML Namespaces combination.\"\n"
     ]
    },
    {
     "ename": "SystemExit",
     "evalue": "Error encountered trying to adding unit def.LibSBML returned error code -10: \"The SBML Namespaces associated with the object do not match the SBML Namespaces of the parent object. This error can happen when an SBML component such as a species or compartment object is created outside of a model and a calling program then attempts to add the object to a model that has a different SBML Namespaces combination.\"",
     "output_type": "error",
     "traceback": [
      "An exception has occurred, use %tb to see the full traceback.\n",
      "\u001b[0;31mSystemExit\u001b[0m\u001b[0;31m:\u001b[0m Error encountered trying to adding unit def.LibSBML returned error code -10: \"The SBML Namespaces associated with the object do not match the SBML Namespaces of the parent object. This error can happen when an SBML component such as a species or compartment object is created outside of a model and a calling program then attempts to add the object to a model that has a different SBML Namespaces combination.\"\n"
     ]
    },
    {
     "name": "stderr",
     "output_type": "stream",
     "text": [
      "/home/mdulac/anaconda3/envs/py36/lib/python3.6/site-packages/IPython/core/interactiveshell.py:3275: UserWarning: To exit: use 'exit', 'quit', or Ctrl-D.\n",
      "  warn(\"To exit: use 'exit', 'quit', or Ctrl-D.\", stacklevel=1)\n"
     ]
    }
   ],
   "source": [
    "checklibSBML(yeast_model.addUnitDefinition(unit_def[0]), 'adding unit def')"
   ]
  },
  {
   "cell_type": "code",
   "execution_count": 17,
   "metadata": {},
   "outputs": [],
   "source": [
    "unit_def = rp_model.getListOfUnitDefinitions()"
   ]
  },
  {
   "cell_type": "code",
   "execution_count": 18,
   "metadata": {},
   "outputs": [],
   "source": [
    "a = unit_def[0]"
   ]
  },
  {
   "cell_type": "code",
   "execution_count": 21,
   "metadata": {},
   "outputs": [
    {
     "data": {
      "text/plain": [
       "<ListOfUnits[3]>"
      ]
     },
     "execution_count": 21,
     "metadata": {},
     "output_type": "execute_result"
    }
   ],
   "source": [
    "a.getListOfUnits()"
   ]
  },
  {
   "cell_type": "code",
   "execution_count": null,
   "metadata": {},
   "outputs": [],
   "source": []
  },
  {
   "cell_type": "code",
   "execution_count": null,
   "metadata": {},
   "outputs": [],
   "source": []
  },
  {
   "cell_type": "code",
   "execution_count": 25,
   "metadata": {},
   "outputs": [
    {
     "name": "stdout",
     "output_type": "stream",
     "text": [
      "<UnitDefinition mmol_per_gDW_per_hr>\n"
     ]
    }
   ],
   "source": [
    "for i in unit_def:\n",
    "    print(i)"
   ]
  },
  {
   "cell_type": "code",
   "execution_count": 30,
   "metadata": {},
   "outputs": [],
   "source": [
    "u = unit_def[0].getUnit(0)"
   ]
  },
  {
   "cell_type": "code",
   "execution_count": 39,
   "metadata": {},
   "outputs": [
    {
     "data": {
      "text/plain": [
       "['MNXC3']"
      ]
     },
     "execution_count": 39,
     "metadata": {},
     "output_type": "execute_result"
    }
   ],
   "source": [
    "[i.getId() for i in rp_model.getListOfCompartments()]"
   ]
  },
  {
   "cell_type": "code",
   "execution_count": 34,
   "metadata": {},
   "outputs": [],
   "source": [
    "target_unitDef = yeast_model.createUnitDefinition()"
   ]
  },
  {
   "cell_type": "code",
   "execution_count": 42,
   "metadata": {},
   "outputs": [],
   "source": [
    "a = yeast_model.getListOfCompartments()[1].getAnnotation()"
   ]
  },
  {
   "cell_type": "code",
   "execution_count": 9,
   "metadata": {},
   "outputs": [],
   "source": [
    "spe = yeast_model.getReaction(1)"
   ]
  },
  {
   "cell_type": "code",
   "execution_count": 10,
   "metadata": {},
   "outputs": [],
   "source": [
    "yeast_fbc = spe.getPlugin('fbc')"
   ]
  },
  {
   "cell_type": "code",
   "execution_count": 14,
   "metadata": {},
   "outputs": [
    {
     "data": {
      "text/plain": [
       "'B__999999'"
      ]
     },
     "execution_count": 14,
     "metadata": {},
     "output_type": "execute_result"
    }
   ],
   "source": [
    "yeast_fbc.getLowerFluxBound()"
   ]
  },
  {
   "cell_type": "code",
   "execution_count": 63,
   "metadata": {},
   "outputs": [],
   "source": [
    "a = spe.getReactant(0)"
   ]
  },
  {
   "cell_type": "code",
   "execution_count": 64,
   "metadata": {},
   "outputs": [
    {
     "data": {
      "text/plain": [
       "'MNXM01__64__MNXC2'"
      ]
     },
     "execution_count": 64,
     "metadata": {},
     "output_type": "execute_result"
    }
   ],
   "source": [
    "a.species"
   ]
  },
  {
   "cell_type": "code",
   "execution_count": 60,
   "metadata": {},
   "outputs": [],
   "source": [
    "reactant = spe.getProduct"
   ]
  },
  {
   "cell_type": "code",
   "execution_count": 61,
   "metadata": {},
   "outputs": [
    {
     "data": {
      "text/plain": [
       "<SpeciesReference>"
      ]
     },
     "execution_count": 61,
     "metadata": {},
     "output_type": "execute_result"
    }
   ],
   "source": [
    "reactant.setS"
   ]
  },
  {
   "cell_type": "code",
   "execution_count": 72,
   "metadata": {},
   "outputs": [],
   "source": [
    "yeast_fbc = yeast_model.getPlugin('fbc')"
   ]
  },
  {
   "cell_type": "code",
   "execution_count": 2,
   "metadata": {},
   "outputs": [],
   "source": [
    "a = [1,2,3]"
   ]
  },
  {
   "cell_type": "code",
   "execution_count": 4,
   "metadata": {},
   "outputs": [
    {
     "name": "stdout",
     "output_type": "stream",
     "text": [
      "T\n"
     ]
    }
   ],
   "source": [
    "if not 5 in a:\n",
    "    print('T')"
   ]
  },
  {
   "cell_type": "code",
   "execution_count": 78,
   "metadata": {},
   "outputs": [
    {
     "data": {
      "text/plain": [
       "<Objective obj_RB54E0D8C>"
      ]
     },
     "execution_count": 78,
     "metadata": {},
     "output_type": "execute_result"
    }
   ],
   "source": [
    "yeast_fbc.getObjective(0)"
   ]
  },
  {
   "cell_type": "code",
   "execution_count": 75,
   "metadata": {},
   "outputs": [
    {
     "data": {
      "text/plain": [
       "1"
      ]
     },
     "execution_count": 75,
     "metadata": {},
     "output_type": "execute_result"
    }
   ],
   "source": [
    "yeast_fbc.getListOfGeneProducts"
   ]
  },
  {
   "cell_type": "code",
   "execution_count": 118,
   "metadata": {},
   "outputs": [],
   "source": [
    "a = yeast_fbc.getListOfObjectives()"
   ]
  },
  {
   "cell_type": "code",
   "execution_count": 120,
   "metadata": {},
   "outputs": [
    {
     "data": {
      "text/plain": [
       "<Objective obj_RB54E0D8C>"
      ]
     },
     "execution_count": 120,
     "metadata": {},
     "output_type": "execute_result"
    }
   ],
   "source": [
    "a[0]"
   ]
  },
  {
   "cell_type": "code",
   "execution_count": 121,
   "metadata": {},
   "outputs": [],
   "source": [
    "b = a[0]"
   ]
  },
  {
   "cell_type": "code",
   "execution_count": 132,
   "metadata": {},
   "outputs": [],
   "source": [
    "c = b.getFluxObjective(0)"
   ]
  },
  {
   "cell_type": "code",
   "execution_count": 135,
   "metadata": {},
   "outputs": [
    {
     "data": {
      "text/plain": [
       "'RB54E0D8C'"
      ]
     },
     "execution_count": 135,
     "metadata": {},
     "output_type": "execute_result"
    }
   ],
   "source": [
    "c.getReaction()"
   ]
  },
  {
   "cell_type": "code",
   "execution_count": 96,
   "metadata": {},
   "outputs": [
    {
     "data": {
      "text/plain": [
       "<bound method Objective.getFluxObjective of <Objective obj_RB54E0D8C>>"
      ]
     },
     "execution_count": 96,
     "metadata": {},
     "output_type": "execute_result"
    }
   ],
   "source": []
  },
  {
   "cell_type": "code",
   "execution_count": 86,
   "metadata": {},
   "outputs": [],
   "source": [
    "a = yeast_fbc.createGeneProduct()"
   ]
  },
  {
   "cell_type": "code",
   "execution_count": null,
   "metadata": {},
   "outputs": [],
   "source": [
    "yeast_fbc.getGeneProduct"
   ]
  },
  {
   "cell_type": "code",
   "execution_count": 136,
   "metadata": {},
   "outputs": [
    {
     "data": {
      "text/plain": [
       "<ListOfParameters[6]>"
      ]
     },
     "execution_count": 136,
     "metadata": {},
     "output_type": "execute_result"
    }
   ],
   "source": [
    "yeast_model.getListOfParameters()"
   ]
  },
  {
   "cell_type": "code",
   "execution_count": 137,
   "metadata": {},
   "outputs": [],
   "source": [
    "a = yeast_model.getListOfParameters()[0]"
   ]
  },
  {
   "cell_type": "code",
   "execution_count": 139,
   "metadata": {},
   "outputs": [
    {
     "data": {
      "text/plain": [
       "True"
      ]
     },
     "execution_count": 139,
     "metadata": {},
     "output_type": "execute_result"
    }
   ],
   "source": [
    "a.getConstant()"
   ]
  },
  {
   "cell_type": "code",
   "execution_count": 79,
   "metadata": {},
   "outputs": [
    {
     "ename": "TypeError",
     "evalue": "addObjective() missing 1 required positional argument: 'o'",
     "output_type": "error",
     "traceback": [
      "\u001b[0;31m---------------------------------------------------------------------------\u001b[0m",
      "\u001b[0;31mTypeError\u001b[0m                                 Traceback (most recent call last)",
      "\u001b[0;32m<ipython-input-79-985681a93c5a>\u001b[0m in \u001b[0;36m<module>\u001b[0;34m\u001b[0m\n\u001b[0;32m----> 1\u001b[0;31m \u001b[0myeast_fbc\u001b[0m\u001b[0;34m.\u001b[0m\u001b[0maddObjective\u001b[0m\u001b[0;34m(\u001b[0m\u001b[0;34m)\u001b[0m\u001b[0;34m\u001b[0m\u001b[0;34m\u001b[0m\u001b[0m\n\u001b[0m",
      "\u001b[0;31mTypeError\u001b[0m: addObjective() missing 1 required positional argument: 'o'"
     ]
    }
   ],
   "source": [
    "yeast_fbc.addObjective()"
   ]
  },
  {
   "cell_type": "code",
   "execution_count": 68,
   "metadata": {},
   "outputs": [],
   "source": [
    "a = yeast_fbc.getListOfGeneProducts()"
   ]
  },
  {
   "cell_type": "code",
   "execution_count": null,
   "metadata": {},
   "outputs": [],
   "source": [
    "a."
   ]
  },
  {
   "cell_type": "code",
   "execution_count": 70,
   "metadata": {},
   "outputs": [],
   "source": [
    "b = a[0]"
   ]
  },
  {
   "cell_type": "code",
   "execution_count": 71,
   "metadata": {},
   "outputs": [
    {
     "data": {
      "text/plain": [
       "'G_AGP1_YEAST'"
      ]
     },
     "execution_count": 71,
     "metadata": {},
     "output_type": "execute_result"
    }
   ],
   "source": [
    "b.getId()"
   ]
  },
  {
   "cell_type": "code",
   "execution_count": null,
   "metadata": {},
   "outputs": [],
   "source": [
    "yeast_fbc.getListOfFluxBounds"
   ]
  },
  {
   "cell_type": "code",
   "execution_count": null,
   "metadata": {},
   "outputs": [],
   "source": []
  },
  {
   "cell_type": "code",
   "execution_count": 6,
   "metadata": {},
   "outputs": [],
   "source": [
    "path_id = 1\n",
    "steps = [{'right': {'CMPD_0000000003': 1, 'MNXM13': 1, 'MNXM15': 1, 'MNXM8': 1}, 'left': {'MNXM10': 1, 'MNXM188': 1, 'MNXM4': 1, 'MNXM1': 3}}, {'right': {'TARGET_0000000001': 1, 'MNXM1': 2}, 'left': {'CMPD_0000000003': 1, 'MNXM4': 1, }}]\n",
    "reaction_smiles = ['[H]Oc1c([H])c([H])c([H])c([H])c1O[H]>>O=O.[H]N=C(O[H])C1=C([H])N(C2([H])OC([H])(C([H])([H])OP(=O)(O[H])OP(=O)(O[H])OC([H])([H])C3([H])OC([H])(n4c([H])nc5c(N([H])[H])nc([H])nc54)C([H])(O[H])C3([H])O[H])C([H])(O[H])C2([H])O[H])C([H])=C([H])C1([H])[H].[H]OC(=O)c1c([H])c([H])c([H])c([H])c1N([H])[H]', '[H]OC(=O)C([H])=C([H])C([H])=C([H])C(=O)O[H]>>O=O.[H]Oc1c([H])c([H])c([H])c([H])c1O[H]', ]\n",
    "rp_smiles = {'MNXM10': '[H]N=C(O[H])C1=C([H])N(C2([H])OC([H])(C([H])([H])OP(=O)(O[H])OP(=O)(O[H])OC([H])([H])C3([H])OC([H])(n4c([H])nc5c(N([H])[H])nc([H])nc54)C([H])(O[H])C3([H])O[H])C([H])(O[H])C2([H])O[H])C([H])=C([H])C1([H])[H]',\n",
    "'MNXM188': '[H]OC(=O)c1c([H])c([H])c([H])c([H])c1N([H])[H]',\n",
    "'MNXM4': 'O=O',\n",
    "'MNXM1': '[H+]',\n",
    "'CMPD_0000000003': '[H]Oc1c([H])c([H])c([H])c([H])c1O[H]',\n",
    "'MNXM13': 'O=C=O',\n",
    "'MNXM15': '[H]N([H])[H]',\n",
    "'MNXM8': 'NC(=O)c1ccc[n+](c1)[C@@H]1O[C@H](COP([O-])(=O)OP([O-])(=O)OC[C@H]2O[C@H]([C@H](O)[C@@H]2O)n2cnc3c(N)ncnc23)[C@@H](O)[C@H]1O',\n",
    "'TARGET_0000000001': '[H]OC(=O)C([H])=C([H])C([H])=C([H])C(=O)O[H]'}\n",
    "rp_inchi = {'MNXM10': 'InChI=1S/C21H29N7O14P2/c22-17-12-19(25-7-24-17)28(8-26-12)21-16(32)14(30)11(41-21)6-39-44(36,37)42-43(34,35)38-5-10-13(29)15(31)20(40-10)27-3-1-2-9(4-27)18(23)33/h1,3-4,7-8,10-11,13-16,20-21,29-32H,2,5-6H2,(H2,23,33)(H,34,35)(H,36,37)(H2,22,24,25)/p-2/t10-,11-,13-,14-,15-,16-,20-,21-/m1/s1',\n",
    "'MNXM188': 'InChI=1S/C7H7NO2/c8-6-4-2-1-3-5(6)7(9)10/h1-4H,8H2,(H,9,10)/p-1',\n",
    "'MNXM4': 'InChI=1S/O2/c1-2',\n",
    "'MNXM1': 'InChI=1S',\n",
    "'CMPD_0000000003': None,\n",
    "'MNXM13': 'InChI=1S/CO2/c2-1-3',\n",
    "'MNXM15': 'InChI=1S/H3N/h1H3/p+1',\n",
    "'MNXM8': 'InChI=1S/C21H27N7O14P2/c22-17-12-19(25-7-24-17)28(8-26-12)21-16(32)14(30)11(41-21)6-39-44(36,37)42-43(34,35)38-5-10-13(29)15(31)20(40-10)27-3-1-2-9(4-27)18(23)33/h1-4,7-8,10-11,13-16,20-21,29-32H,5-6H2,(H5-,22,23,24,25,33,34,35,36,37)/p-1/t10-,11-,13-,14-,15-,16-,20-,21-/m1/s1',\n",
    "'TARGET_0000000001': 'InChI=1S/C6H6O4/c7-5(8)3-1-2-4-6(9)10/h1-4H,(H,7,8)(H,9,10)'}"
   ]
  },
  {
   "cell_type": "code",
   "execution_count": 7,
   "metadata": {},
   "outputs": [
    {
     "name": "stderr",
     "output_type": "stream",
     "text": [
      "WARNING:root:rpSBML object was initiated as empty. Please call createModel() to initalise the model\n"
     ]
    }
   ],
   "source": [
    "rpsbml = rpSBML.rpSBML()\n",
    "######### Model\n",
    "rpsbml.genericModel('RetroPath_heterologous_pathway', 'rp_model')\n",
    "#list all the unique metabolites that must be created\n",
    "#identify if there are InchI or SMILES description of the two different molecules\n",
    "for meta in set([i for step in steps for lr in ['left', 'right'] for i in step[lr]]):\n",
    "    try:\n",
    "        inchi = rp_inchi[meta]\n",
    "    except KeyError:\n",
    "        inchi = None\n",
    "    try:\n",
    "        smiles = rp_smiles[meta]\n",
    "    except KeyError:\n",
    "        smiles = None\n",
    "    rpsbml.createSpecies(meta, {}, None, inchi, smiles)\n",
    "rpsbml.createPathway(path_id)\n",
    "#reactions\n",
    "step_id = 0\n",
    "for stepNum in range(len(steps)):\n",
    "    rpsbml.createReaction('RP_'+str(stepNum), 'RP_id'+str(stepNum), 'B_INF', 'B__INF', steps[stepNum], reaction_smiles[stepNum])\n",
    "    step_id += 1"
   ]
  },
  {
   "cell_type": "code",
   "execution_count": 8,
   "metadata": {},
   "outputs": [],
   "source": [
    "yeast_document = libsbml.readSBML('/home/mdulac/Downloads/bigg_iMM904.COBRA-sbml3.xml')\n",
    "rpsbml.mergeModels(yeast_document.getModel())"
   ]
  },
  {
   "cell_type": "code",
   "execution_count": 9,
   "metadata": {},
   "outputs": [],
   "source": [
    "yeast_model = yeast_document.getModel()"
   ]
  },
  {
   "cell_type": "code",
   "execution_count": 10,
   "metadata": {},
   "outputs": [
    {
     "data": {
      "text/plain": [
       "1240"
      ]
     },
     "execution_count": 10,
     "metadata": {},
     "output_type": "execute_result"
    }
   ],
   "source": [
    "yeast_model.getNumSpecies()"
   ]
  },
  {
   "cell_type": "code",
   "execution_count": 11,
   "metadata": {},
   "outputs": [
    {
     "data": {
      "text/plain": [
       "1231"
      ]
     },
     "execution_count": 11,
     "metadata": {},
     "output_type": "execute_result"
    }
   ],
   "source": [
    "yeast_model_ori.getNumSpecies()"
   ]
  },
  {
   "cell_type": "code",
   "execution_count": 12,
   "metadata": {},
   "outputs": [
    {
     "data": {
      "text/plain": [
       "1"
      ]
     },
     "execution_count": 12,
     "metadata": {},
     "output_type": "execute_result"
    }
   ],
   "source": [
    "libsbml.writeSBML(yeast_document, 'test_merge.sbml')"
   ]
  },
  {
   "cell_type": "code",
   "execution_count": null,
   "metadata": {},
   "outputs": [],
   "source": []
  },
  {
   "cell_type": "code",
   "execution_count": 9,
   "metadata": {},
   "outputs": [
    {
     "data": {
      "text/plain": [
       "9"
      ]
     },
     "execution_count": 9,
     "metadata": {},
     "output_type": "execute_result"
    }
   ],
   "source": [
    "rpsbml.model.getNumSpecies()"
   ]
  },
  {
   "cell_type": "code",
   "execution_count": 9,
   "metadata": {},
   "outputs": [],
   "source": [
    "a = rpsbml.model.species[3].getAnnotation()"
   ]
  },
  {
   "cell_type": "code",
   "execution_count": 11,
   "metadata": {},
   "outputs": [
    {
     "data": {
      "text/plain": [
       "'<annotation>\\n  <rdf:RDF xmlns:rdf=\"http://www.w3.org/1999/02/22-rdf-syntax-ns#\" xmlns:bqbiol=\"http://biomodels.net/biology-qualifiers/\" xmlns:bqmodel=\"http://biomodels.net/model-qualifiers/\" xmlns:ibisba=\"http://ibisba.eu/qualifiers\">\\n    <rdf:Description rdf:about=\"#_4354ed2227b0469132f44f938fb566fc\">\\n      <bqbiol:is>\\n        <rdf:Bag/>\\n      </bqbiol:is>\\n    </rdf:Description>\\n    <rdf:Description rdf:about=\"#_4354ed2227b0469132f44f938fb566fc\">\\n      <ibisba:ibisba xmlns:ibisba=\"http://ibisba.eu/qualifiers\">\\n        <ibisba:smiles>NC(=O)c1ccc[n+](c1)[C@@H]1O[C@H](COP([O-])(=O)OP([O-])(=O)OC[C@H]2O[C@H]([C@H](O)[C@@H]2O)n2cnc3c(N)ncnc23)[C@@H](O)[C@H]1O</ibisba:smiles>\\n        <ibisba:inchi>InChI=1S/C21H27N7O14P2/c22-17-12-19(25-7-24-17)28(8-26-12)21-16(32)14(30)11(41-21)6-39-44(36,37)42-43(34,35)38-5-10-13(29)15(31)20(40-10)27-3-1-2-9(4-27)18(23)33/h1-4,7-8,10-11,13-16,20-21,29-32H,5-6H2,(H5-,22,23,24,25,33,34,35,36,37)/p-1/t10-,11-,13-,14-,15-,16-,20-,21-/m1/s1</ibisba:inchi>\\n        <ibisba:inchikey>BAWFJGJZGIEFAR-NNYOXOHSSA-M</ibisba:inchikey>\\n        <ibisba:parameter type=\"ddG\" units=\"kj_per_mol\"/>\\n        <ibisba:parameter type=\"ddG_uncert\" units=\"kj_per_mol\"/>\\n      </ibisba:ibisba>\\n    </rdf:Description>\\n  </rdf:RDF>\\n</annotation>'"
      ]
     },
     "execution_count": 11,
     "metadata": {},
     "output_type": "execute_result"
    }
   ],
   "source": [
    "a.toXMLString()"
   ]
  },
  {
   "cell_type": "code",
   "execution_count": 8,
   "metadata": {},
   "outputs": [
    {
     "name": "stdout",
     "output_type": "stream",
     "text": [
      "9\n",
      "1231\n"
     ]
    },
    {
     "ename": "AttributeError",
     "evalue": "type object 'object' has no attribute '__getattr__'",
     "output_type": "error",
     "traceback": [
      "\u001b[0;31m---------------------------------------------------------------------------\u001b[0m",
      "\u001b[0;31mAttributeError\u001b[0m                            Traceback (most recent call last)",
      "\u001b[0;32m<ipython-input-8-a5c50594deb0>\u001b[0m in \u001b[0;36m<module>\u001b[0;34m\u001b[0m\n\u001b[1;32m      1\u001b[0m \u001b[0myeast_document\u001b[0m \u001b[0;34m=\u001b[0m \u001b[0mlibsbml\u001b[0m\u001b[0;34m.\u001b[0m\u001b[0mreadSBML\u001b[0m\u001b[0;34m(\u001b[0m\u001b[0;34m'/home/mdulac/Downloads/bigg_iMM904.COBRA-sbml3.xml'\u001b[0m\u001b[0;34m)\u001b[0m\u001b[0;34m\u001b[0m\u001b[0;34m\u001b[0m\u001b[0m\n\u001b[0;32m----> 2\u001b[0;31m \u001b[0mrpsbml\u001b[0m\u001b[0;34m.\u001b[0m\u001b[0mmergeModels\u001b[0m\u001b[0;34m(\u001b[0m\u001b[0myeast_document\u001b[0m\u001b[0;34m.\u001b[0m\u001b[0mgetModel\u001b[0m\u001b[0;34m(\u001b[0m\u001b[0;34m)\u001b[0m\u001b[0;34m)\u001b[0m\u001b[0;34m\u001b[0m\u001b[0;34m\u001b[0m\u001b[0m\n\u001b[0m",
      "\u001b[0;32m~/workspace/rpFBA/rpSBML.py\u001b[0m in \u001b[0;36mmergeModels\u001b[0;34m(self, target_model)\u001b[0m\n\u001b[1;32m    244\u001b[0m             \u001b[0mfound\u001b[0m \u001b[0;34m=\u001b[0m \u001b[0;32mFalse\u001b[0m\u001b[0;34m\u001b[0m\u001b[0;34m\u001b[0m\u001b[0m\n\u001b[1;32m    245\u001b[0m             \u001b[0;32mfor\u001b[0m \u001b[0my\u001b[0m \u001b[0;32min\u001b[0m \u001b[0mrange\u001b[0m\u001b[0;34m(\u001b[0m\u001b[0mtarget_model\u001b[0m\u001b[0;34m.\u001b[0m\u001b[0mgetNumSpecies\u001b[0m\u001b[0;34m(\u001b[0m\u001b[0;34m)\u001b[0m\u001b[0;34m)\u001b[0m\u001b[0;34m:\u001b[0m\u001b[0;34m\u001b[0m\u001b[0;34m\u001b[0m\u001b[0m\n\u001b[0;32m--> 246\u001b[0;31m                 \u001b[0msource_annotation\u001b[0m \u001b[0;34m=\u001b[0m \u001b[0mself\u001b[0m\u001b[0;34m.\u001b[0m\u001b[0mmodel\u001b[0m\u001b[0;34m.\u001b[0m\u001b[0mspecies\u001b[0m\u001b[0;34m[\u001b[0m\u001b[0mi\u001b[0m\u001b[0;34m]\u001b[0m\u001b[0;34m.\u001b[0m\u001b[0mgetAnnotation\u001b[0m\u001b[0;34m(\u001b[0m\u001b[0;34m)\u001b[0m\u001b[0;34m\u001b[0m\u001b[0;34m\u001b[0m\u001b[0m\n\u001b[0m\u001b[1;32m    247\u001b[0m                 \u001b[0mself\u001b[0m\u001b[0;34m.\u001b[0m\u001b[0m_checklibSBML\u001b[0m\u001b[0;34m(\u001b[0m\u001b[0msource_annotation\u001b[0m\u001b[0;34m,\u001b[0m \u001b[0;34m'Getting source annotation'\u001b[0m\u001b[0;34m)\u001b[0m\u001b[0;34m\u001b[0m\u001b[0;34m\u001b[0m\u001b[0m\n\u001b[1;32m    248\u001b[0m                 \u001b[0mtarget_annotation\u001b[0m \u001b[0;34m=\u001b[0m \u001b[0mtarget_model\u001b[0m\u001b[0;34m.\u001b[0m\u001b[0mspecies\u001b[0m\u001b[0;34m[\u001b[0m\u001b[0my\u001b[0m\u001b[0;34m]\u001b[0m\u001b[0;34m.\u001b[0m\u001b[0mgetAnnotation\u001b[0m\u001b[0;34m(\u001b[0m\u001b[0;34m)\u001b[0m\u001b[0;34m\u001b[0m\u001b[0;34m\u001b[0m\u001b[0m\n",
      "\u001b[0;32m~/anaconda3/envs/py36/lib/python3.6/site-packages/libsbml/__init__.py\u001b[0m in \u001b[0;36m<lambda>\u001b[0;34m(self, name)\u001b[0m\n\u001b[1;32m  24671\u001b[0m     \u001b[0;32mfor\u001b[0m \u001b[0m_s\u001b[0m \u001b[0;32min\u001b[0m \u001b[0;34m[\u001b[0m\u001b[0mSBase\u001b[0m\u001b[0;34m]\u001b[0m\u001b[0;34m:\u001b[0m\u001b[0;34m\u001b[0m\u001b[0;34m\u001b[0m\u001b[0m\n\u001b[1;32m  24672\u001b[0m         \u001b[0m__swig_getmethods__\u001b[0m\u001b[0;34m.\u001b[0m\u001b[0mupdate\u001b[0m\u001b[0;34m(\u001b[0m\u001b[0mgetattr\u001b[0m\u001b[0;34m(\u001b[0m\u001b[0m_s\u001b[0m\u001b[0;34m,\u001b[0m \u001b[0;34m'__swig_getmethods__'\u001b[0m\u001b[0;34m,\u001b[0m \u001b[0;34m{\u001b[0m\u001b[0;34m}\u001b[0m\u001b[0;34m)\u001b[0m\u001b[0;34m)\u001b[0m\u001b[0;34m\u001b[0m\u001b[0;34m\u001b[0m\u001b[0m\n\u001b[0;32m> 24673\u001b[0;31m     \u001b[0m__getattr__\u001b[0m \u001b[0;34m=\u001b[0m \u001b[0;32mlambda\u001b[0m \u001b[0mself\u001b[0m\u001b[0;34m,\u001b[0m \u001b[0mname\u001b[0m\u001b[0;34m:\u001b[0m \u001b[0m_swig_getattr\u001b[0m\u001b[0;34m(\u001b[0m\u001b[0mself\u001b[0m\u001b[0;34m,\u001b[0m \u001b[0mSpecies\u001b[0m\u001b[0;34m,\u001b[0m \u001b[0mname\u001b[0m\u001b[0;34m)\u001b[0m\u001b[0;34m\u001b[0m\u001b[0;34m\u001b[0m\u001b[0m\n\u001b[0m\u001b[1;32m  24674\u001b[0m     \u001b[0m__repr__\u001b[0m \u001b[0;34m=\u001b[0m \u001b[0m_swig_repr\u001b[0m\u001b[0;34m\u001b[0m\u001b[0;34m\u001b[0m\u001b[0m\n\u001b[1;32m  24675\u001b[0m     \u001b[0m__swig_destroy__\u001b[0m \u001b[0;34m=\u001b[0m \u001b[0m_libsbml\u001b[0m\u001b[0;34m.\u001b[0m\u001b[0mdelete_Species\u001b[0m\u001b[0;34m\u001b[0m\u001b[0;34m\u001b[0m\u001b[0m\n",
      "\u001b[0;32m~/anaconda3/envs/py36/lib/python3.6/site-packages/libsbml/__init__.py\u001b[0m in \u001b[0;36m_swig_getattr\u001b[0;34m(self, class_type, name)\u001b[0m\n\u001b[1;32m     77\u001b[0m \u001b[0;34m\u001b[0m\u001b[0m\n\u001b[1;32m     78\u001b[0m \u001b[0;32mdef\u001b[0m \u001b[0m_swig_getattr\u001b[0m\u001b[0;34m(\u001b[0m\u001b[0mself\u001b[0m\u001b[0;34m,\u001b[0m \u001b[0mclass_type\u001b[0m\u001b[0;34m,\u001b[0m \u001b[0mname\u001b[0m\u001b[0;34m)\u001b[0m\u001b[0;34m:\u001b[0m\u001b[0;34m\u001b[0m\u001b[0;34m\u001b[0m\u001b[0m\n\u001b[0;32m---> 79\u001b[0;31m     \u001b[0;32mreturn\u001b[0m \u001b[0m_swig_getattr_nondynamic\u001b[0m\u001b[0;34m(\u001b[0m\u001b[0mself\u001b[0m\u001b[0;34m,\u001b[0m \u001b[0mclass_type\u001b[0m\u001b[0;34m,\u001b[0m \u001b[0mname\u001b[0m\u001b[0;34m,\u001b[0m \u001b[0;36m0\u001b[0m\u001b[0;34m)\u001b[0m\u001b[0;34m\u001b[0m\u001b[0;34m\u001b[0m\u001b[0m\n\u001b[0m\u001b[1;32m     80\u001b[0m \u001b[0;34m\u001b[0m\u001b[0m\n\u001b[1;32m     81\u001b[0m \u001b[0;34m\u001b[0m\u001b[0m\n",
      "\u001b[0;32m~/anaconda3/envs/py36/lib/python3.6/site-packages/libsbml/__init__.py\u001b[0m in \u001b[0;36m_swig_getattr_nondynamic\u001b[0;34m(self, class_type, name, static)\u001b[0m\n\u001b[1;32m     72\u001b[0m         \u001b[0;32mreturn\u001b[0m \u001b[0mmethod\u001b[0m\u001b[0;34m(\u001b[0m\u001b[0mself\u001b[0m\u001b[0;34m)\u001b[0m\u001b[0;34m\u001b[0m\u001b[0;34m\u001b[0m\u001b[0m\n\u001b[1;32m     73\u001b[0m     \u001b[0;32mif\u001b[0m \u001b[0;34m(\u001b[0m\u001b[0;32mnot\u001b[0m \u001b[0mstatic\u001b[0m\u001b[0;34m)\u001b[0m\u001b[0;34m:\u001b[0m\u001b[0;34m\u001b[0m\u001b[0;34m\u001b[0m\u001b[0m\n\u001b[0;32m---> 74\u001b[0;31m         \u001b[0;32mreturn\u001b[0m \u001b[0mobject\u001b[0m\u001b[0;34m.\u001b[0m\u001b[0m__getattr__\u001b[0m\u001b[0;34m(\u001b[0m\u001b[0mself\u001b[0m\u001b[0;34m,\u001b[0m \u001b[0mname\u001b[0m\u001b[0;34m)\u001b[0m\u001b[0;34m\u001b[0m\u001b[0;34m\u001b[0m\u001b[0m\n\u001b[0m\u001b[1;32m     75\u001b[0m     \u001b[0;32melse\u001b[0m\u001b[0;34m:\u001b[0m\u001b[0;34m\u001b[0m\u001b[0;34m\u001b[0m\u001b[0m\n\u001b[1;32m     76\u001b[0m         \u001b[0;32mraise\u001b[0m \u001b[0mAttributeError\u001b[0m\u001b[0;34m(\u001b[0m\u001b[0mname\u001b[0m\u001b[0;34m)\u001b[0m\u001b[0;34m\u001b[0m\u001b[0;34m\u001b[0m\u001b[0m\n",
      "\u001b[0;31mAttributeError\u001b[0m: type object 'object' has no attribute '__getattr__'"
     ]
    }
   ],
   "source": []
  },
  {
   "cell_type": "code",
   "execution_count": 11,
   "metadata": {},
   "outputs": [
    {
     "data": {
      "text/plain": [
       "<libsbml.XMLNode proxy of <Swig Object of type 'XMLNode_t *' at 0x7f561d36c660> >"
      ]
     },
     "execution_count": 11,
     "metadata": {},
     "output_type": "execute_result"
    }
   ],
   "source": [
    "rp_model.species[1].getAnnotation()"
   ]
  },
  {
   "cell_type": "code",
   "execution_count": 14,
   "metadata": {},
   "outputs": [
    {
     "ename": "AttributeError",
     "evalue": "type object 'object' has no attribute '__getattr__'",
     "output_type": "error",
     "traceback": [
      "\u001b[0;31m---------------------------------------------------------------------------\u001b[0m",
      "\u001b[0;31mAttributeError\u001b[0m                            Traceback (most recent call last)",
      "\u001b[0;32m<ipython-input-14-43e6e3492db7>\u001b[0m in \u001b[0;36m<module>\u001b[0;34m\u001b[0m\n\u001b[0;32m----> 1\u001b[0;31m \u001b[0mrpsbml\u001b[0m\u001b[0;34m.\u001b[0m\u001b[0mmodel\u001b[0m\u001b[0;34m.\u001b[0m\u001b[0mgetNumSpecies\u001b[0m\u001b[0;34m(\u001b[0m\u001b[0;34m)\u001b[0m\u001b[0;34m\u001b[0m\u001b[0;34m\u001b[0m\u001b[0m\n\u001b[0m",
      "\u001b[0;32m~/anaconda3/envs/py36/lib/python3.6/site-packages/libsbml/__init__.py\u001b[0m in \u001b[0;36m<lambda>\u001b[0;34m(self, name)\u001b[0m\n\u001b[1;32m  24671\u001b[0m     \u001b[0;32mfor\u001b[0m \u001b[0m_s\u001b[0m \u001b[0;32min\u001b[0m \u001b[0;34m[\u001b[0m\u001b[0mSBase\u001b[0m\u001b[0;34m]\u001b[0m\u001b[0;34m:\u001b[0m\u001b[0;34m\u001b[0m\u001b[0;34m\u001b[0m\u001b[0m\n\u001b[1;32m  24672\u001b[0m         \u001b[0m__swig_getmethods__\u001b[0m\u001b[0;34m.\u001b[0m\u001b[0mupdate\u001b[0m\u001b[0;34m(\u001b[0m\u001b[0mgetattr\u001b[0m\u001b[0;34m(\u001b[0m\u001b[0m_s\u001b[0m\u001b[0;34m,\u001b[0m \u001b[0;34m'__swig_getmethods__'\u001b[0m\u001b[0;34m,\u001b[0m \u001b[0;34m{\u001b[0m\u001b[0;34m}\u001b[0m\u001b[0;34m)\u001b[0m\u001b[0;34m)\u001b[0m\u001b[0;34m\u001b[0m\u001b[0;34m\u001b[0m\u001b[0m\n\u001b[0;32m> 24673\u001b[0;31m     \u001b[0m__getattr__\u001b[0m \u001b[0;34m=\u001b[0m \u001b[0;32mlambda\u001b[0m \u001b[0mself\u001b[0m\u001b[0;34m,\u001b[0m \u001b[0mname\u001b[0m\u001b[0;34m:\u001b[0m \u001b[0m_swig_getattr\u001b[0m\u001b[0;34m(\u001b[0m\u001b[0mself\u001b[0m\u001b[0;34m,\u001b[0m \u001b[0mSpecies\u001b[0m\u001b[0;34m,\u001b[0m \u001b[0mname\u001b[0m\u001b[0;34m)\u001b[0m\u001b[0;34m\u001b[0m\u001b[0;34m\u001b[0m\u001b[0m\n\u001b[0m\u001b[1;32m  24674\u001b[0m     \u001b[0m__repr__\u001b[0m \u001b[0;34m=\u001b[0m \u001b[0m_swig_repr\u001b[0m\u001b[0;34m\u001b[0m\u001b[0;34m\u001b[0m\u001b[0m\n\u001b[1;32m  24675\u001b[0m     \u001b[0m__swig_destroy__\u001b[0m \u001b[0;34m=\u001b[0m \u001b[0m_libsbml\u001b[0m\u001b[0;34m.\u001b[0m\u001b[0mdelete_Species\u001b[0m\u001b[0;34m\u001b[0m\u001b[0;34m\u001b[0m\u001b[0m\n",
      "\u001b[0;32m~/anaconda3/envs/py36/lib/python3.6/site-packages/libsbml/__init__.py\u001b[0m in \u001b[0;36m_swig_getattr\u001b[0;34m(self, class_type, name)\u001b[0m\n\u001b[1;32m     77\u001b[0m \u001b[0;34m\u001b[0m\u001b[0m\n\u001b[1;32m     78\u001b[0m \u001b[0;32mdef\u001b[0m \u001b[0m_swig_getattr\u001b[0m\u001b[0;34m(\u001b[0m\u001b[0mself\u001b[0m\u001b[0;34m,\u001b[0m \u001b[0mclass_type\u001b[0m\u001b[0;34m,\u001b[0m \u001b[0mname\u001b[0m\u001b[0;34m)\u001b[0m\u001b[0;34m:\u001b[0m\u001b[0;34m\u001b[0m\u001b[0;34m\u001b[0m\u001b[0m\n\u001b[0;32m---> 79\u001b[0;31m     \u001b[0;32mreturn\u001b[0m \u001b[0m_swig_getattr_nondynamic\u001b[0m\u001b[0;34m(\u001b[0m\u001b[0mself\u001b[0m\u001b[0;34m,\u001b[0m \u001b[0mclass_type\u001b[0m\u001b[0;34m,\u001b[0m \u001b[0mname\u001b[0m\u001b[0;34m,\u001b[0m \u001b[0;36m0\u001b[0m\u001b[0;34m)\u001b[0m\u001b[0;34m\u001b[0m\u001b[0;34m\u001b[0m\u001b[0m\n\u001b[0m\u001b[1;32m     80\u001b[0m \u001b[0;34m\u001b[0m\u001b[0m\n\u001b[1;32m     81\u001b[0m \u001b[0;34m\u001b[0m\u001b[0m\n",
      "\u001b[0;32m~/anaconda3/envs/py36/lib/python3.6/site-packages/libsbml/__init__.py\u001b[0m in \u001b[0;36m_swig_getattr_nondynamic\u001b[0;34m(self, class_type, name, static)\u001b[0m\n\u001b[1;32m     72\u001b[0m         \u001b[0;32mreturn\u001b[0m \u001b[0mmethod\u001b[0m\u001b[0;34m(\u001b[0m\u001b[0mself\u001b[0m\u001b[0;34m)\u001b[0m\u001b[0;34m\u001b[0m\u001b[0;34m\u001b[0m\u001b[0m\n\u001b[1;32m     73\u001b[0m     \u001b[0;32mif\u001b[0m \u001b[0;34m(\u001b[0m\u001b[0;32mnot\u001b[0m \u001b[0mstatic\u001b[0m\u001b[0;34m)\u001b[0m\u001b[0;34m:\u001b[0m\u001b[0;34m\u001b[0m\u001b[0;34m\u001b[0m\u001b[0m\n\u001b[0;32m---> 74\u001b[0;31m         \u001b[0;32mreturn\u001b[0m \u001b[0mobject\u001b[0m\u001b[0;34m.\u001b[0m\u001b[0m__getattr__\u001b[0m\u001b[0;34m(\u001b[0m\u001b[0mself\u001b[0m\u001b[0;34m,\u001b[0m \u001b[0mname\u001b[0m\u001b[0;34m)\u001b[0m\u001b[0;34m\u001b[0m\u001b[0;34m\u001b[0m\u001b[0m\n\u001b[0m\u001b[1;32m     75\u001b[0m     \u001b[0;32melse\u001b[0m\u001b[0;34m:\u001b[0m\u001b[0;34m\u001b[0m\u001b[0;34m\u001b[0m\u001b[0m\n\u001b[1;32m     76\u001b[0m         \u001b[0;32mraise\u001b[0m \u001b[0mAttributeError\u001b[0m\u001b[0;34m(\u001b[0m\u001b[0mname\u001b[0m\u001b[0;34m)\u001b[0m\u001b[0;34m\u001b[0m\u001b[0;34m\u001b[0m\u001b[0m\n",
      "\u001b[0;31mAttributeError\u001b[0m: type object 'object' has no attribute '__getattr__'"
     ]
    }
   ],
   "source": [
    "rpsbml.model.getNumSpecies()"
   ]
  },
  {
   "cell_type": "code",
   "execution_count": 10,
   "metadata": {},
   "outputs": [
    {
     "data": {
      "text/plain": [
       "4"
      ]
     },
     "execution_count": 10,
     "metadata": {},
     "output_type": "execute_result"
    }
   ],
   "source": [
    "len(steps[0])+len(steps[1])"
   ]
  },
  {
   "cell_type": "code",
   "execution_count": 11,
   "metadata": {},
   "outputs": [],
   "source": [
    "a = set([i for step in steps for lr in ['left', 'right'] for i in step[lr]])"
   ]
  },
  {
   "cell_type": "code",
   "execution_count": 12,
   "metadata": {},
   "outputs": [
    {
     "data": {
      "text/plain": [
       "9"
      ]
     },
     "execution_count": 12,
     "metadata": {},
     "output_type": "execute_result"
    }
   ],
   "source": [
    "len(a)"
   ]
  },
  {
   "cell_type": "code",
   "execution_count": 13,
   "metadata": {},
   "outputs": [
    {
     "data": {
      "text/plain": [
       "{'CMPD_0000000003',\n",
       " 'MNXM1',\n",
       " 'MNXM10',\n",
       " 'MNXM13',\n",
       " 'MNXM15',\n",
       " 'MNXM188',\n",
       " 'MNXM4',\n",
       " 'MNXM8',\n",
       " 'TARGET_0000000001'}"
      ]
     },
     "execution_count": 13,
     "metadata": {},
     "output_type": "execute_result"
    }
   ],
   "source": [
    "a"
   ]
  },
  {
   "cell_type": "code",
   "execution_count": 38,
   "metadata": {},
   "outputs": [],
   "source": [
    "a = rp_model.species[1]"
   ]
  },
  {
   "cell_type": "code",
   "execution_count": null,
   "metadata": {},
   "outputs": [],
   "source": [
    "target_mo"
   ]
  },
  {
   "cell_type": "code",
   "execution_count": 49,
   "metadata": {},
   "outputs": [
    {
     "name": "stdout",
     "output_type": "stream",
     "text": [
      "<species metaid=\"_d494ab9e82db1edaa73b2eb7df7d767c\" id=\"MNXM15__64__MNXC3\" compartment=\"MNXC3\" initialConcentration=\"1\" hasOnlySubstanceUnits=\"false\" boundaryCondition=\"false\" constant=\"false\">\n",
      "  <annotation>\n",
      "    <rdf:RDF xmlns:rdf=\"http://www.w3.org/1999/02/22-rdf-syntax-ns#\" xmlns:bqbiol=\"http://biomodels.net/biology-qualifiers/\" xmlns:bqmodel=\"http://biomodels.net/model-qualifiers/\" xmlns:ibisba=\"http://ibisba.eu/qualifiers\">\n",
      "      <rdf:Description rdf:about=\"#_d494ab9e82db1edaa73b2eb7df7d767c\">\n",
      "        <bqbiol:is>\n",
      "          <rdf:Bag>\n",
      "            <rdf:li rdf:resource=\"http://identifiers.org/metanetx.chemical/MNXM15\"/>\n",
      "          </rdf:Bag>\n",
      "        </bqbiol:is>\n",
      "      </rdf:Description>\n",
      "      <rdf:Description rdf:about=\"#_d494ab9e82db1edaa73b2eb7df7d767c\">\n",
      "        <ibisba:ibisba xmlns:ibisba=\"http://ibisba.eu/qualifiers\">\n",
      "          <ibisba:smiles>[H]N([H])[H]</ibisba:smiles>\n",
      "          <ibisba:inchi>InChI=1S/H3N/h1H3/p+1</ibisba:inchi>\n",
      "          <ibisba:inchikey>QGZKDVFQNNGYKY-UHFFFAOYSA-O</ibisba:inchikey>\n",
      "          <ibisba:parameter type=\"ddG\" units=\"kj_per_mol\" value=\"None\"/>\n",
      "          <ibisba:parameter type=\"ddG_uncert\" units=\"kj_per_mol\" value=\"None\"/>\n",
      "        </ibisba:ibisba>\n",
      "      </rdf:Description>\n",
      "    </rdf:RDF>\n",
      "  </annotation>\n",
      "</species>\n"
     ]
    }
   ],
   "source": [
    "print(a.toSBML())"
   ]
  },
  {
   "cell_type": "code",
   "execution_count": 40,
   "metadata": {},
   "outputs": [
    {
     "data": {
      "text/plain": [
       "-10"
      ]
     },
     "execution_count": 40,
     "metadata": {},
     "output_type": "execute_result"
    }
   ],
   "source": [
    "yeast_model.addSpecies(rp_model.species[1])"
   ]
  },
  {
   "cell_type": "code",
   "execution_count": 44,
   "metadata": {},
   "outputs": [],
   "source": [
    "yeast_species = yeast_model.createSpecies()"
   ]
  },
  {
   "cell_type": "code",
   "execution_count": 51,
   "metadata": {},
   "outputs": [
    {
     "data": {
      "text/plain": [
       "<libsbml.XMLNode proxy of <Swig Object of type 'XMLNode_t *' at 0x7f78369c1540> >"
      ]
     },
     "execution_count": 51,
     "metadata": {},
     "output_type": "execute_result"
    }
   ],
   "source": [
    "a.getAnnotation()"
   ]
  },
  {
   "cell_type": "code",
   "execution_count": null,
   "metadata": {},
   "outputs": [],
   "source": []
  },
  {
   "cell_type": "code",
   "execution_count": null,
   "metadata": {},
   "outputs": [],
   "source": []
  },
  {
   "cell_type": "code",
   "execution_count": null,
   "metadata": {},
   "outputs": [],
   "source": []
  },
  {
   "cell_type": "code",
   "execution_count": null,
   "metadata": {},
   "outputs": [],
   "source": []
  },
  {
   "cell_type": "code",
   "execution_count": 36,
   "metadata": {},
   "outputs": [],
   "source": [
    "yeast2_sbmlns = libsbml.SBMLNamespaces(3,1)\n",
    "yeast2_sbmlns.addPkgNamespace('groups', 1)\n",
    "yeast2_sbmlns.addPkgNamespace('fbc', 2)\n",
    "yeast2_document = libsbml.SBMLDocument(yeast2_sbmlns)\n",
    "yeast2_document.setPackageRequired('fbc', False)\n",
    "yeast2_document.setPackageRequired('groups', False)\n",
    "yeast2_document.setModel(yeast_model.clone())\n",
    "yeast2_model = yeast2_document.getModel()\n",
    "#yeast2_model = yeast2_document.createModel()"
   ]
  },
  {
   "cell_type": "code",
   "execution_count": 37,
   "metadata": {},
   "outputs": [],
   "source": [
    "yeast_sbmlns = yeast_document.getSBMLNamespaces()\n",
    "rp_sbmlns = rp_document.getSBMLNamespaces()"
   ]
  },
  {
   "cell_type": "code",
   "execution_count": 7,
   "metadata": {},
   "outputs": [
    {
     "data": {
      "text/plain": [
       "0"
      ]
     },
     "execution_count": 7,
     "metadata": {},
     "output_type": "execute_result"
    }
   ],
   "source": [
    "yeast_model.enablePackage('http://www.sbml.org/sbml/level3/version1/groups/version1', 'groups', True)"
   ]
  },
  {
   "cell_type": "code",
   "execution_count": 6,
   "metadata": {},
   "outputs": [
    {
     "data": {
      "text/plain": [
       "True"
      ]
     },
     "execution_count": 6,
     "metadata": {},
     "output_type": "execute_result"
    }
   ],
   "source": [
    "yeast_model.isPackageEnabled('fbc')"
   ]
  },
  {
   "cell_type": "code",
   "execution_count": 11,
   "metadata": {},
   "outputs": [],
   "source": [
    "yeast_groups = yeast_model.getPlugin('groups')"
   ]
  },
  {
   "cell_type": "code",
   "execution_count": 12,
   "metadata": {},
   "outputs": [],
   "source": [
    "rp_groups = rp_model.getPlugin('groups')"
   ]
  },
  {
   "cell_type": "code",
   "execution_count": 17,
   "metadata": {},
   "outputs": [],
   "source": [
    "a = rp_groups.getGroup('rp_pathway')"
   ]
  },
  {
   "cell_type": "code",
   "execution_count": 20,
   "metadata": {},
   "outputs": [
    {
     "data": {
      "text/plain": [
       "0"
      ]
     },
     "execution_count": 20,
     "metadata": {},
     "output_type": "execute_result"
    }
   ],
   "source": [
    "yeast_groups.addGroup(a)"
   ]
  },
  {
   "cell_type": "code",
   "execution_count": 38,
   "metadata": {},
   "outputs": [
    {
     "data": {
      "text/plain": [
       "<libsbml.FbcModelPlugin proxy of <Swig Object of type 'FbcModelPlugin *' at 0x7eff1b7b4660> >"
      ]
     },
     "execution_count": 38,
     "metadata": {},
     "output_type": "execute_result"
    }
   ],
   "source": [
    "yeast2_model.getPlugin('fbc')"
   ]
  },
  {
   "cell_type": "code",
   "execution_count": 43,
   "metadata": {},
   "outputs": [],
   "source": []
  },
  {
   "cell_type": "code",
   "execution_count": 40,
   "metadata": {},
   "outputs": [],
   "source": [
    "y = yeast_model.clone()"
   ]
  },
  {
   "cell_type": "code",
   "execution_count": 50,
   "metadata": {},
   "outputs": [
    {
     "data": {
      "text/plain": [
       "True"
      ]
     },
     "execution_count": 50,
     "metadata": {},
     "output_type": "execute_result"
    }
   ],
   "source": [
    "yeast2_model.isPackageEnabled('groups')"
   ]
  },
  {
   "cell_type": "code",
   "execution_count": 49,
   "metadata": {},
   "outputs": [
    {
     "data": {
      "text/plain": [
       "0"
      ]
     },
     "execution_count": 49,
     "metadata": {},
     "output_type": "execute_result"
    }
   ],
   "source": [
    "yeast_model.enablePackage('http://www.sbml.org/sbml/level3/version1/groups/version1', 'groups', True)"
   ]
  },
  {
   "cell_type": "code",
   "execution_count": 51,
   "metadata": {},
   "outputs": [
    {
     "data": {
      "text/plain": [
       "0"
      ]
     },
     "execution_count": 51,
     "metadata": {},
     "output_type": "execute_result"
    }
   ],
   "source": [
    "yeast_model.enablePackage('http://www.sbml.org/sbml/level3/version1/groups/version1', 'groups', True)"
   ]
  },
  {
   "cell_type": "code",
   "execution_count": null,
   "metadata": {},
   "outputs": [],
   "source": [
    "yeast_model."
   ]
  },
  {
   "cell_type": "code",
   "execution_count": 21,
   "metadata": {},
   "outputs": [
    {
     "data": {
      "text/plain": [
       "1"
      ]
     },
     "execution_count": 21,
     "metadata": {},
     "output_type": "execute_result"
    }
   ],
   "source": [
    "libsbml.writeSBMLToFile(yeast_document, 'test_yeast_rp.sbml')"
   ]
  },
  {
   "cell_type": "code",
   "execution_count": null,
   "metadata": {},
   "outputs": [],
   "source": []
  },
  {
   "cell_type": "code",
   "execution_count": 12,
   "metadata": {},
   "outputs": [],
   "source": [
    "rp_fbc = rp_model.getPlugin('groups')"
   ]
  },
  {
   "cell_type": "code",
   "execution_count": 30,
   "metadata": {},
   "outputs": [
    {
     "data": {
      "text/plain": [
       "<Model>"
      ]
     },
     "execution_count": 30,
     "metadata": {},
     "output_type": "execute_result"
    }
   ],
   "source": [
    "yeast2_document.meta_id"
   ]
  },
  {
   "cell_type": "code",
   "execution_count": 21,
   "metadata": {},
   "outputs": [],
   "source": [
    "yeast2_groups = yeast2_model.getPlugin('groups')"
   ]
  },
  {
   "cell_type": "code",
   "execution_count": 22,
   "metadata": {},
   "outputs": [],
   "source": [
    "yeast2_groups"
   ]
  },
  {
   "cell_type": "code",
   "execution_count": 26,
   "metadata": {},
   "outputs": [
    {
     "data": {
      "text/plain": [
       "True"
      ]
     },
     "execution_count": 26,
     "metadata": {},
     "output_type": "execute_result"
    }
   ],
   "source": [
    "yeast2_document.isSetPkgRequired('fbc')"
   ]
  },
  {
   "cell_type": "code",
   "execution_count": 27,
   "metadata": {},
   "outputs": [
    {
     "data": {
      "text/plain": [
       "<Model bigg_iMM904 \"Saccharomyces cerevisiae S288c\">"
      ]
     },
     "execution_count": 27,
     "metadata": {},
     "output_type": "execute_result"
    }
   ],
   "source": [
    "yeast2_model."
   ]
  },
  {
   "cell_type": "code",
   "execution_count": 28,
   "metadata": {},
   "outputs": [
    {
     "data": {
      "text/plain": [
       "<Model bigg_iMM904 \"Saccharomyces cerevisiae S288c\">"
      ]
     },
     "execution_count": 28,
     "metadata": {},
     "output_type": "execute_result"
    }
   ],
   "source": [
    "yeast_model"
   ]
  },
  {
   "cell_type": "code",
   "execution_count": null,
   "metadata": {},
   "outputs": [],
   "source": [
    "yeast_model.getSBMLNamespaces()"
   ]
  },
  {
   "cell_type": "code",
   "execution_count": 19,
   "metadata": {},
   "outputs": [
    {
     "data": {
      "text/plain": [
       "libsbml.Model"
      ]
     },
     "execution_count": 19,
     "metadata": {},
     "output_type": "execute_result"
    }
   ],
   "source": [
    "type(yeast_model)"
   ]
  },
  {
   "cell_type": "code",
   "execution_count": null,
   "metadata": {},
   "outputs": [],
   "source": []
  },
  {
   "cell_type": "code",
   "execution_count": 10,
   "metadata": {},
   "outputs": [],
   "source": [
    "reac = rp_model.reactions[1]\n",
    "reac_fbc = reac.getPlugin('fbc')"
   ]
  },
  {
   "cell_type": "code",
   "execution_count": 11,
   "metadata": {},
   "outputs": [],
   "source": [
    "yeast_reac = yeast_model.reactions[101]\n",
    "yeast_reac_fbc = yeast_reac.getPlugin('fbc')"
   ]
  },
  {
   "cell_type": "code",
   "execution_count": 67,
   "metadata": {},
   "outputs": [
    {
     "data": {
      "text/plain": [
       "<libsbml.XMLNamespaces proxy of <Swig Object of type 'XMLNamespaces *' at 0x7f083d8f6960> >"
      ]
     },
     "execution_count": 67,
     "metadata": {},
     "output_type": "execute_result"
    }
   ],
   "source": [
    "rp_sbmlns.getNamespaces()"
   ]
  },
  {
   "cell_type": "code",
   "execution_count": 72,
   "metadata": {},
   "outputs": [],
   "source": [
    "b = rp_sbmlns.getNamespaces()"
   ]
  },
  {
   "cell_type": "code",
   "execution_count": 74,
   "metadata": {},
   "outputs": [
    {
     "data": {
      "text/plain": [
       "3"
      ]
     },
     "execution_count": 74,
     "metadata": {},
     "output_type": "execute_result"
    }
   ],
   "source": [
    "b.getNumNamespaces()"
   ]
  },
  {
   "cell_type": "code",
   "execution_count": 68,
   "metadata": {},
   "outputs": [],
   "source": [
    "a = yeast_sbmlns.getNamespaces()"
   ]
  },
  {
   "cell_type": "code",
   "execution_count": 63,
   "metadata": {},
   "outputs": [
    {
     "data": {
      "text/plain": [
       "'http://www.sbml.org/sbml/level3/version1/core'"
      ]
     },
     "execution_count": 63,
     "metadata": {},
     "output_type": "execute_result"
    }
   ],
   "source": [
    "a.getURI()"
   ]
  },
  {
   "cell_type": "code",
   "execution_count": 53,
   "metadata": {},
   "outputs": [
    {
     "ename": "ValueError",
     "evalue": "invalid null reference in method 'SBase_enablePackage', argument 3 of type 'std::string const &'",
     "output_type": "error",
     "traceback": [
      "\u001b[0;31m---------------------------------------------------------------------------\u001b[0m",
      "\u001b[0;31mValueError\u001b[0m                                Traceback (most recent call last)",
      "\u001b[0;32m<ipython-input-53-4d5298732a05>\u001b[0m in \u001b[0;36m<module>\u001b[0;34m\u001b[0m\n\u001b[0;32m----> 1\u001b[0;31m \u001b[0myeast_document\u001b[0m\u001b[0;34m.\u001b[0m\u001b[0menablePackage\u001b[0m\u001b[0;34m(\u001b[0m\u001b[0;34m'groups'\u001b[0m\u001b[0;34m,\u001b[0m\u001b[0;36m1\u001b[0m\u001b[0;34m,\u001b[0m \u001b[0;32mTrue\u001b[0m\u001b[0;34m)\u001b[0m\u001b[0;34m\u001b[0m\u001b[0;34m\u001b[0m\u001b[0m\n\u001b[0m",
      "\u001b[0;32m~/anaconda3/envs/py36/lib/python3.6/site-packages/libsbml/__init__.py\u001b[0m in \u001b[0;36menablePackage\u001b[0;34m(self, pkgURI, pkgPrefix, flag)\u001b[0m\n\u001b[1;32m   6518\u001b[0m \u001b[0;34m\u001b[0m\u001b[0m\n\u001b[1;32m   6519\u001b[0m         \"\"\"\n\u001b[0;32m-> 6520\u001b[0;31m         \u001b[0;32mreturn\u001b[0m \u001b[0m_libsbml\u001b[0m\u001b[0;34m.\u001b[0m\u001b[0mSBase_enablePackage\u001b[0m\u001b[0;34m(\u001b[0m\u001b[0mself\u001b[0m\u001b[0;34m,\u001b[0m \u001b[0mpkgURI\u001b[0m\u001b[0;34m,\u001b[0m \u001b[0mpkgPrefix\u001b[0m\u001b[0;34m,\u001b[0m \u001b[0mflag\u001b[0m\u001b[0;34m)\u001b[0m\u001b[0;34m\u001b[0m\u001b[0;34m\u001b[0m\u001b[0m\n\u001b[0m\u001b[1;32m   6521\u001b[0m \u001b[0;34m\u001b[0m\u001b[0m\n\u001b[1;32m   6522\u001b[0m \u001b[0;34m\u001b[0m\u001b[0m\n",
      "\u001b[0;31mValueError\u001b[0m: invalid null reference in method 'SBase_enablePackage', argument 3 of type 'std::string const &'"
     ]
    }
   ],
   "source": [
    "yeast_document.enablePackage('groups',1, True)"
   ]
  },
  {
   "cell_type": "code",
   "execution_count": 20,
   "metadata": {},
   "outputs": [
    {
     "data": {
      "text/plain": [
       "0"
      ]
     },
     "execution_count": 20,
     "metadata": {},
     "output_type": "execute_result"
    }
   ],
   "source": [
    "yeast_document.setPackageRequired('fbc', True)"
   ]
  },
  {
   "cell_type": "code",
   "execution_count": 36,
   "metadata": {},
   "outputs": [
    {
     "name": "stdout",
     "output_type": "stream",
     "text": [
      "Error encountered trying to setting groups required to false.LibSBML returned error code -22: \"The required version of the package extension is unknown. This error is typically returned when creating an object of SBase derived class with the required package, creating an object of SBMLNamespaces or its derived class with the required package, or invoking functions depending on the required package. This error may be avoided by updating the library of the required package to be linked.\"\n"
     ]
    },
    {
     "ename": "SystemExit",
     "evalue": "Error encountered trying to setting groups required to false.LibSBML returned error code -22: \"The required version of the package extension is unknown. This error is typically returned when creating an object of SBase derived class with the required package, creating an object of SBMLNamespaces or its derived class with the required package, or invoking functions depending on the required package. This error may be avoided by updating the library of the required package to be linked.\"",
     "output_type": "error",
     "traceback": [
      "An exception has occurred, use %tb to see the full traceback.\n",
      "\u001b[0;31mSystemExit\u001b[0m\u001b[0;31m:\u001b[0m Error encountered trying to setting groups required to false.LibSBML returned error code -22: \"The required version of the package extension is unknown. This error is typically returned when creating an object of SBase derived class with the required package, creating an object of SBMLNamespaces or its derived class with the required package, or invoking functions depending on the required package. This error may be avoided by updating the library of the required package to be linked.\"\n"
     ]
    },
    {
     "name": "stderr",
     "output_type": "stream",
     "text": [
      "/home/mdulac/anaconda3/envs/py36/lib/python3.6/site-packages/IPython/core/interactiveshell.py:3275: UserWarning: To exit: use 'exit', 'quit', or Ctrl-D.\n",
      "  warn(\"To exit: use 'exit', 'quit', or Ctrl-D.\", stacklevel=1)\n"
     ]
    }
   ],
   "source": [
    "checklibSBML(yeast_document.setPackageRequired('groups', False), 'setting groups required to false')"
   ]
  },
  {
   "cell_type": "code",
   "execution_count": 30,
   "metadata": {},
   "outputs": [],
   "source": [
    "yeast_groups = yeast_model.getPlugin('groups')"
   ]
  },
  {
   "cell_type": "code",
   "execution_count": 31,
   "metadata": {},
   "outputs": [],
   "source": [
    "yeast_groups"
   ]
  },
  {
   "cell_type": "code",
   "execution_count": null,
   "metadata": {},
   "outputs": [],
   "source": []
  },
  {
   "cell_type": "code",
   "execution_count": null,
   "metadata": {},
   "outputs": [],
   "source": []
  },
  {
   "cell_type": "code",
   "execution_count": 122,
   "metadata": {},
   "outputs": [
    {
     "data": {
      "text/plain": [
       "2"
      ]
     },
     "execution_count": 122,
     "metadata": {},
     "output_type": "execute_result"
    }
   ],
   "source": [
    "yeast_reac.getNumReactants()"
   ]
  },
  {
   "cell_type": "code",
   "execution_count": 123,
   "metadata": {},
   "outputs": [
    {
     "data": {
      "text/plain": [
       "1"
      ]
     },
     "execution_count": 123,
     "metadata": {},
     "output_type": "execute_result"
    }
   ],
   "source": [
    "yeast_reac.getNumProducts()"
   ]
  },
  {
   "cell_type": "code",
   "execution_count": 133,
   "metadata": {},
   "outputs": [],
   "source": [
    "a = yeast_reac.reactants[0]"
   ]
  },
  {
   "cell_type": "code",
   "execution_count": 14,
   "metadata": {},
   "outputs": [],
   "source": [
    "rp_groups = rp_model.getPlugin('groups')"
   ]
  },
  {
   "cell_type": "code",
   "execution_count": 15,
   "metadata": {},
   "outputs": [
    {
     "data": {
      "text/plain": [
       "<libsbml.GroupsModelPlugin proxy of <Swig Object of type 'GroupsModelPlugin *' at 0x7f083d8f63f0> >"
      ]
     },
     "execution_count": 15,
     "metadata": {},
     "output_type": "execute_result"
    }
   ],
   "source": [
    "rp_groups"
   ]
  },
  {
   "cell_type": "code",
   "execution_count": null,
   "metadata": {},
   "outputs": [],
   "source": []
  },
  {
   "cell_type": "code",
   "execution_count": null,
   "metadata": {},
   "outputs": [],
   "source": []
  },
  {
   "cell_type": "code",
   "execution_count": 160,
   "metadata": {},
   "outputs": [
    {
     "name": "stdout",
     "output_type": "stream",
     "text": [
      "<annotation>\n",
      "  <rdf:RDF xmlns:rdf=\"http://www.w3.org/1999/02/22-rdf-syntax-ns#\" xmlns:bqbiol=\"http://biomodels.net/biology-qualifiers/\">\n",
      "    <rdf:Description rdf:about=\"#_72e6f6e0f08ca88f02b1480464afd55b\">\n",
      "      <ibisba:ibisba xmlns:ibisba=\"http://ibisba.eu\">\n",
      "        <ibisba:smiles>[H]OC(=O)C([H])=C([H])C([H])=C([H])C(=O)O[H]&gt;&gt;O=O.[H]Oc1c([H])c([H])c([H])c([H])c1O[H]</ibisba:smiles>\n",
      "        <ibisba:parameter type=\"ddG\" units=\"kj_per_mol\" value=\"None\"/>\n",
      "        <ibisba:parameter type=\"ddG_uncert\" units=\"kj_per_mol\" value=\"None\"/>\n",
      "        <ibisba:fba_target/>\n",
      "        <ibisba:fba_biomass/>\n",
      "        <ibisba:fba_biLevel/>\n",
      "      </ibisba:ibisba>\n",
      "    </rdf:Description>\n",
      "  </rdf:RDF>\n",
      "</annotation>\n"
     ]
    }
   ],
   "source": [
    "print(a.toXMLString())"
   ]
  },
  {
   "cell_type": "code",
   "execution_count": null,
   "metadata": {},
   "outputs": [],
   "source": []
  },
  {
   "cell_type": "code",
   "execution_count": null,
   "metadata": {},
   "outputs": [],
   "source": []
  },
  {
   "cell_type": "code",
   "execution_count": null,
   "metadata": {},
   "outputs": [],
   "source": []
  },
  {
   "cell_type": "code",
   "execution_count": 143,
   "metadata": {},
   "outputs": [],
   "source": [
    "a = {'one': 1}"
   ]
  },
  {
   "cell_type": "code",
   "execution_count": 144,
   "metadata": {},
   "outputs": [
    {
     "ename": "KeyError",
     "evalue": "'tao'",
     "output_type": "error",
     "traceback": [
      "\u001b[0;31m---------------------------------------------------------------------------\u001b[0m",
      "\u001b[0;31mKeyError\u001b[0m                                  Traceback (most recent call last)",
      "\u001b[0;32m<ipython-input-144-592da54a0bd6>\u001b[0m in \u001b[0;36m<module>\u001b[0;34m\u001b[0m\n\u001b[0;32m----> 1\u001b[0;31m \u001b[0ma\u001b[0m\u001b[0;34m[\u001b[0m\u001b[0;34m'tao'\u001b[0m\u001b[0;34m]\u001b[0m\u001b[0;34m\u001b[0m\u001b[0;34m\u001b[0m\u001b[0m\n\u001b[0m",
      "\u001b[0;31mKeyError\u001b[0m: 'tao'"
     ]
    }
   ],
   "source": [
    "a['tao']"
   ]
  },
  {
   "cell_type": "code",
   "execution_count": null,
   "metadata": {},
   "outputs": [],
   "source": []
  },
  {
   "cell_type": "code",
   "execution_count": null,
   "metadata": {},
   "outputs": [],
   "source": []
  },
  {
   "cell_type": "code",
   "execution_count": 61,
   "metadata": {},
   "outputs": [],
   "source": [
    "y = yeast_model.getElementBySId('MNXM8__64__MNXC3')"
   ]
  },
  {
   "cell_type": "code",
   "execution_count": 63,
   "metadata": {},
   "outputs": [
    {
     "data": {
      "text/plain": [
       "'MNXC3'"
      ]
     },
     "execution_count": 63,
     "metadata": {},
     "output_type": "execute_result"
    }
   ],
   "source": [
    "y.compartment"
   ]
  },
  {
   "cell_type": "code",
   "execution_count": 52,
   "metadata": {},
   "outputs": [
    {
     "data": {
      "text/plain": [
       "'RP1'"
      ]
     },
     "execution_count": 52,
     "metadata": {},
     "output_type": "execute_result"
    }
   ],
   "source": [
    "reac.getId()"
   ]
  },
  {
   "cell_type": "code",
   "execution_count": 69,
   "metadata": {},
   "outputs": [
    {
     "data": {
      "text/plain": [
       "'_ec308451c1d095c528cfa3c009ea7235'"
      ]
     },
     "execution_count": 69,
     "metadata": {},
     "output_type": "execute_result"
    }
   ],
   "source": [
    "reac_fbc.c"
   ]
  },
  {
   "cell_type": "code",
   "execution_count": 38,
   "metadata": {},
   "outputs": [
    {
     "data": {
      "text/plain": [
       "9"
      ]
     },
     "execution_count": 38,
     "metadata": {},
     "output_type": "execute_result"
    }
   ],
   "source": [
    "rp_model.getNumSpecies()"
   ]
  },
  {
   "cell_type": "code",
   "execution_count": 39,
   "metadata": {},
   "outputs": [
    {
     "data": {
      "text/plain": [
       "'MNXM15__64__MNXC3'"
      ]
     },
     "execution_count": 39,
     "metadata": {},
     "output_type": "execute_result"
    }
   ],
   "source": [
    "rp_model.species[1].getId()"
   ]
  },
  {
   "cell_type": "code",
   "execution_count": 54,
   "metadata": {},
   "outputs": [
    {
     "name": "stdout",
     "output_type": "stream",
     "text": [
      "############\n",
      "0: 0\n",
      "0: 1\n",
      "0: 2\n",
      "0: 3\n",
      "0: 4\n",
      "############\n",
      "1: 0\n",
      "1: 1\n",
      "1: 2\n",
      "1: 3\n",
      "1: 4\n"
     ]
    }
   ],
   "source": [
    "for i in range(2):\n",
    "    print('############')\n",
    "    found = False\n",
    "    for y in range(10):\n",
    "        if y==5:\n",
    "            found = True\n",
    "            break\n",
    "        print(str(i)+': '+str(y))\n",
    "    if not found:\n",
    "        print('##### '+str(i)+' #####')"
   ]
  },
  {
   "cell_type": "code",
   "execution_count": null,
   "metadata": {},
   "outputs": [],
   "source": []
  },
  {
   "cell_type": "code",
   "execution_count": 35,
   "metadata": {},
   "outputs": [
    {
     "name": "stdout",
     "output_type": "stream",
     "text": [
      "<rdf:Bag>\n",
      "  <rdf:li rdf:resource=\"http://identifiers.org/metanetx.chemical/MNXM15\"/>\n",
      "</rdf:Bag>\n",
      "###########\n",
      "<rdf:Bag>\n",
      "  <rdf:li rdf:resource=\"http://identifiers.org/metanetx.chemical/MNXM15\"/>\n",
      "  <rdf:li rdf:resource=\"http://identifiers.org/chebi/CHEBI:13405\"/>\n",
      "  <rdf:li rdf:resource=\"http://identifiers.org/chebi/CHEBI:13406\"/>\n",
      "  <rdf:li rdf:resource=\"http://identifiers.org/chebi/CHEBI:13407\"/>\n",
      "  <rdf:li rdf:resource=\"http://identifiers.org/chebi/CHEBI:13771\"/>\n",
      "  <rdf:li rdf:resource=\"http://identifiers.org/chebi/CHEBI:16134\"/>\n",
      "  <rdf:li rdf:resource=\"http://identifiers.org/chebi/CHEBI:22533\"/>\n",
      "  <rdf:li rdf:resource=\"http://identifiers.org/chebi/CHEBI:22534\"/>\n",
      "  <rdf:li rdf:resource=\"http://identifiers.org/chebi/CHEBI:28938\"/>\n",
      "  <rdf:li rdf:resource=\"http://identifiers.org/chebi/CHEBI:29337\"/>\n",
      "  <rdf:li rdf:resource=\"http://identifiers.org/chebi/CHEBI:29340\"/>\n",
      "  <rdf:li rdf:resource=\"http://identifiers.org/chebi/CHEBI:44269\"/>\n",
      "  <rdf:li rdf:resource=\"http://identifiers.org/chebi/CHEBI:44284\"/>\n",
      "  <rdf:li rdf:resource=\"http://identifiers.org/chebi/CHEBI:44404\"/>\n",
      "  <rdf:li rdf:resource=\"http://identifiers.org/chebi/CHEBI:49783\"/>\n",
      "  <rdf:li rdf:resource=\"http://identifiers.org/chebi/CHEBI:7434\"/>\n",
      "  <rdf:li rdf:resource=\"http://identifiers.org/chebi/CHEBI:7435\"/>\n",
      "  <rdf:li rdf:resource=\"http://identifiers.org/bigg.metabolite/M_nh3\"/>\n",
      "  <rdf:li rdf:resource=\"http://identifiers.org/bigg.metabolite/M_nh4\"/>\n",
      "  <rdf:li rdf:resource=\"http://identifiers.org/bigg.metabolite/nh3\"/>\n",
      "  <rdf:li rdf:resource=\"http://identifiers.org/bigg.metabolite/nh4\"/>\n",
      "  <rdf:li rdf:resource=\"http://identifiers.org/hmdb/HMDB00051\"/>\n",
      "  <rdf:li rdf:resource=\"http://identifiers.org/hmdb/HMDB41827\"/>\n",
      "  <rdf:li rdf:resource=\"http://identifiers.org/kegg.compound/C00014\"/>\n",
      "  <rdf:li rdf:resource=\"http://identifiers.org/kegg.compound/C01342\"/>\n",
      "  <rdf:li rdf:resource=\"http://identifiers.org/kegg.drug/D02916\"/>\n",
      "  <rdf:li rdf:resource=\"http://identifiers.org/biocyc/META:AMMONIA\"/>\n",
      "  <rdf:li rdf:resource=\"http://identifiers.org/biocyc/META:AMMONIUM\"/>\n",
      "  <rdf:li rdf:resource=\"http://identifiers.org/seed.compound/cpd00013\"/>\n",
      "  <rdf:li rdf:resource=\"http://identifiers.org/seed.compound/cpd19013\"/>\n",
      "</rdf:Bag>\n"
     ]
    }
   ],
   "source": [
    "print(rp_model.species[1].getAnnotation().getChild('RDF').getChild('Description').getChild('is').getChild('Bag').toXMLString())\n",
    "print('###########')\n",
    "print(yeast_model.species[101].getAnnotation().getChild('RDF').getChild('Description').getChild('is').getChild('Bag').toXMLString())"
   ]
  },
  {
   "cell_type": "code",
   "execution_count": null,
   "metadata": {},
   "outputs": [],
   "source": [
    "rpsbml.compareAnnotations(rp_model.species[1].getAnnotation(),\n",
    "                       yeast_model.species[101].getAnnotation()\n",
    "                      )"
   ]
  },
  {
   "cell_type": "code",
   "execution_count": null,
   "metadata": {},
   "outputs": [],
   "source": []
  },
  {
   "cell_type": "code",
   "execution_count": null,
   "metadata": {},
   "outputs": [],
   "source": []
  },
  {
   "cell_type": "code",
   "execution_count": 8,
   "metadata": {},
   "outputs": [
    {
     "name": "stderr",
     "output_type": "stream",
     "text": [
      "WARNING:root:rpSBML object was initiated as empty. Please call createModel() to initalise the model\n"
     ]
    }
   ],
   "source": [
    "rpsbml = rpSBML.rpSBML()"
   ]
  },
  {
   "cell_type": "code",
   "execution_count": 36,
   "metadata": {},
   "outputs": [
    {
     "data": {
      "text/plain": [
       "True"
      ]
     },
     "execution_count": 36,
     "metadata": {},
     "output_type": "execute_result"
    }
   ],
   "source": []
  },
  {
   "cell_type": "code",
   "execution_count": 123,
   "metadata": {},
   "outputs": [
    {
     "data": {
      "text/plain": [
       "<libsbml.XMLNode proxy of <Swig Object of type 'XMLNode_t *' at 0x7f671ec2e5a0> >"
      ]
     },
     "execution_count": 123,
     "metadata": {},
     "output_type": "execute_result"
    }
   ],
   "source": [
    "yeast_model.species[0].getAnnotation()"
   ]
  },
  {
   "cell_type": "code",
   "execution_count": 7,
   "metadata": {},
   "outputs": [
    {
     "data": {
      "text/plain": [
       "<ListOfReactions[2]>"
      ]
     },
     "execution_count": 7,
     "metadata": {},
     "output_type": "execute_result"
    }
   ],
   "source": [
    "rp_model.reactions"
   ]
  },
  {
   "cell_type": "code",
   "execution_count": 38,
   "metadata": {},
   "outputs": [],
   "source": [
    "a = rp_model.species[0]"
   ]
  },
  {
   "cell_type": "code",
   "execution_count": 39,
   "metadata": {},
   "outputs": [],
   "source": [
    "b = a.getAnnotation()"
   ]
  },
  {
   "cell_type": "code",
   "execution_count": 33,
   "metadata": {},
   "outputs": [],
   "source": [
    "c = b.getAttributes()"
   ]
  },
  {
   "cell_type": "code",
   "execution_count": 46,
   "metadata": {},
   "outputs": [
    {
     "name": "stdout",
     "output_type": "stream",
     "text": [
      "<annotation>\n",
      "  <rdf:RDF xmlns:rdf=\"http://www.w3.org/1999/02/22-rdf-syntax-ns#\" xmlns:bqbiol=\"http://biomodels.net/biology-qualifiers/\" xmlns:bqmodel=\"http://biomodels.net/model-qualifiers/\" xmlns:ibisba=\"http://ibisba.eu/qualifiers\">\n",
      "    <rdf:Description rdf:about=\"#_9dffa79758165386f3917928d2c97887\">\n",
      "      <bqbiol:is>\n",
      "        <rdf:Bag>\n",
      "          <rdf:li rdf:resource=\"http://identifiers.org/metanetx.chemical/MNXM1\"/>\n",
      "        </rdf:Bag>\n",
      "      </bqbiol:is>\n",
      "    </rdf:Description>\n",
      "    <rdf:Description rdf:about=\"#_9dffa79758165386f3917928d2c97887\">\n",
      "      <ibisba:ibisba xmlns:ibisba=\"http://ibisba.eu/qualifiers\">\n",
      "        <ibisba:smiles>[H+]</ibisba:smiles>\n",
      "        <ibisba:inchi>InChI=1S</ibisba:inchi>\n",
      "        <ibisba:inchikey/>\n",
      "        <ibisba:parameter type=\"ddG\" units=\"kj_per_mol\" value=\"None\"/>\n",
      "        <ibisba:parameter type=\"ddG_uncert\" units=\"kj_per_mol\" value=\"None\"/>\n",
      "      </ibisba:ibisba>\n",
      "    </rdf:Description>\n",
      "  </rdf:RDF>\n",
      "</annotation>\n"
     ]
    }
   ],
   "source": [
    "print(b.toXMLString())"
   ]
  },
  {
   "cell_type": "code",
   "execution_count": 45,
   "metadata": {},
   "outputs": [
    {
     "data": {
      "text/plain": [
       "True"
      ]
     },
     "execution_count": 45,
     "metadata": {},
     "output_type": "execute_result"
    }
   ],
   "source": [
    "b.hasChild('RDF')"
   ]
  },
  {
   "cell_type": "code",
   "execution_count": 49,
   "metadata": {},
   "outputs": [],
   "source": [
    "c = b.getChild('RDF')\n",
    "d = c.getChild('Description')\n",
    "e = d.getChild('is')\n",
    "f = e.getChild('Bag')"
   ]
  },
  {
   "cell_type": "code",
   "execution_count": 50,
   "metadata": {},
   "outputs": [
    {
     "data": {
      "text/plain": [
       "'<rdf:Bag>\\n  <rdf:li rdf:resource=\"http://identifiers.org/metanetx.chemical/MNXM1\"/>\\n</rdf:Bag>'"
      ]
     },
     "execution_count": 50,
     "metadata": {},
     "output_type": "execute_result"
    }
   ],
   "source": [
    "f.toXMLString()"
   ]
  },
  {
   "cell_type": "code",
   "execution_count": 51,
   "metadata": {},
   "outputs": [],
   "source": [
    "a = yeast_model.species[0]\n",
    "b = a.getAnnotation()\n",
    "c = b.getChild('RDF')\n",
    "d = c.getChild('Description')\n",
    "e = d.getChild('is')\n",
    "f = e.getChild('Bag')"
   ]
  },
  {
   "cell_type": "code",
   "execution_count": 76,
   "metadata": {},
   "outputs": [],
   "source": [
    "f = b.getChild('RDF').getChild('Description').getChild('is').getChild('Bag')"
   ]
  },
  {
   "cell_type": "code",
   "execution_count": 78,
   "metadata": {},
   "outputs": [
    {
     "data": {
      "text/plain": [
       "18"
      ]
     },
     "execution_count": 78,
     "metadata": {},
     "output_type": "execute_result"
    }
   ],
   "source": [
    "f.getNumChildren()"
   ]
  },
  {
   "cell_type": "code",
   "execution_count": 87,
   "metadata": {},
   "outputs": [
    {
     "data": {
      "text/plain": [
       "''"
      ]
     },
     "execution_count": 87,
     "metadata": {},
     "output_type": "execute_result"
    }
   ],
   "source": [
    "f.getChild(1)"
   ]
  },
  {
   "cell_type": "code",
   "execution_count": 88,
   "metadata": {},
   "outputs": [],
   "source": [
    "g = f.getChild(1)"
   ]
  },
  {
   "cell_type": "code",
   "execution_count": 99,
   "metadata": {},
   "outputs": [
    {
     "data": {
      "text/plain": [
       "0"
      ]
     },
     "execution_count": 99,
     "metadata": {},
     "output_type": "execute_result"
    }
   ],
   "source": [
    "g.getNumChildren()"
   ]
  },
  {
   "cell_type": "code",
   "execution_count": 102,
   "metadata": {},
   "outputs": [],
   "source": [
    "e = g.getAttrValue(0)"
   ]
  },
  {
   "cell_type": "code",
   "execution_count": 110,
   "metadata": {},
   "outputs": [],
   "source": [
    "d = {'as': 1}"
   ]
  },
  {
   "cell_type": "code",
   "execution_count": 108,
   "metadata": {},
   "outputs": [],
   "source": [
    "if d:\n",
    "    print('T')"
   ]
  },
  {
   "cell_type": "code",
   "execution_count": 111,
   "metadata": {},
   "outputs": [
    {
     "data": {
      "text/plain": [
       "True"
      ]
     },
     "execution_count": 111,
     "metadata": {},
     "output_type": "execute_result"
    }
   ],
   "source": [
    "bool(d)"
   ]
  },
  {
   "cell_type": "code",
   "execution_count": 104,
   "metadata": {},
   "outputs": [
    {
     "name": "stdout",
     "output_type": "stream",
     "text": [
      "metanetx.chemical\n",
      "MNXM8\n",
      "################################\n",
      "chebi\n",
      "CHEBI:13393\n",
      "################################\n",
      "chebi\n",
      "CHEBI:13394\n",
      "################################\n",
      "chebi\n",
      "CHEBI:15846\n",
      "################################\n",
      "chebi\n",
      "CHEBI:21901\n",
      "################################\n",
      "chebi\n",
      "CHEBI:29867\n",
      "################################\n",
      "chebi\n",
      "CHEBI:44214\n",
      "################################\n",
      "chebi\n",
      "CHEBI:44215\n",
      "################################\n",
      "chebi\n",
      "CHEBI:44281\n",
      "################################\n",
      "chebi\n",
      "CHEBI:57540\n",
      "################################\n",
      "chebi\n",
      "CHEBI:7422\n",
      "################################\n",
      "bigg.metabolite\n",
      "M_nad\n",
      "################################\n",
      "bigg.metabolite\n",
      "nad\n",
      "################################\n",
      "hmdb\n",
      "HMDB00902\n",
      "################################\n",
      "kegg.compound\n",
      "C00003\n",
      "################################\n",
      "kegg.drug\n",
      "D00002\n",
      "################################\n",
      "biocyc\n",
      "META:NAD\n",
      "################################\n",
      "seed.compound\n",
      "cpd00003\n",
      "################################\n"
     ]
    }
   ],
   "source": [
    "for i in range(f.getNumChildren()):\n",
    "    print(f.getChild(i).getAttrValue(0).split('/')[-2])\n",
    "    print(f.getChild(i).getAttrValue(0).split('/')[-1])\n",
    "    print('################################')"
   ]
  },
  {
   "cell_type": "code",
   "execution_count": 71,
   "metadata": {},
   "outputs": [
    {
     "data": {
      "text/plain": [
       "'<rdf:li rdf:resource=\"http://identifiers.org/chebi/CHEBI:13393\"/>'"
      ]
     },
     "execution_count": 71,
     "metadata": {},
     "output_type": "execute_result"
    }
   ],
   "source": [
    "g.toXMLString()"
   ]
  },
  {
   "cell_type": "code",
   "execution_count": 66,
   "metadata": {},
   "outputs": [
    {
     "data": {
      "text/plain": [
       "1104"
      ]
     },
     "execution_count": 66,
     "metadata": {},
     "output_type": "execute_result"
    }
   ],
   "source": [
    "g."
   ]
  },
  {
   "cell_type": "code",
   "execution_count": null,
   "metadata": {},
   "outputs": [],
   "source": []
  },
  {
   "cell_type": "code",
   "execution_count": null,
   "metadata": {},
   "outputs": [],
   "source": []
  },
  {
   "cell_type": "code",
   "execution_count": 19,
   "metadata": {},
   "outputs": [
    {
     "data": {
      "text/plain": [
       "<bound method SBase.getId of <ListOfSpecies[1231]>>"
      ]
     },
     "execution_count": 19,
     "metadata": {},
     "output_type": "execute_result"
    }
   ],
   "source": [
    "yeast_model.species.getId"
   ]
  },
  {
   "cell_type": "code",
   "execution_count": null,
   "metadata": {},
   "outputs": [],
   "source": []
  },
  {
   "cell_type": "code",
   "execution_count": null,
   "metadata": {},
   "outputs": [],
   "source": []
  },
  {
   "cell_type": "code",
   "execution_count": null,
   "metadata": {},
   "outputs": [],
   "source": []
  },
  {
   "cell_type": "code",
   "execution_count": null,
   "metadata": {},
   "outputs": [],
   "source": []
  },
  {
   "cell_type": "code",
   "execution_count": null,
   "metadata": {},
   "outputs": [],
   "source": []
  },
  {
   "cell_type": "code",
   "execution_count": 20,
   "metadata": {},
   "outputs": [],
   "source": [
    "yeast_model = yeast_document.getModel()\n",
    "yeast_model_ori = yeast_document_ori.getModel()\n",
    "rp_model = rp_document.getModel()"
   ]
  },
  {
   "cell_type": "code",
   "execution_count": 16,
   "metadata": {},
   "outputs": [
    {
     "data": {
      "text/plain": [
       "0"
      ]
     },
     "execution_count": 16,
     "metadata": {},
     "output_type": "execute_result"
    }
   ],
   "source": [
    "yeast_model.appendFrom(rp_model)"
   ]
  },
  {
   "cell_type": "code",
   "execution_count": 11,
   "metadata": {},
   "outputs": [
    {
     "data": {
      "text/plain": [
       "<ListOfSpecies[1231]>"
      ]
     },
     "execution_count": 11,
     "metadata": {},
     "output_type": "execute_result"
    }
   ],
   "source": [
    "yeast_model.species"
   ]
  },
  {
   "cell_type": "code",
   "execution_count": 13,
   "metadata": {},
   "outputs": [
    {
     "data": {
      "text/plain": [
       "<ListOfSpecies[9]>"
      ]
     },
     "execution_count": 13,
     "metadata": {},
     "output_type": "execute_result"
    }
   ],
   "source": [
    "rp_model.species"
   ]
  },
  {
   "cell_type": "code",
   "execution_count": 22,
   "metadata": {},
   "outputs": [],
   "source": [
    "wri = libsbml.SBMLWriter()"
   ]
  },
  {
   "cell_type": "code",
   "execution_count": 10,
   "metadata": {},
   "outputs": [
    {
     "data": {
      "text/plain": [
       "1"
      ]
     },
     "execution_count": 10,
     "metadata": {},
     "output_type": "execute_result"
    }
   ],
   "source": [
    "libsbml.writeSBML(yeast_document, 'test_merge.sbml')"
   ]
  },
  {
   "cell_type": "code",
   "execution_count": null,
   "metadata": {},
   "outputs": [],
   "source": [
    "type()"
   ]
  }
 ],
 "metadata": {
  "kernelspec": {
   "display_name": "Python 3",
   "language": "python",
   "name": "python3"
  },
  "language_info": {
   "codemirror_mode": {
    "name": "ipython",
    "version": 3
   },
   "file_extension": ".py",
   "mimetype": "text/x-python",
   "name": "python",
   "nbconvert_exporter": "python",
   "pygments_lexer": "ipython3",
   "version": "3.6.7"
  }
 },
 "nbformat": 4,
 "nbformat_minor": 2
}
